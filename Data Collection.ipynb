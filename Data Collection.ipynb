{
    "nbformat_minor": 1, 
    "cells": [
        {
            "execution_count": 1, 
            "cell_type": "code", 
            "metadata": {}, 
            "outputs": [
                {
                    "output_type": "stream", 
                    "name": "stdout", 
                    "text": "Collecting pubchempy\n  Downloading https://files.pythonhosted.org/packages/aa/fb/8de3aa9804b614dbc8dc5c16ed061d819cc360e0ddecda3dcd01c1552339/PubChemPy-1.0.4.tar.gz\nBuilding wheels for collected packages: pubchempy\n  Building wheel for pubchempy (setup.py) ... \u001b[?25ldone\n\u001b[?25h  Stored in directory: /home/dsxuser/.cache/pip/wheels/10/4d/51/6b843681a9a5aef35f0d0fbce243de46f85080036e16118752\nSuccessfully built pubchempy\nInstalling collected packages: pubchempy\nSuccessfully installed pubchempy-1.0.4\n"
                }
            ], 
            "source": "!pip install pubchempy"
        }, 
        {
            "execution_count": 2, 
            "cell_type": "code", 
            "metadata": {}, 
            "outputs": [], 
            "source": "import pubchempy as pcp\nimport pandas as pd\nimport numpy as np\nimport matplotlib.pyplot as plt\nimport itertools\nimport pickle\nimport PIL\nfrom PIL import Image\nfrom IPython.display import display\nfrom PIL import ImageDraw,ImageFont\n%matplotlib inline\n\n#save data as csv"
        }, 
        {
            "execution_count": 3, 
            "cell_type": "code", 
            "metadata": {}, 
            "outputs": [
                {
                    "output_type": "stream", 
                    "name": "stdout", 
                    "text": "trying 2d\n"
                }
            ], 
            "source": "try:\n    pcp.Compound.from_cid(783,record_type='3d')\nexcept pcp.PubChemHTTPError:\n    print('trying 2d')\n    pcp.Compound.from_cid(783,record_type='2d')"
        }, 
        {
            "source": "### Unique Pairs in Kaggle competition\n### ['c_h',  'h_h',  'h_n']", 
            "cell_type": "markdown", 
            "metadata": {}
        }, 
        {
            "execution_count": 4, 
            "cell_type": "code", 
            "metadata": {}, 
            "outputs": [], 
            "source": "cid_dict={\n    #alkane\n    6324:'ethane',\n    8058:'hexane',\n    #branched alkane\n    11269:'2,3,4-trimethylpentane',\n    6360:'2-methylpropane',\n    #alkene\n    6325:'ethene',\n    7845:'1,3-butadiene',\n    #alkyne\n    6335:'Propyne',\n    13568:'3-hexyne',\n    #benzene & derivatives\n    241:'benzene',\n    931:'Naphthalene',\n    7929:'M-Xylene',\n    6115:'Aniline',\n    996:'Phenol',\n    243:'Benzoic acid',\n    240:'Benzaldehyde',\n    10390:'diphenylacetylene',\n    #alcohol\n    887:'Methanol',\n    6386:'tert-Butyl alcohol',\n    #ketone\n    6569:'Methyl ethyl ketone',\n    #aldehyde\n    177:'Acetaldehyde',\n    #acid\n    176:'Acetic acid',\n    #ether\n    3283:'Diethyl ether',\n    #amines (N-H, N-C)\n    6329:'Methylamine',\n    674:'Dimethylamine',\n    1146:'Trimethylamine',\n    140746:'Ethanimine',\n    222:'ammonia',\n    12246:'2-Pentanamine',\n    7732:'p-Anisidine',\n    9964:'4-(Trifluoromethyl)aniline',\n    77628:'N,N-Diisopropylethylenediamine',\n    144018:'N,N-Diisopropyl-1,3-propanediamine',\n    66978:'N,N\u2032-Dimethyl-1,3-propanediamine',\n    566545:'2-Isopropyl-2-oxazoline',\n    6319:'N,N\u2032-Diphenyl-p-phenylenediamine',\n    106705:'1-[Bis[3-(dimethylamino)propyl]amino]-2-propanol',\n    9237:'Dabco',\n    74209:'1,6-Diaminohexane-N,N,N,N-tetraacetic acid',\n    74348:'2-[2-(Dimethylamino)ethoxy]ethanol',\n    18196:'N,N,N\u2032,N\u2032\u2032,N\u2032\u2032-Pentamethyldiethylenetriamine',\n    143710:'N,N,N\u2032,N\u2032-Tetraethyl-1,3-propanediamine',\n    66074:'N,N,N\u2032,N\u2032-Tetramethyl-1,4-butanediamine ',\n    5365279:'N,N,N\u2032,N\u2032-Tetramethyl-2-butene-1,4-diamine ',\n    123502:'1,4,8,11-Tetramethyl-1,4,8,11-tetraazacyclotetradecane',\n    7952:'1,3,5-Trimethylhexahydro-1,3,5-triazine ',\n\n    5962:'Lysine',\n    #cynate\n    137201:'Methylcyanate',\n    12228:'Methyl isocyanate',\n    11646:'Methyl isocyanide',\n    #random\n    135504501:'rand_1',\n    #O-O bonds:\n    6410:'Tert-butyl hydroperoxide',\n    784:'Hydrogen peroxide',\n    8033:'Di-tert-butyl peroxide',\n    24823:'ozone',\n    #N-N-N bonds:\n    69319:'Azidobenzene',\n    33558:'Azide ion',\n    #N-O bonds:\n    8053:'3-Methylbutyl nitrite',\n    6375:'Nitromethane',\n    11473:'Nitrosobenzene',\n    67180:'Acetone oxime',\n    24529:'Nitrous acid',\n    #C-F/H-F bonds:\n    11638:'Fluoromethane',\n    14917:'Hydrofluoric acid',\n    6393:'Carbon tetrafluoride',\n    127602:'Acetyl hypofluorite',\n    552549:'(Trifluoromethyl)trimethylsilane',\n    5206:'Sevoflurane',\n    #F-O bonds:\n    24547:'Oxygen difluoride',\n    123257:'Fluorine dioxide',\n    #H-H:\n    783:'Hydrogen'\n\n}"
        }, 
        {
            "execution_count": 5, 
            "cell_type": "code", 
            "metadata": {}, 
            "outputs": [], 
            "source": "compounds_dict={}\ndef get_df(cid,name='compound'):\n  print(name)\n  #print('{}:\\tAccessing Properties & creating dataframe...'.format(name))\n  if cid not in compounds_dict.keys():\n    try:\n        comp=pcp.Compound.from_cid(cid,record_type='3d')\n    except pcp.PubChemHTTPError:\n        comp=pcp.Compound.from_cid(cid,record_type='2d')\n    compounds_dict[cid]=comp\n  else:\n    comp=compounds_dict[cid]\n  aids=[]\n  atoms_ele={}\n  atoms_x={}\n  atoms_y={}\n  atoms_z={}\n  atoms_charge={}\n  for atom in comp.atoms:\n    aid=atom.aid\n    aids.append(aid)\n    atoms_ele[aid]=atom.element\n    atoms_x[aid]=atom.x\n    atoms_y[aid]=atom.y\n    atoms_z[aid]=atom.z\n    atoms_charge[aid]=atom.charge\n  pairs=list(itertools.product(aids,repeat=2))\n  pairs=list(filter(lambda x:x[0]!=x[1],pairs))\n  df=pd.DataFrame()\n  df['cid']=[cid]*len(pairs)\n  df['aid1']=list(map(lambda x:x[0],pairs))\n  df['aid2']=list(map(lambda x:x[1],pairs))\n  df['atom1']=df['aid1'].map(atoms_ele)\n  df['atom2']=df['aid2'].map(atoms_ele)\n  df['x_1']=df['aid1'].map(atoms_x)\n  df['y_1']=df['aid1'].map(atoms_y)\n  df['z_1']=df['aid1'].map(atoms_z)\n  df['x_2']=df['aid2'].map(atoms_x)\n  df['y_2']=df['aid2'].map(atoms_y)\n  df['z_2']=df['aid2'].map(atoms_z)\n  df['atom1_charge']=df['aid1'].map(atoms_charge)\n  df['atom2_charge']=df['aid2'].map(atoms_charge)\n  df['bond']=0\n  for bond in comp.bonds:\n    df.loc[(df['aid1']==bond.aid1) & (df['aid2']==bond.aid2),'bond']=1\n\n  #sanity check\n  assert df[df['bond']==1].shape[0]==len(comp.bonds),'Number of bonds in df: {}\\nNumber of bonds in compound:{}'.format(df[df['bond']==1].shape[0],len(comp.bonds))\n  return df"
        }, 
        {
            "execution_count": 6, 
            "cell_type": "code", 
            "metadata": {}, 
            "outputs": [
                {
                    "output_type": "stream", 
                    "name": "stdout", 
                    "text": "ethane\nhexane\n2,3,4-trimethylpentane\n2-methylpropane\nethene\n1,3-butadiene\nPropyne\n3-hexyne\nbenzene\nNaphthalene\nM-Xylene\nAniline\nPhenol\nBenzoic acid\nBenzaldehyde\ndiphenylacetylene\nMethanol\ntert-Butyl alcohol\nMethyl ethyl ketone\nAcetaldehyde\nAcetic acid\nDiethyl ether\nMethylamine\nDimethylamine\nTrimethylamine\nEthanimine\nammonia\n2-Pentanamine\np-Anisidine\n4-(Trifluoromethyl)aniline\nN,N-Diisopropylethylenediamine\nN,N-Diisopropyl-1,3-propanediamine\nN,N\u2032-Dimethyl-1,3-propanediamine\n2-Isopropyl-2-oxazoline\nN,N\u2032-Diphenyl-p-phenylenediamine\n1-[Bis[3-(dimethylamino)propyl]amino]-2-propanol\nDabco\n1,6-Diaminohexane-N,N,N,N-tetraacetic acid\n2-[2-(Dimethylamino)ethoxy]ethanol\nN,N,N\u2032,N\u2032\u2032,N\u2032\u2032-Pentamethyldiethylenetriamine\nN,N,N\u2032,N\u2032-Tetraethyl-1,3-propanediamine\nN,N,N\u2032,N\u2032-Tetramethyl-1,4-butanediamine \nN,N,N\u2032,N\u2032-Tetramethyl-2-butene-1,4-diamine \n1,4,8,11-Tetramethyl-1,4,8,11-tetraazacyclotetradecane\n1,3,5-Trimethylhexahydro-1,3,5-triazine \nLysine\nMethylcyanate\nMethyl isocyanate\nMethyl isocyanide\nrand_1\nTert-butyl hydroperoxide\nHydrogen peroxide\nDi-tert-butyl peroxide\nozone\nAzidobenzene\nAzide ion\n3-Methylbutyl nitrite\nNitromethane\nNitrosobenzene\nAcetone oxime\nNitrous acid\nFluoromethane\nHydrofluoric acid\nCarbon tetrafluoride\nAcetyl hypofluorite\n(Trifluoromethyl)trimethylsilane\nSevoflurane\nOxygen difluoride\nFluorine dioxide\nHydrogen\n"
                }, 
                {
                    "execution_count": 6, 
                    "metadata": {}, 
                    "data": {
                        "text/html": "<div>\n<style scoped>\n    .dataframe tbody tr th:only-of-type {\n        vertical-align: middle;\n    }\n\n    .dataframe tbody tr th {\n        vertical-align: top;\n    }\n\n    .dataframe thead th {\n        text-align: right;\n    }\n</style>\n<table border=\"1\" class=\"dataframe\">\n  <thead>\n    <tr style=\"text-align: right;\">\n      <th></th>\n      <th>cid</th>\n      <th>aid1</th>\n      <th>aid2</th>\n      <th>atom1</th>\n      <th>atom2</th>\n      <th>x_1</th>\n      <th>y_1</th>\n      <th>z_1</th>\n      <th>x_2</th>\n      <th>y_2</th>\n      <th>z_2</th>\n      <th>atom1_charge</th>\n      <th>atom2_charge</th>\n      <th>bond</th>\n    </tr>\n  </thead>\n  <tbody>\n    <tr>\n      <th>0</th>\n      <td>6324</td>\n      <td>1</td>\n      <td>2</td>\n      <td>C</td>\n      <td>C</td>\n      <td>-0.756</td>\n      <td>0.0</td>\n      <td>0</td>\n      <td>0.7560</td>\n      <td>0.0000</td>\n      <td>0</td>\n      <td>0</td>\n      <td>0</td>\n      <td>1</td>\n    </tr>\n    <tr>\n      <th>1</th>\n      <td>6324</td>\n      <td>1</td>\n      <td>3</td>\n      <td>C</td>\n      <td>H</td>\n      <td>-0.756</td>\n      <td>0.0</td>\n      <td>0</td>\n      <td>-1.1404</td>\n      <td>0.6586</td>\n      <td>0.7845</td>\n      <td>0</td>\n      <td>0</td>\n      <td>1</td>\n    </tr>\n    <tr>\n      <th>2</th>\n      <td>6324</td>\n      <td>1</td>\n      <td>4</td>\n      <td>C</td>\n      <td>H</td>\n      <td>-0.756</td>\n      <td>0.0</td>\n      <td>0</td>\n      <td>-1.1404</td>\n      <td>0.3501</td>\n      <td>-0.9626</td>\n      <td>0</td>\n      <td>0</td>\n      <td>1</td>\n    </tr>\n    <tr>\n      <th>3</th>\n      <td>6324</td>\n      <td>1</td>\n      <td>5</td>\n      <td>C</td>\n      <td>H</td>\n      <td>-0.756</td>\n      <td>0.0</td>\n      <td>0</td>\n      <td>-1.1405</td>\n      <td>-1.0087</td>\n      <td>0.1781</td>\n      <td>0</td>\n      <td>0</td>\n      <td>1</td>\n    </tr>\n    <tr>\n      <th>4</th>\n      <td>6324</td>\n      <td>1</td>\n      <td>6</td>\n      <td>C</td>\n      <td>H</td>\n      <td>-0.756</td>\n      <td>0.0</td>\n      <td>0</td>\n      <td>1.1404</td>\n      <td>-0.3501</td>\n      <td>0.9626</td>\n      <td>0</td>\n      <td>0</td>\n      <td>0</td>\n    </tr>\n  </tbody>\n</table>\n</div>", 
                        "text/plain": "    cid  aid1  aid2 atom1 atom2    x_1  y_1 z_1     x_2     y_2     z_2  \\\n0  6324     1     2     C     C -0.756  0.0   0  0.7560  0.0000       0   \n1  6324     1     3     C     H -0.756  0.0   0 -1.1404  0.6586  0.7845   \n2  6324     1     4     C     H -0.756  0.0   0 -1.1404  0.3501 -0.9626   \n3  6324     1     5     C     H -0.756  0.0   0 -1.1405 -1.0087  0.1781   \n4  6324     1     6     C     H -0.756  0.0   0  1.1404 -0.3501  0.9626   \n\n   atom1_charge  atom2_charge  bond  \n0             0             0     1  \n1             0             0     1  \n2             0             0     1  \n3             0             0     1  \n4             0             0     0  "
                    }, 
                    "output_type": "execute_result"
                }
            ], 
            "source": "df_dict={}\nfor cid,name in cid_dict.items():\n    df_dict[name]=get_df(cid,name=name)\n#concatenating dataframe\ndata=pd.concat(df_dict.values(),ignore_index=True)\ndata.head()"
        }, 
        {
            "execution_count": 7, 
            "cell_type": "code", 
            "metadata": {}, 
            "outputs": [
                {
                    "execution_count": 7, 
                    "metadata": {}, 
                    "data": {
                        "text/plain": "(27776, 14)"
                    }, 
                    "output_type": "execute_result"
                }
            ], 
            "source": "data.shape"
        }, 
        {
            "execution_count": 8, 
            "cell_type": "code", 
            "metadata": {}, 
            "outputs": [
                {
                    "output_type": "stream", 
                    "name": "stdout", 
                    "text": "Compound in cid_dict: 70\nDownloaded Compounds: 70\n"
                }
            ], 
            "source": "print('Compound in cid_dict: '+str(len(df_dict.keys())))\nprint('Downloaded Compounds: '+str(len(compounds_dict)))"
        }, 
        {
            "source": "## Unique atoms in the data", 
            "cell_type": "markdown", 
            "metadata": {}
        }, 
        {
            "execution_count": 9, 
            "cell_type": "code", 
            "metadata": {}, 
            "outputs": [
                {
                    "execution_count": 9, 
                    "metadata": {}, 
                    "data": {
                        "text/plain": "array(['C', 'H', 'N', 'O', 'F', 'Si'], dtype=object)"
                    }, 
                    "output_type": "execute_result"
                }
            ], 
            "source": "data['atom1'].unique()"
        }, 
        {
            "execution_count": 10, 
            "cell_type": "code", 
            "metadata": {}, 
            "outputs": [
                {
                    "output_type": "stream", 
                    "name": "stdout", 
                    "text": "--2019-09-02 13:02:13--  https://github.com/ss-ghule/misc_or_test_repo/raw/master/BASKVILL.TTF\nResolving github.com (github.com)... 140.82.113.4\nConnecting to github.com (github.com)|140.82.113.4|:443... connected.\nHTTP request sent, awaiting response... 302 Found\nLocation: https://raw.githubusercontent.com/ss-ghule/misc_or_test_repo/master/BASKVILL.TTF [following]\n--2019-09-02 13:02:14--  https://raw.githubusercontent.com/ss-ghule/misc_or_test_repo/master/BASKVILL.TTF\nResolving raw.githubusercontent.com (raw.githubusercontent.com)... 199.232.8.133\nConnecting to raw.githubusercontent.com (raw.githubusercontent.com)|199.232.8.133|:443... connected.\nHTTP request sent, awaiting response... 200 OK\nLength: 54976 (54K) [application/octet-stream]\nSaving to: \u2018BASKVILL.TTF\u2019\n\n100%[======================================>] 54,976      --.-K/s   in 0.003s  \n\n2019-09-02 13:02:14 (20.5 MB/s) - \u2018BASKVILL.TTF\u2019 saved [54976/54976]\n\n"
                }
            ], 
            "source": "!wget https://github.com/ss-ghule/misc_or_test_repo/raw/master/BASKVILL.TTF "
        }, 
        {
            "execution_count": 11, 
            "cell_type": "code", 
            "metadata": {}, 
            "outputs": [], 
            "source": "#!head -3 BASKVILL.TTF"
        }, 
        {
            "execution_count": 12, 
            "cell_type": "code", 
            "metadata": {}, 
            "outputs": [], 
            "source": "def process_img(img,mode,caption):\n  img=img.convert(mode)\n  draw=ImageDraw.Draw(img)\n  w=img.width\n  h=img.height\n  draw.rectangle([0,0,w,h],fill=None,outline='red',width=2)\n  font = ImageFont.truetype(\"BASKVILL.TTF\", 20)\n  draw.text((0.3*w,0.9*h),caption,fill='black',font=font)\n  return img"
        }, 
        {
            "execution_count": 29, 
            "cell_type": "code", 
            "metadata": {}, 
            "outputs": [], 
            "source": "def display_molecules(cid_dict):\n  for cid,name in cid_dict.items():\n    print(name,end='\\r')\n    try:\n        pcp.download('png',str(cid)+'.png',cid,image_size='large',record_type='3d',overwrite=True)\n    except pcp.PubChemHTTPError:\n        pcp.download('png',str(cid)+'.png',cid,image_size='large',record_type='2d',overwrite=True)\n  ref_cid=list(cid_dict.keys())[0]\n  ref_img=Image.open(str(ref_cid)+'.png')\n  col=10\n  row=int(np.ceil(len(cid_dict)/10))\n  contact_sheet=Image.new(ref_img.mode,(ref_img.width*col,ref_img.height*row))\n  x=0\n  y=0\n  for i,cid in enumerate(cid_dict.keys()):\n    img=Image.open(str(cid)+'.png')\n    img=process_img(img,ref_img.mode,cid_dict[cid])\n    contact_sheet.paste(img,(x,y))\n    if (i+1)%10==0:\n      x=0\n      y+=ref_img.height\n    else:\n      x+=ref_img.width\n  contact_sheet=contact_sheet.resize((1000,row*100))\n  display(contact_sheet)\n  #return contact_sheet"
        }, 
        {
            "execution_count": 28, 
            "cell_type": "code", 
            "metadata": {}, 
            "outputs": [
                {
                    "output_type": "stream", 
                    "name": "stdout", 
                    "text": "ethane\nhexane\n2,3,4-trimethylpentane\n2-methylpropane\nethene\n1,3-butadiene\nPropyne\n3-hexyne\nbenzene\nNaphthalene\nM-Xylene\nAniline\nPhenol\nBenzoic acid\nBenzaldehyde\ndiphenylacetylene\nMethanol\ntert-Butyl alcohol\nMethyl ethyl ketone\nAcetaldehyde\nAcetic acid\nDiethyl ether\nMethylamine\nDimethylamine\nTrimethylamine\nEthanimine\nammonia\n2-Pentanamine\np-Anisidine\n4-(Trifluoromethyl)aniline\nN,N-Diisopropylethylenediamine\nN,N-Diisopropyl-1,3-propanediamine\nN,N\u2032-Dimethyl-1,3-propanediamine\n2-Isopropyl-2-oxazoline\nN,N\u2032-Diphenyl-p-phenylenediamine\n1-[Bis[3-(dimethylamino)propyl]amino]-2-propanol\nDabco\n1,6-Diaminohexane-N,N,N,N-tetraacetic acid\n2-[2-(Dimethylamino)ethoxy]ethanol\nN,N,N\u2032,N\u2032\u2032,N\u2032\u2032-Pentamethyldiethylenetriamine\nN,N,N\u2032,N\u2032-Tetraethyl-1,3-propanediamine\nN,N,N\u2032,N\u2032-Tetramethyl-1,4-butanediamine \nN,N,N\u2032,N\u2032-Tetramethyl-2-butene-1,4-diamine \n1,4,8,11-Tetramethyl-1,4,8,11-tetraazacyclotetradecane\n1,3,5-Trimethylhexahydro-1,3,5-triazine \nLysine\nMethylcyanate\nMethyl isocyanate\nMethyl isocyanide\nrand_1\nTert-butyl hydroperoxide\nHydrogen peroxide\nDi-tert-butyl peroxide\nozone\nAzidobenzene\nAzide ion\n3-Methylbutyl nitrite\nNitromethane\nNitrosobenzene\nAcetone oxime\nNitrous acid\nFluoromethane\nHydrofluoric acid\nCarbon tetrafluoride\nAcetyl hypofluorite\n(Trifluoromethyl)trimethylsilane\nSevoflurane\nOxygen difluoride\nFluorine dioxide\nHydrogen\n"
                }, 
                {
                    "ename": "KeyboardInterrupt", 
                    "evalue": "", 
                    "traceback": [
                        "\u001b[0;31m---------------------------------------------------------------------------\u001b[0m", 
                        "\u001b[0;31mKeyboardInterrupt\u001b[0m                         Traceback (most recent call last)", 
                        "\u001b[0;32m<ipython-input-28-9ffc5a0ce8c8>\u001b[0m in \u001b[0;36m<module>\u001b[0;34m\u001b[0m\n\u001b[0;32m----> 1\u001b[0;31m \u001b[0mdisplay\u001b[0m\u001b[0;34m(\u001b[0m\u001b[0mdisplay_molecules\u001b[0m\u001b[0;34m(\u001b[0m\u001b[0mcid_dict\u001b[0m\u001b[0;34m)\u001b[0m\u001b[0;34m)\u001b[0m\u001b[0;34m\u001b[0m\u001b[0;34m\u001b[0m\u001b[0m\n\u001b[0m", 
                        "\u001b[0;32m<ipython-input-27-b3f0e6e042d0>\u001b[0m in \u001b[0;36mdisplay_molecules\u001b[0;34m(cid_dict)\u001b[0m\n\u001b[1;32m     15\u001b[0m   \u001b[0;32mfor\u001b[0m \u001b[0mi\u001b[0m\u001b[0;34m,\u001b[0m\u001b[0mcid\u001b[0m \u001b[0;32min\u001b[0m \u001b[0menumerate\u001b[0m\u001b[0;34m(\u001b[0m\u001b[0mcid_dict\u001b[0m\u001b[0;34m.\u001b[0m\u001b[0mkeys\u001b[0m\u001b[0;34m(\u001b[0m\u001b[0;34m)\u001b[0m\u001b[0;34m)\u001b[0m\u001b[0;34m:\u001b[0m\u001b[0;34m\u001b[0m\u001b[0;34m\u001b[0m\u001b[0m\n\u001b[1;32m     16\u001b[0m     \u001b[0mimg\u001b[0m\u001b[0;34m=\u001b[0m\u001b[0mImage\u001b[0m\u001b[0;34m.\u001b[0m\u001b[0mopen\u001b[0m\u001b[0;34m(\u001b[0m\u001b[0mstr\u001b[0m\u001b[0;34m(\u001b[0m\u001b[0mcid\u001b[0m\u001b[0;34m)\u001b[0m\u001b[0;34m+\u001b[0m\u001b[0;34m'.png'\u001b[0m\u001b[0;34m)\u001b[0m\u001b[0;34m\u001b[0m\u001b[0;34m\u001b[0m\u001b[0m\n\u001b[0;32m---> 17\u001b[0;31m     \u001b[0mimg\u001b[0m\u001b[0;34m=\u001b[0m\u001b[0mprocess_img\u001b[0m\u001b[0;34m(\u001b[0m\u001b[0mimg\u001b[0m\u001b[0;34m,\u001b[0m\u001b[0mref_img\u001b[0m\u001b[0;34m.\u001b[0m\u001b[0mmode\u001b[0m\u001b[0;34m,\u001b[0m\u001b[0mcid_dict\u001b[0m\u001b[0;34m[\u001b[0m\u001b[0mcid\u001b[0m\u001b[0;34m]\u001b[0m\u001b[0;34m)\u001b[0m\u001b[0;34m\u001b[0m\u001b[0;34m\u001b[0m\u001b[0m\n\u001b[0m\u001b[1;32m     18\u001b[0m     \u001b[0mcontact_sheet\u001b[0m\u001b[0;34m.\u001b[0m\u001b[0mpaste\u001b[0m\u001b[0;34m(\u001b[0m\u001b[0mimg\u001b[0m\u001b[0;34m,\u001b[0m\u001b[0;34m(\u001b[0m\u001b[0mx\u001b[0m\u001b[0;34m,\u001b[0m\u001b[0my\u001b[0m\u001b[0;34m)\u001b[0m\u001b[0;34m)\u001b[0m\u001b[0;34m\u001b[0m\u001b[0;34m\u001b[0m\u001b[0m\n\u001b[1;32m     19\u001b[0m     \u001b[0;32mif\u001b[0m \u001b[0;34m(\u001b[0m\u001b[0mi\u001b[0m\u001b[0;34m+\u001b[0m\u001b[0;36m1\u001b[0m\u001b[0;34m)\u001b[0m\u001b[0;34m%\u001b[0m\u001b[0;36m10\u001b[0m\u001b[0;34m==\u001b[0m\u001b[0;36m0\u001b[0m\u001b[0;34m:\u001b[0m\u001b[0;34m\u001b[0m\u001b[0;34m\u001b[0m\u001b[0m\n", 
                        "\u001b[0;32m<ipython-input-12-5c2d03cc949e>\u001b[0m in \u001b[0;36mprocess_img\u001b[0;34m(img, mode, caption)\u001b[0m\n\u001b[1;32m      1\u001b[0m \u001b[0;32mdef\u001b[0m \u001b[0mprocess_img\u001b[0m\u001b[0;34m(\u001b[0m\u001b[0mimg\u001b[0m\u001b[0;34m,\u001b[0m\u001b[0mmode\u001b[0m\u001b[0;34m,\u001b[0m\u001b[0mcaption\u001b[0m\u001b[0;34m)\u001b[0m\u001b[0;34m:\u001b[0m\u001b[0;34m\u001b[0m\u001b[0;34m\u001b[0m\u001b[0m\n\u001b[0;32m----> 2\u001b[0;31m   \u001b[0mimg\u001b[0m\u001b[0;34m=\u001b[0m\u001b[0mimg\u001b[0m\u001b[0;34m.\u001b[0m\u001b[0mconvert\u001b[0m\u001b[0;34m(\u001b[0m\u001b[0mmode\u001b[0m\u001b[0;34m)\u001b[0m\u001b[0;34m\u001b[0m\u001b[0;34m\u001b[0m\u001b[0m\n\u001b[0m\u001b[1;32m      3\u001b[0m   \u001b[0mdraw\u001b[0m\u001b[0;34m=\u001b[0m\u001b[0mImageDraw\u001b[0m\u001b[0;34m.\u001b[0m\u001b[0mDraw\u001b[0m\u001b[0;34m(\u001b[0m\u001b[0mimg\u001b[0m\u001b[0;34m)\u001b[0m\u001b[0;34m\u001b[0m\u001b[0;34m\u001b[0m\u001b[0m\n\u001b[1;32m      4\u001b[0m   \u001b[0mw\u001b[0m\u001b[0;34m=\u001b[0m\u001b[0mimg\u001b[0m\u001b[0;34m.\u001b[0m\u001b[0mwidth\u001b[0m\u001b[0;34m\u001b[0m\u001b[0;34m\u001b[0m\u001b[0m\n\u001b[1;32m      5\u001b[0m   \u001b[0mh\u001b[0m\u001b[0;34m=\u001b[0m\u001b[0mimg\u001b[0m\u001b[0;34m.\u001b[0m\u001b[0mheight\u001b[0m\u001b[0;34m\u001b[0m\u001b[0;34m\u001b[0m\u001b[0m\n", 
                        "\u001b[0;32m/opt/conda/envs/Python36/lib/python3.6/site-packages/PIL/Image.py\u001b[0m in \u001b[0;36mconvert\u001b[0;34m(self, mode, matrix, dither, palette, colors)\u001b[0m\n\u001b[1;32m    913\u001b[0m         \"\"\"\n\u001b[1;32m    914\u001b[0m \u001b[0;34m\u001b[0m\u001b[0m\n\u001b[0;32m--> 915\u001b[0;31m         \u001b[0mself\u001b[0m\u001b[0;34m.\u001b[0m\u001b[0mload\u001b[0m\u001b[0;34m(\u001b[0m\u001b[0;34m)\u001b[0m\u001b[0;34m\u001b[0m\u001b[0;34m\u001b[0m\u001b[0m\n\u001b[0m\u001b[1;32m    916\u001b[0m \u001b[0;34m\u001b[0m\u001b[0m\n\u001b[1;32m    917\u001b[0m         \u001b[0;32mif\u001b[0m \u001b[0;32mnot\u001b[0m \u001b[0mmode\u001b[0m \u001b[0;32mand\u001b[0m \u001b[0mself\u001b[0m\u001b[0;34m.\u001b[0m\u001b[0mmode\u001b[0m \u001b[0;34m==\u001b[0m \u001b[0;34m\"P\"\u001b[0m\u001b[0;34m:\u001b[0m\u001b[0;34m\u001b[0m\u001b[0;34m\u001b[0m\u001b[0m\n", 
                        "\u001b[0;32m/opt/conda/envs/Python36/lib/python3.6/site-packages/PIL/ImageFile.py\u001b[0m in \u001b[0;36mload\u001b[0;34m(self)\u001b[0m\n\u001b[1;32m    239\u001b[0m \u001b[0;34m\u001b[0m\u001b[0m\n\u001b[1;32m    240\u001b[0m                             \u001b[0mb\u001b[0m \u001b[0;34m=\u001b[0m \u001b[0mb\u001b[0m \u001b[0;34m+\u001b[0m \u001b[0ms\u001b[0m\u001b[0;34m\u001b[0m\u001b[0;34m\u001b[0m\u001b[0m\n\u001b[0;32m--> 241\u001b[0;31m                             \u001b[0mn\u001b[0m\u001b[0;34m,\u001b[0m \u001b[0merr_code\u001b[0m \u001b[0;34m=\u001b[0m \u001b[0mdecoder\u001b[0m\u001b[0;34m.\u001b[0m\u001b[0mdecode\u001b[0m\u001b[0;34m(\u001b[0m\u001b[0mb\u001b[0m\u001b[0;34m)\u001b[0m\u001b[0;34m\u001b[0m\u001b[0;34m\u001b[0m\u001b[0m\n\u001b[0m\u001b[1;32m    242\u001b[0m                             \u001b[0;32mif\u001b[0m \u001b[0mn\u001b[0m \u001b[0;34m<\u001b[0m \u001b[0;36m0\u001b[0m\u001b[0;34m:\u001b[0m\u001b[0;34m\u001b[0m\u001b[0;34m\u001b[0m\u001b[0m\n\u001b[1;32m    243\u001b[0m                                 \u001b[0;32mbreak\u001b[0m\u001b[0;34m\u001b[0m\u001b[0;34m\u001b[0m\u001b[0m\n", 
                        "\u001b[0;31mKeyboardInterrupt\u001b[0m: "
                    ], 
                    "output_type": "error"
                }
            ], 
            "source": "display(display_molecules(cid_dict))"
        }, 
        {
            "source": "# Serialize the data", 
            "cell_type": "markdown", 
            "metadata": {}
        }, 
        {
            "execution_count": 15, 
            "cell_type": "code", 
            "metadata": {}, 
            "outputs": [], 
            "source": "data.to_csv('data_raw.csv',index=False)"
        }, 
        {
            "execution_count": 16, 
            "cell_type": "code", 
            "metadata": {}, 
            "outputs": [
                {
                    "output_type": "stream", 
                    "name": "stdout", 
                    "text": "10390.png   135504501.png  241.png\t6115.png  66074.png  7929.png\r\n106705.png  13568.png\t   243.png\t6319.png  66978.png  7952.png\r\n11269.png   137201.png\t   24529.png\t6324.png  67180.png  8033.png\r\n1146.png    140746.png\t   24547.png\t6325.png  674.png    8053.png\r\n11473.png   143710.png\t   24823.png\t6329.png  69319.png  8058.png\r\n11638.png   144018.png\t   3283.png\t6335.png  74209.png  887.png\r\n11646.png   14917.png\t   33558.png\t6360.png  74348.png  9237.png\r\n12228.png   176.png\t   5206.png\t6375.png  7732.png   931.png\r\n12246.png   177.png\t   5365279.png\t6386.png  77628.png  9964.png\r\n123257.png  18196.png\t   552549.png\t6393.png  783.png    996.png\r\n123502.png  222.png\t   566545.png\t6410.png  7845.png   BASKVILL.TTF\r\n127602.png  240.png\t   5962.png\t6569.png  784.png    data_raw.csv\r\n"
                }
            ], 
            "source": "!ls"
        }, 
        {
            "execution_count": 17, 
            "cell_type": "code", 
            "metadata": {}, 
            "outputs": [
                {
                    "output_type": "stream", 
                    "name": "stdout", 
                    "text": "cid,aid1,aid2,atom1,atom2,x_1,y_1,z_1,x_2,y_2,z_2,atom1_charge,atom2_charge,bond\r\n6324,1,2,C,C,-0.756,0.0,0.0,0.756,0.0,0.0,0,0,1\r\n6324,1,3,C,H,-0.756,0.0,0.0,-1.1404,0.6586,0.7845,0,0,1\r\n6324,1,4,C,H,-0.756,0.0,0.0,-1.1404,0.3501,-0.9626,0,0,1\r\n6324,1,5,C,H,-0.756,0.0,0.0,-1.1405,-1.0087,0.1781,0,0,1\r\n"
                }
            ], 
            "source": "!head -5 data_raw.csv"
        }, 
        {
            "execution_count": 18, 
            "cell_type": "code", 
            "metadata": {}, 
            "outputs": [], 
            "source": "test_data=pd.read_csv('data_raw.csv')"
        }, 
        {
            "execution_count": 19, 
            "cell_type": "code", 
            "metadata": {}, 
            "outputs": [
                {
                    "execution_count": 19, 
                    "metadata": {}, 
                    "data": {
                        "text/html": "<div>\n<style scoped>\n    .dataframe tbody tr th:only-of-type {\n        vertical-align: middle;\n    }\n\n    .dataframe tbody tr th {\n        vertical-align: top;\n    }\n\n    .dataframe thead th {\n        text-align: right;\n    }\n</style>\n<table border=\"1\" class=\"dataframe\">\n  <thead>\n    <tr style=\"text-align: right;\">\n      <th></th>\n      <th>cid</th>\n      <th>aid1</th>\n      <th>aid2</th>\n      <th>atom1</th>\n      <th>atom2</th>\n      <th>x_1</th>\n      <th>y_1</th>\n      <th>z_1</th>\n      <th>x_2</th>\n      <th>y_2</th>\n      <th>z_2</th>\n      <th>atom1_charge</th>\n      <th>atom2_charge</th>\n      <th>bond</th>\n    </tr>\n  </thead>\n  <tbody>\n    <tr>\n      <th>0</th>\n      <td>6324</td>\n      <td>1</td>\n      <td>2</td>\n      <td>C</td>\n      <td>C</td>\n      <td>-0.756</td>\n      <td>0.0</td>\n      <td>0.0</td>\n      <td>0.7560</td>\n      <td>0.0000</td>\n      <td>0.0000</td>\n      <td>0</td>\n      <td>0</td>\n      <td>1</td>\n    </tr>\n    <tr>\n      <th>1</th>\n      <td>6324</td>\n      <td>1</td>\n      <td>3</td>\n      <td>C</td>\n      <td>H</td>\n      <td>-0.756</td>\n      <td>0.0</td>\n      <td>0.0</td>\n      <td>-1.1404</td>\n      <td>0.6586</td>\n      <td>0.7845</td>\n      <td>0</td>\n      <td>0</td>\n      <td>1</td>\n    </tr>\n    <tr>\n      <th>2</th>\n      <td>6324</td>\n      <td>1</td>\n      <td>4</td>\n      <td>C</td>\n      <td>H</td>\n      <td>-0.756</td>\n      <td>0.0</td>\n      <td>0.0</td>\n      <td>-1.1404</td>\n      <td>0.3501</td>\n      <td>-0.9626</td>\n      <td>0</td>\n      <td>0</td>\n      <td>1</td>\n    </tr>\n    <tr>\n      <th>3</th>\n      <td>6324</td>\n      <td>1</td>\n      <td>5</td>\n      <td>C</td>\n      <td>H</td>\n      <td>-0.756</td>\n      <td>0.0</td>\n      <td>0.0</td>\n      <td>-1.1405</td>\n      <td>-1.0087</td>\n      <td>0.1781</td>\n      <td>0</td>\n      <td>0</td>\n      <td>1</td>\n    </tr>\n    <tr>\n      <th>4</th>\n      <td>6324</td>\n      <td>1</td>\n      <td>6</td>\n      <td>C</td>\n      <td>H</td>\n      <td>-0.756</td>\n      <td>0.0</td>\n      <td>0.0</td>\n      <td>1.1404</td>\n      <td>-0.3501</td>\n      <td>0.9626</td>\n      <td>0</td>\n      <td>0</td>\n      <td>0</td>\n    </tr>\n  </tbody>\n</table>\n</div>", 
                        "text/plain": "    cid  aid1  aid2 atom1 atom2    x_1  y_1  z_1     x_2     y_2     z_2  \\\n0  6324     1     2     C     C -0.756  0.0  0.0  0.7560  0.0000  0.0000   \n1  6324     1     3     C     H -0.756  0.0  0.0 -1.1404  0.6586  0.7845   \n2  6324     1     4     C     H -0.756  0.0  0.0 -1.1404  0.3501 -0.9626   \n3  6324     1     5     C     H -0.756  0.0  0.0 -1.1405 -1.0087  0.1781   \n4  6324     1     6     C     H -0.756  0.0  0.0  1.1404 -0.3501  0.9626   \n\n   atom1_charge  atom2_charge  bond  \n0             0             0     1  \n1             0             0     1  \n2             0             0     1  \n3             0             0     1  \n4             0             0     0  "
                    }, 
                    "output_type": "execute_result"
                }
            ], 
            "source": "test_data.head()"
        }, 
        {
            "execution_count": 20, 
            "cell_type": "code", 
            "metadata": {}, 
            "outputs": [
                {
                    "execution_count": 20, 
                    "metadata": {}, 
                    "data": {
                        "text/html": "<div>\n<style scoped>\n    .dataframe tbody tr th:only-of-type {\n        vertical-align: middle;\n    }\n\n    .dataframe tbody tr th {\n        vertical-align: top;\n    }\n\n    .dataframe thead th {\n        text-align: right;\n    }\n</style>\n<table border=\"1\" class=\"dataframe\">\n  <thead>\n    <tr style=\"text-align: right;\">\n      <th></th>\n      <th>cid</th>\n      <th>aid1</th>\n      <th>aid2</th>\n      <th>atom1</th>\n      <th>atom2</th>\n      <th>x_1</th>\n      <th>y_1</th>\n      <th>z_1</th>\n      <th>x_2</th>\n      <th>y_2</th>\n      <th>z_2</th>\n      <th>atom1_charge</th>\n      <th>atom2_charge</th>\n      <th>bond</th>\n    </tr>\n  </thead>\n  <tbody>\n    <tr>\n      <th>0</th>\n      <td>6324</td>\n      <td>1</td>\n      <td>2</td>\n      <td>C</td>\n      <td>C</td>\n      <td>-0.756</td>\n      <td>0.0</td>\n      <td>0</td>\n      <td>0.7560</td>\n      <td>0.0000</td>\n      <td>0</td>\n      <td>0</td>\n      <td>0</td>\n      <td>1</td>\n    </tr>\n    <tr>\n      <th>1</th>\n      <td>6324</td>\n      <td>1</td>\n      <td>3</td>\n      <td>C</td>\n      <td>H</td>\n      <td>-0.756</td>\n      <td>0.0</td>\n      <td>0</td>\n      <td>-1.1404</td>\n      <td>0.6586</td>\n      <td>0.7845</td>\n      <td>0</td>\n      <td>0</td>\n      <td>1</td>\n    </tr>\n    <tr>\n      <th>2</th>\n      <td>6324</td>\n      <td>1</td>\n      <td>4</td>\n      <td>C</td>\n      <td>H</td>\n      <td>-0.756</td>\n      <td>0.0</td>\n      <td>0</td>\n      <td>-1.1404</td>\n      <td>0.3501</td>\n      <td>-0.9626</td>\n      <td>0</td>\n      <td>0</td>\n      <td>1</td>\n    </tr>\n    <tr>\n      <th>3</th>\n      <td>6324</td>\n      <td>1</td>\n      <td>5</td>\n      <td>C</td>\n      <td>H</td>\n      <td>-0.756</td>\n      <td>0.0</td>\n      <td>0</td>\n      <td>-1.1405</td>\n      <td>-1.0087</td>\n      <td>0.1781</td>\n      <td>0</td>\n      <td>0</td>\n      <td>1</td>\n    </tr>\n    <tr>\n      <th>4</th>\n      <td>6324</td>\n      <td>1</td>\n      <td>6</td>\n      <td>C</td>\n      <td>H</td>\n      <td>-0.756</td>\n      <td>0.0</td>\n      <td>0</td>\n      <td>1.1404</td>\n      <td>-0.3501</td>\n      <td>0.9626</td>\n      <td>0</td>\n      <td>0</td>\n      <td>0</td>\n    </tr>\n  </tbody>\n</table>\n</div>", 
                        "text/plain": "    cid  aid1  aid2 atom1 atom2    x_1  y_1 z_1     x_2     y_2     z_2  \\\n0  6324     1     2     C     C -0.756  0.0   0  0.7560  0.0000       0   \n1  6324     1     3     C     H -0.756  0.0   0 -1.1404  0.6586  0.7845   \n2  6324     1     4     C     H -0.756  0.0   0 -1.1404  0.3501 -0.9626   \n3  6324     1     5     C     H -0.756  0.0   0 -1.1405 -1.0087  0.1781   \n4  6324     1     6     C     H -0.756  0.0   0  1.1404 -0.3501  0.9626   \n\n   atom1_charge  atom2_charge  bond  \n0             0             0     1  \n1             0             0     1  \n2             0             0     1  \n3             0             0     1  \n4             0             0     0  "
                    }, 
                    "output_type": "execute_result"
                }
            ], 
            "source": "data.head()"
        }, 
        {
            "execution_count": 21, 
            "cell_type": "code", 
            "metadata": {}, 
            "outputs": [
                {
                    "execution_count": 21, 
                    "metadata": {}, 
                    "data": {
                        "text/plain": "(27776, 14)"
                    }, 
                    "output_type": "execute_result"
                }
            ], 
            "source": "test_data.shape"
        }, 
        {
            "execution_count": 22, 
            "cell_type": "code", 
            "metadata": {}, 
            "outputs": [
                {
                    "execution_count": 22, 
                    "metadata": {}, 
                    "data": {
                        "text/plain": "(27776, 14)"
                    }, 
                    "output_type": "execute_result"
                }
            ], 
            "source": "data.shape"
        }, 
        {
            "source": "# Upload data to IBM object store", 
            "cell_type": "markdown", 
            "metadata": {}
        }, 
        {
            "execution_count": 23, 
            "cell_type": "code", 
            "metadata": {}, 
            "outputs": [
                {
                    "output_type": "stream", 
                    "name": "stdout", 
                    "text": "10390.png   135504501.png  241.png\t6115.png  66074.png  7929.png\r\n106705.png  13568.png\t   243.png\t6319.png  66978.png  7952.png\r\n11269.png   137201.png\t   24529.png\t6324.png  67180.png  8033.png\r\n1146.png    140746.png\t   24547.png\t6325.png  674.png    8053.png\r\n11473.png   143710.png\t   24823.png\t6329.png  69319.png  8058.png\r\n11638.png   144018.png\t   3283.png\t6335.png  74209.png  887.png\r\n11646.png   14917.png\t   33558.png\t6360.png  74348.png  9237.png\r\n12228.png   176.png\t   5206.png\t6375.png  7732.png   931.png\r\n12246.png   177.png\t   5365279.png\t6386.png  77628.png  9964.png\r\n123257.png  18196.png\t   552549.png\t6393.png  783.png    996.png\r\n123502.png  222.png\t   566545.png\t6410.png  7845.png   BASKVILL.TTF\r\n127602.png  240.png\t   5962.png\t6569.png  784.png    data_raw.csv\r\n"
                }
            ], 
            "source": "!ls"
        }, 
        {
            "execution_count": 24, 
            "cell_type": "code", 
            "metadata": {}, 
            "outputs": [], 
            "source": "# The code was removed by Watson Studio for sharing."
        }, 
        {
            "execution_count": 25, 
            "cell_type": "code", 
            "metadata": {}, 
            "outputs": [
                {
                    "output_type": "stream", 
                    "name": "stdout", 
                    "text": "File Uploaded\n"
                }
            ], 
            "source": "upload_file_cos(credentials_1,'data_raw.csv','data_raw.csv')"
        }, 
        {
            "execution_count": null, 
            "cell_type": "code", 
            "metadata": {}, 
            "outputs": [], 
            "source": ""
        }
    ], 
    "metadata": {
        "kernelspec": {
            "display_name": "Python 3.6", 
            "name": "python3", 
            "language": "python"
        }, 
        "language_info": {
            "mimetype": "text/x-python", 
            "nbconvert_exporter": "python", 
            "version": "3.6.8", 
            "name": "python", 
            "file_extension": ".py", 
            "pygments_lexer": "ipython3", 
            "codemirror_mode": {
                "version": 3, 
                "name": "ipython"
            }
        }
    }, 
    "nbformat": 4
}