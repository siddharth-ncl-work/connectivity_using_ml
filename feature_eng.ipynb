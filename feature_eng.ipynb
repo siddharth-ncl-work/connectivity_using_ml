{
    "nbformat_minor": 1, 
    "cells": [
        {
            "execution_count": 1, 
            "cell_type": "code", 
            "metadata": {}, 
            "outputs": [], 
            "source": "# The code was removed by Watson Studio for sharing."
        }, 
        {
            "execution_count": 3, 
            "cell_type": "code", 
            "metadata": {}, 
            "outputs": [
                {
                    "output_type": "stream", 
                    "name": "stdout", 
                    "text": "11269.png   127602.png\t   177.png    24823.png   6325.png  6410.png   7929.png\r\n1146.png    135504501.png  222.png    3283.png\t  6329.png  6569.png   8033.png\r\n11473.png   13568.png\t   240.png    33558.png   6335.png  67180.png  8053.png\r\n11638.png   137201.png\t   241.png    5206.png\t  6360.png  674.png    8058.png\r\n11646.png   140746.png\t   243.png    552549.png  6375.png  69319.png  887.png\r\n12228.png   14917.png\t   24529.png  6115.png\t  6386.png  7845.png   931.png\r\n123257.png  176.png\t   24547.png  6324.png\t  6393.png  784.png    996.png\r\n"
                }
            ], 
            "source": "!rm data.csv\n!ls"
        }, 
        {
            "execution_count": 4, 
            "cell_type": "code", 
            "metadata": {}, 
            "outputs": [
                {
                    "output_type": "stream", 
                    "name": "stdout", 
                    "text": "File Downloaded\n11269.png   135504501.png  240.png    5206.png\t  6375.png   7845.png  996.png\n1146.png    13568.png\t   241.png    552549.png  6386.png   784.png   data.csv\n11473.png   137201.png\t   243.png    6115.png\t  6393.png   7929.png\n11638.png   140746.png\t   24529.png  6324.png\t  6410.png   8033.png\n11646.png   14917.png\t   24547.png  6325.png\t  6569.png   8053.png\n12228.png   176.png\t   24823.png  6329.png\t  67180.png  8058.png\n123257.png  177.png\t   3283.png   6335.png\t  674.png    887.png\n127602.png  222.png\t   33558.png  6360.png\t  69319.png  931.png\n"
                }
            ], 
            "source": "download_file_cos(credentials_1, 'data_raw.csv', 'data_raw.csv')\n!ls"
        }, 
        {
            "execution_count": 5, 
            "cell_type": "code", 
            "metadata": {}, 
            "outputs": [
                {
                    "output_type": "stream", 
                    "name": "stdout", 
                    "text": "cid,aid1,aid2,atom1,atom2,x_1,y_1,z_1,x_2,y_2,z_2,atom1_charge,atom2_charge,bond\r\n6324,1,2,C,C,-0.756,0.0,0.0,0.756,0.0,0.0,0,0,1\r\n6324,1,3,C,H,-0.756,0.0,0.0,-1.1404,0.6586,0.7845,0,0,1\r\n6324,1,4,C,H,-0.756,0.0,0.0,-1.1404,0.3501,-0.9626,0,0,1\r\n6324,1,5,C,H,-0.756,0.0,0.0,-1.1405,-1.0087,0.1781,0,0,1\r\n"
                }
            ], 
            "source": "!head -5 data.csv"
        }, 
        {
            "execution_count": 84, 
            "cell_type": "code", 
            "metadata": {}, 
            "outputs": [], 
            "source": "import pandas as pd\nimport numpy as np\nimport matplotlib.pyplot as plt\nimport pickle\n\n%matplotlib inline"
        }, 
        {
            "execution_count": 7, 
            "cell_type": "code", 
            "metadata": {}, 
            "outputs": [], 
            "source": "data=pd.read_csv('data_raw.csv')"
        }, 
        {
            "execution_count": 8, 
            "cell_type": "code", 
            "metadata": {}, 
            "outputs": [
                {
                    "execution_count": 8, 
                    "metadata": {}, 
                    "data": {
                        "text/html": "<div>\n<style scoped>\n    .dataframe tbody tr th:only-of-type {\n        vertical-align: middle;\n    }\n\n    .dataframe tbody tr th {\n        vertical-align: top;\n    }\n\n    .dataframe thead th {\n        text-align: right;\n    }\n</style>\n<table border=\"1\" class=\"dataframe\">\n  <thead>\n    <tr style=\"text-align: right;\">\n      <th></th>\n      <th>cid</th>\n      <th>aid1</th>\n      <th>aid2</th>\n      <th>atom1</th>\n      <th>atom2</th>\n      <th>x_1</th>\n      <th>y_1</th>\n      <th>z_1</th>\n      <th>x_2</th>\n      <th>y_2</th>\n      <th>z_2</th>\n      <th>atom1_charge</th>\n      <th>atom2_charge</th>\n      <th>bond</th>\n    </tr>\n  </thead>\n  <tbody>\n    <tr>\n      <th>0</th>\n      <td>6324</td>\n      <td>1</td>\n      <td>2</td>\n      <td>C</td>\n      <td>C</td>\n      <td>-0.756</td>\n      <td>0.0</td>\n      <td>0.0</td>\n      <td>0.7560</td>\n      <td>0.0000</td>\n      <td>0.0000</td>\n      <td>0</td>\n      <td>0</td>\n      <td>1</td>\n    </tr>\n    <tr>\n      <th>1</th>\n      <td>6324</td>\n      <td>1</td>\n      <td>3</td>\n      <td>C</td>\n      <td>H</td>\n      <td>-0.756</td>\n      <td>0.0</td>\n      <td>0.0</td>\n      <td>-1.1404</td>\n      <td>0.6586</td>\n      <td>0.7845</td>\n      <td>0</td>\n      <td>0</td>\n      <td>1</td>\n    </tr>\n    <tr>\n      <th>2</th>\n      <td>6324</td>\n      <td>1</td>\n      <td>4</td>\n      <td>C</td>\n      <td>H</td>\n      <td>-0.756</td>\n      <td>0.0</td>\n      <td>0.0</td>\n      <td>-1.1404</td>\n      <td>0.3501</td>\n      <td>-0.9626</td>\n      <td>0</td>\n      <td>0</td>\n      <td>1</td>\n    </tr>\n    <tr>\n      <th>3</th>\n      <td>6324</td>\n      <td>1</td>\n      <td>5</td>\n      <td>C</td>\n      <td>H</td>\n      <td>-0.756</td>\n      <td>0.0</td>\n      <td>0.0</td>\n      <td>-1.1405</td>\n      <td>-1.0087</td>\n      <td>0.1781</td>\n      <td>0</td>\n      <td>0</td>\n      <td>1</td>\n    </tr>\n    <tr>\n      <th>4</th>\n      <td>6324</td>\n      <td>1</td>\n      <td>6</td>\n      <td>C</td>\n      <td>H</td>\n      <td>-0.756</td>\n      <td>0.0</td>\n      <td>0.0</td>\n      <td>1.1404</td>\n      <td>-0.3501</td>\n      <td>0.9626</td>\n      <td>0</td>\n      <td>0</td>\n      <td>0</td>\n    </tr>\n  </tbody>\n</table>\n</div>", 
                        "text/plain": "    cid  aid1  aid2 atom1 atom2    x_1  y_1  z_1     x_2     y_2     z_2  \\\n0  6324     1     2     C     C -0.756  0.0  0.0  0.7560  0.0000  0.0000   \n1  6324     1     3     C     H -0.756  0.0  0.0 -1.1404  0.6586  0.7845   \n2  6324     1     4     C     H -0.756  0.0  0.0 -1.1404  0.3501 -0.9626   \n3  6324     1     5     C     H -0.756  0.0  0.0 -1.1405 -1.0087  0.1781   \n4  6324     1     6     C     H -0.756  0.0  0.0  1.1404 -0.3501  0.9626   \n\n   atom1_charge  atom2_charge  bond  \n0             0             0     1  \n1             0             0     1  \n2             0             0     1  \n3             0             0     1  \n4             0             0     0  "
                    }, 
                    "output_type": "execute_result"
                }
            ], 
            "source": "data.head()"
        }, 
        {
            "execution_count": 9, 
            "cell_type": "code", 
            "metadata": {}, 
            "outputs": [
                {
                    "execution_count": 9, 
                    "metadata": {}, 
                    "data": {
                        "text/plain": "(9058, 14)"
                    }, 
                    "output_type": "execute_result"
                }
            ], 
            "source": "data.shape"
        }, 
        {
            "source": "# Pairs", 
            "cell_type": "markdown", 
            "metadata": {}
        }, 
        {
            "execution_count": 39, 
            "cell_type": "code", 
            "metadata": {}, 
            "outputs": [], 
            "source": "data['pairs']=(data['atom1']+'_'+data['atom2']).apply(lambda x:x.split('_')).apply(sorted).apply(lambda x:'_'.join(x)).apply(str.lower)"
        }, 
        {
            "execution_count": 40, 
            "cell_type": "code", 
            "metadata": {}, 
            "outputs": [
                {
                    "execution_count": 40, 
                    "metadata": {}, 
                    "data": {
                        "text/html": "<div>\n<style scoped>\n    .dataframe tbody tr th:only-of-type {\n        vertical-align: middle;\n    }\n\n    .dataframe tbody tr th {\n        vertical-align: top;\n    }\n\n    .dataframe thead th {\n        text-align: right;\n    }\n</style>\n<table border=\"1\" class=\"dataframe\">\n  <thead>\n    <tr style=\"text-align: right;\">\n      <th></th>\n      <th>cid</th>\n      <th>aid1</th>\n      <th>aid2</th>\n      <th>atom1</th>\n      <th>atom2</th>\n      <th>x_1</th>\n      <th>y_1</th>\n      <th>z_1</th>\n      <th>x_2</th>\n      <th>y_2</th>\n      <th>z_2</th>\n      <th>atom1_charge</th>\n      <th>atom2_charge</th>\n      <th>bond</th>\n      <th>pairs</th>\n      <th>pairs_enc</th>\n      <th>distance</th>\n    </tr>\n  </thead>\n  <tbody>\n    <tr>\n      <th>0</th>\n      <td>6324</td>\n      <td>1</td>\n      <td>2</td>\n      <td>C</td>\n      <td>C</td>\n      <td>-0.756</td>\n      <td>0.0</td>\n      <td>0.0</td>\n      <td>0.7560</td>\n      <td>0.0000</td>\n      <td>0.0000</td>\n      <td>0</td>\n      <td>0</td>\n      <td>1</td>\n      <td>c_c</td>\n      <td>0</td>\n      <td>1.512000</td>\n    </tr>\n    <tr>\n      <th>1</th>\n      <td>6324</td>\n      <td>1</td>\n      <td>3</td>\n      <td>C</td>\n      <td>H</td>\n      <td>-0.756</td>\n      <td>0.0</td>\n      <td>0.0</td>\n      <td>-1.1404</td>\n      <td>0.6586</td>\n      <td>0.7845</td>\n      <td>0</td>\n      <td>0</td>\n      <td>1</td>\n      <td>c_h</td>\n      <td>2</td>\n      <td>1.094056</td>\n    </tr>\n    <tr>\n      <th>2</th>\n      <td>6324</td>\n      <td>1</td>\n      <td>4</td>\n      <td>C</td>\n      <td>H</td>\n      <td>-0.756</td>\n      <td>0.0</td>\n      <td>0.0</td>\n      <td>-1.1404</td>\n      <td>0.3501</td>\n      <td>-0.9626</td>\n      <td>0</td>\n      <td>0</td>\n      <td>1</td>\n      <td>c_h</td>\n      <td>2</td>\n      <td>1.094044</td>\n    </tr>\n    <tr>\n      <th>3</th>\n      <td>6324</td>\n      <td>1</td>\n      <td>5</td>\n      <td>C</td>\n      <td>H</td>\n      <td>-0.756</td>\n      <td>0.0</td>\n      <td>0.0</td>\n      <td>-1.1405</td>\n      <td>-1.0087</td>\n      <td>0.1781</td>\n      <td>0</td>\n      <td>0</td>\n      <td>1</td>\n      <td>c_h</td>\n      <td>2</td>\n      <td>1.094091</td>\n    </tr>\n    <tr>\n      <th>4</th>\n      <td>6324</td>\n      <td>1</td>\n      <td>6</td>\n      <td>C</td>\n      <td>H</td>\n      <td>-0.756</td>\n      <td>0.0</td>\n      <td>0.0</td>\n      <td>1.1404</td>\n      <td>-0.3501</td>\n      <td>0.9626</td>\n      <td>0</td>\n      <td>0</td>\n      <td>0</td>\n      <td>c_h</td>\n      <td>2</td>\n      <td>2.155343</td>\n    </tr>\n  </tbody>\n</table>\n</div>", 
                        "text/plain": "    cid  aid1  aid2 atom1 atom2    x_1  y_1  z_1     x_2     y_2     z_2  \\\n0  6324     1     2     C     C -0.756  0.0  0.0  0.7560  0.0000  0.0000   \n1  6324     1     3     C     H -0.756  0.0  0.0 -1.1404  0.6586  0.7845   \n2  6324     1     4     C     H -0.756  0.0  0.0 -1.1404  0.3501 -0.9626   \n3  6324     1     5     C     H -0.756  0.0  0.0 -1.1405 -1.0087  0.1781   \n4  6324     1     6     C     H -0.756  0.0  0.0  1.1404 -0.3501  0.9626   \n\n   atom1_charge  atom2_charge  bond pairs  pairs_enc  distance  \n0             0             0     1   c_c          0  1.512000  \n1             0             0     1   c_h          2  1.094056  \n2             0             0     1   c_h          2  1.094044  \n3             0             0     1   c_h          2  1.094091  \n4             0             0     0   c_h          2  2.155343  "
                    }, 
                    "output_type": "execute_result"
                }
            ], 
            "source": "data.head()"
        }, 
        {
            "source": "# Label Encode Pairs", 
            "cell_type": "markdown", 
            "metadata": {}
        }, 
        {
            "execution_count": 41, 
            "cell_type": "code", 
            "metadata": {}, 
            "outputs": [], 
            "source": "from sklearn.preprocessing import LabelEncoder"
        }, 
        {
            "execution_count": 42, 
            "cell_type": "code", 
            "metadata": {}, 
            "outputs": [], 
            "source": "le=LabelEncoder()"
        }, 
        {
            "execution_count": 43, 
            "cell_type": "code", 
            "metadata": {}, 
            "outputs": [], 
            "source": "data['pairs_enc']=le.fit_transform(data['pairs'])"
        }, 
        {
            "execution_count": 44, 
            "cell_type": "code", 
            "metadata": {}, 
            "outputs": [
                {
                    "execution_count": 44, 
                    "metadata": {}, 
                    "data": {
                        "text/html": "<div>\n<style scoped>\n    .dataframe tbody tr th:only-of-type {\n        vertical-align: middle;\n    }\n\n    .dataframe tbody tr th {\n        vertical-align: top;\n    }\n\n    .dataframe thead th {\n        text-align: right;\n    }\n</style>\n<table border=\"1\" class=\"dataframe\">\n  <thead>\n    <tr style=\"text-align: right;\">\n      <th></th>\n      <th>cid</th>\n      <th>aid1</th>\n      <th>aid2</th>\n      <th>atom1</th>\n      <th>atom2</th>\n      <th>x_1</th>\n      <th>y_1</th>\n      <th>z_1</th>\n      <th>x_2</th>\n      <th>y_2</th>\n      <th>z_2</th>\n      <th>atom1_charge</th>\n      <th>atom2_charge</th>\n      <th>bond</th>\n      <th>pairs</th>\n      <th>pairs_enc</th>\n      <th>distance</th>\n    </tr>\n  </thead>\n  <tbody>\n    <tr>\n      <th>0</th>\n      <td>6324</td>\n      <td>1</td>\n      <td>2</td>\n      <td>C</td>\n      <td>C</td>\n      <td>-0.756</td>\n      <td>0.0</td>\n      <td>0.0</td>\n      <td>0.7560</td>\n      <td>0.0000</td>\n      <td>0.0000</td>\n      <td>0</td>\n      <td>0</td>\n      <td>1</td>\n      <td>c_c</td>\n      <td>0</td>\n      <td>1.512000</td>\n    </tr>\n    <tr>\n      <th>1</th>\n      <td>6324</td>\n      <td>1</td>\n      <td>3</td>\n      <td>C</td>\n      <td>H</td>\n      <td>-0.756</td>\n      <td>0.0</td>\n      <td>0.0</td>\n      <td>-1.1404</td>\n      <td>0.6586</td>\n      <td>0.7845</td>\n      <td>0</td>\n      <td>0</td>\n      <td>1</td>\n      <td>c_h</td>\n      <td>2</td>\n      <td>1.094056</td>\n    </tr>\n    <tr>\n      <th>2</th>\n      <td>6324</td>\n      <td>1</td>\n      <td>4</td>\n      <td>C</td>\n      <td>H</td>\n      <td>-0.756</td>\n      <td>0.0</td>\n      <td>0.0</td>\n      <td>-1.1404</td>\n      <td>0.3501</td>\n      <td>-0.9626</td>\n      <td>0</td>\n      <td>0</td>\n      <td>1</td>\n      <td>c_h</td>\n      <td>2</td>\n      <td>1.094044</td>\n    </tr>\n    <tr>\n      <th>3</th>\n      <td>6324</td>\n      <td>1</td>\n      <td>5</td>\n      <td>C</td>\n      <td>H</td>\n      <td>-0.756</td>\n      <td>0.0</td>\n      <td>0.0</td>\n      <td>-1.1405</td>\n      <td>-1.0087</td>\n      <td>0.1781</td>\n      <td>0</td>\n      <td>0</td>\n      <td>1</td>\n      <td>c_h</td>\n      <td>2</td>\n      <td>1.094091</td>\n    </tr>\n    <tr>\n      <th>4</th>\n      <td>6324</td>\n      <td>1</td>\n      <td>6</td>\n      <td>C</td>\n      <td>H</td>\n      <td>-0.756</td>\n      <td>0.0</td>\n      <td>0.0</td>\n      <td>1.1404</td>\n      <td>-0.3501</td>\n      <td>0.9626</td>\n      <td>0</td>\n      <td>0</td>\n      <td>0</td>\n      <td>c_h</td>\n      <td>2</td>\n      <td>2.155343</td>\n    </tr>\n  </tbody>\n</table>\n</div>", 
                        "text/plain": "    cid  aid1  aid2 atom1 atom2    x_1  y_1  z_1     x_2     y_2     z_2  \\\n0  6324     1     2     C     C -0.756  0.0  0.0  0.7560  0.0000  0.0000   \n1  6324     1     3     C     H -0.756  0.0  0.0 -1.1404  0.6586  0.7845   \n2  6324     1     4     C     H -0.756  0.0  0.0 -1.1404  0.3501 -0.9626   \n3  6324     1     5     C     H -0.756  0.0  0.0 -1.1405 -1.0087  0.1781   \n4  6324     1     6     C     H -0.756  0.0  0.0  1.1404 -0.3501  0.9626   \n\n   atom1_charge  atom2_charge  bond pairs  pairs_enc  distance  \n0             0             0     1   c_c          0  1.512000  \n1             0             0     1   c_h          2  1.094056  \n2             0             0     1   c_h          2  1.094044  \n3             0             0     1   c_h          2  1.094091  \n4             0             0     0   c_h          2  2.155343  "
                    }, 
                    "output_type": "execute_result"
                }
            ], 
            "source": "data.head()"
        }, 
        {
            "source": "# Distance", 
            "cell_type": "markdown", 
            "metadata": {}
        }, 
        {
            "execution_count": 45, 
            "cell_type": "code", 
            "metadata": {}, 
            "outputs": [], 
            "source": "def dist(row):\n    return np.sqrt(np.square(row['x_1']-row['x_2'])+np.square(row['y_1']-row['y_2'])+np.square(row['z_1']+row['z_2']))"
        }, 
        {
            "execution_count": 46, 
            "cell_type": "code", 
            "metadata": {}, 
            "outputs": [], 
            "source": "data['distance']=data.apply(dist,axis=1)"
        }, 
        {
            "execution_count": 47, 
            "cell_type": "code", 
            "metadata": {}, 
            "outputs": [
                {
                    "execution_count": 47, 
                    "metadata": {}, 
                    "data": {
                        "text/html": "<div>\n<style scoped>\n    .dataframe tbody tr th:only-of-type {\n        vertical-align: middle;\n    }\n\n    .dataframe tbody tr th {\n        vertical-align: top;\n    }\n\n    .dataframe thead th {\n        text-align: right;\n    }\n</style>\n<table border=\"1\" class=\"dataframe\">\n  <thead>\n    <tr style=\"text-align: right;\">\n      <th></th>\n      <th>cid</th>\n      <th>aid1</th>\n      <th>aid2</th>\n      <th>atom1</th>\n      <th>atom2</th>\n      <th>x_1</th>\n      <th>y_1</th>\n      <th>z_1</th>\n      <th>x_2</th>\n      <th>y_2</th>\n      <th>z_2</th>\n      <th>atom1_charge</th>\n      <th>atom2_charge</th>\n      <th>bond</th>\n      <th>pairs</th>\n      <th>pairs_enc</th>\n      <th>distance</th>\n    </tr>\n  </thead>\n  <tbody>\n    <tr>\n      <th>0</th>\n      <td>6324</td>\n      <td>1</td>\n      <td>2</td>\n      <td>C</td>\n      <td>C</td>\n      <td>-0.756</td>\n      <td>0.0</td>\n      <td>0.0</td>\n      <td>0.7560</td>\n      <td>0.0000</td>\n      <td>0.0000</td>\n      <td>0</td>\n      <td>0</td>\n      <td>1</td>\n      <td>c_c</td>\n      <td>0</td>\n      <td>1.512000</td>\n    </tr>\n    <tr>\n      <th>1</th>\n      <td>6324</td>\n      <td>1</td>\n      <td>3</td>\n      <td>C</td>\n      <td>H</td>\n      <td>-0.756</td>\n      <td>0.0</td>\n      <td>0.0</td>\n      <td>-1.1404</td>\n      <td>0.6586</td>\n      <td>0.7845</td>\n      <td>0</td>\n      <td>0</td>\n      <td>1</td>\n      <td>c_h</td>\n      <td>2</td>\n      <td>1.094056</td>\n    </tr>\n    <tr>\n      <th>2</th>\n      <td>6324</td>\n      <td>1</td>\n      <td>4</td>\n      <td>C</td>\n      <td>H</td>\n      <td>-0.756</td>\n      <td>0.0</td>\n      <td>0.0</td>\n      <td>-1.1404</td>\n      <td>0.3501</td>\n      <td>-0.9626</td>\n      <td>0</td>\n      <td>0</td>\n      <td>1</td>\n      <td>c_h</td>\n      <td>2</td>\n      <td>1.094044</td>\n    </tr>\n    <tr>\n      <th>3</th>\n      <td>6324</td>\n      <td>1</td>\n      <td>5</td>\n      <td>C</td>\n      <td>H</td>\n      <td>-0.756</td>\n      <td>0.0</td>\n      <td>0.0</td>\n      <td>-1.1405</td>\n      <td>-1.0087</td>\n      <td>0.1781</td>\n      <td>0</td>\n      <td>0</td>\n      <td>1</td>\n      <td>c_h</td>\n      <td>2</td>\n      <td>1.094091</td>\n    </tr>\n    <tr>\n      <th>4</th>\n      <td>6324</td>\n      <td>1</td>\n      <td>6</td>\n      <td>C</td>\n      <td>H</td>\n      <td>-0.756</td>\n      <td>0.0</td>\n      <td>0.0</td>\n      <td>1.1404</td>\n      <td>-0.3501</td>\n      <td>0.9626</td>\n      <td>0</td>\n      <td>0</td>\n      <td>0</td>\n      <td>c_h</td>\n      <td>2</td>\n      <td>2.155343</td>\n    </tr>\n  </tbody>\n</table>\n</div>", 
                        "text/plain": "    cid  aid1  aid2 atom1 atom2    x_1  y_1  z_1     x_2     y_2     z_2  \\\n0  6324     1     2     C     C -0.756  0.0  0.0  0.7560  0.0000  0.0000   \n1  6324     1     3     C     H -0.756  0.0  0.0 -1.1404  0.6586  0.7845   \n2  6324     1     4     C     H -0.756  0.0  0.0 -1.1404  0.3501 -0.9626   \n3  6324     1     5     C     H -0.756  0.0  0.0 -1.1405 -1.0087  0.1781   \n4  6324     1     6     C     H -0.756  0.0  0.0  1.1404 -0.3501  0.9626   \n\n   atom1_charge  atom2_charge  bond pairs  pairs_enc  distance  \n0             0             0     1   c_c          0  1.512000  \n1             0             0     1   c_h          2  1.094056  \n2             0             0     1   c_h          2  1.094044  \n3             0             0     1   c_h          2  1.094091  \n4             0             0     0   c_h          2  2.155343  "
                    }, 
                    "output_type": "execute_result"
                }
            ], 
            "source": "data.head()"
        }, 
        {
            "source": "# Handle Imbalanced Data", 
            "cell_type": "markdown", 
            "metadata": {}
        }, 
        {
            "execution_count": 51, 
            "cell_type": "code", 
            "metadata": {}, 
            "outputs": [
                {
                    "execution_count": 51, 
                    "metadata": {}, 
                    "data": {
                        "text/plain": "(9058, 17)"
                    }, 
                    "output_type": "execute_result"
                }
            ], 
            "source": "data.shape"
        }, 
        {
            "execution_count": 55, 
            "cell_type": "code", 
            "metadata": {
                "scrolled": true
            }, 
            "outputs": [
                {
                    "execution_count": 55, 
                    "metadata": {}, 
                    "data": {
                        "text/html": "<div>\n<style scoped>\n    .dataframe tbody tr th:only-of-type {\n        vertical-align: middle;\n    }\n\n    .dataframe tbody tr th {\n        vertical-align: top;\n    }\n\n    .dataframe thead th {\n        text-align: right;\n    }\n</style>\n<table border=\"1\" class=\"dataframe\">\n  <thead>\n    <tr style=\"text-align: right;\">\n      <th></th>\n      <th></th>\n      <th></th>\n      <th>cid</th>\n      <th>aid1</th>\n      <th>aid2</th>\n      <th>atom1</th>\n      <th>atom2</th>\n      <th>x_1</th>\n      <th>y_1</th>\n      <th>z_1</th>\n      <th>x_2</th>\n      <th>y_2</th>\n      <th>z_2</th>\n      <th>atom1_charge</th>\n      <th>atom2_charge</th>\n      <th>distance</th>\n    </tr>\n    <tr>\n      <th>pairs</th>\n      <th>pairs_enc</th>\n      <th>bond</th>\n      <th></th>\n      <th></th>\n      <th></th>\n      <th></th>\n      <th></th>\n      <th></th>\n      <th></th>\n      <th></th>\n      <th></th>\n      <th></th>\n      <th></th>\n      <th></th>\n      <th></th>\n      <th></th>\n    </tr>\n  </thead>\n  <tbody>\n    <tr>\n      <th rowspan=\"2\" valign=\"top\">c_c</th>\n      <th rowspan=\"2\" valign=\"top\">0</th>\n      <th>0</th>\n      <td>1027</td>\n      <td>1027</td>\n      <td>1027</td>\n      <td>1027</td>\n      <td>1027</td>\n      <td>1027</td>\n      <td>1027</td>\n      <td>1027</td>\n      <td>1027</td>\n      <td>1027</td>\n      <td>1027</td>\n      <td>1027</td>\n      <td>1027</td>\n      <td>1027</td>\n    </tr>\n    <tr>\n      <th>1</th>\n      <td>141</td>\n      <td>141</td>\n      <td>141</td>\n      <td>141</td>\n      <td>141</td>\n      <td>141</td>\n      <td>141</td>\n      <td>141</td>\n      <td>141</td>\n      <td>141</td>\n      <td>141</td>\n      <td>141</td>\n      <td>141</td>\n      <td>141</td>\n    </tr>\n    <tr>\n      <th rowspan=\"2\" valign=\"top\">c_f</th>\n      <th rowspan=\"2\" valign=\"top\">1</th>\n      <th>0</th>\n      <td>79</td>\n      <td>79</td>\n      <td>79</td>\n      <td>79</td>\n      <td>79</td>\n      <td>79</td>\n      <td>79</td>\n      <td>79</td>\n      <td>79</td>\n      <td>79</td>\n      <td>79</td>\n      <td>79</td>\n      <td>79</td>\n      <td>79</td>\n    </tr>\n    <tr>\n      <th>1</th>\n      <td>15</td>\n      <td>15</td>\n      <td>15</td>\n      <td>15</td>\n      <td>15</td>\n      <td>15</td>\n      <td>15</td>\n      <td>15</td>\n      <td>15</td>\n      <td>15</td>\n      <td>15</td>\n      <td>15</td>\n      <td>15</td>\n      <td>15</td>\n    </tr>\n    <tr>\n      <th rowspan=\"2\" valign=\"top\">c_h</th>\n      <th rowspan=\"2\" valign=\"top\">2</th>\n      <th>0</th>\n      <td>3174</td>\n      <td>3174</td>\n      <td>3174</td>\n      <td>3174</td>\n      <td>3174</td>\n      <td>3174</td>\n      <td>3174</td>\n      <td>3174</td>\n      <td>3174</td>\n      <td>3174</td>\n      <td>3174</td>\n      <td>3174</td>\n      <td>3174</td>\n      <td>3174</td>\n    </tr>\n    <tr>\n      <th>1</th>\n      <td>274</td>\n      <td>274</td>\n      <td>274</td>\n      <td>274</td>\n      <td>274</td>\n      <td>274</td>\n      <td>274</td>\n      <td>274</td>\n      <td>274</td>\n      <td>274</td>\n      <td>274</td>\n      <td>274</td>\n      <td>274</td>\n      <td>274</td>\n    </tr>\n    <tr>\n      <th rowspan=\"2\" valign=\"top\">c_n</th>\n      <th rowspan=\"2\" valign=\"top\">3</th>\n      <th>0</th>\n      <td>261</td>\n      <td>261</td>\n      <td>261</td>\n      <td>261</td>\n      <td>261</td>\n      <td>261</td>\n      <td>261</td>\n      <td>261</td>\n      <td>261</td>\n      <td>261</td>\n      <td>261</td>\n      <td>261</td>\n      <td>261</td>\n      <td>261</td>\n    </tr>\n    <tr>\n      <th>1</th>\n      <td>21</td>\n      <td>21</td>\n      <td>21</td>\n      <td>21</td>\n      <td>21</td>\n      <td>21</td>\n      <td>21</td>\n      <td>21</td>\n      <td>21</td>\n      <td>21</td>\n      <td>21</td>\n      <td>21</td>\n      <td>21</td>\n      <td>21</td>\n    </tr>\n    <tr>\n      <th rowspan=\"2\" valign=\"top\">c_o</th>\n      <th rowspan=\"2\" valign=\"top\">4</th>\n      <th>0</th>\n      <td>355</td>\n      <td>355</td>\n      <td>355</td>\n      <td>355</td>\n      <td>355</td>\n      <td>355</td>\n      <td>355</td>\n      <td>355</td>\n      <td>355</td>\n      <td>355</td>\n      <td>355</td>\n      <td>355</td>\n      <td>355</td>\n      <td>355</td>\n    </tr>\n    <tr>\n      <th>1</th>\n      <td>27</td>\n      <td>27</td>\n      <td>27</td>\n      <td>27</td>\n      <td>27</td>\n      <td>27</td>\n      <td>27</td>\n      <td>27</td>\n      <td>27</td>\n      <td>27</td>\n      <td>27</td>\n      <td>27</td>\n      <td>27</td>\n      <td>27</td>\n    </tr>\n    <tr>\n      <th rowspan=\"2\" valign=\"top\">c_si</th>\n      <th rowspan=\"2\" valign=\"top\">5</th>\n      <th>0</th>\n      <td>4</td>\n      <td>4</td>\n      <td>4</td>\n      <td>4</td>\n      <td>4</td>\n      <td>4</td>\n      <td>4</td>\n      <td>4</td>\n      <td>4</td>\n      <td>4</td>\n      <td>4</td>\n      <td>4</td>\n      <td>4</td>\n      <td>4</td>\n    </tr>\n    <tr>\n      <th>1</th>\n      <td>4</td>\n      <td>4</td>\n      <td>4</td>\n      <td>4</td>\n      <td>4</td>\n      <td>4</td>\n      <td>4</td>\n      <td>4</td>\n      <td>4</td>\n      <td>4</td>\n      <td>4</td>\n      <td>4</td>\n      <td>4</td>\n      <td>4</td>\n    </tr>\n    <tr>\n      <th>f_f</th>\n      <th>6</th>\n      <th>0</th>\n      <td>64</td>\n      <td>64</td>\n      <td>64</td>\n      <td>64</td>\n      <td>64</td>\n      <td>64</td>\n      <td>64</td>\n      <td>64</td>\n      <td>64</td>\n      <td>64</td>\n      <td>64</td>\n      <td>64</td>\n      <td>64</td>\n      <td>64</td>\n    </tr>\n    <tr>\n      <th rowspan=\"2\" valign=\"top\">f_h</th>\n      <th rowspan=\"2\" valign=\"top\">7</th>\n      <th>0</th>\n      <td>109</td>\n      <td>109</td>\n      <td>109</td>\n      <td>109</td>\n      <td>109</td>\n      <td>109</td>\n      <td>109</td>\n      <td>109</td>\n      <td>109</td>\n      <td>109</td>\n      <td>109</td>\n      <td>109</td>\n      <td>109</td>\n      <td>109</td>\n    </tr>\n    <tr>\n      <th>1</th>\n      <td>1</td>\n      <td>1</td>\n      <td>1</td>\n      <td>1</td>\n      <td>1</td>\n      <td>1</td>\n      <td>1</td>\n      <td>1</td>\n      <td>1</td>\n      <td>1</td>\n      <td>1</td>\n      <td>1</td>\n      <td>1</td>\n      <td>1</td>\n    </tr>\n    <tr>\n      <th rowspan=\"2\" valign=\"top\">f_o</th>\n      <th rowspan=\"2\" valign=\"top\">8</th>\n      <th>0</th>\n      <td>25</td>\n      <td>25</td>\n      <td>25</td>\n      <td>25</td>\n      <td>25</td>\n      <td>25</td>\n      <td>25</td>\n      <td>25</td>\n      <td>25</td>\n      <td>25</td>\n      <td>25</td>\n      <td>25</td>\n      <td>25</td>\n      <td>25</td>\n    </tr>\n    <tr>\n      <th>1</th>\n      <td>5</td>\n      <td>5</td>\n      <td>5</td>\n      <td>5</td>\n      <td>5</td>\n      <td>5</td>\n      <td>5</td>\n      <td>5</td>\n      <td>5</td>\n      <td>5</td>\n      <td>5</td>\n      <td>5</td>\n      <td>5</td>\n      <td>5</td>\n    </tr>\n    <tr>\n      <th>f_si</th>\n      <th>9</th>\n      <th>0</th>\n      <td>6</td>\n      <td>6</td>\n      <td>6</td>\n      <td>6</td>\n      <td>6</td>\n      <td>6</td>\n      <td>6</td>\n      <td>6</td>\n      <td>6</td>\n      <td>6</td>\n      <td>6</td>\n      <td>6</td>\n      <td>6</td>\n      <td>6</td>\n    </tr>\n    <tr>\n      <th>h_h</th>\n      <th>10</th>\n      <th>0</th>\n      <td>2502</td>\n      <td>2502</td>\n      <td>2502</td>\n      <td>2502</td>\n      <td>2502</td>\n      <td>2502</td>\n      <td>2502</td>\n      <td>2502</td>\n      <td>2502</td>\n      <td>2502</td>\n      <td>2502</td>\n      <td>2502</td>\n      <td>2502</td>\n      <td>2502</td>\n    </tr>\n    <tr>\n      <th rowspan=\"2\" valign=\"top\">h_n</th>\n      <th rowspan=\"2\" valign=\"top\">11</th>\n      <th>0</th>\n      <td>307</td>\n      <td>307</td>\n      <td>307</td>\n      <td>307</td>\n      <td>307</td>\n      <td>307</td>\n      <td>307</td>\n      <td>307</td>\n      <td>307</td>\n      <td>307</td>\n      <td>307</td>\n      <td>307</td>\n      <td>307</td>\n      <td>307</td>\n    </tr>\n    <tr>\n      <th>1</th>\n      <td>11</td>\n      <td>11</td>\n      <td>11</td>\n      <td>11</td>\n      <td>11</td>\n      <td>11</td>\n      <td>11</td>\n      <td>11</td>\n      <td>11</td>\n      <td>11</td>\n      <td>11</td>\n      <td>11</td>\n      <td>11</td>\n      <td>11</td>\n    </tr>\n    <tr>\n      <th rowspan=\"2\" valign=\"top\">h_o</th>\n      <th rowspan=\"2\" valign=\"top\">12</th>\n      <th>0</th>\n      <td>502</td>\n      <td>502</td>\n      <td>502</td>\n      <td>502</td>\n      <td>502</td>\n      <td>502</td>\n      <td>502</td>\n      <td>502</td>\n      <td>502</td>\n      <td>502</td>\n      <td>502</td>\n      <td>502</td>\n      <td>502</td>\n      <td>502</td>\n    </tr>\n    <tr>\n      <th>1</th>\n      <td>12</td>\n      <td>12</td>\n      <td>12</td>\n      <td>12</td>\n      <td>12</td>\n      <td>12</td>\n      <td>12</td>\n      <td>12</td>\n      <td>12</td>\n      <td>12</td>\n      <td>12</td>\n      <td>12</td>\n      <td>12</td>\n      <td>12</td>\n    </tr>\n    <tr>\n      <th>h_si</th>\n      <th>13</th>\n      <th>0</th>\n      <td>18</td>\n      <td>18</td>\n      <td>18</td>\n      <td>18</td>\n      <td>18</td>\n      <td>18</td>\n      <td>18</td>\n      <td>18</td>\n      <td>18</td>\n      <td>18</td>\n      <td>18</td>\n      <td>18</td>\n      <td>18</td>\n      <td>18</td>\n    </tr>\n    <tr>\n      <th rowspan=\"2\" valign=\"top\">n_n</th>\n      <th rowspan=\"2\" valign=\"top\">14</th>\n      <th>0</th>\n      <td>18</td>\n      <td>18</td>\n      <td>18</td>\n      <td>18</td>\n      <td>18</td>\n      <td>18</td>\n      <td>18</td>\n      <td>18</td>\n      <td>18</td>\n      <td>18</td>\n      <td>18</td>\n      <td>18</td>\n      <td>18</td>\n      <td>18</td>\n    </tr>\n    <tr>\n      <th>1</th>\n      <td>6</td>\n      <td>6</td>\n      <td>6</td>\n      <td>6</td>\n      <td>6</td>\n      <td>6</td>\n      <td>6</td>\n      <td>6</td>\n      <td>6</td>\n      <td>6</td>\n      <td>6</td>\n      <td>6</td>\n      <td>6</td>\n      <td>6</td>\n    </tr>\n    <tr>\n      <th rowspan=\"2\" valign=\"top\">n_o</th>\n      <th rowspan=\"2\" valign=\"top\">15</th>\n      <th>0</th>\n      <td>44</td>\n      <td>44</td>\n      <td>44</td>\n      <td>44</td>\n      <td>44</td>\n      <td>44</td>\n      <td>44</td>\n      <td>44</td>\n      <td>44</td>\n      <td>44</td>\n      <td>44</td>\n      <td>44</td>\n      <td>44</td>\n      <td>44</td>\n    </tr>\n    <tr>\n      <th>1</th>\n      <td>8</td>\n      <td>8</td>\n      <td>8</td>\n      <td>8</td>\n      <td>8</td>\n      <td>8</td>\n      <td>8</td>\n      <td>8</td>\n      <td>8</td>\n      <td>8</td>\n      <td>8</td>\n      <td>8</td>\n      <td>8</td>\n      <td>8</td>\n    </tr>\n    <tr>\n      <th rowspan=\"2\" valign=\"top\">o_o</th>\n      <th rowspan=\"2\" valign=\"top\">16</th>\n      <th>0</th>\n      <td>32</td>\n      <td>32</td>\n      <td>32</td>\n      <td>32</td>\n      <td>32</td>\n      <td>32</td>\n      <td>32</td>\n      <td>32</td>\n      <td>32</td>\n      <td>32</td>\n      <td>32</td>\n      <td>32</td>\n      <td>32</td>\n      <td>32</td>\n    </tr>\n    <tr>\n      <th>1</th>\n      <td>6</td>\n      <td>6</td>\n      <td>6</td>\n      <td>6</td>\n      <td>6</td>\n      <td>6</td>\n      <td>6</td>\n      <td>6</td>\n      <td>6</td>\n      <td>6</td>\n      <td>6</td>\n      <td>6</td>\n      <td>6</td>\n      <td>6</td>\n    </tr>\n  </tbody>\n</table>\n</div>", 
                        "text/plain": "                       cid  aid1  aid2  atom1  atom2   x_1   y_1   z_1   x_2  \\\npairs pairs_enc bond                                                           \nc_c   0         0     1027  1027  1027   1027   1027  1027  1027  1027  1027   \n                1      141   141   141    141    141   141   141   141   141   \nc_f   1         0       79    79    79     79     79    79    79    79    79   \n                1       15    15    15     15     15    15    15    15    15   \nc_h   2         0     3174  3174  3174   3174   3174  3174  3174  3174  3174   \n                1      274   274   274    274    274   274   274   274   274   \nc_n   3         0      261   261   261    261    261   261   261   261   261   \n                1       21    21    21     21     21    21    21    21    21   \nc_o   4         0      355   355   355    355    355   355   355   355   355   \n                1       27    27    27     27     27    27    27    27    27   \nc_si  5         0        4     4     4      4      4     4     4     4     4   \n                1        4     4     4      4      4     4     4     4     4   \nf_f   6         0       64    64    64     64     64    64    64    64    64   \nf_h   7         0      109   109   109    109    109   109   109   109   109   \n                1        1     1     1      1      1     1     1     1     1   \nf_o   8         0       25    25    25     25     25    25    25    25    25   \n                1        5     5     5      5      5     5     5     5     5   \nf_si  9         0        6     6     6      6      6     6     6     6     6   \nh_h   10        0     2502  2502  2502   2502   2502  2502  2502  2502  2502   \nh_n   11        0      307   307   307    307    307   307   307   307   307   \n                1       11    11    11     11     11    11    11    11    11   \nh_o   12        0      502   502   502    502    502   502   502   502   502   \n                1       12    12    12     12     12    12    12    12    12   \nh_si  13        0       18    18    18     18     18    18    18    18    18   \nn_n   14        0       18    18    18     18     18    18    18    18    18   \n                1        6     6     6      6      6     6     6     6     6   \nn_o   15        0       44    44    44     44     44    44    44    44    44   \n                1        8     8     8      8      8     8     8     8     8   \no_o   16        0       32    32    32     32     32    32    32    32    32   \n                1        6     6     6      6      6     6     6     6     6   \n\n                       y_2   z_2  atom1_charge  atom2_charge  distance  \npairs pairs_enc bond                                                    \nc_c   0         0     1027  1027          1027          1027      1027  \n                1      141   141           141           141       141  \nc_f   1         0       79    79            79            79        79  \n                1       15    15            15            15        15  \nc_h   2         0     3174  3174          3174          3174      3174  \n                1      274   274           274           274       274  \nc_n   3         0      261   261           261           261       261  \n                1       21    21            21            21        21  \nc_o   4         0      355   355           355           355       355  \n                1       27    27            27            27        27  \nc_si  5         0        4     4             4             4         4  \n                1        4     4             4             4         4  \nf_f   6         0       64    64            64            64        64  \nf_h   7         0      109   109           109           109       109  \n                1        1     1             1             1         1  \nf_o   8         0       25    25            25            25        25  \n                1        5     5             5             5         5  \nf_si  9         0        6     6             6             6         6  \nh_h   10        0     2502  2502          2502          2502      2502  \nh_n   11        0      307   307           307           307       307  \n                1       11    11            11            11        11  \nh_o   12        0      502   502           502           502       502  \n                1       12    12            12            12        12  \nh_si  13        0       18    18            18            18        18  \nn_n   14        0       18    18            18            18        18  \n                1        6     6             6             6         6  \nn_o   15        0       44    44            44            44        44  \n                1        8     8             8             8         8  \no_o   16        0       32    32            32            32        32  \n                1        6     6             6             6         6  "
                    }, 
                    "output_type": "execute_result"
                }
            ], 
            "source": "gb=data.groupby(['pairs','pairs_enc','bond']).count()\ngb"
        }, 
        {
            "execution_count": 52, 
            "cell_type": "code", 
            "metadata": {}, 
            "outputs": [], 
            "source": "classes=data['bond'].unique()\nvalid_pairs={}\none_class_pairs=[]\nfor i in data['pairs_enc'].unique():\n  if len(data[data['pairs_enc']==i]['bond'].unique())>1:\n    len_c0=len(data[(data['pairs_enc']==i) & (data['bond']==classes[0])])\n    len_c1=len(data[(data['pairs_enc']==i) & (data['bond']==classes[1])])\n    if len_c0>len_c1:\n      c=classes[0]\n      frac=1-float(len_c1/len_c0)\n    else:\n      c=classes[1]\n      frac=1-float(len_c0/len_c1)\n    valid_pairs[i]=[c,frac]\n  else:\n    one_class_pairs.append(i)\n    "
        }, 
        {
            "execution_count": 53, 
            "cell_type": "code", 
            "metadata": {}, 
            "outputs": [
                {
                    "execution_count": 53, 
                    "metadata": {}, 
                    "data": {
                        "text/plain": "{0: [0, 0.8627069133398247],\n 2: [0, 0.9136735979836169],\n 3: [0, 0.9195402298850575],\n 11: [0, 0.9641693811074918],\n 4: [0, 0.923943661971831],\n 12: [0, 0.9760956175298805],\n 16: [0, 0.8125],\n 15: [0, 0.8181818181818181],\n 14: [0, 0.6666666666666667],\n 1: [0, 0.810126582278481],\n 7: [0, 0.9908256880733946],\n 8: [0, 0.8],\n 5: [0, 0.0]}"
                    }, 
                    "output_type": "execute_result"
                }
            ], 
            "source": "valid_pairs"
        }, 
        {
            "execution_count": 54, 
            "cell_type": "code", 
            "metadata": {}, 
            "outputs": [
                {
                    "execution_count": 54, 
                    "metadata": {}, 
                    "data": {
                        "text/plain": "[10, 6, 9, 13]"
                    }, 
                    "output_type": "execute_result"
                }
            ], 
            "source": "one_class_pairs"
        }, 
        {
            "execution_count": 56, 
            "cell_type": "code", 
            "metadata": {}, 
            "outputs": [
                {
                    "output_type": "stream", 
                    "name": "stdout", 
                    "text": "886\n2900\n240\n296\n328\n490\n26\n36\n12\n64\n108\n20\n0\n"
                }
            ], 
            "source": "for k,v in valid_pairs.items():\n    indices=data[(data['pairs_enc']==k) & (data['bond']==v[0])].sample(frac=v[1]).index\n    print(len(indices))\n    data.drop(indices,inplace=True)"
        }, 
        {
            "execution_count": 57, 
            "cell_type": "code", 
            "metadata": {}, 
            "outputs": [
                {
                    "execution_count": 57, 
                    "metadata": {}, 
                    "data": {
                        "text/html": "<div>\n<style scoped>\n    .dataframe tbody tr th:only-of-type {\n        vertical-align: middle;\n    }\n\n    .dataframe tbody tr th {\n        vertical-align: top;\n    }\n\n    .dataframe thead th {\n        text-align: right;\n    }\n</style>\n<table border=\"1\" class=\"dataframe\">\n  <thead>\n    <tr style=\"text-align: right;\">\n      <th></th>\n      <th></th>\n      <th></th>\n      <th>cid</th>\n      <th>aid1</th>\n      <th>aid2</th>\n      <th>atom1</th>\n      <th>atom2</th>\n      <th>x_1</th>\n      <th>y_1</th>\n      <th>z_1</th>\n      <th>x_2</th>\n      <th>y_2</th>\n      <th>z_2</th>\n      <th>atom1_charge</th>\n      <th>atom2_charge</th>\n      <th>distance</th>\n    </tr>\n    <tr>\n      <th>pairs</th>\n      <th>pairs_enc</th>\n      <th>bond</th>\n      <th></th>\n      <th></th>\n      <th></th>\n      <th></th>\n      <th></th>\n      <th></th>\n      <th></th>\n      <th></th>\n      <th></th>\n      <th></th>\n      <th></th>\n      <th></th>\n      <th></th>\n      <th></th>\n    </tr>\n  </thead>\n  <tbody>\n    <tr>\n      <th rowspan=\"2\" valign=\"top\">c_c</th>\n      <th rowspan=\"2\" valign=\"top\">0</th>\n      <th>0</th>\n      <td>141</td>\n      <td>141</td>\n      <td>141</td>\n      <td>141</td>\n      <td>141</td>\n      <td>141</td>\n      <td>141</td>\n      <td>141</td>\n      <td>141</td>\n      <td>141</td>\n      <td>141</td>\n      <td>141</td>\n      <td>141</td>\n      <td>141</td>\n    </tr>\n    <tr>\n      <th>1</th>\n      <td>141</td>\n      <td>141</td>\n      <td>141</td>\n      <td>141</td>\n      <td>141</td>\n      <td>141</td>\n      <td>141</td>\n      <td>141</td>\n      <td>141</td>\n      <td>141</td>\n      <td>141</td>\n      <td>141</td>\n      <td>141</td>\n      <td>141</td>\n    </tr>\n    <tr>\n      <th rowspan=\"2\" valign=\"top\">c_f</th>\n      <th rowspan=\"2\" valign=\"top\">1</th>\n      <th>0</th>\n      <td>15</td>\n      <td>15</td>\n      <td>15</td>\n      <td>15</td>\n      <td>15</td>\n      <td>15</td>\n      <td>15</td>\n      <td>15</td>\n      <td>15</td>\n      <td>15</td>\n      <td>15</td>\n      <td>15</td>\n      <td>15</td>\n      <td>15</td>\n    </tr>\n    <tr>\n      <th>1</th>\n      <td>15</td>\n      <td>15</td>\n      <td>15</td>\n      <td>15</td>\n      <td>15</td>\n      <td>15</td>\n      <td>15</td>\n      <td>15</td>\n      <td>15</td>\n      <td>15</td>\n      <td>15</td>\n      <td>15</td>\n      <td>15</td>\n      <td>15</td>\n    </tr>\n    <tr>\n      <th rowspan=\"2\" valign=\"top\">c_h</th>\n      <th rowspan=\"2\" valign=\"top\">2</th>\n      <th>0</th>\n      <td>274</td>\n      <td>274</td>\n      <td>274</td>\n      <td>274</td>\n      <td>274</td>\n      <td>274</td>\n      <td>274</td>\n      <td>274</td>\n      <td>274</td>\n      <td>274</td>\n      <td>274</td>\n      <td>274</td>\n      <td>274</td>\n      <td>274</td>\n    </tr>\n    <tr>\n      <th>1</th>\n      <td>274</td>\n      <td>274</td>\n      <td>274</td>\n      <td>274</td>\n      <td>274</td>\n      <td>274</td>\n      <td>274</td>\n      <td>274</td>\n      <td>274</td>\n      <td>274</td>\n      <td>274</td>\n      <td>274</td>\n      <td>274</td>\n      <td>274</td>\n    </tr>\n    <tr>\n      <th rowspan=\"2\" valign=\"top\">c_n</th>\n      <th rowspan=\"2\" valign=\"top\">3</th>\n      <th>0</th>\n      <td>21</td>\n      <td>21</td>\n      <td>21</td>\n      <td>21</td>\n      <td>21</td>\n      <td>21</td>\n      <td>21</td>\n      <td>21</td>\n      <td>21</td>\n      <td>21</td>\n      <td>21</td>\n      <td>21</td>\n      <td>21</td>\n      <td>21</td>\n    </tr>\n    <tr>\n      <th>1</th>\n      <td>21</td>\n      <td>21</td>\n      <td>21</td>\n      <td>21</td>\n      <td>21</td>\n      <td>21</td>\n      <td>21</td>\n      <td>21</td>\n      <td>21</td>\n      <td>21</td>\n      <td>21</td>\n      <td>21</td>\n      <td>21</td>\n      <td>21</td>\n    </tr>\n    <tr>\n      <th rowspan=\"2\" valign=\"top\">c_o</th>\n      <th rowspan=\"2\" valign=\"top\">4</th>\n      <th>0</th>\n      <td>27</td>\n      <td>27</td>\n      <td>27</td>\n      <td>27</td>\n      <td>27</td>\n      <td>27</td>\n      <td>27</td>\n      <td>27</td>\n      <td>27</td>\n      <td>27</td>\n      <td>27</td>\n      <td>27</td>\n      <td>27</td>\n      <td>27</td>\n    </tr>\n    <tr>\n      <th>1</th>\n      <td>27</td>\n      <td>27</td>\n      <td>27</td>\n      <td>27</td>\n      <td>27</td>\n      <td>27</td>\n      <td>27</td>\n      <td>27</td>\n      <td>27</td>\n      <td>27</td>\n      <td>27</td>\n      <td>27</td>\n      <td>27</td>\n      <td>27</td>\n    </tr>\n    <tr>\n      <th rowspan=\"2\" valign=\"top\">c_si</th>\n      <th rowspan=\"2\" valign=\"top\">5</th>\n      <th>0</th>\n      <td>4</td>\n      <td>4</td>\n      <td>4</td>\n      <td>4</td>\n      <td>4</td>\n      <td>4</td>\n      <td>4</td>\n      <td>4</td>\n      <td>4</td>\n      <td>4</td>\n      <td>4</td>\n      <td>4</td>\n      <td>4</td>\n      <td>4</td>\n    </tr>\n    <tr>\n      <th>1</th>\n      <td>4</td>\n      <td>4</td>\n      <td>4</td>\n      <td>4</td>\n      <td>4</td>\n      <td>4</td>\n      <td>4</td>\n      <td>4</td>\n      <td>4</td>\n      <td>4</td>\n      <td>4</td>\n      <td>4</td>\n      <td>4</td>\n      <td>4</td>\n    </tr>\n    <tr>\n      <th>f_f</th>\n      <th>6</th>\n      <th>0</th>\n      <td>64</td>\n      <td>64</td>\n      <td>64</td>\n      <td>64</td>\n      <td>64</td>\n      <td>64</td>\n      <td>64</td>\n      <td>64</td>\n      <td>64</td>\n      <td>64</td>\n      <td>64</td>\n      <td>64</td>\n      <td>64</td>\n      <td>64</td>\n    </tr>\n    <tr>\n      <th rowspan=\"2\" valign=\"top\">f_h</th>\n      <th rowspan=\"2\" valign=\"top\">7</th>\n      <th>0</th>\n      <td>1</td>\n      <td>1</td>\n      <td>1</td>\n      <td>1</td>\n      <td>1</td>\n      <td>1</td>\n      <td>1</td>\n      <td>1</td>\n      <td>1</td>\n      <td>1</td>\n      <td>1</td>\n      <td>1</td>\n      <td>1</td>\n      <td>1</td>\n    </tr>\n    <tr>\n      <th>1</th>\n      <td>1</td>\n      <td>1</td>\n      <td>1</td>\n      <td>1</td>\n      <td>1</td>\n      <td>1</td>\n      <td>1</td>\n      <td>1</td>\n      <td>1</td>\n      <td>1</td>\n      <td>1</td>\n      <td>1</td>\n      <td>1</td>\n      <td>1</td>\n    </tr>\n    <tr>\n      <th rowspan=\"2\" valign=\"top\">f_o</th>\n      <th rowspan=\"2\" valign=\"top\">8</th>\n      <th>0</th>\n      <td>5</td>\n      <td>5</td>\n      <td>5</td>\n      <td>5</td>\n      <td>5</td>\n      <td>5</td>\n      <td>5</td>\n      <td>5</td>\n      <td>5</td>\n      <td>5</td>\n      <td>5</td>\n      <td>5</td>\n      <td>5</td>\n      <td>5</td>\n    </tr>\n    <tr>\n      <th>1</th>\n      <td>5</td>\n      <td>5</td>\n      <td>5</td>\n      <td>5</td>\n      <td>5</td>\n      <td>5</td>\n      <td>5</td>\n      <td>5</td>\n      <td>5</td>\n      <td>5</td>\n      <td>5</td>\n      <td>5</td>\n      <td>5</td>\n      <td>5</td>\n    </tr>\n    <tr>\n      <th>f_si</th>\n      <th>9</th>\n      <th>0</th>\n      <td>6</td>\n      <td>6</td>\n      <td>6</td>\n      <td>6</td>\n      <td>6</td>\n      <td>6</td>\n      <td>6</td>\n      <td>6</td>\n      <td>6</td>\n      <td>6</td>\n      <td>6</td>\n      <td>6</td>\n      <td>6</td>\n      <td>6</td>\n    </tr>\n    <tr>\n      <th>h_h</th>\n      <th>10</th>\n      <th>0</th>\n      <td>2502</td>\n      <td>2502</td>\n      <td>2502</td>\n      <td>2502</td>\n      <td>2502</td>\n      <td>2502</td>\n      <td>2502</td>\n      <td>2502</td>\n      <td>2502</td>\n      <td>2502</td>\n      <td>2502</td>\n      <td>2502</td>\n      <td>2502</td>\n      <td>2502</td>\n    </tr>\n    <tr>\n      <th rowspan=\"2\" valign=\"top\">h_n</th>\n      <th rowspan=\"2\" valign=\"top\">11</th>\n      <th>0</th>\n      <td>11</td>\n      <td>11</td>\n      <td>11</td>\n      <td>11</td>\n      <td>11</td>\n      <td>11</td>\n      <td>11</td>\n      <td>11</td>\n      <td>11</td>\n      <td>11</td>\n      <td>11</td>\n      <td>11</td>\n      <td>11</td>\n      <td>11</td>\n    </tr>\n    <tr>\n      <th>1</th>\n      <td>11</td>\n      <td>11</td>\n      <td>11</td>\n      <td>11</td>\n      <td>11</td>\n      <td>11</td>\n      <td>11</td>\n      <td>11</td>\n      <td>11</td>\n      <td>11</td>\n      <td>11</td>\n      <td>11</td>\n      <td>11</td>\n      <td>11</td>\n    </tr>\n    <tr>\n      <th rowspan=\"2\" valign=\"top\">h_o</th>\n      <th rowspan=\"2\" valign=\"top\">12</th>\n      <th>0</th>\n      <td>12</td>\n      <td>12</td>\n      <td>12</td>\n      <td>12</td>\n      <td>12</td>\n      <td>12</td>\n      <td>12</td>\n      <td>12</td>\n      <td>12</td>\n      <td>12</td>\n      <td>12</td>\n      <td>12</td>\n      <td>12</td>\n      <td>12</td>\n    </tr>\n    <tr>\n      <th>1</th>\n      <td>12</td>\n      <td>12</td>\n      <td>12</td>\n      <td>12</td>\n      <td>12</td>\n      <td>12</td>\n      <td>12</td>\n      <td>12</td>\n      <td>12</td>\n      <td>12</td>\n      <td>12</td>\n      <td>12</td>\n      <td>12</td>\n      <td>12</td>\n    </tr>\n    <tr>\n      <th>h_si</th>\n      <th>13</th>\n      <th>0</th>\n      <td>18</td>\n      <td>18</td>\n      <td>18</td>\n      <td>18</td>\n      <td>18</td>\n      <td>18</td>\n      <td>18</td>\n      <td>18</td>\n      <td>18</td>\n      <td>18</td>\n      <td>18</td>\n      <td>18</td>\n      <td>18</td>\n      <td>18</td>\n    </tr>\n    <tr>\n      <th rowspan=\"2\" valign=\"top\">n_n</th>\n      <th rowspan=\"2\" valign=\"top\">14</th>\n      <th>0</th>\n      <td>6</td>\n      <td>6</td>\n      <td>6</td>\n      <td>6</td>\n      <td>6</td>\n      <td>6</td>\n      <td>6</td>\n      <td>6</td>\n      <td>6</td>\n      <td>6</td>\n      <td>6</td>\n      <td>6</td>\n      <td>6</td>\n      <td>6</td>\n    </tr>\n    <tr>\n      <th>1</th>\n      <td>6</td>\n      <td>6</td>\n      <td>6</td>\n      <td>6</td>\n      <td>6</td>\n      <td>6</td>\n      <td>6</td>\n      <td>6</td>\n      <td>6</td>\n      <td>6</td>\n      <td>6</td>\n      <td>6</td>\n      <td>6</td>\n      <td>6</td>\n    </tr>\n    <tr>\n      <th rowspan=\"2\" valign=\"top\">n_o</th>\n      <th rowspan=\"2\" valign=\"top\">15</th>\n      <th>0</th>\n      <td>8</td>\n      <td>8</td>\n      <td>8</td>\n      <td>8</td>\n      <td>8</td>\n      <td>8</td>\n      <td>8</td>\n      <td>8</td>\n      <td>8</td>\n      <td>8</td>\n      <td>8</td>\n      <td>8</td>\n      <td>8</td>\n      <td>8</td>\n    </tr>\n    <tr>\n      <th>1</th>\n      <td>8</td>\n      <td>8</td>\n      <td>8</td>\n      <td>8</td>\n      <td>8</td>\n      <td>8</td>\n      <td>8</td>\n      <td>8</td>\n      <td>8</td>\n      <td>8</td>\n      <td>8</td>\n      <td>8</td>\n      <td>8</td>\n      <td>8</td>\n    </tr>\n    <tr>\n      <th rowspan=\"2\" valign=\"top\">o_o</th>\n      <th rowspan=\"2\" valign=\"top\">16</th>\n      <th>0</th>\n      <td>6</td>\n      <td>6</td>\n      <td>6</td>\n      <td>6</td>\n      <td>6</td>\n      <td>6</td>\n      <td>6</td>\n      <td>6</td>\n      <td>6</td>\n      <td>6</td>\n      <td>6</td>\n      <td>6</td>\n      <td>6</td>\n      <td>6</td>\n    </tr>\n    <tr>\n      <th>1</th>\n      <td>6</td>\n      <td>6</td>\n      <td>6</td>\n      <td>6</td>\n      <td>6</td>\n      <td>6</td>\n      <td>6</td>\n      <td>6</td>\n      <td>6</td>\n      <td>6</td>\n      <td>6</td>\n      <td>6</td>\n      <td>6</td>\n      <td>6</td>\n    </tr>\n  </tbody>\n</table>\n</div>", 
                        "text/plain": "                       cid  aid1  aid2  atom1  atom2   x_1   y_1   z_1   x_2  \\\npairs pairs_enc bond                                                           \nc_c   0         0      141   141   141    141    141   141   141   141   141   \n                1      141   141   141    141    141   141   141   141   141   \nc_f   1         0       15    15    15     15     15    15    15    15    15   \n                1       15    15    15     15     15    15    15    15    15   \nc_h   2         0      274   274   274    274    274   274   274   274   274   \n                1      274   274   274    274    274   274   274   274   274   \nc_n   3         0       21    21    21     21     21    21    21    21    21   \n                1       21    21    21     21     21    21    21    21    21   \nc_o   4         0       27    27    27     27     27    27    27    27    27   \n                1       27    27    27     27     27    27    27    27    27   \nc_si  5         0        4     4     4      4      4     4     4     4     4   \n                1        4     4     4      4      4     4     4     4     4   \nf_f   6         0       64    64    64     64     64    64    64    64    64   \nf_h   7         0        1     1     1      1      1     1     1     1     1   \n                1        1     1     1      1      1     1     1     1     1   \nf_o   8         0        5     5     5      5      5     5     5     5     5   \n                1        5     5     5      5      5     5     5     5     5   \nf_si  9         0        6     6     6      6      6     6     6     6     6   \nh_h   10        0     2502  2502  2502   2502   2502  2502  2502  2502  2502   \nh_n   11        0       11    11    11     11     11    11    11    11    11   \n                1       11    11    11     11     11    11    11    11    11   \nh_o   12        0       12    12    12     12     12    12    12    12    12   \n                1       12    12    12     12     12    12    12    12    12   \nh_si  13        0       18    18    18     18     18    18    18    18    18   \nn_n   14        0        6     6     6      6      6     6     6     6     6   \n                1        6     6     6      6      6     6     6     6     6   \nn_o   15        0        8     8     8      8      8     8     8     8     8   \n                1        8     8     8      8      8     8     8     8     8   \no_o   16        0        6     6     6      6      6     6     6     6     6   \n                1        6     6     6      6      6     6     6     6     6   \n\n                       y_2   z_2  atom1_charge  atom2_charge  distance  \npairs pairs_enc bond                                                    \nc_c   0         0      141   141           141           141       141  \n                1      141   141           141           141       141  \nc_f   1         0       15    15            15            15        15  \n                1       15    15            15            15        15  \nc_h   2         0      274   274           274           274       274  \n                1      274   274           274           274       274  \nc_n   3         0       21    21            21            21        21  \n                1       21    21            21            21        21  \nc_o   4         0       27    27            27            27        27  \n                1       27    27            27            27        27  \nc_si  5         0        4     4             4             4         4  \n                1        4     4             4             4         4  \nf_f   6         0       64    64            64            64        64  \nf_h   7         0        1     1             1             1         1  \n                1        1     1             1             1         1  \nf_o   8         0        5     5             5             5         5  \n                1        5     5             5             5         5  \nf_si  9         0        6     6             6             6         6  \nh_h   10        0     2502  2502          2502          2502      2502  \nh_n   11        0       11    11            11            11        11  \n                1       11    11            11            11        11  \nh_o   12        0       12    12            12            12        12  \n                1       12    12            12            12        12  \nh_si  13        0       18    18            18            18        18  \nn_n   14        0        6     6             6             6         6  \n                1        6     6             6             6         6  \nn_o   15        0        8     8             8             8         8  \n                1        8     8             8             8         8  \no_o   16        0        6     6             6             6         6  \n                1        6     6             6             6         6  "
                    }, 
                    "output_type": "execute_result"
                }
            ], 
            "source": "gb=data.groupby(['pairs','pairs_enc','bond']).count()\ngb"
        }, 
        {
            "execution_count": 58, 
            "cell_type": "code", 
            "metadata": {}, 
            "outputs": [
                {
                    "execution_count": 58, 
                    "metadata": {}, 
                    "data": {
                        "text/plain": "(3652, 17)"
                    }, 
                    "output_type": "execute_result"
                }
            ], 
            "source": "data.shape"
        }, 
        {
            "source": "## Remove examples having only one class\nMay not contain any information", 
            "cell_type": "markdown", 
            "metadata": {}
        }, 
        {
            "execution_count": 59, 
            "cell_type": "code", 
            "metadata": {}, 
            "outputs": [
                {
                    "execution_count": 59, 
                    "metadata": {}, 
                    "data": {
                        "text/plain": "[10, 6, 9, 13]"
                    }, 
                    "output_type": "execute_result"
                }
            ], 
            "source": "one_class_pairs"
        }, 
        {
            "execution_count": 60, 
            "cell_type": "code", 
            "metadata": {}, 
            "outputs": [], 
            "source": "for i in one_class_pairs:\n  indices=data[data['pairs_enc']==i].index\n  data.drop(indices,inplace=True)"
        }, 
        {
            "execution_count": 61, 
            "cell_type": "code", 
            "metadata": {}, 
            "outputs": [
                {
                    "execution_count": 61, 
                    "metadata": {}, 
                    "data": {
                        "text/html": "<div>\n<style scoped>\n    .dataframe tbody tr th:only-of-type {\n        vertical-align: middle;\n    }\n\n    .dataframe tbody tr th {\n        vertical-align: top;\n    }\n\n    .dataframe thead th {\n        text-align: right;\n    }\n</style>\n<table border=\"1\" class=\"dataframe\">\n  <thead>\n    <tr style=\"text-align: right;\">\n      <th></th>\n      <th>cid</th>\n      <th>aid1</th>\n      <th>aid2</th>\n      <th>atom1</th>\n      <th>atom2</th>\n      <th>x_1</th>\n      <th>y_1</th>\n      <th>z_1</th>\n      <th>x_2</th>\n      <th>y_2</th>\n      <th>z_2</th>\n      <th>atom1_charge</th>\n      <th>atom2_charge</th>\n      <th>bond</th>\n      <th>pairs</th>\n      <th>pairs_enc</th>\n      <th>distance</th>\n    </tr>\n  </thead>\n  <tbody>\n    <tr>\n      <th>0</th>\n      <td>6324</td>\n      <td>1</td>\n      <td>2</td>\n      <td>C</td>\n      <td>C</td>\n      <td>-0.756</td>\n      <td>0.0</td>\n      <td>0.0</td>\n      <td>0.7560</td>\n      <td>0.0000</td>\n      <td>0.0000</td>\n      <td>0</td>\n      <td>0</td>\n      <td>1</td>\n      <td>c_c</td>\n      <td>0</td>\n      <td>1.512000</td>\n    </tr>\n    <tr>\n      <th>1</th>\n      <td>6324</td>\n      <td>1</td>\n      <td>3</td>\n      <td>C</td>\n      <td>H</td>\n      <td>-0.756</td>\n      <td>0.0</td>\n      <td>0.0</td>\n      <td>-1.1404</td>\n      <td>0.6586</td>\n      <td>0.7845</td>\n      <td>0</td>\n      <td>0</td>\n      <td>1</td>\n      <td>c_h</td>\n      <td>2</td>\n      <td>1.094056</td>\n    </tr>\n    <tr>\n      <th>2</th>\n      <td>6324</td>\n      <td>1</td>\n      <td>4</td>\n      <td>C</td>\n      <td>H</td>\n      <td>-0.756</td>\n      <td>0.0</td>\n      <td>0.0</td>\n      <td>-1.1404</td>\n      <td>0.3501</td>\n      <td>-0.9626</td>\n      <td>0</td>\n      <td>0</td>\n      <td>1</td>\n      <td>c_h</td>\n      <td>2</td>\n      <td>1.094044</td>\n    </tr>\n    <tr>\n      <th>3</th>\n      <td>6324</td>\n      <td>1</td>\n      <td>5</td>\n      <td>C</td>\n      <td>H</td>\n      <td>-0.756</td>\n      <td>0.0</td>\n      <td>0.0</td>\n      <td>-1.1405</td>\n      <td>-1.0087</td>\n      <td>0.1781</td>\n      <td>0</td>\n      <td>0</td>\n      <td>1</td>\n      <td>c_h</td>\n      <td>2</td>\n      <td>1.094091</td>\n    </tr>\n    <tr>\n      <th>7</th>\n      <td>6324</td>\n      <td>2</td>\n      <td>1</td>\n      <td>C</td>\n      <td>C</td>\n      <td>0.756</td>\n      <td>0.0</td>\n      <td>0.0</td>\n      <td>-0.7560</td>\n      <td>0.0000</td>\n      <td>0.0000</td>\n      <td>0</td>\n      <td>0</td>\n      <td>0</td>\n      <td>c_c</td>\n      <td>0</td>\n      <td>1.512000</td>\n    </tr>\n  </tbody>\n</table>\n</div>", 
                        "text/plain": "    cid  aid1  aid2 atom1 atom2    x_1  y_1  z_1     x_2     y_2     z_2  \\\n0  6324     1     2     C     C -0.756  0.0  0.0  0.7560  0.0000  0.0000   \n1  6324     1     3     C     H -0.756  0.0  0.0 -1.1404  0.6586  0.7845   \n2  6324     1     4     C     H -0.756  0.0  0.0 -1.1404  0.3501 -0.9626   \n3  6324     1     5     C     H -0.756  0.0  0.0 -1.1405 -1.0087  0.1781   \n7  6324     2     1     C     C  0.756  0.0  0.0 -0.7560  0.0000  0.0000   \n\n   atom1_charge  atom2_charge  bond pairs  pairs_enc  distance  \n0             0             0     1   c_c          0  1.512000  \n1             0             0     1   c_h          2  1.094056  \n2             0             0     1   c_h          2  1.094044  \n3             0             0     1   c_h          2  1.094091  \n7             0             0     0   c_c          0  1.512000  "
                    }, 
                    "output_type": "execute_result"
                }
            ], 
            "source": "data.head()"
        }, 
        {
            "execution_count": 62, 
            "cell_type": "code", 
            "metadata": {}, 
            "outputs": [
                {
                    "execution_count": 62, 
                    "metadata": {}, 
                    "data": {
                        "text/html": "<div>\n<style scoped>\n    .dataframe tbody tr th:only-of-type {\n        vertical-align: middle;\n    }\n\n    .dataframe tbody tr th {\n        vertical-align: top;\n    }\n\n    .dataframe thead th {\n        text-align: right;\n    }\n</style>\n<table border=\"1\" class=\"dataframe\">\n  <thead>\n    <tr style=\"text-align: right;\">\n      <th></th>\n      <th></th>\n      <th></th>\n      <th>cid</th>\n      <th>aid1</th>\n      <th>aid2</th>\n      <th>atom1</th>\n      <th>atom2</th>\n      <th>x_1</th>\n      <th>y_1</th>\n      <th>z_1</th>\n      <th>x_2</th>\n      <th>y_2</th>\n      <th>z_2</th>\n      <th>atom1_charge</th>\n      <th>atom2_charge</th>\n      <th>distance</th>\n    </tr>\n    <tr>\n      <th>pairs</th>\n      <th>pairs_enc</th>\n      <th>bond</th>\n      <th></th>\n      <th></th>\n      <th></th>\n      <th></th>\n      <th></th>\n      <th></th>\n      <th></th>\n      <th></th>\n      <th></th>\n      <th></th>\n      <th></th>\n      <th></th>\n      <th></th>\n      <th></th>\n    </tr>\n  </thead>\n  <tbody>\n    <tr>\n      <th rowspan=\"2\" valign=\"top\">c_c</th>\n      <th rowspan=\"2\" valign=\"top\">0</th>\n      <th>0</th>\n      <td>141</td>\n      <td>141</td>\n      <td>141</td>\n      <td>141</td>\n      <td>141</td>\n      <td>141</td>\n      <td>141</td>\n      <td>141</td>\n      <td>141</td>\n      <td>141</td>\n      <td>141</td>\n      <td>141</td>\n      <td>141</td>\n      <td>141</td>\n    </tr>\n    <tr>\n      <th>1</th>\n      <td>141</td>\n      <td>141</td>\n      <td>141</td>\n      <td>141</td>\n      <td>141</td>\n      <td>141</td>\n      <td>141</td>\n      <td>141</td>\n      <td>141</td>\n      <td>141</td>\n      <td>141</td>\n      <td>141</td>\n      <td>141</td>\n      <td>141</td>\n    </tr>\n    <tr>\n      <th rowspan=\"2\" valign=\"top\">c_f</th>\n      <th rowspan=\"2\" valign=\"top\">1</th>\n      <th>0</th>\n      <td>15</td>\n      <td>15</td>\n      <td>15</td>\n      <td>15</td>\n      <td>15</td>\n      <td>15</td>\n      <td>15</td>\n      <td>15</td>\n      <td>15</td>\n      <td>15</td>\n      <td>15</td>\n      <td>15</td>\n      <td>15</td>\n      <td>15</td>\n    </tr>\n    <tr>\n      <th>1</th>\n      <td>15</td>\n      <td>15</td>\n      <td>15</td>\n      <td>15</td>\n      <td>15</td>\n      <td>15</td>\n      <td>15</td>\n      <td>15</td>\n      <td>15</td>\n      <td>15</td>\n      <td>15</td>\n      <td>15</td>\n      <td>15</td>\n      <td>15</td>\n    </tr>\n    <tr>\n      <th rowspan=\"2\" valign=\"top\">c_h</th>\n      <th rowspan=\"2\" valign=\"top\">2</th>\n      <th>0</th>\n      <td>274</td>\n      <td>274</td>\n      <td>274</td>\n      <td>274</td>\n      <td>274</td>\n      <td>274</td>\n      <td>274</td>\n      <td>274</td>\n      <td>274</td>\n      <td>274</td>\n      <td>274</td>\n      <td>274</td>\n      <td>274</td>\n      <td>274</td>\n    </tr>\n    <tr>\n      <th>1</th>\n      <td>274</td>\n      <td>274</td>\n      <td>274</td>\n      <td>274</td>\n      <td>274</td>\n      <td>274</td>\n      <td>274</td>\n      <td>274</td>\n      <td>274</td>\n      <td>274</td>\n      <td>274</td>\n      <td>274</td>\n      <td>274</td>\n      <td>274</td>\n    </tr>\n    <tr>\n      <th rowspan=\"2\" valign=\"top\">c_n</th>\n      <th rowspan=\"2\" valign=\"top\">3</th>\n      <th>0</th>\n      <td>21</td>\n      <td>21</td>\n      <td>21</td>\n      <td>21</td>\n      <td>21</td>\n      <td>21</td>\n      <td>21</td>\n      <td>21</td>\n      <td>21</td>\n      <td>21</td>\n      <td>21</td>\n      <td>21</td>\n      <td>21</td>\n      <td>21</td>\n    </tr>\n    <tr>\n      <th>1</th>\n      <td>21</td>\n      <td>21</td>\n      <td>21</td>\n      <td>21</td>\n      <td>21</td>\n      <td>21</td>\n      <td>21</td>\n      <td>21</td>\n      <td>21</td>\n      <td>21</td>\n      <td>21</td>\n      <td>21</td>\n      <td>21</td>\n      <td>21</td>\n    </tr>\n    <tr>\n      <th rowspan=\"2\" valign=\"top\">c_o</th>\n      <th rowspan=\"2\" valign=\"top\">4</th>\n      <th>0</th>\n      <td>27</td>\n      <td>27</td>\n      <td>27</td>\n      <td>27</td>\n      <td>27</td>\n      <td>27</td>\n      <td>27</td>\n      <td>27</td>\n      <td>27</td>\n      <td>27</td>\n      <td>27</td>\n      <td>27</td>\n      <td>27</td>\n      <td>27</td>\n    </tr>\n    <tr>\n      <th>1</th>\n      <td>27</td>\n      <td>27</td>\n      <td>27</td>\n      <td>27</td>\n      <td>27</td>\n      <td>27</td>\n      <td>27</td>\n      <td>27</td>\n      <td>27</td>\n      <td>27</td>\n      <td>27</td>\n      <td>27</td>\n      <td>27</td>\n      <td>27</td>\n    </tr>\n    <tr>\n      <th rowspan=\"2\" valign=\"top\">c_si</th>\n      <th rowspan=\"2\" valign=\"top\">5</th>\n      <th>0</th>\n      <td>4</td>\n      <td>4</td>\n      <td>4</td>\n      <td>4</td>\n      <td>4</td>\n      <td>4</td>\n      <td>4</td>\n      <td>4</td>\n      <td>4</td>\n      <td>4</td>\n      <td>4</td>\n      <td>4</td>\n      <td>4</td>\n      <td>4</td>\n    </tr>\n    <tr>\n      <th>1</th>\n      <td>4</td>\n      <td>4</td>\n      <td>4</td>\n      <td>4</td>\n      <td>4</td>\n      <td>4</td>\n      <td>4</td>\n      <td>4</td>\n      <td>4</td>\n      <td>4</td>\n      <td>4</td>\n      <td>4</td>\n      <td>4</td>\n      <td>4</td>\n    </tr>\n    <tr>\n      <th rowspan=\"2\" valign=\"top\">f_h</th>\n      <th rowspan=\"2\" valign=\"top\">7</th>\n      <th>0</th>\n      <td>1</td>\n      <td>1</td>\n      <td>1</td>\n      <td>1</td>\n      <td>1</td>\n      <td>1</td>\n      <td>1</td>\n      <td>1</td>\n      <td>1</td>\n      <td>1</td>\n      <td>1</td>\n      <td>1</td>\n      <td>1</td>\n      <td>1</td>\n    </tr>\n    <tr>\n      <th>1</th>\n      <td>1</td>\n      <td>1</td>\n      <td>1</td>\n      <td>1</td>\n      <td>1</td>\n      <td>1</td>\n      <td>1</td>\n      <td>1</td>\n      <td>1</td>\n      <td>1</td>\n      <td>1</td>\n      <td>1</td>\n      <td>1</td>\n      <td>1</td>\n    </tr>\n    <tr>\n      <th rowspan=\"2\" valign=\"top\">f_o</th>\n      <th rowspan=\"2\" valign=\"top\">8</th>\n      <th>0</th>\n      <td>5</td>\n      <td>5</td>\n      <td>5</td>\n      <td>5</td>\n      <td>5</td>\n      <td>5</td>\n      <td>5</td>\n      <td>5</td>\n      <td>5</td>\n      <td>5</td>\n      <td>5</td>\n      <td>5</td>\n      <td>5</td>\n      <td>5</td>\n    </tr>\n    <tr>\n      <th>1</th>\n      <td>5</td>\n      <td>5</td>\n      <td>5</td>\n      <td>5</td>\n      <td>5</td>\n      <td>5</td>\n      <td>5</td>\n      <td>5</td>\n      <td>5</td>\n      <td>5</td>\n      <td>5</td>\n      <td>5</td>\n      <td>5</td>\n      <td>5</td>\n    </tr>\n    <tr>\n      <th rowspan=\"2\" valign=\"top\">h_n</th>\n      <th rowspan=\"2\" valign=\"top\">11</th>\n      <th>0</th>\n      <td>11</td>\n      <td>11</td>\n      <td>11</td>\n      <td>11</td>\n      <td>11</td>\n      <td>11</td>\n      <td>11</td>\n      <td>11</td>\n      <td>11</td>\n      <td>11</td>\n      <td>11</td>\n      <td>11</td>\n      <td>11</td>\n      <td>11</td>\n    </tr>\n    <tr>\n      <th>1</th>\n      <td>11</td>\n      <td>11</td>\n      <td>11</td>\n      <td>11</td>\n      <td>11</td>\n      <td>11</td>\n      <td>11</td>\n      <td>11</td>\n      <td>11</td>\n      <td>11</td>\n      <td>11</td>\n      <td>11</td>\n      <td>11</td>\n      <td>11</td>\n    </tr>\n    <tr>\n      <th rowspan=\"2\" valign=\"top\">h_o</th>\n      <th rowspan=\"2\" valign=\"top\">12</th>\n      <th>0</th>\n      <td>12</td>\n      <td>12</td>\n      <td>12</td>\n      <td>12</td>\n      <td>12</td>\n      <td>12</td>\n      <td>12</td>\n      <td>12</td>\n      <td>12</td>\n      <td>12</td>\n      <td>12</td>\n      <td>12</td>\n      <td>12</td>\n      <td>12</td>\n    </tr>\n    <tr>\n      <th>1</th>\n      <td>12</td>\n      <td>12</td>\n      <td>12</td>\n      <td>12</td>\n      <td>12</td>\n      <td>12</td>\n      <td>12</td>\n      <td>12</td>\n      <td>12</td>\n      <td>12</td>\n      <td>12</td>\n      <td>12</td>\n      <td>12</td>\n      <td>12</td>\n    </tr>\n    <tr>\n      <th rowspan=\"2\" valign=\"top\">n_n</th>\n      <th rowspan=\"2\" valign=\"top\">14</th>\n      <th>0</th>\n      <td>6</td>\n      <td>6</td>\n      <td>6</td>\n      <td>6</td>\n      <td>6</td>\n      <td>6</td>\n      <td>6</td>\n      <td>6</td>\n      <td>6</td>\n      <td>6</td>\n      <td>6</td>\n      <td>6</td>\n      <td>6</td>\n      <td>6</td>\n    </tr>\n    <tr>\n      <th>1</th>\n      <td>6</td>\n      <td>6</td>\n      <td>6</td>\n      <td>6</td>\n      <td>6</td>\n      <td>6</td>\n      <td>6</td>\n      <td>6</td>\n      <td>6</td>\n      <td>6</td>\n      <td>6</td>\n      <td>6</td>\n      <td>6</td>\n      <td>6</td>\n    </tr>\n    <tr>\n      <th rowspan=\"2\" valign=\"top\">n_o</th>\n      <th rowspan=\"2\" valign=\"top\">15</th>\n      <th>0</th>\n      <td>8</td>\n      <td>8</td>\n      <td>8</td>\n      <td>8</td>\n      <td>8</td>\n      <td>8</td>\n      <td>8</td>\n      <td>8</td>\n      <td>8</td>\n      <td>8</td>\n      <td>8</td>\n      <td>8</td>\n      <td>8</td>\n      <td>8</td>\n    </tr>\n    <tr>\n      <th>1</th>\n      <td>8</td>\n      <td>8</td>\n      <td>8</td>\n      <td>8</td>\n      <td>8</td>\n      <td>8</td>\n      <td>8</td>\n      <td>8</td>\n      <td>8</td>\n      <td>8</td>\n      <td>8</td>\n      <td>8</td>\n      <td>8</td>\n      <td>8</td>\n    </tr>\n    <tr>\n      <th rowspan=\"2\" valign=\"top\">o_o</th>\n      <th rowspan=\"2\" valign=\"top\">16</th>\n      <th>0</th>\n      <td>6</td>\n      <td>6</td>\n      <td>6</td>\n      <td>6</td>\n      <td>6</td>\n      <td>6</td>\n      <td>6</td>\n      <td>6</td>\n      <td>6</td>\n      <td>6</td>\n      <td>6</td>\n      <td>6</td>\n      <td>6</td>\n      <td>6</td>\n    </tr>\n    <tr>\n      <th>1</th>\n      <td>6</td>\n      <td>6</td>\n      <td>6</td>\n      <td>6</td>\n      <td>6</td>\n      <td>6</td>\n      <td>6</td>\n      <td>6</td>\n      <td>6</td>\n      <td>6</td>\n      <td>6</td>\n      <td>6</td>\n      <td>6</td>\n      <td>6</td>\n    </tr>\n  </tbody>\n</table>\n</div>", 
                        "text/plain": "                      cid  aid1  aid2  atom1  atom2  x_1  y_1  z_1  x_2  y_2  \\\npairs pairs_enc bond                                                           \nc_c   0         0     141   141   141    141    141  141  141  141  141  141   \n                1     141   141   141    141    141  141  141  141  141  141   \nc_f   1         0      15    15    15     15     15   15   15   15   15   15   \n                1      15    15    15     15     15   15   15   15   15   15   \nc_h   2         0     274   274   274    274    274  274  274  274  274  274   \n                1     274   274   274    274    274  274  274  274  274  274   \nc_n   3         0      21    21    21     21     21   21   21   21   21   21   \n                1      21    21    21     21     21   21   21   21   21   21   \nc_o   4         0      27    27    27     27     27   27   27   27   27   27   \n                1      27    27    27     27     27   27   27   27   27   27   \nc_si  5         0       4     4     4      4      4    4    4    4    4    4   \n                1       4     4     4      4      4    4    4    4    4    4   \nf_h   7         0       1     1     1      1      1    1    1    1    1    1   \n                1       1     1     1      1      1    1    1    1    1    1   \nf_o   8         0       5     5     5      5      5    5    5    5    5    5   \n                1       5     5     5      5      5    5    5    5    5    5   \nh_n   11        0      11    11    11     11     11   11   11   11   11   11   \n                1      11    11    11     11     11   11   11   11   11   11   \nh_o   12        0      12    12    12     12     12   12   12   12   12   12   \n                1      12    12    12     12     12   12   12   12   12   12   \nn_n   14        0       6     6     6      6      6    6    6    6    6    6   \n                1       6     6     6      6      6    6    6    6    6    6   \nn_o   15        0       8     8     8      8      8    8    8    8    8    8   \n                1       8     8     8      8      8    8    8    8    8    8   \no_o   16        0       6     6     6      6      6    6    6    6    6    6   \n                1       6     6     6      6      6    6    6    6    6    6   \n\n                      z_2  atom1_charge  atom2_charge  distance  \npairs pairs_enc bond                                             \nc_c   0         0     141           141           141       141  \n                1     141           141           141       141  \nc_f   1         0      15            15            15        15  \n                1      15            15            15        15  \nc_h   2         0     274           274           274       274  \n                1     274           274           274       274  \nc_n   3         0      21            21            21        21  \n                1      21            21            21        21  \nc_o   4         0      27            27            27        27  \n                1      27            27            27        27  \nc_si  5         0       4             4             4         4  \n                1       4             4             4         4  \nf_h   7         0       1             1             1         1  \n                1       1             1             1         1  \nf_o   8         0       5             5             5         5  \n                1       5             5             5         5  \nh_n   11        0      11            11            11        11  \n                1      11            11            11        11  \nh_o   12        0      12            12            12        12  \n                1      12            12            12        12  \nn_n   14        0       6             6             6         6  \n                1       6             6             6         6  \nn_o   15        0       8             8             8         8  \n                1       8             8             8         8  \no_o   16        0       6             6             6         6  \n                1       6             6             6         6  "
                    }, 
                    "output_type": "execute_result"
                }
            ], 
            "source": "gb=data.groupby(['pairs','pairs_enc','bond']).count()\ngb"
        }, 
        {
            "execution_count": 63, 
            "cell_type": "code", 
            "metadata": {}, 
            "outputs": [
                {
                    "execution_count": 63, 
                    "metadata": {}, 
                    "data": {
                        "text/plain": "(1062, 17)"
                    }, 
                    "output_type": "execute_result"
                }
            ], 
            "source": "data.shape"
        }, 
        {
            "source": "## Drop columns & rearrange columns", 
            "cell_type": "markdown", 
            "metadata": {}
        }, 
        {
            "execution_count": 92, 
            "cell_type": "code", 
            "metadata": {}, 
            "outputs": [
                {
                    "execution_count": 92, 
                    "metadata": {}, 
                    "data": {
                        "text/plain": "Index(['cid', 'aid1', 'aid2', 'atom1', 'atom2', 'x_1', 'y_1', 'z_1', 'x_2',\n       'y_2', 'z_2', 'atom1_charge', 'atom2_charge', 'bond', 'pairs',\n       'pairs_enc', 'distance'],\n      dtype='object')"
                    }, 
                    "output_type": "execute_result"
                }
            ], 
            "source": "data.columns"
        }, 
        {
            "execution_count": 94, 
            "cell_type": "code", 
            "metadata": {}, 
            "outputs": [], 
            "source": "drop_cols=['cid', 'aid1', 'aid2', 'atom1', 'atom2', 'x_1', 'y_1', 'z_1', 'x_2',\n            'y_2', 'z_2', 'atom1_charge', 'atom2_charge', \n            'pairs',]"
        }, 
        {
            "execution_count": 95, 
            "cell_type": "code", 
            "metadata": {}, 
            "outputs": [], 
            "source": "data=data.drop(columns=drop_cols)"
        }, 
        {
            "execution_count": 104, 
            "cell_type": "code", 
            "metadata": {}, 
            "outputs": [
                {
                    "execution_count": 104, 
                    "metadata": {}, 
                    "data": {
                        "text/plain": "Index(['bond', 'pairs_enc', 'distance'], dtype='object')"
                    }, 
                    "output_type": "execute_result"
                }
            ], 
            "source": "data.columns"
        }, 
        {
            "execution_count": 105, 
            "cell_type": "code", 
            "metadata": {}, 
            "outputs": [], 
            "source": "data=data[['pairs_enc','distance','bond']]"
        }, 
        {
            "execution_count": 106, 
            "cell_type": "code", 
            "metadata": {}, 
            "outputs": [
                {
                    "execution_count": 106, 
                    "metadata": {}, 
                    "data": {
                        "text/html": "<div>\n<style scoped>\n    .dataframe tbody tr th:only-of-type {\n        vertical-align: middle;\n    }\n\n    .dataframe tbody tr th {\n        vertical-align: top;\n    }\n\n    .dataframe thead th {\n        text-align: right;\n    }\n</style>\n<table border=\"1\" class=\"dataframe\">\n  <thead>\n    <tr style=\"text-align: right;\">\n      <th></th>\n      <th>pairs_enc</th>\n      <th>distance</th>\n      <th>bond</th>\n    </tr>\n  </thead>\n  <tbody>\n    <tr>\n      <th>0</th>\n      <td>0</td>\n      <td>1.512000</td>\n      <td>1</td>\n    </tr>\n    <tr>\n      <th>1</th>\n      <td>2</td>\n      <td>1.094056</td>\n      <td>1</td>\n    </tr>\n    <tr>\n      <th>2</th>\n      <td>2</td>\n      <td>1.094044</td>\n      <td>1</td>\n    </tr>\n    <tr>\n      <th>3</th>\n      <td>2</td>\n      <td>1.094091</td>\n      <td>1</td>\n    </tr>\n    <tr>\n      <th>7</th>\n      <td>0</td>\n      <td>1.512000</td>\n      <td>0</td>\n    </tr>\n  </tbody>\n</table>\n</div>", 
                        "text/plain": "   pairs_enc  distance  bond\n0          0  1.512000     1\n1          2  1.094056     1\n2          2  1.094044     1\n3          2  1.094091     1\n7          0  1.512000     0"
                    }, 
                    "output_type": "execute_result"
                }
            ], 
            "source": "data.head()"
        }, 
        {
            "execution_count": 107, 
            "cell_type": "code", 
            "metadata": {}, 
            "outputs": [
                {
                    "execution_count": 107, 
                    "metadata": {}, 
                    "data": {
                        "text/plain": "(1062, 3)"
                    }, 
                    "output_type": "execute_result"
                }
            ], 
            "source": "data.shape"
        }, 
        {
            "source": "# Serialize Data & Preprocessing objects", 
            "cell_type": "markdown", 
            "metadata": {}
        }, 
        {
            "execution_count": 121, 
            "cell_type": "code", 
            "metadata": {}, 
            "outputs": [], 
            "source": "data.to_csv('data_training.csv',index=False)"
        }, 
        {
            "execution_count": 122, 
            "cell_type": "code", 
            "metadata": {}, 
            "outputs": [], 
            "source": "test_data=pd.read_csv('data_training.csv')"
        }, 
        {
            "execution_count": 123, 
            "cell_type": "code", 
            "metadata": {}, 
            "outputs": [
                {
                    "execution_count": 123, 
                    "metadata": {}, 
                    "data": {
                        "text/html": "<div>\n<style scoped>\n    .dataframe tbody tr th:only-of-type {\n        vertical-align: middle;\n    }\n\n    .dataframe tbody tr th {\n        vertical-align: top;\n    }\n\n    .dataframe thead th {\n        text-align: right;\n    }\n</style>\n<table border=\"1\" class=\"dataframe\">\n  <thead>\n    <tr style=\"text-align: right;\">\n      <th></th>\n      <th>pairs_enc</th>\n      <th>distance</th>\n      <th>bond</th>\n    </tr>\n  </thead>\n  <tbody>\n    <tr>\n      <th>0</th>\n      <td>0</td>\n      <td>1.512000</td>\n      <td>1</td>\n    </tr>\n    <tr>\n      <th>1</th>\n      <td>2</td>\n      <td>1.094056</td>\n      <td>1</td>\n    </tr>\n    <tr>\n      <th>2</th>\n      <td>2</td>\n      <td>1.094044</td>\n      <td>1</td>\n    </tr>\n    <tr>\n      <th>3</th>\n      <td>2</td>\n      <td>1.094091</td>\n      <td>1</td>\n    </tr>\n    <tr>\n      <th>4</th>\n      <td>0</td>\n      <td>1.512000</td>\n      <td>0</td>\n    </tr>\n  </tbody>\n</table>\n</div>", 
                        "text/plain": "   pairs_enc  distance  bond\n0          0  1.512000     1\n1          2  1.094056     1\n2          2  1.094044     1\n3          2  1.094091     1\n4          0  1.512000     0"
                    }, 
                    "output_type": "execute_result"
                }
            ], 
            "source": "test_data.head()"
        }, 
        {
            "execution_count": 124, 
            "cell_type": "code", 
            "metadata": {}, 
            "outputs": [
                {
                    "execution_count": 124, 
                    "metadata": {}, 
                    "data": {
                        "text/plain": "(1062, 3)"
                    }, 
                    "output_type": "execute_result"
                }
            ], 
            "source": "test_data.shape"
        }, 
        {
            "execution_count": 125, 
            "cell_type": "code", 
            "metadata": {}, 
            "outputs": [
                {
                    "execution_count": 125, 
                    "metadata": {}, 
                    "data": {
                        "text/html": "<div>\n<style scoped>\n    .dataframe tbody tr th:only-of-type {\n        vertical-align: middle;\n    }\n\n    .dataframe tbody tr th {\n        vertical-align: top;\n    }\n\n    .dataframe thead th {\n        text-align: right;\n    }\n</style>\n<table border=\"1\" class=\"dataframe\">\n  <thead>\n    <tr style=\"text-align: right;\">\n      <th></th>\n      <th></th>\n      <th>distance</th>\n    </tr>\n    <tr>\n      <th>pairs_enc</th>\n      <th>bond</th>\n      <th></th>\n    </tr>\n  </thead>\n  <tbody>\n    <tr>\n      <th rowspan=\"2\" valign=\"top\">0</th>\n      <th>0</th>\n      <td>141</td>\n    </tr>\n    <tr>\n      <th>1</th>\n      <td>141</td>\n    </tr>\n    <tr>\n      <th rowspan=\"2\" valign=\"top\">1</th>\n      <th>0</th>\n      <td>15</td>\n    </tr>\n    <tr>\n      <th>1</th>\n      <td>15</td>\n    </tr>\n    <tr>\n      <th rowspan=\"2\" valign=\"top\">2</th>\n      <th>0</th>\n      <td>274</td>\n    </tr>\n    <tr>\n      <th>1</th>\n      <td>274</td>\n    </tr>\n    <tr>\n      <th rowspan=\"2\" valign=\"top\">3</th>\n      <th>0</th>\n      <td>21</td>\n    </tr>\n    <tr>\n      <th>1</th>\n      <td>21</td>\n    </tr>\n    <tr>\n      <th rowspan=\"2\" valign=\"top\">4</th>\n      <th>0</th>\n      <td>27</td>\n    </tr>\n    <tr>\n      <th>1</th>\n      <td>27</td>\n    </tr>\n    <tr>\n      <th rowspan=\"2\" valign=\"top\">5</th>\n      <th>0</th>\n      <td>4</td>\n    </tr>\n    <tr>\n      <th>1</th>\n      <td>4</td>\n    </tr>\n    <tr>\n      <th rowspan=\"2\" valign=\"top\">7</th>\n      <th>0</th>\n      <td>1</td>\n    </tr>\n    <tr>\n      <th>1</th>\n      <td>1</td>\n    </tr>\n    <tr>\n      <th rowspan=\"2\" valign=\"top\">8</th>\n      <th>0</th>\n      <td>5</td>\n    </tr>\n    <tr>\n      <th>1</th>\n      <td>5</td>\n    </tr>\n    <tr>\n      <th rowspan=\"2\" valign=\"top\">11</th>\n      <th>0</th>\n      <td>11</td>\n    </tr>\n    <tr>\n      <th>1</th>\n      <td>11</td>\n    </tr>\n    <tr>\n      <th rowspan=\"2\" valign=\"top\">12</th>\n      <th>0</th>\n      <td>12</td>\n    </tr>\n    <tr>\n      <th>1</th>\n      <td>12</td>\n    </tr>\n    <tr>\n      <th rowspan=\"2\" valign=\"top\">14</th>\n      <th>0</th>\n      <td>6</td>\n    </tr>\n    <tr>\n      <th>1</th>\n      <td>6</td>\n    </tr>\n    <tr>\n      <th rowspan=\"2\" valign=\"top\">15</th>\n      <th>0</th>\n      <td>8</td>\n    </tr>\n    <tr>\n      <th>1</th>\n      <td>8</td>\n    </tr>\n    <tr>\n      <th rowspan=\"2\" valign=\"top\">16</th>\n      <th>0</th>\n      <td>6</td>\n    </tr>\n    <tr>\n      <th>1</th>\n      <td>6</td>\n    </tr>\n  </tbody>\n</table>\n</div>", 
                        "text/plain": "                distance\npairs_enc bond          \n0         0          141\n          1          141\n1         0           15\n          1           15\n2         0          274\n          1          274\n3         0           21\n          1           21\n4         0           27\n          1           27\n5         0            4\n          1            4\n7         0            1\n          1            1\n8         0            5\n          1            5\n11        0           11\n          1           11\n12        0           12\n          1           12\n14        0            6\n          1            6\n15        0            8\n          1            8\n16        0            6\n          1            6"
                    }, 
                    "output_type": "execute_result"
                }
            ], 
            "source": "test_data.groupby(['pairs_enc','bond']).count()"
        }, 
        {
            "execution_count": 113, 
            "cell_type": "code", 
            "metadata": {}, 
            "outputs": [
                {
                    "execution_count": 113, 
                    "metadata": {}, 
                    "data": {
                        "text/plain": "array(['c_c', 'c_f', 'c_h', 'c_n', 'c_o', 'c_si', 'f_f', 'f_h', 'f_o',\n       'f_si', 'h_h', 'h_n', 'h_o', 'h_si', 'n_n', 'n_o', 'o_o'],\n      dtype=object)"
                    }, 
                    "output_type": "execute_result"
                }
            ], 
            "source": "le.classes_"
        }, 
        {
            "execution_count": 114, 
            "cell_type": "code", 
            "metadata": {}, 
            "outputs": [], 
            "source": "pickle.dump(le,open('label_encoder.pkl','wb'))"
        }, 
        {
            "execution_count": 115, 
            "cell_type": "code", 
            "metadata": {}, 
            "outputs": [], 
            "source": "test_le=pickle.load(open('label_encoder.pkl','rb'))"
        }, 
        {
            "execution_count": 116, 
            "cell_type": "code", 
            "metadata": {}, 
            "outputs": [
                {
                    "execution_count": 116, 
                    "metadata": {}, 
                    "data": {
                        "text/plain": "array(['c_c', 'c_f', 'c_h', 'c_n', 'c_o', 'c_si', 'f_f', 'f_h', 'f_o',\n       'f_si', 'h_h', 'h_n', 'h_o', 'h_si', 'n_n', 'n_o', 'o_o'],\n      dtype=object)"
                    }, 
                    "output_type": "execute_result"
                }
            ], 
            "source": "test_le.classes_"
        }, 
        {
            "source": "# Upload to IBM Object Store", 
            "cell_type": "markdown", 
            "metadata": {}
        }, 
        {
            "execution_count": 119, 
            "cell_type": "code", 
            "metadata": {}, 
            "outputs": [
                {
                    "output_type": "stream", 
                    "name": "stdout", 
                    "text": "11269.png      13568.png   243.png     6324.png  6569.png   8058.png\r\n1146.png       137201.png  24529.png   6325.png  67180.png  887.png\r\n11473.png      140746.png  24547.png   6329.png  674.png    931.png\r\n11638.png      14917.png   24823.png   6335.png  69319.png  996.png\r\n11646.png      176.png\t   3283.png    6360.png  7845.png   data.csv\r\n12228.png      177.png\t   33558.png   6375.png  784.png    data_processed.csv\r\n123257.png     222.png\t   5206.png    6386.png  7929.png   label_encoder.pkl\r\n127602.png     240.png\t   552549.png  6393.png  8033.png\r\n135504501.png  241.png\t   6115.png    6410.png  8053.png\r\n"
                }
            ], 
            "source": "!ls"
        }, 
        {
            "execution_count": 117, 
            "cell_type": "code", 
            "metadata": {}, 
            "outputs": [], 
            "source": "# The code was removed by Watson Studio for sharing."
        }, 
        {
            "execution_count": 126, 
            "cell_type": "code", 
            "metadata": {}, 
            "outputs": [
                {
                    "output_type": "stream", 
                    "name": "stdout", 
                    "text": "File Uploaded\n"
                }
            ], 
            "source": "upload_file_cos(credentials_1,'data_training.csv','data_training.csv')"
        }, 
        {
            "execution_count": 120, 
            "cell_type": "code", 
            "metadata": {}, 
            "outputs": [
                {
                    "output_type": "stream", 
                    "name": "stdout", 
                    "text": "File Uploaded\n"
                }
            ], 
            "source": "upload_file_cos(credentials_1,'label_encoder.pkl','label_encoder.pkl')"
        }, 
        {
            "execution_count": null, 
            "cell_type": "code", 
            "metadata": {}, 
            "outputs": [], 
            "source": ""
        }
    ], 
    "metadata": {
        "kernelspec": {
            "display_name": "Python 3.6", 
            "name": "python3", 
            "language": "python"
        }, 
        "language_info": {
            "mimetype": "text/x-python", 
            "nbconvert_exporter": "python", 
            "version": "3.6.8", 
            "name": "python", 
            "file_extension": ".py", 
            "pygments_lexer": "ipython3", 
            "codemirror_mode": {
                "version": 3, 
                "name": "ipython"
            }
        }
    }, 
    "nbformat": 4
}