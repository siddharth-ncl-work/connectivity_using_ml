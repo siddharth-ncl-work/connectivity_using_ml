{
    "nbformat_minor": 1, 
    "cells": [
        {
            "execution_count": 77, 
            "cell_type": "code", 
            "metadata": {}, 
            "outputs": [], 
            "source": "# The code was removed by Watson Studio for sharing."
        }, 
        {
            "execution_count": 78, 
            "cell_type": "code", 
            "metadata": {}, 
            "outputs": [
                {
                    "output_type": "stream", 
                    "name": "stdout", 
                    "text": "10390.png      13568.png   24529.png\t6325.png   69319.png  887.png\r\n106705.png     137201.png  24547.png\t6329.png   74209.png  9237.png\r\n11269.png      140746.png  24823.png\t6335.png   74348.png  931.png\r\n1146.png       143710.png  3283.png\t6360.png   7732.png   9964.png\r\n11473.png      144018.png  33558.png\t6375.png   77628.png  996.png\r\n11638.png      14917.png   5206.png\t6386.png   783.png    BASKVILL.TTF\r\n11646.png      176.png\t   5365279.png\t6393.png   7845.png   data_training.csv\r\n12228.png      177.png\t   552549.png\t6410.png   784.png    pairs_dict.pkl\r\n12246.png      18196.png   566545.png\t6569.png   7929.png\r\n123257.png     222.png\t   5962.png\t66074.png  7952.png\r\n123502.png     240.png\t   6115.png\t66978.png  8033.png\r\n127602.png     241.png\t   6319.png\t67180.png  8053.png\r\n135504501.png  243.png\t   6324.png\t674.png    8058.png\r\n"
                }
            ], 
            "source": "!rm data_raw.csv\n!ls"
        }, 
        {
            "execution_count": 79, 
            "cell_type": "code", 
            "metadata": {}, 
            "outputs": [
                {
                    "output_type": "stream", 
                    "name": "stdout", 
                    "text": "File Downloaded\n10390.png      13568.png   24529.png\t6325.png   69319.png  887.png\n106705.png     137201.png  24547.png\t6329.png   74209.png  9237.png\n11269.png      140746.png  24823.png\t6335.png   74348.png  931.png\n1146.png       143710.png  3283.png\t6360.png   7732.png   9964.png\n11473.png      144018.png  33558.png\t6375.png   77628.png  996.png\n11638.png      14917.png   5206.png\t6386.png   783.png    BASKVILL.TTF\n11646.png      176.png\t   5365279.png\t6393.png   7845.png   data_raw.csv\n12228.png      177.png\t   552549.png\t6410.png   784.png    data_training.csv\n12246.png      18196.png   566545.png\t6569.png   7929.png   pairs_dict.pkl\n123257.png     222.png\t   5962.png\t66074.png  7952.png\n123502.png     240.png\t   6115.png\t66978.png  8033.png\n127602.png     241.png\t   6319.png\t67180.png  8053.png\n135504501.png  243.png\t   6324.png\t674.png    8058.png\n"
                }
            ], 
            "source": "download_file_cos(credentials_1, 'data_raw.csv', 'data_raw.csv')\n!ls"
        }, 
        {
            "execution_count": 80, 
            "cell_type": "code", 
            "metadata": {}, 
            "outputs": [
                {
                    "output_type": "stream", 
                    "name": "stdout", 
                    "text": "cid,aid1,aid2,atom1,atom2,x_1,y_1,z_1,x_2,y_2,z_2,atom1_charge,atom2_charge,bond\r\n6324,1,2,C,C,-0.756,0.0,0.0,0.756,0.0,0.0,0,0,1\r\n6324,1,3,C,H,-0.756,0.0,0.0,-1.1404,0.6586,0.7845,0,0,1\r\n6324,1,4,C,H,-0.756,0.0,0.0,-1.1404,0.3501,-0.9626,0,0,1\r\n6324,1,5,C,H,-0.756,0.0,0.0,-1.1405,-1.0087,0.1781,0,0,1\r\n"
                }
            ], 
            "source": "!head -5 data_raw.csv"
        }, 
        {
            "execution_count": 81, 
            "cell_type": "code", 
            "metadata": {}, 
            "outputs": [], 
            "source": "import pandas as pd\nimport numpy as np\nimport matplotlib.pyplot as plt\nimport pickle\n\n%matplotlib inline"
        }, 
        {
            "execution_count": 82, 
            "cell_type": "code", 
            "metadata": {}, 
            "outputs": [], 
            "source": "data=pd.read_csv('data_raw.csv')"
        }, 
        {
            "execution_count": 83, 
            "cell_type": "code", 
            "metadata": {}, 
            "outputs": [
                {
                    "execution_count": 83, 
                    "metadata": {}, 
                    "data": {
                        "text/html": "<div>\n<style scoped>\n    .dataframe tbody tr th:only-of-type {\n        vertical-align: middle;\n    }\n\n    .dataframe tbody tr th {\n        vertical-align: top;\n    }\n\n    .dataframe thead th {\n        text-align: right;\n    }\n</style>\n<table border=\"1\" class=\"dataframe\">\n  <thead>\n    <tr style=\"text-align: right;\">\n      <th></th>\n      <th>cid</th>\n      <th>aid1</th>\n      <th>aid2</th>\n      <th>atom1</th>\n      <th>atom2</th>\n      <th>x_1</th>\n      <th>y_1</th>\n      <th>z_1</th>\n      <th>x_2</th>\n      <th>y_2</th>\n      <th>z_2</th>\n      <th>atom1_charge</th>\n      <th>atom2_charge</th>\n      <th>bond</th>\n    </tr>\n  </thead>\n  <tbody>\n    <tr>\n      <th>0</th>\n      <td>6324</td>\n      <td>1</td>\n      <td>2</td>\n      <td>C</td>\n      <td>C</td>\n      <td>-0.756</td>\n      <td>0.0</td>\n      <td>0.0</td>\n      <td>0.7560</td>\n      <td>0.0000</td>\n      <td>0.0000</td>\n      <td>0</td>\n      <td>0</td>\n      <td>1</td>\n    </tr>\n    <tr>\n      <th>1</th>\n      <td>6324</td>\n      <td>1</td>\n      <td>3</td>\n      <td>C</td>\n      <td>H</td>\n      <td>-0.756</td>\n      <td>0.0</td>\n      <td>0.0</td>\n      <td>-1.1404</td>\n      <td>0.6586</td>\n      <td>0.7845</td>\n      <td>0</td>\n      <td>0</td>\n      <td>1</td>\n    </tr>\n    <tr>\n      <th>2</th>\n      <td>6324</td>\n      <td>1</td>\n      <td>4</td>\n      <td>C</td>\n      <td>H</td>\n      <td>-0.756</td>\n      <td>0.0</td>\n      <td>0.0</td>\n      <td>-1.1404</td>\n      <td>0.3501</td>\n      <td>-0.9626</td>\n      <td>0</td>\n      <td>0</td>\n      <td>1</td>\n    </tr>\n    <tr>\n      <th>3</th>\n      <td>6324</td>\n      <td>1</td>\n      <td>5</td>\n      <td>C</td>\n      <td>H</td>\n      <td>-0.756</td>\n      <td>0.0</td>\n      <td>0.0</td>\n      <td>-1.1405</td>\n      <td>-1.0087</td>\n      <td>0.1781</td>\n      <td>0</td>\n      <td>0</td>\n      <td>1</td>\n    </tr>\n    <tr>\n      <th>4</th>\n      <td>6324</td>\n      <td>1</td>\n      <td>6</td>\n      <td>C</td>\n      <td>H</td>\n      <td>-0.756</td>\n      <td>0.0</td>\n      <td>0.0</td>\n      <td>1.1404</td>\n      <td>-0.3501</td>\n      <td>0.9626</td>\n      <td>0</td>\n      <td>0</td>\n      <td>0</td>\n    </tr>\n  </tbody>\n</table>\n</div>", 
                        "text/plain": "    cid  aid1  aid2 atom1 atom2    x_1  y_1  z_1     x_2     y_2     z_2  \\\n0  6324     1     2     C     C -0.756  0.0  0.0  0.7560  0.0000  0.0000   \n1  6324     1     3     C     H -0.756  0.0  0.0 -1.1404  0.6586  0.7845   \n2  6324     1     4     C     H -0.756  0.0  0.0 -1.1404  0.3501 -0.9626   \n3  6324     1     5     C     H -0.756  0.0  0.0 -1.1405 -1.0087  0.1781   \n4  6324     1     6     C     H -0.756  0.0  0.0  1.1404 -0.3501  0.9626   \n\n   atom1_charge  atom2_charge  bond  \n0             0             0     1  \n1             0             0     1  \n2             0             0     1  \n3             0             0     1  \n4             0             0     0  "
                    }, 
                    "output_type": "execute_result"
                }
            ], 
            "source": "data.head()"
        }, 
        {
            "execution_count": 84, 
            "cell_type": "code", 
            "metadata": {}, 
            "outputs": [
                {
                    "execution_count": 84, 
                    "metadata": {}, 
                    "data": {
                        "text/plain": "(27776, 14)"
                    }, 
                    "output_type": "execute_result"
                }
            ], 
            "source": "data.shape"
        }, 
        {
            "source": "# Replace NaN with 0\nNaNs are present due to 2d structures", 
            "cell_type": "markdown", 
            "metadata": {}
        }, 
        {
            "execution_count": 95, 
            "cell_type": "code", 
            "metadata": {}, 
            "outputs": [], 
            "source": "data=data.fillna(0)"
        }, 
        {
            "source": "# Pairs", 
            "cell_type": "markdown", 
            "metadata": {}
        }, 
        {
            "execution_count": 85, 
            "cell_type": "code", 
            "metadata": {}, 
            "outputs": [], 
            "source": "data['pairs']=(data['atom1']+'_'+data['atom2']).apply(lambda x:x.split('_')).apply(sorted).apply(lambda x:'_'.join(x)).apply(str.lower)"
        }, 
        {
            "execution_count": 86, 
            "cell_type": "code", 
            "metadata": {}, 
            "outputs": [
                {
                    "execution_count": 86, 
                    "metadata": {}, 
                    "data": {
                        "text/html": "<div>\n<style scoped>\n    .dataframe tbody tr th:only-of-type {\n        vertical-align: middle;\n    }\n\n    .dataframe tbody tr th {\n        vertical-align: top;\n    }\n\n    .dataframe thead th {\n        text-align: right;\n    }\n</style>\n<table border=\"1\" class=\"dataframe\">\n  <thead>\n    <tr style=\"text-align: right;\">\n      <th></th>\n      <th>cid</th>\n      <th>aid1</th>\n      <th>aid2</th>\n      <th>atom1</th>\n      <th>atom2</th>\n      <th>x_1</th>\n      <th>y_1</th>\n      <th>z_1</th>\n      <th>x_2</th>\n      <th>y_2</th>\n      <th>z_2</th>\n      <th>atom1_charge</th>\n      <th>atom2_charge</th>\n      <th>bond</th>\n      <th>pairs</th>\n    </tr>\n  </thead>\n  <tbody>\n    <tr>\n      <th>0</th>\n      <td>6324</td>\n      <td>1</td>\n      <td>2</td>\n      <td>C</td>\n      <td>C</td>\n      <td>-0.756</td>\n      <td>0.0</td>\n      <td>0.0</td>\n      <td>0.7560</td>\n      <td>0.0000</td>\n      <td>0.0000</td>\n      <td>0</td>\n      <td>0</td>\n      <td>1</td>\n      <td>c_c</td>\n    </tr>\n    <tr>\n      <th>1</th>\n      <td>6324</td>\n      <td>1</td>\n      <td>3</td>\n      <td>C</td>\n      <td>H</td>\n      <td>-0.756</td>\n      <td>0.0</td>\n      <td>0.0</td>\n      <td>-1.1404</td>\n      <td>0.6586</td>\n      <td>0.7845</td>\n      <td>0</td>\n      <td>0</td>\n      <td>1</td>\n      <td>c_h</td>\n    </tr>\n    <tr>\n      <th>2</th>\n      <td>6324</td>\n      <td>1</td>\n      <td>4</td>\n      <td>C</td>\n      <td>H</td>\n      <td>-0.756</td>\n      <td>0.0</td>\n      <td>0.0</td>\n      <td>-1.1404</td>\n      <td>0.3501</td>\n      <td>-0.9626</td>\n      <td>0</td>\n      <td>0</td>\n      <td>1</td>\n      <td>c_h</td>\n    </tr>\n    <tr>\n      <th>3</th>\n      <td>6324</td>\n      <td>1</td>\n      <td>5</td>\n      <td>C</td>\n      <td>H</td>\n      <td>-0.756</td>\n      <td>0.0</td>\n      <td>0.0</td>\n      <td>-1.1405</td>\n      <td>-1.0087</td>\n      <td>0.1781</td>\n      <td>0</td>\n      <td>0</td>\n      <td>1</td>\n      <td>c_h</td>\n    </tr>\n    <tr>\n      <th>4</th>\n      <td>6324</td>\n      <td>1</td>\n      <td>6</td>\n      <td>C</td>\n      <td>H</td>\n      <td>-0.756</td>\n      <td>0.0</td>\n      <td>0.0</td>\n      <td>1.1404</td>\n      <td>-0.3501</td>\n      <td>0.9626</td>\n      <td>0</td>\n      <td>0</td>\n      <td>0</td>\n      <td>c_h</td>\n    </tr>\n  </tbody>\n</table>\n</div>", 
                        "text/plain": "    cid  aid1  aid2 atom1 atom2    x_1  y_1  z_1     x_2     y_2     z_2  \\\n0  6324     1     2     C     C -0.756  0.0  0.0  0.7560  0.0000  0.0000   \n1  6324     1     3     C     H -0.756  0.0  0.0 -1.1404  0.6586  0.7845   \n2  6324     1     4     C     H -0.756  0.0  0.0 -1.1404  0.3501 -0.9626   \n3  6324     1     5     C     H -0.756  0.0  0.0 -1.1405 -1.0087  0.1781   \n4  6324     1     6     C     H -0.756  0.0  0.0  1.1404 -0.3501  0.9626   \n\n   atom1_charge  atom2_charge  bond pairs  \n0             0             0     1   c_c  \n1             0             0     1   c_h  \n2             0             0     1   c_h  \n3             0             0     1   c_h  \n4             0             0     0   c_h  "
                    }, 
                    "output_type": "execute_result"
                }
            ], 
            "source": "data.head()"
        }, 
        {
            "source": "# Label Encode Pairs using dictionary", 
            "cell_type": "markdown", 
            "metadata": {}
        }, 
        {
            "execution_count": 87, 
            "cell_type": "code", 
            "metadata": {}, 
            "outputs": [
                {
                    "execution_count": 87, 
                    "metadata": {}, 
                    "data": {
                        "text/plain": "\"\\nfrom sklearn.preprocessing import LabelEncoder\\nle=LabelEncoder()\\ndata['pairs_enc']=le.fit_transform(data['pairs'])\\ndata.head()\\n\""
                    }, 
                    "output_type": "execute_result"
                }
            ], 
            "source": "#not using skleran label encoder\n'''\nfrom sklearn.preprocessing import LabelEncoder\nle=LabelEncoder()\ndata['pairs_enc']=le.fit_transform(data['pairs'])\ndata.head()\n'''"
        }, 
        {
            "execution_count": 88, 
            "cell_type": "code", 
            "metadata": {}, 
            "outputs": [
                {
                    "execution_count": 88, 
                    "metadata": {}, 
                    "data": {
                        "text/plain": "['c_c',\n 'c_f',\n 'c_h',\n 'c_n',\n 'c_o',\n 'c_si',\n 'f_f',\n 'f_h',\n 'f_n',\n 'f_o',\n 'f_si',\n 'h_h',\n 'h_n',\n 'h_o',\n 'h_si',\n 'n_n',\n 'n_o',\n 'o_o']"
                    }, 
                    "output_type": "execute_result"
                }
            ], 
            "source": "pairs=list(data['pairs'].unique())\npairs.sort()\npairs"
        }, 
        {
            "execution_count": 89, 
            "cell_type": "code", 
            "metadata": {}, 
            "outputs": [], 
            "source": "pairs_dict={pair:i for i,pair in enumerate(pairs)}"
        }, 
        {
            "execution_count": 90, 
            "cell_type": "code", 
            "metadata": {}, 
            "outputs": [
                {
                    "execution_count": 90, 
                    "metadata": {}, 
                    "data": {
                        "text/plain": "{'c_c': 0,\n 'c_f': 1,\n 'c_h': 2,\n 'c_n': 3,\n 'c_o': 4,\n 'c_si': 5,\n 'f_f': 6,\n 'f_h': 7,\n 'f_n': 8,\n 'f_o': 9,\n 'f_si': 10,\n 'h_h': 11,\n 'h_n': 12,\n 'h_o': 13,\n 'h_si': 14,\n 'n_n': 15,\n 'n_o': 16,\n 'o_o': 17}"
                    }, 
                    "output_type": "execute_result"
                }
            ], 
            "source": "pairs_dict"
        }, 
        {
            "execution_count": 91, 
            "cell_type": "code", 
            "metadata": {}, 
            "outputs": [], 
            "source": "data['pairs_enc']=data['pairs'].map(pairs_dict)"
        }, 
        {
            "execution_count": 92, 
            "cell_type": "code", 
            "metadata": {}, 
            "outputs": [
                {
                    "execution_count": 92, 
                    "metadata": {}, 
                    "data": {
                        "text/html": "<div>\n<style scoped>\n    .dataframe tbody tr th:only-of-type {\n        vertical-align: middle;\n    }\n\n    .dataframe tbody tr th {\n        vertical-align: top;\n    }\n\n    .dataframe thead th {\n        text-align: right;\n    }\n</style>\n<table border=\"1\" class=\"dataframe\">\n  <thead>\n    <tr style=\"text-align: right;\">\n      <th></th>\n      <th>cid</th>\n      <th>aid1</th>\n      <th>aid2</th>\n      <th>atom1</th>\n      <th>atom2</th>\n      <th>x_1</th>\n      <th>y_1</th>\n      <th>z_1</th>\n      <th>x_2</th>\n      <th>y_2</th>\n      <th>z_2</th>\n      <th>atom1_charge</th>\n      <th>atom2_charge</th>\n      <th>bond</th>\n      <th>pairs</th>\n      <th>pairs_enc</th>\n    </tr>\n  </thead>\n  <tbody>\n    <tr>\n      <th>0</th>\n      <td>6324</td>\n      <td>1</td>\n      <td>2</td>\n      <td>C</td>\n      <td>C</td>\n      <td>-0.756</td>\n      <td>0.0</td>\n      <td>0.0</td>\n      <td>0.7560</td>\n      <td>0.0000</td>\n      <td>0.0000</td>\n      <td>0</td>\n      <td>0</td>\n      <td>1</td>\n      <td>c_c</td>\n      <td>0</td>\n    </tr>\n    <tr>\n      <th>1</th>\n      <td>6324</td>\n      <td>1</td>\n      <td>3</td>\n      <td>C</td>\n      <td>H</td>\n      <td>-0.756</td>\n      <td>0.0</td>\n      <td>0.0</td>\n      <td>-1.1404</td>\n      <td>0.6586</td>\n      <td>0.7845</td>\n      <td>0</td>\n      <td>0</td>\n      <td>1</td>\n      <td>c_h</td>\n      <td>2</td>\n    </tr>\n    <tr>\n      <th>2</th>\n      <td>6324</td>\n      <td>1</td>\n      <td>4</td>\n      <td>C</td>\n      <td>H</td>\n      <td>-0.756</td>\n      <td>0.0</td>\n      <td>0.0</td>\n      <td>-1.1404</td>\n      <td>0.3501</td>\n      <td>-0.9626</td>\n      <td>0</td>\n      <td>0</td>\n      <td>1</td>\n      <td>c_h</td>\n      <td>2</td>\n    </tr>\n    <tr>\n      <th>3</th>\n      <td>6324</td>\n      <td>1</td>\n      <td>5</td>\n      <td>C</td>\n      <td>H</td>\n      <td>-0.756</td>\n      <td>0.0</td>\n      <td>0.0</td>\n      <td>-1.1405</td>\n      <td>-1.0087</td>\n      <td>0.1781</td>\n      <td>0</td>\n      <td>0</td>\n      <td>1</td>\n      <td>c_h</td>\n      <td>2</td>\n    </tr>\n    <tr>\n      <th>4</th>\n      <td>6324</td>\n      <td>1</td>\n      <td>6</td>\n      <td>C</td>\n      <td>H</td>\n      <td>-0.756</td>\n      <td>0.0</td>\n      <td>0.0</td>\n      <td>1.1404</td>\n      <td>-0.3501</td>\n      <td>0.9626</td>\n      <td>0</td>\n      <td>0</td>\n      <td>0</td>\n      <td>c_h</td>\n      <td>2</td>\n    </tr>\n  </tbody>\n</table>\n</div>", 
                        "text/plain": "    cid  aid1  aid2 atom1 atom2    x_1  y_1  z_1     x_2     y_2     z_2  \\\n0  6324     1     2     C     C -0.756  0.0  0.0  0.7560  0.0000  0.0000   \n1  6324     1     3     C     H -0.756  0.0  0.0 -1.1404  0.6586  0.7845   \n2  6324     1     4     C     H -0.756  0.0  0.0 -1.1404  0.3501 -0.9626   \n3  6324     1     5     C     H -0.756  0.0  0.0 -1.1405 -1.0087  0.1781   \n4  6324     1     6     C     H -0.756  0.0  0.0  1.1404 -0.3501  0.9626   \n\n   atom1_charge  atom2_charge  bond pairs  pairs_enc  \n0             0             0     1   c_c          0  \n1             0             0     1   c_h          2  \n2             0             0     1   c_h          2  \n3             0             0     1   c_h          2  \n4             0             0     0   c_h          2  "
                    }, 
                    "output_type": "execute_result"
                }
            ], 
            "source": "data.head()"
        }, 
        {
            "source": "# Distance", 
            "cell_type": "markdown", 
            "metadata": {}
        }, 
        {
            "execution_count": 29, 
            "cell_type": "code", 
            "metadata": {}, 
            "outputs": [], 
            "source": "def dist(row):\n    return np.sqrt(np.square(row['x_1']-row['x_2'])+np.square(row['y_1']-row['y_2'])+np.square(row['z_1']+row['z_2']))"
        }, 
        {
            "execution_count": 30, 
            "cell_type": "code", 
            "metadata": {}, 
            "outputs": [], 
            "source": "data['distance']=data.apply(dist,axis=1)"
        }, 
        {
            "execution_count": 31, 
            "cell_type": "code", 
            "metadata": {}, 
            "outputs": [
                {
                    "execution_count": 31, 
                    "metadata": {}, 
                    "data": {
                        "text/html": "<div>\n<style scoped>\n    .dataframe tbody tr th:only-of-type {\n        vertical-align: middle;\n    }\n\n    .dataframe tbody tr th {\n        vertical-align: top;\n    }\n\n    .dataframe thead th {\n        text-align: right;\n    }\n</style>\n<table border=\"1\" class=\"dataframe\">\n  <thead>\n    <tr style=\"text-align: right;\">\n      <th></th>\n      <th>cid</th>\n      <th>aid1</th>\n      <th>aid2</th>\n      <th>atom1</th>\n      <th>atom2</th>\n      <th>x_1</th>\n      <th>y_1</th>\n      <th>z_1</th>\n      <th>x_2</th>\n      <th>y_2</th>\n      <th>z_2</th>\n      <th>atom1_charge</th>\n      <th>atom2_charge</th>\n      <th>bond</th>\n      <th>pairs</th>\n      <th>pairs_enc</th>\n      <th>distance</th>\n    </tr>\n  </thead>\n  <tbody>\n    <tr>\n      <th>0</th>\n      <td>6324</td>\n      <td>1</td>\n      <td>2</td>\n      <td>C</td>\n      <td>C</td>\n      <td>-0.756</td>\n      <td>0.0</td>\n      <td>0.0</td>\n      <td>0.7560</td>\n      <td>0.0000</td>\n      <td>0.0000</td>\n      <td>0</td>\n      <td>0</td>\n      <td>1</td>\n      <td>c_c</td>\n      <td>0</td>\n      <td>1.512000</td>\n    </tr>\n    <tr>\n      <th>1</th>\n      <td>6324</td>\n      <td>1</td>\n      <td>3</td>\n      <td>C</td>\n      <td>H</td>\n      <td>-0.756</td>\n      <td>0.0</td>\n      <td>0.0</td>\n      <td>-1.1404</td>\n      <td>0.6586</td>\n      <td>0.7845</td>\n      <td>0</td>\n      <td>0</td>\n      <td>1</td>\n      <td>c_h</td>\n      <td>2</td>\n      <td>1.094056</td>\n    </tr>\n    <tr>\n      <th>2</th>\n      <td>6324</td>\n      <td>1</td>\n      <td>4</td>\n      <td>C</td>\n      <td>H</td>\n      <td>-0.756</td>\n      <td>0.0</td>\n      <td>0.0</td>\n      <td>-1.1404</td>\n      <td>0.3501</td>\n      <td>-0.9626</td>\n      <td>0</td>\n      <td>0</td>\n      <td>1</td>\n      <td>c_h</td>\n      <td>2</td>\n      <td>1.094044</td>\n    </tr>\n    <tr>\n      <th>3</th>\n      <td>6324</td>\n      <td>1</td>\n      <td>5</td>\n      <td>C</td>\n      <td>H</td>\n      <td>-0.756</td>\n      <td>0.0</td>\n      <td>0.0</td>\n      <td>-1.1405</td>\n      <td>-1.0087</td>\n      <td>0.1781</td>\n      <td>0</td>\n      <td>0</td>\n      <td>1</td>\n      <td>c_h</td>\n      <td>2</td>\n      <td>1.094091</td>\n    </tr>\n    <tr>\n      <th>4</th>\n      <td>6324</td>\n      <td>1</td>\n      <td>6</td>\n      <td>C</td>\n      <td>H</td>\n      <td>-0.756</td>\n      <td>0.0</td>\n      <td>0.0</td>\n      <td>1.1404</td>\n      <td>-0.3501</td>\n      <td>0.9626</td>\n      <td>0</td>\n      <td>0</td>\n      <td>0</td>\n      <td>c_h</td>\n      <td>2</td>\n      <td>2.155343</td>\n    </tr>\n  </tbody>\n</table>\n</div>", 
                        "text/plain": "    cid  aid1  aid2 atom1 atom2    x_1  y_1  z_1     x_2     y_2     z_2  \\\n0  6324     1     2     C     C -0.756  0.0  0.0  0.7560  0.0000  0.0000   \n1  6324     1     3     C     H -0.756  0.0  0.0 -1.1404  0.6586  0.7845   \n2  6324     1     4     C     H -0.756  0.0  0.0 -1.1404  0.3501 -0.9626   \n3  6324     1     5     C     H -0.756  0.0  0.0 -1.1405 -1.0087  0.1781   \n4  6324     1     6     C     H -0.756  0.0  0.0  1.1404 -0.3501  0.9626   \n\n   atom1_charge  atom2_charge  bond pairs  pairs_enc  distance  \n0             0             0     1   c_c          0  1.512000  \n1             0             0     1   c_h          2  1.094056  \n2             0             0     1   c_h          2  1.094044  \n3             0             0     1   c_h          2  1.094091  \n4             0             0     0   c_h          2  2.155343  "
                    }, 
                    "output_type": "execute_result"
                }
            ], 
            "source": "data.head()"
        }, 
        {
            "source": "# Handle Imbalanced Data", 
            "cell_type": "markdown", 
            "metadata": {}
        }, 
        {
            "execution_count": 32, 
            "cell_type": "code", 
            "metadata": {}, 
            "outputs": [
                {
                    "execution_count": 32, 
                    "metadata": {}, 
                    "data": {
                        "text/plain": "(27776, 17)"
                    }, 
                    "output_type": "execute_result"
                }
            ], 
            "source": "data.shape"
        }, 
        {
            "execution_count": 33, 
            "cell_type": "code", 
            "metadata": {
                "scrolled": true
            }, 
            "outputs": [
                {
                    "execution_count": 33, 
                    "metadata": {}, 
                    "data": {
                        "text/html": "<div>\n<style scoped>\n    .dataframe tbody tr th:only-of-type {\n        vertical-align: middle;\n    }\n\n    .dataframe tbody tr th {\n        vertical-align: top;\n    }\n\n    .dataframe thead th {\n        text-align: right;\n    }\n</style>\n<table border=\"1\" class=\"dataframe\">\n  <thead>\n    <tr style=\"text-align: right;\">\n      <th></th>\n      <th></th>\n      <th></th>\n      <th>cid</th>\n      <th>aid1</th>\n      <th>aid2</th>\n      <th>atom1</th>\n      <th>atom2</th>\n      <th>x_1</th>\n      <th>y_1</th>\n      <th>z_1</th>\n      <th>x_2</th>\n      <th>y_2</th>\n      <th>z_2</th>\n      <th>atom1_charge</th>\n      <th>atom2_charge</th>\n      <th>distance</th>\n    </tr>\n    <tr>\n      <th>pairs</th>\n      <th>pairs_enc</th>\n      <th>bond</th>\n      <th></th>\n      <th></th>\n      <th></th>\n      <th></th>\n      <th></th>\n      <th></th>\n      <th></th>\n      <th></th>\n      <th></th>\n      <th></th>\n      <th></th>\n      <th></th>\n      <th></th>\n      <th></th>\n    </tr>\n  </thead>\n  <tbody>\n    <tr>\n      <th rowspan=\"2\" valign=\"top\">c_c</th>\n      <th rowspan=\"2\" valign=\"top\">0</th>\n      <th>0</th>\n      <td>2619</td>\n      <td>2619</td>\n      <td>2619</td>\n      <td>2619</td>\n      <td>2619</td>\n      <td>2619</td>\n      <td>2619</td>\n      <td>2619</td>\n      <td>2619</td>\n      <td>2619</td>\n      <td>2619</td>\n      <td>2619</td>\n      <td>2619</td>\n      <td>2619</td>\n    </tr>\n    <tr>\n      <th>1</th>\n      <td>253</td>\n      <td>253</td>\n      <td>253</td>\n      <td>253</td>\n      <td>253</td>\n      <td>253</td>\n      <td>253</td>\n      <td>253</td>\n      <td>253</td>\n      <td>253</td>\n      <td>253</td>\n      <td>253</td>\n      <td>253</td>\n      <td>253</td>\n    </tr>\n    <tr>\n      <th rowspan=\"2\" valign=\"top\">c_f</th>\n      <th rowspan=\"2\" valign=\"top\">1</th>\n      <th>0</th>\n      <td>118</td>\n      <td>118</td>\n      <td>118</td>\n      <td>118</td>\n      <td>118</td>\n      <td>118</td>\n      <td>118</td>\n      <td>118</td>\n      <td>118</td>\n      <td>118</td>\n      <td>118</td>\n      <td>118</td>\n      <td>118</td>\n      <td>118</td>\n    </tr>\n    <tr>\n      <th>1</th>\n      <td>18</td>\n      <td>18</td>\n      <td>18</td>\n      <td>18</td>\n      <td>18</td>\n      <td>18</td>\n      <td>18</td>\n      <td>18</td>\n      <td>18</td>\n      <td>18</td>\n      <td>18</td>\n      <td>18</td>\n      <td>18</td>\n      <td>18</td>\n    </tr>\n    <tr>\n      <th rowspan=\"2\" valign=\"top\">c_h</th>\n      <th rowspan=\"2\" valign=\"top\">2</th>\n      <th>0</th>\n      <td>9672</td>\n      <td>9672</td>\n      <td>9672</td>\n      <td>9672</td>\n      <td>9672</td>\n      <td>9672</td>\n      <td>9672</td>\n      <td>9672</td>\n      <td>9672</td>\n      <td>9672</td>\n      <td>9672</td>\n      <td>9672</td>\n      <td>9672</td>\n      <td>9672</td>\n    </tr>\n    <tr>\n      <th>1</th>\n      <td>600</td>\n      <td>600</td>\n      <td>600</td>\n      <td>600</td>\n      <td>600</td>\n      <td>600</td>\n      <td>600</td>\n      <td>600</td>\n      <td>600</td>\n      <td>600</td>\n      <td>600</td>\n      <td>600</td>\n      <td>600</td>\n      <td>600</td>\n    </tr>\n    <tr>\n      <th rowspan=\"2\" valign=\"top\">c_n</th>\n      <th rowspan=\"2\" valign=\"top\">3</th>\n      <th>0</th>\n      <td>880</td>\n      <td>880</td>\n      <td>880</td>\n      <td>880</td>\n      <td>880</td>\n      <td>880</td>\n      <td>880</td>\n      <td>880</td>\n      <td>880</td>\n      <td>880</td>\n      <td>880</td>\n      <td>880</td>\n      <td>880</td>\n      <td>880</td>\n    </tr>\n    <tr>\n      <th>1</th>\n      <td>116</td>\n      <td>116</td>\n      <td>116</td>\n      <td>116</td>\n      <td>116</td>\n      <td>116</td>\n      <td>116</td>\n      <td>116</td>\n      <td>116</td>\n      <td>116</td>\n      <td>116</td>\n      <td>116</td>\n      <td>116</td>\n      <td>116</td>\n    </tr>\n    <tr>\n      <th rowspan=\"2\" valign=\"top\">c_o</th>\n      <th rowspan=\"2\" valign=\"top\">4</th>\n      <th>0</th>\n      <td>661</td>\n      <td>661</td>\n      <td>661</td>\n      <td>661</td>\n      <td>661</td>\n      <td>661</td>\n      <td>661</td>\n      <td>661</td>\n      <td>661</td>\n      <td>661</td>\n      <td>661</td>\n      <td>661</td>\n      <td>661</td>\n      <td>661</td>\n    </tr>\n    <tr>\n      <th>1</th>\n      <td>45</td>\n      <td>45</td>\n      <td>45</td>\n      <td>45</td>\n      <td>45</td>\n      <td>45</td>\n      <td>45</td>\n      <td>45</td>\n      <td>45</td>\n      <td>45</td>\n      <td>45</td>\n      <td>45</td>\n      <td>45</td>\n      <td>45</td>\n    </tr>\n    <tr>\n      <th rowspan=\"2\" valign=\"top\">c_si</th>\n      <th rowspan=\"2\" valign=\"top\">5</th>\n      <th>0</th>\n      <td>4</td>\n      <td>4</td>\n      <td>4</td>\n      <td>4</td>\n      <td>4</td>\n      <td>4</td>\n      <td>4</td>\n      <td>4</td>\n      <td>4</td>\n      <td>4</td>\n      <td>4</td>\n      <td>4</td>\n      <td>4</td>\n      <td>4</td>\n    </tr>\n    <tr>\n      <th>1</th>\n      <td>4</td>\n      <td>4</td>\n      <td>4</td>\n      <td>4</td>\n      <td>4</td>\n      <td>4</td>\n      <td>4</td>\n      <td>4</td>\n      <td>4</td>\n      <td>4</td>\n      <td>4</td>\n      <td>4</td>\n      <td>4</td>\n      <td>4</td>\n    </tr>\n    <tr>\n      <th>f_f</th>\n      <th>6</th>\n      <th>0</th>\n      <td>70</td>\n      <td>70</td>\n      <td>70</td>\n      <td>70</td>\n      <td>70</td>\n      <td>70</td>\n      <td>70</td>\n      <td>70</td>\n      <td>70</td>\n      <td>70</td>\n      <td>70</td>\n      <td>70</td>\n      <td>70</td>\n      <td>70</td>\n    </tr>\n    <tr>\n      <th rowspan=\"2\" valign=\"top\">f_h</th>\n      <th rowspan=\"2\" valign=\"top\">7</th>\n      <th>0</th>\n      <td>145</td>\n      <td>145</td>\n      <td>145</td>\n      <td>145</td>\n      <td>145</td>\n      <td>145</td>\n      <td>145</td>\n      <td>145</td>\n      <td>145</td>\n      <td>145</td>\n      <td>145</td>\n      <td>145</td>\n      <td>145</td>\n      <td>145</td>\n    </tr>\n    <tr>\n      <th>1</th>\n      <td>1</td>\n      <td>1</td>\n      <td>1</td>\n      <td>1</td>\n      <td>1</td>\n      <td>1</td>\n      <td>1</td>\n      <td>1</td>\n      <td>1</td>\n      <td>1</td>\n      <td>1</td>\n      <td>1</td>\n      <td>1</td>\n      <td>1</td>\n    </tr>\n    <tr>\n      <th>f_n</th>\n      <th>8</th>\n      <th>0</th>\n      <td>6</td>\n      <td>6</td>\n      <td>6</td>\n      <td>6</td>\n      <td>6</td>\n      <td>6</td>\n      <td>6</td>\n      <td>6</td>\n      <td>6</td>\n      <td>6</td>\n      <td>6</td>\n      <td>6</td>\n      <td>6</td>\n      <td>6</td>\n    </tr>\n    <tr>\n      <th rowspan=\"2\" valign=\"top\">f_o</th>\n      <th rowspan=\"2\" valign=\"top\">9</th>\n      <th>0</th>\n      <td>25</td>\n      <td>25</td>\n      <td>25</td>\n      <td>25</td>\n      <td>25</td>\n      <td>25</td>\n      <td>25</td>\n      <td>25</td>\n      <td>25</td>\n      <td>25</td>\n      <td>25</td>\n      <td>25</td>\n      <td>25</td>\n      <td>25</td>\n    </tr>\n    <tr>\n      <th>1</th>\n      <td>5</td>\n      <td>5</td>\n      <td>5</td>\n      <td>5</td>\n      <td>5</td>\n      <td>5</td>\n      <td>5</td>\n      <td>5</td>\n      <td>5</td>\n      <td>5</td>\n      <td>5</td>\n      <td>5</td>\n      <td>5</td>\n      <td>5</td>\n    </tr>\n    <tr>\n      <th>f_si</th>\n      <th>10</th>\n      <th>0</th>\n      <td>6</td>\n      <td>6</td>\n      <td>6</td>\n      <td>6</td>\n      <td>6</td>\n      <td>6</td>\n      <td>6</td>\n      <td>6</td>\n      <td>6</td>\n      <td>6</td>\n      <td>6</td>\n      <td>6</td>\n      <td>6</td>\n      <td>6</td>\n    </tr>\n    <tr>\n      <th rowspan=\"2\" valign=\"top\">h_h</th>\n      <th rowspan=\"2\" valign=\"top\">11</th>\n      <th>0</th>\n      <td>9275</td>\n      <td>9275</td>\n      <td>9275</td>\n      <td>9275</td>\n      <td>9275</td>\n      <td>9275</td>\n      <td>9275</td>\n      <td>9274</td>\n      <td>9275</td>\n      <td>9275</td>\n      <td>9274</td>\n      <td>9275</td>\n      <td>9275</td>\n      <td>9274</td>\n    </tr>\n    <tr>\n      <th>1</th>\n      <td>1</td>\n      <td>1</td>\n      <td>1</td>\n      <td>1</td>\n      <td>1</td>\n      <td>1</td>\n      <td>1</td>\n      <td>0</td>\n      <td>1</td>\n      <td>1</td>\n      <td>0</td>\n      <td>1</td>\n      <td>1</td>\n      <td>0</td>\n    </tr>\n    <tr>\n      <th rowspan=\"2\" valign=\"top\">h_n</th>\n      <th rowspan=\"2\" valign=\"top\">12</th>\n      <th>0</th>\n      <td>1811</td>\n      <td>1811</td>\n      <td>1811</td>\n      <td>1811</td>\n      <td>1811</td>\n      <td>1811</td>\n      <td>1811</td>\n      <td>1811</td>\n      <td>1811</td>\n      <td>1811</td>\n      <td>1811</td>\n      <td>1811</td>\n      <td>1811</td>\n      <td>1811</td>\n    </tr>\n    <tr>\n      <th>1</th>\n      <td>29</td>\n      <td>29</td>\n      <td>29</td>\n      <td>29</td>\n      <td>29</td>\n      <td>29</td>\n      <td>29</td>\n      <td>29</td>\n      <td>29</td>\n      <td>29</td>\n      <td>29</td>\n      <td>29</td>\n      <td>29</td>\n      <td>29</td>\n    </tr>\n    <tr>\n      <th rowspan=\"2\" valign=\"top\">h_o</th>\n      <th rowspan=\"2\" valign=\"top\">13</th>\n      <th>0</th>\n      <td>1097</td>\n      <td>1097</td>\n      <td>1097</td>\n      <td>1097</td>\n      <td>1097</td>\n      <td>1097</td>\n      <td>1097</td>\n      <td>1097</td>\n      <td>1097</td>\n      <td>1097</td>\n      <td>1097</td>\n      <td>1097</td>\n      <td>1097</td>\n      <td>1097</td>\n    </tr>\n    <tr>\n      <th>1</th>\n      <td>19</td>\n      <td>19</td>\n      <td>19</td>\n      <td>19</td>\n      <td>19</td>\n      <td>19</td>\n      <td>19</td>\n      <td>19</td>\n      <td>19</td>\n      <td>19</td>\n      <td>19</td>\n      <td>19</td>\n      <td>19</td>\n      <td>19</td>\n    </tr>\n    <tr>\n      <th>h_si</th>\n      <th>14</th>\n      <th>0</th>\n      <td>18</td>\n      <td>18</td>\n      <td>18</td>\n      <td>18</td>\n      <td>18</td>\n      <td>18</td>\n      <td>18</td>\n      <td>18</td>\n      <td>18</td>\n      <td>18</td>\n      <td>18</td>\n      <td>18</td>\n      <td>18</td>\n      <td>18</td>\n    </tr>\n    <tr>\n      <th rowspan=\"2\" valign=\"top\">n_n</th>\n      <th rowspan=\"2\" valign=\"top\">15</th>\n      <th>0</th>\n      <td>68</td>\n      <td>68</td>\n      <td>68</td>\n      <td>68</td>\n      <td>68</td>\n      <td>68</td>\n      <td>68</td>\n      <td>68</td>\n      <td>68</td>\n      <td>68</td>\n      <td>68</td>\n      <td>68</td>\n      <td>68</td>\n      <td>68</td>\n    </tr>\n    <tr>\n      <th>1</th>\n      <td>6</td>\n      <td>6</td>\n      <td>6</td>\n      <td>6</td>\n      <td>6</td>\n      <td>6</td>\n      <td>6</td>\n      <td>6</td>\n      <td>6</td>\n      <td>6</td>\n      <td>6</td>\n      <td>6</td>\n      <td>6</td>\n      <td>6</td>\n    </tr>\n    <tr>\n      <th rowspan=\"2\" valign=\"top\">n_o</th>\n      <th rowspan=\"2\" valign=\"top\">16</th>\n      <th>0</th>\n      <td>98</td>\n      <td>98</td>\n      <td>98</td>\n      <td>98</td>\n      <td>98</td>\n      <td>98</td>\n      <td>98</td>\n      <td>98</td>\n      <td>98</td>\n      <td>98</td>\n      <td>98</td>\n      <td>98</td>\n      <td>98</td>\n      <td>98</td>\n    </tr>\n    <tr>\n      <th>1</th>\n      <td>8</td>\n      <td>8</td>\n      <td>8</td>\n      <td>8</td>\n      <td>8</td>\n      <td>8</td>\n      <td>8</td>\n      <td>8</td>\n      <td>8</td>\n      <td>8</td>\n      <td>8</td>\n      <td>8</td>\n      <td>8</td>\n      <td>8</td>\n    </tr>\n    <tr>\n      <th rowspan=\"2\" valign=\"top\">o_o</th>\n      <th rowspan=\"2\" valign=\"top\">17</th>\n      <th>0</th>\n      <td>92</td>\n      <td>92</td>\n      <td>92</td>\n      <td>92</td>\n      <td>92</td>\n      <td>92</td>\n      <td>92</td>\n      <td>92</td>\n      <td>92</td>\n      <td>92</td>\n      <td>92</td>\n      <td>92</td>\n      <td>92</td>\n      <td>92</td>\n    </tr>\n    <tr>\n      <th>1</th>\n      <td>6</td>\n      <td>6</td>\n      <td>6</td>\n      <td>6</td>\n      <td>6</td>\n      <td>6</td>\n      <td>6</td>\n      <td>6</td>\n      <td>6</td>\n      <td>6</td>\n      <td>6</td>\n      <td>6</td>\n      <td>6</td>\n      <td>6</td>\n    </tr>\n  </tbody>\n</table>\n</div>", 
                        "text/plain": "                       cid  aid1  aid2  atom1  atom2   x_1   y_1   z_1   x_2  \\\npairs pairs_enc bond                                                           \nc_c   0         0     2619  2619  2619   2619   2619  2619  2619  2619  2619   \n                1      253   253   253    253    253   253   253   253   253   \nc_f   1         0      118   118   118    118    118   118   118   118   118   \n                1       18    18    18     18     18    18    18    18    18   \nc_h   2         0     9672  9672  9672   9672   9672  9672  9672  9672  9672   \n                1      600   600   600    600    600   600   600   600   600   \nc_n   3         0      880   880   880    880    880   880   880   880   880   \n                1      116   116   116    116    116   116   116   116   116   \nc_o   4         0      661   661   661    661    661   661   661   661   661   \n                1       45    45    45     45     45    45    45    45    45   \nc_si  5         0        4     4     4      4      4     4     4     4     4   \n                1        4     4     4      4      4     4     4     4     4   \nf_f   6         0       70    70    70     70     70    70    70    70    70   \nf_h   7         0      145   145   145    145    145   145   145   145   145   \n                1        1     1     1      1      1     1     1     1     1   \nf_n   8         0        6     6     6      6      6     6     6     6     6   \nf_o   9         0       25    25    25     25     25    25    25    25    25   \n                1        5     5     5      5      5     5     5     5     5   \nf_si  10        0        6     6     6      6      6     6     6     6     6   \nh_h   11        0     9275  9275  9275   9275   9275  9275  9275  9274  9275   \n                1        1     1     1      1      1     1     1     0     1   \nh_n   12        0     1811  1811  1811   1811   1811  1811  1811  1811  1811   \n                1       29    29    29     29     29    29    29    29    29   \nh_o   13        0     1097  1097  1097   1097   1097  1097  1097  1097  1097   \n                1       19    19    19     19     19    19    19    19    19   \nh_si  14        0       18    18    18     18     18    18    18    18    18   \nn_n   15        0       68    68    68     68     68    68    68    68    68   \n                1        6     6     6      6      6     6     6     6     6   \nn_o   16        0       98    98    98     98     98    98    98    98    98   \n                1        8     8     8      8      8     8     8     8     8   \no_o   17        0       92    92    92     92     92    92    92    92    92   \n                1        6     6     6      6      6     6     6     6     6   \n\n                       y_2   z_2  atom1_charge  atom2_charge  distance  \npairs pairs_enc bond                                                    \nc_c   0         0     2619  2619          2619          2619      2619  \n                1      253   253           253           253       253  \nc_f   1         0      118   118           118           118       118  \n                1       18    18            18            18        18  \nc_h   2         0     9672  9672          9672          9672      9672  \n                1      600   600           600           600       600  \nc_n   3         0      880   880           880           880       880  \n                1      116   116           116           116       116  \nc_o   4         0      661   661           661           661       661  \n                1       45    45            45            45        45  \nc_si  5         0        4     4             4             4         4  \n                1        4     4             4             4         4  \nf_f   6         0       70    70            70            70        70  \nf_h   7         0      145   145           145           145       145  \n                1        1     1             1             1         1  \nf_n   8         0        6     6             6             6         6  \nf_o   9         0       25    25            25            25        25  \n                1        5     5             5             5         5  \nf_si  10        0        6     6             6             6         6  \nh_h   11        0     9275  9274          9275          9275      9274  \n                1        1     0             1             1         0  \nh_n   12        0     1811  1811          1811          1811      1811  \n                1       29    29            29            29        29  \nh_o   13        0     1097  1097          1097          1097      1097  \n                1       19    19            19            19        19  \nh_si  14        0       18    18            18            18        18  \nn_n   15        0       68    68            68            68        68  \n                1        6     6             6             6         6  \nn_o   16        0       98    98            98            98        98  \n                1        8     8             8             8         8  \no_o   17        0       92    92            92            92        92  \n                1        6     6             6             6         6  "
                    }, 
                    "output_type": "execute_result"
                }
            ], 
            "source": "gb=data.groupby(['pairs','pairs_enc','bond']).count()\ngb"
        }, 
        {
            "execution_count": 34, 
            "cell_type": "code", 
            "metadata": {}, 
            "outputs": [], 
            "source": "classes=data['bond'].unique()\nvalid_pairs={}\none_class_pairs=[]\nfor i in data['pairs_enc'].unique():\n  if len(data[data['pairs_enc']==i]['bond'].unique())>1:\n    len_c0=len(data[(data['pairs_enc']==i) & (data['bond']==classes[0])])\n    len_c1=len(data[(data['pairs_enc']==i) & (data['bond']==classes[1])])\n    if len_c0>len_c1:\n      c=classes[0]\n      frac=1-float(len_c1/len_c0)\n    else:\n      c=classes[1]\n      frac=1-float(len_c0/len_c1)\n    valid_pairs[i]=[c,frac]\n  else:\n    one_class_pairs.append(i)\n    "
        }, 
        {
            "execution_count": 35, 
            "cell_type": "code", 
            "metadata": {}, 
            "outputs": [
                {
                    "execution_count": 35, 
                    "metadata": {}, 
                    "data": {
                        "text/plain": "{0: [0, 0.9033982436044292],\n 2: [0, 0.9379652605459057],\n 11: [0, 0.9998921832884097],\n 3: [0, 0.8681818181818182],\n 12: [0, 0.9839867476532302],\n 4: [0, 0.9319213313161876],\n 13: [0, 0.9826800364630811],\n 17: [0, 0.9347826086956522],\n 16: [0, 0.9183673469387755],\n 1: [0, 0.847457627118644],\n 7: [0, 0.993103448275862],\n 15: [0, 0.9117647058823529],\n 9: [0, 0.8],\n 5: [0, 0.0]}"
                    }, 
                    "output_type": "execute_result"
                }
            ], 
            "source": "valid_pairs"
        }, 
        {
            "execution_count": 36, 
            "cell_type": "code", 
            "metadata": {}, 
            "outputs": [
                {
                    "execution_count": 36, 
                    "metadata": {}, 
                    "data": {
                        "text/plain": "[6, 8, 10, 14]"
                    }, 
                    "output_type": "execute_result"
                }
            ], 
            "source": "one_class_pairs"
        }, 
        {
            "execution_count": 37, 
            "cell_type": "code", 
            "metadata": {}, 
            "outputs": [
                {
                    "output_type": "stream", 
                    "name": "stdout", 
                    "text": "2366\n9072\n9274\n764\n1782\n616\n1078\n86\n90\n100\n144\n62\n20\n0\n"
                }
            ], 
            "source": "for k,v in valid_pairs.items():\n    indices=data[(data['pairs_enc']==k) & (data['bond']==v[0])].sample(frac=v[1]).index\n    print(len(indices))\n    data.drop(indices,inplace=True)"
        }, 
        {
            "execution_count": 38, 
            "cell_type": "code", 
            "metadata": {}, 
            "outputs": [
                {
                    "execution_count": 38, 
                    "metadata": {}, 
                    "data": {
                        "text/html": "<div>\n<style scoped>\n    .dataframe tbody tr th:only-of-type {\n        vertical-align: middle;\n    }\n\n    .dataframe tbody tr th {\n        vertical-align: top;\n    }\n\n    .dataframe thead th {\n        text-align: right;\n    }\n</style>\n<table border=\"1\" class=\"dataframe\">\n  <thead>\n    <tr style=\"text-align: right;\">\n      <th></th>\n      <th></th>\n      <th></th>\n      <th>cid</th>\n      <th>aid1</th>\n      <th>aid2</th>\n      <th>atom1</th>\n      <th>atom2</th>\n      <th>x_1</th>\n      <th>y_1</th>\n      <th>z_1</th>\n      <th>x_2</th>\n      <th>y_2</th>\n      <th>z_2</th>\n      <th>atom1_charge</th>\n      <th>atom2_charge</th>\n      <th>distance</th>\n    </tr>\n    <tr>\n      <th>pairs</th>\n      <th>pairs_enc</th>\n      <th>bond</th>\n      <th></th>\n      <th></th>\n      <th></th>\n      <th></th>\n      <th></th>\n      <th></th>\n      <th></th>\n      <th></th>\n      <th></th>\n      <th></th>\n      <th></th>\n      <th></th>\n      <th></th>\n      <th></th>\n    </tr>\n  </thead>\n  <tbody>\n    <tr>\n      <th rowspan=\"2\" valign=\"top\">c_c</th>\n      <th rowspan=\"2\" valign=\"top\">0</th>\n      <th>0</th>\n      <td>253</td>\n      <td>253</td>\n      <td>253</td>\n      <td>253</td>\n      <td>253</td>\n      <td>253</td>\n      <td>253</td>\n      <td>253</td>\n      <td>253</td>\n      <td>253</td>\n      <td>253</td>\n      <td>253</td>\n      <td>253</td>\n      <td>253</td>\n    </tr>\n    <tr>\n      <th>1</th>\n      <td>253</td>\n      <td>253</td>\n      <td>253</td>\n      <td>253</td>\n      <td>253</td>\n      <td>253</td>\n      <td>253</td>\n      <td>253</td>\n      <td>253</td>\n      <td>253</td>\n      <td>253</td>\n      <td>253</td>\n      <td>253</td>\n      <td>253</td>\n    </tr>\n    <tr>\n      <th rowspan=\"2\" valign=\"top\">c_f</th>\n      <th rowspan=\"2\" valign=\"top\">1</th>\n      <th>0</th>\n      <td>18</td>\n      <td>18</td>\n      <td>18</td>\n      <td>18</td>\n      <td>18</td>\n      <td>18</td>\n      <td>18</td>\n      <td>18</td>\n      <td>18</td>\n      <td>18</td>\n      <td>18</td>\n      <td>18</td>\n      <td>18</td>\n      <td>18</td>\n    </tr>\n    <tr>\n      <th>1</th>\n      <td>18</td>\n      <td>18</td>\n      <td>18</td>\n      <td>18</td>\n      <td>18</td>\n      <td>18</td>\n      <td>18</td>\n      <td>18</td>\n      <td>18</td>\n      <td>18</td>\n      <td>18</td>\n      <td>18</td>\n      <td>18</td>\n      <td>18</td>\n    </tr>\n    <tr>\n      <th rowspan=\"2\" valign=\"top\">c_h</th>\n      <th rowspan=\"2\" valign=\"top\">2</th>\n      <th>0</th>\n      <td>600</td>\n      <td>600</td>\n      <td>600</td>\n      <td>600</td>\n      <td>600</td>\n      <td>600</td>\n      <td>600</td>\n      <td>600</td>\n      <td>600</td>\n      <td>600</td>\n      <td>600</td>\n      <td>600</td>\n      <td>600</td>\n      <td>600</td>\n    </tr>\n    <tr>\n      <th>1</th>\n      <td>600</td>\n      <td>600</td>\n      <td>600</td>\n      <td>600</td>\n      <td>600</td>\n      <td>600</td>\n      <td>600</td>\n      <td>600</td>\n      <td>600</td>\n      <td>600</td>\n      <td>600</td>\n      <td>600</td>\n      <td>600</td>\n      <td>600</td>\n    </tr>\n    <tr>\n      <th rowspan=\"2\" valign=\"top\">c_n</th>\n      <th rowspan=\"2\" valign=\"top\">3</th>\n      <th>0</th>\n      <td>116</td>\n      <td>116</td>\n      <td>116</td>\n      <td>116</td>\n      <td>116</td>\n      <td>116</td>\n      <td>116</td>\n      <td>116</td>\n      <td>116</td>\n      <td>116</td>\n      <td>116</td>\n      <td>116</td>\n      <td>116</td>\n      <td>116</td>\n    </tr>\n    <tr>\n      <th>1</th>\n      <td>116</td>\n      <td>116</td>\n      <td>116</td>\n      <td>116</td>\n      <td>116</td>\n      <td>116</td>\n      <td>116</td>\n      <td>116</td>\n      <td>116</td>\n      <td>116</td>\n      <td>116</td>\n      <td>116</td>\n      <td>116</td>\n      <td>116</td>\n    </tr>\n    <tr>\n      <th rowspan=\"2\" valign=\"top\">c_o</th>\n      <th rowspan=\"2\" valign=\"top\">4</th>\n      <th>0</th>\n      <td>45</td>\n      <td>45</td>\n      <td>45</td>\n      <td>45</td>\n      <td>45</td>\n      <td>45</td>\n      <td>45</td>\n      <td>45</td>\n      <td>45</td>\n      <td>45</td>\n      <td>45</td>\n      <td>45</td>\n      <td>45</td>\n      <td>45</td>\n    </tr>\n    <tr>\n      <th>1</th>\n      <td>45</td>\n      <td>45</td>\n      <td>45</td>\n      <td>45</td>\n      <td>45</td>\n      <td>45</td>\n      <td>45</td>\n      <td>45</td>\n      <td>45</td>\n      <td>45</td>\n      <td>45</td>\n      <td>45</td>\n      <td>45</td>\n      <td>45</td>\n    </tr>\n    <tr>\n      <th rowspan=\"2\" valign=\"top\">c_si</th>\n      <th rowspan=\"2\" valign=\"top\">5</th>\n      <th>0</th>\n      <td>4</td>\n      <td>4</td>\n      <td>4</td>\n      <td>4</td>\n      <td>4</td>\n      <td>4</td>\n      <td>4</td>\n      <td>4</td>\n      <td>4</td>\n      <td>4</td>\n      <td>4</td>\n      <td>4</td>\n      <td>4</td>\n      <td>4</td>\n    </tr>\n    <tr>\n      <th>1</th>\n      <td>4</td>\n      <td>4</td>\n      <td>4</td>\n      <td>4</td>\n      <td>4</td>\n      <td>4</td>\n      <td>4</td>\n      <td>4</td>\n      <td>4</td>\n      <td>4</td>\n      <td>4</td>\n      <td>4</td>\n      <td>4</td>\n      <td>4</td>\n    </tr>\n    <tr>\n      <th>f_f</th>\n      <th>6</th>\n      <th>0</th>\n      <td>70</td>\n      <td>70</td>\n      <td>70</td>\n      <td>70</td>\n      <td>70</td>\n      <td>70</td>\n      <td>70</td>\n      <td>70</td>\n      <td>70</td>\n      <td>70</td>\n      <td>70</td>\n      <td>70</td>\n      <td>70</td>\n      <td>70</td>\n    </tr>\n    <tr>\n      <th rowspan=\"2\" valign=\"top\">f_h</th>\n      <th rowspan=\"2\" valign=\"top\">7</th>\n      <th>0</th>\n      <td>1</td>\n      <td>1</td>\n      <td>1</td>\n      <td>1</td>\n      <td>1</td>\n      <td>1</td>\n      <td>1</td>\n      <td>1</td>\n      <td>1</td>\n      <td>1</td>\n      <td>1</td>\n      <td>1</td>\n      <td>1</td>\n      <td>1</td>\n    </tr>\n    <tr>\n      <th>1</th>\n      <td>1</td>\n      <td>1</td>\n      <td>1</td>\n      <td>1</td>\n      <td>1</td>\n      <td>1</td>\n      <td>1</td>\n      <td>1</td>\n      <td>1</td>\n      <td>1</td>\n      <td>1</td>\n      <td>1</td>\n      <td>1</td>\n      <td>1</td>\n    </tr>\n    <tr>\n      <th>f_n</th>\n      <th>8</th>\n      <th>0</th>\n      <td>6</td>\n      <td>6</td>\n      <td>6</td>\n      <td>6</td>\n      <td>6</td>\n      <td>6</td>\n      <td>6</td>\n      <td>6</td>\n      <td>6</td>\n      <td>6</td>\n      <td>6</td>\n      <td>6</td>\n      <td>6</td>\n      <td>6</td>\n    </tr>\n    <tr>\n      <th rowspan=\"2\" valign=\"top\">f_o</th>\n      <th rowspan=\"2\" valign=\"top\">9</th>\n      <th>0</th>\n      <td>5</td>\n      <td>5</td>\n      <td>5</td>\n      <td>5</td>\n      <td>5</td>\n      <td>5</td>\n      <td>5</td>\n      <td>5</td>\n      <td>5</td>\n      <td>5</td>\n      <td>5</td>\n      <td>5</td>\n      <td>5</td>\n      <td>5</td>\n    </tr>\n    <tr>\n      <th>1</th>\n      <td>5</td>\n      <td>5</td>\n      <td>5</td>\n      <td>5</td>\n      <td>5</td>\n      <td>5</td>\n      <td>5</td>\n      <td>5</td>\n      <td>5</td>\n      <td>5</td>\n      <td>5</td>\n      <td>5</td>\n      <td>5</td>\n      <td>5</td>\n    </tr>\n    <tr>\n      <th>f_si</th>\n      <th>10</th>\n      <th>0</th>\n      <td>6</td>\n      <td>6</td>\n      <td>6</td>\n      <td>6</td>\n      <td>6</td>\n      <td>6</td>\n      <td>6</td>\n      <td>6</td>\n      <td>6</td>\n      <td>6</td>\n      <td>6</td>\n      <td>6</td>\n      <td>6</td>\n      <td>6</td>\n    </tr>\n    <tr>\n      <th rowspan=\"2\" valign=\"top\">h_h</th>\n      <th rowspan=\"2\" valign=\"top\">11</th>\n      <th>0</th>\n      <td>1</td>\n      <td>1</td>\n      <td>1</td>\n      <td>1</td>\n      <td>1</td>\n      <td>1</td>\n      <td>1</td>\n      <td>1</td>\n      <td>1</td>\n      <td>1</td>\n      <td>1</td>\n      <td>1</td>\n      <td>1</td>\n      <td>1</td>\n    </tr>\n    <tr>\n      <th>1</th>\n      <td>1</td>\n      <td>1</td>\n      <td>1</td>\n      <td>1</td>\n      <td>1</td>\n      <td>1</td>\n      <td>1</td>\n      <td>0</td>\n      <td>1</td>\n      <td>1</td>\n      <td>0</td>\n      <td>1</td>\n      <td>1</td>\n      <td>0</td>\n    </tr>\n    <tr>\n      <th rowspan=\"2\" valign=\"top\">h_n</th>\n      <th rowspan=\"2\" valign=\"top\">12</th>\n      <th>0</th>\n      <td>29</td>\n      <td>29</td>\n      <td>29</td>\n      <td>29</td>\n      <td>29</td>\n      <td>29</td>\n      <td>29</td>\n      <td>29</td>\n      <td>29</td>\n      <td>29</td>\n      <td>29</td>\n      <td>29</td>\n      <td>29</td>\n      <td>29</td>\n    </tr>\n    <tr>\n      <th>1</th>\n      <td>29</td>\n      <td>29</td>\n      <td>29</td>\n      <td>29</td>\n      <td>29</td>\n      <td>29</td>\n      <td>29</td>\n      <td>29</td>\n      <td>29</td>\n      <td>29</td>\n      <td>29</td>\n      <td>29</td>\n      <td>29</td>\n      <td>29</td>\n    </tr>\n    <tr>\n      <th rowspan=\"2\" valign=\"top\">h_o</th>\n      <th rowspan=\"2\" valign=\"top\">13</th>\n      <th>0</th>\n      <td>19</td>\n      <td>19</td>\n      <td>19</td>\n      <td>19</td>\n      <td>19</td>\n      <td>19</td>\n      <td>19</td>\n      <td>19</td>\n      <td>19</td>\n      <td>19</td>\n      <td>19</td>\n      <td>19</td>\n      <td>19</td>\n      <td>19</td>\n    </tr>\n    <tr>\n      <th>1</th>\n      <td>19</td>\n      <td>19</td>\n      <td>19</td>\n      <td>19</td>\n      <td>19</td>\n      <td>19</td>\n      <td>19</td>\n      <td>19</td>\n      <td>19</td>\n      <td>19</td>\n      <td>19</td>\n      <td>19</td>\n      <td>19</td>\n      <td>19</td>\n    </tr>\n    <tr>\n      <th>h_si</th>\n      <th>14</th>\n      <th>0</th>\n      <td>18</td>\n      <td>18</td>\n      <td>18</td>\n      <td>18</td>\n      <td>18</td>\n      <td>18</td>\n      <td>18</td>\n      <td>18</td>\n      <td>18</td>\n      <td>18</td>\n      <td>18</td>\n      <td>18</td>\n      <td>18</td>\n      <td>18</td>\n    </tr>\n    <tr>\n      <th rowspan=\"2\" valign=\"top\">n_n</th>\n      <th rowspan=\"2\" valign=\"top\">15</th>\n      <th>0</th>\n      <td>6</td>\n      <td>6</td>\n      <td>6</td>\n      <td>6</td>\n      <td>6</td>\n      <td>6</td>\n      <td>6</td>\n      <td>6</td>\n      <td>6</td>\n      <td>6</td>\n      <td>6</td>\n      <td>6</td>\n      <td>6</td>\n      <td>6</td>\n    </tr>\n    <tr>\n      <th>1</th>\n      <td>6</td>\n      <td>6</td>\n      <td>6</td>\n      <td>6</td>\n      <td>6</td>\n      <td>6</td>\n      <td>6</td>\n      <td>6</td>\n      <td>6</td>\n      <td>6</td>\n      <td>6</td>\n      <td>6</td>\n      <td>6</td>\n      <td>6</td>\n    </tr>\n    <tr>\n      <th rowspan=\"2\" valign=\"top\">n_o</th>\n      <th rowspan=\"2\" valign=\"top\">16</th>\n      <th>0</th>\n      <td>8</td>\n      <td>8</td>\n      <td>8</td>\n      <td>8</td>\n      <td>8</td>\n      <td>8</td>\n      <td>8</td>\n      <td>8</td>\n      <td>8</td>\n      <td>8</td>\n      <td>8</td>\n      <td>8</td>\n      <td>8</td>\n      <td>8</td>\n    </tr>\n    <tr>\n      <th>1</th>\n      <td>8</td>\n      <td>8</td>\n      <td>8</td>\n      <td>8</td>\n      <td>8</td>\n      <td>8</td>\n      <td>8</td>\n      <td>8</td>\n      <td>8</td>\n      <td>8</td>\n      <td>8</td>\n      <td>8</td>\n      <td>8</td>\n      <td>8</td>\n    </tr>\n    <tr>\n      <th rowspan=\"2\" valign=\"top\">o_o</th>\n      <th rowspan=\"2\" valign=\"top\">17</th>\n      <th>0</th>\n      <td>6</td>\n      <td>6</td>\n      <td>6</td>\n      <td>6</td>\n      <td>6</td>\n      <td>6</td>\n      <td>6</td>\n      <td>6</td>\n      <td>6</td>\n      <td>6</td>\n      <td>6</td>\n      <td>6</td>\n      <td>6</td>\n      <td>6</td>\n    </tr>\n    <tr>\n      <th>1</th>\n      <td>6</td>\n      <td>6</td>\n      <td>6</td>\n      <td>6</td>\n      <td>6</td>\n      <td>6</td>\n      <td>6</td>\n      <td>6</td>\n      <td>6</td>\n      <td>6</td>\n      <td>6</td>\n      <td>6</td>\n      <td>6</td>\n      <td>6</td>\n    </tr>\n  </tbody>\n</table>\n</div>", 
                        "text/plain": "                      cid  aid1  aid2  atom1  atom2  x_1  y_1  z_1  x_2  y_2  \\\npairs pairs_enc bond                                                           \nc_c   0         0     253   253   253    253    253  253  253  253  253  253   \n                1     253   253   253    253    253  253  253  253  253  253   \nc_f   1         0      18    18    18     18     18   18   18   18   18   18   \n                1      18    18    18     18     18   18   18   18   18   18   \nc_h   2         0     600   600   600    600    600  600  600  600  600  600   \n                1     600   600   600    600    600  600  600  600  600  600   \nc_n   3         0     116   116   116    116    116  116  116  116  116  116   \n                1     116   116   116    116    116  116  116  116  116  116   \nc_o   4         0      45    45    45     45     45   45   45   45   45   45   \n                1      45    45    45     45     45   45   45   45   45   45   \nc_si  5         0       4     4     4      4      4    4    4    4    4    4   \n                1       4     4     4      4      4    4    4    4    4    4   \nf_f   6         0      70    70    70     70     70   70   70   70   70   70   \nf_h   7         0       1     1     1      1      1    1    1    1    1    1   \n                1       1     1     1      1      1    1    1    1    1    1   \nf_n   8         0       6     6     6      6      6    6    6    6    6    6   \nf_o   9         0       5     5     5      5      5    5    5    5    5    5   \n                1       5     5     5      5      5    5    5    5    5    5   \nf_si  10        0       6     6     6      6      6    6    6    6    6    6   \nh_h   11        0       1     1     1      1      1    1    1    1    1    1   \n                1       1     1     1      1      1    1    1    0    1    1   \nh_n   12        0      29    29    29     29     29   29   29   29   29   29   \n                1      29    29    29     29     29   29   29   29   29   29   \nh_o   13        0      19    19    19     19     19   19   19   19   19   19   \n                1      19    19    19     19     19   19   19   19   19   19   \nh_si  14        0      18    18    18     18     18   18   18   18   18   18   \nn_n   15        0       6     6     6      6      6    6    6    6    6    6   \n                1       6     6     6      6      6    6    6    6    6    6   \nn_o   16        0       8     8     8      8      8    8    8    8    8    8   \n                1       8     8     8      8      8    8    8    8    8    8   \no_o   17        0       6     6     6      6      6    6    6    6    6    6   \n                1       6     6     6      6      6    6    6    6    6    6   \n\n                      z_2  atom1_charge  atom2_charge  distance  \npairs pairs_enc bond                                             \nc_c   0         0     253           253           253       253  \n                1     253           253           253       253  \nc_f   1         0      18            18            18        18  \n                1      18            18            18        18  \nc_h   2         0     600           600           600       600  \n                1     600           600           600       600  \nc_n   3         0     116           116           116       116  \n                1     116           116           116       116  \nc_o   4         0      45            45            45        45  \n                1      45            45            45        45  \nc_si  5         0       4             4             4         4  \n                1       4             4             4         4  \nf_f   6         0      70            70            70        70  \nf_h   7         0       1             1             1         1  \n                1       1             1             1         1  \nf_n   8         0       6             6             6         6  \nf_o   9         0       5             5             5         5  \n                1       5             5             5         5  \nf_si  10        0       6             6             6         6  \nh_h   11        0       1             1             1         1  \n                1       0             1             1         0  \nh_n   12        0      29            29            29        29  \n                1      29            29            29        29  \nh_o   13        0      19            19            19        19  \n                1      19            19            19        19  \nh_si  14        0      18            18            18        18  \nn_n   15        0       6             6             6         6  \n                1       6             6             6         6  \nn_o   16        0       8             8             8         8  \n                1       8             8             8         8  \no_o   17        0       6             6             6         6  \n                1       6             6             6         6  "
                    }, 
                    "output_type": "execute_result"
                }
            ], 
            "source": "gb=data.groupby(['pairs','pairs_enc','bond']).count()\ngb"
        }, 
        {
            "execution_count": 39, 
            "cell_type": "code", 
            "metadata": {}, 
            "outputs": [
                {
                    "execution_count": 39, 
                    "metadata": {}, 
                    "data": {
                        "text/plain": "(2322, 17)"
                    }, 
                    "output_type": "execute_result"
                }
            ], 
            "source": "data.shape"
        }, 
        {
            "source": "## Remove examples having only one class\nMay not contain any information", 
            "cell_type": "markdown", 
            "metadata": {}
        }, 
        {
            "execution_count": 40, 
            "cell_type": "code", 
            "metadata": {}, 
            "outputs": [
                {
                    "execution_count": 40, 
                    "metadata": {}, 
                    "data": {
                        "text/plain": "[6, 8, 10, 14]"
                    }, 
                    "output_type": "execute_result"
                }
            ], 
            "source": "one_class_pairs"
        }, 
        {
            "execution_count": 41, 
            "cell_type": "code", 
            "metadata": {}, 
            "outputs": [], 
            "source": "for i in one_class_pairs:\n  indices=data[data['pairs_enc']==i].index\n  data.drop(indices,inplace=True)"
        }, 
        {
            "execution_count": 42, 
            "cell_type": "code", 
            "metadata": {}, 
            "outputs": [
                {
                    "execution_count": 42, 
                    "metadata": {}, 
                    "data": {
                        "text/html": "<div>\n<style scoped>\n    .dataframe tbody tr th:only-of-type {\n        vertical-align: middle;\n    }\n\n    .dataframe tbody tr th {\n        vertical-align: top;\n    }\n\n    .dataframe thead th {\n        text-align: right;\n    }\n</style>\n<table border=\"1\" class=\"dataframe\">\n  <thead>\n    <tr style=\"text-align: right;\">\n      <th></th>\n      <th>cid</th>\n      <th>aid1</th>\n      <th>aid2</th>\n      <th>atom1</th>\n      <th>atom2</th>\n      <th>x_1</th>\n      <th>y_1</th>\n      <th>z_1</th>\n      <th>x_2</th>\n      <th>y_2</th>\n      <th>z_2</th>\n      <th>atom1_charge</th>\n      <th>atom2_charge</th>\n      <th>bond</th>\n      <th>pairs</th>\n      <th>pairs_enc</th>\n      <th>distance</th>\n    </tr>\n  </thead>\n  <tbody>\n    <tr>\n      <th>0</th>\n      <td>6324</td>\n      <td>1</td>\n      <td>2</td>\n      <td>C</td>\n      <td>C</td>\n      <td>-0.756</td>\n      <td>0.0</td>\n      <td>0.0</td>\n      <td>0.7560</td>\n      <td>0.0000</td>\n      <td>0.0000</td>\n      <td>0</td>\n      <td>0</td>\n      <td>1</td>\n      <td>c_c</td>\n      <td>0</td>\n      <td>1.512000</td>\n    </tr>\n    <tr>\n      <th>1</th>\n      <td>6324</td>\n      <td>1</td>\n      <td>3</td>\n      <td>C</td>\n      <td>H</td>\n      <td>-0.756</td>\n      <td>0.0</td>\n      <td>0.0</td>\n      <td>-1.1404</td>\n      <td>0.6586</td>\n      <td>0.7845</td>\n      <td>0</td>\n      <td>0</td>\n      <td>1</td>\n      <td>c_h</td>\n      <td>2</td>\n      <td>1.094056</td>\n    </tr>\n    <tr>\n      <th>2</th>\n      <td>6324</td>\n      <td>1</td>\n      <td>4</td>\n      <td>C</td>\n      <td>H</td>\n      <td>-0.756</td>\n      <td>0.0</td>\n      <td>0.0</td>\n      <td>-1.1404</td>\n      <td>0.3501</td>\n      <td>-0.9626</td>\n      <td>0</td>\n      <td>0</td>\n      <td>1</td>\n      <td>c_h</td>\n      <td>2</td>\n      <td>1.094044</td>\n    </tr>\n    <tr>\n      <th>3</th>\n      <td>6324</td>\n      <td>1</td>\n      <td>5</td>\n      <td>C</td>\n      <td>H</td>\n      <td>-0.756</td>\n      <td>0.0</td>\n      <td>0.0</td>\n      <td>-1.1405</td>\n      <td>-1.0087</td>\n      <td>0.1781</td>\n      <td>0</td>\n      <td>0</td>\n      <td>1</td>\n      <td>c_h</td>\n      <td>2</td>\n      <td>1.094091</td>\n    </tr>\n    <tr>\n      <th>8</th>\n      <td>6324</td>\n      <td>2</td>\n      <td>3</td>\n      <td>C</td>\n      <td>H</td>\n      <td>0.756</td>\n      <td>0.0</td>\n      <td>0.0</td>\n      <td>-1.1404</td>\n      <td>0.6586</td>\n      <td>0.7845</td>\n      <td>0</td>\n      <td>0</td>\n      <td>0</td>\n      <td>c_h</td>\n      <td>2</td>\n      <td>2.155349</td>\n    </tr>\n  </tbody>\n</table>\n</div>", 
                        "text/plain": "    cid  aid1  aid2 atom1 atom2    x_1  y_1  z_1     x_2     y_2     z_2  \\\n0  6324     1     2     C     C -0.756  0.0  0.0  0.7560  0.0000  0.0000   \n1  6324     1     3     C     H -0.756  0.0  0.0 -1.1404  0.6586  0.7845   \n2  6324     1     4     C     H -0.756  0.0  0.0 -1.1404  0.3501 -0.9626   \n3  6324     1     5     C     H -0.756  0.0  0.0 -1.1405 -1.0087  0.1781   \n8  6324     2     3     C     H  0.756  0.0  0.0 -1.1404  0.6586  0.7845   \n\n   atom1_charge  atom2_charge  bond pairs  pairs_enc  distance  \n0             0             0     1   c_c          0  1.512000  \n1             0             0     1   c_h          2  1.094056  \n2             0             0     1   c_h          2  1.094044  \n3             0             0     1   c_h          2  1.094091  \n8             0             0     0   c_h          2  2.155349  "
                    }, 
                    "output_type": "execute_result"
                }
            ], 
            "source": "data.head()"
        }, 
        {
            "execution_count": 43, 
            "cell_type": "code", 
            "metadata": {}, 
            "outputs": [
                {
                    "execution_count": 43, 
                    "metadata": {}, 
                    "data": {
                        "text/html": "<div>\n<style scoped>\n    .dataframe tbody tr th:only-of-type {\n        vertical-align: middle;\n    }\n\n    .dataframe tbody tr th {\n        vertical-align: top;\n    }\n\n    .dataframe thead th {\n        text-align: right;\n    }\n</style>\n<table border=\"1\" class=\"dataframe\">\n  <thead>\n    <tr style=\"text-align: right;\">\n      <th></th>\n      <th></th>\n      <th></th>\n      <th>cid</th>\n      <th>aid1</th>\n      <th>aid2</th>\n      <th>atom1</th>\n      <th>atom2</th>\n      <th>x_1</th>\n      <th>y_1</th>\n      <th>z_1</th>\n      <th>x_2</th>\n      <th>y_2</th>\n      <th>z_2</th>\n      <th>atom1_charge</th>\n      <th>atom2_charge</th>\n      <th>distance</th>\n    </tr>\n    <tr>\n      <th>pairs</th>\n      <th>pairs_enc</th>\n      <th>bond</th>\n      <th></th>\n      <th></th>\n      <th></th>\n      <th></th>\n      <th></th>\n      <th></th>\n      <th></th>\n      <th></th>\n      <th></th>\n      <th></th>\n      <th></th>\n      <th></th>\n      <th></th>\n      <th></th>\n    </tr>\n  </thead>\n  <tbody>\n    <tr>\n      <th rowspan=\"2\" valign=\"top\">c_c</th>\n      <th rowspan=\"2\" valign=\"top\">0</th>\n      <th>0</th>\n      <td>253</td>\n      <td>253</td>\n      <td>253</td>\n      <td>253</td>\n      <td>253</td>\n      <td>253</td>\n      <td>253</td>\n      <td>253</td>\n      <td>253</td>\n      <td>253</td>\n      <td>253</td>\n      <td>253</td>\n      <td>253</td>\n      <td>253</td>\n    </tr>\n    <tr>\n      <th>1</th>\n      <td>253</td>\n      <td>253</td>\n      <td>253</td>\n      <td>253</td>\n      <td>253</td>\n      <td>253</td>\n      <td>253</td>\n      <td>253</td>\n      <td>253</td>\n      <td>253</td>\n      <td>253</td>\n      <td>253</td>\n      <td>253</td>\n      <td>253</td>\n    </tr>\n    <tr>\n      <th rowspan=\"2\" valign=\"top\">c_f</th>\n      <th rowspan=\"2\" valign=\"top\">1</th>\n      <th>0</th>\n      <td>18</td>\n      <td>18</td>\n      <td>18</td>\n      <td>18</td>\n      <td>18</td>\n      <td>18</td>\n      <td>18</td>\n      <td>18</td>\n      <td>18</td>\n      <td>18</td>\n      <td>18</td>\n      <td>18</td>\n      <td>18</td>\n      <td>18</td>\n    </tr>\n    <tr>\n      <th>1</th>\n      <td>18</td>\n      <td>18</td>\n      <td>18</td>\n      <td>18</td>\n      <td>18</td>\n      <td>18</td>\n      <td>18</td>\n      <td>18</td>\n      <td>18</td>\n      <td>18</td>\n      <td>18</td>\n      <td>18</td>\n      <td>18</td>\n      <td>18</td>\n    </tr>\n    <tr>\n      <th rowspan=\"2\" valign=\"top\">c_h</th>\n      <th rowspan=\"2\" valign=\"top\">2</th>\n      <th>0</th>\n      <td>600</td>\n      <td>600</td>\n      <td>600</td>\n      <td>600</td>\n      <td>600</td>\n      <td>600</td>\n      <td>600</td>\n      <td>600</td>\n      <td>600</td>\n      <td>600</td>\n      <td>600</td>\n      <td>600</td>\n      <td>600</td>\n      <td>600</td>\n    </tr>\n    <tr>\n      <th>1</th>\n      <td>600</td>\n      <td>600</td>\n      <td>600</td>\n      <td>600</td>\n      <td>600</td>\n      <td>600</td>\n      <td>600</td>\n      <td>600</td>\n      <td>600</td>\n      <td>600</td>\n      <td>600</td>\n      <td>600</td>\n      <td>600</td>\n      <td>600</td>\n    </tr>\n    <tr>\n      <th rowspan=\"2\" valign=\"top\">c_n</th>\n      <th rowspan=\"2\" valign=\"top\">3</th>\n      <th>0</th>\n      <td>116</td>\n      <td>116</td>\n      <td>116</td>\n      <td>116</td>\n      <td>116</td>\n      <td>116</td>\n      <td>116</td>\n      <td>116</td>\n      <td>116</td>\n      <td>116</td>\n      <td>116</td>\n      <td>116</td>\n      <td>116</td>\n      <td>116</td>\n    </tr>\n    <tr>\n      <th>1</th>\n      <td>116</td>\n      <td>116</td>\n      <td>116</td>\n      <td>116</td>\n      <td>116</td>\n      <td>116</td>\n      <td>116</td>\n      <td>116</td>\n      <td>116</td>\n      <td>116</td>\n      <td>116</td>\n      <td>116</td>\n      <td>116</td>\n      <td>116</td>\n    </tr>\n    <tr>\n      <th rowspan=\"2\" valign=\"top\">c_o</th>\n      <th rowspan=\"2\" valign=\"top\">4</th>\n      <th>0</th>\n      <td>45</td>\n      <td>45</td>\n      <td>45</td>\n      <td>45</td>\n      <td>45</td>\n      <td>45</td>\n      <td>45</td>\n      <td>45</td>\n      <td>45</td>\n      <td>45</td>\n      <td>45</td>\n      <td>45</td>\n      <td>45</td>\n      <td>45</td>\n    </tr>\n    <tr>\n      <th>1</th>\n      <td>45</td>\n      <td>45</td>\n      <td>45</td>\n      <td>45</td>\n      <td>45</td>\n      <td>45</td>\n      <td>45</td>\n      <td>45</td>\n      <td>45</td>\n      <td>45</td>\n      <td>45</td>\n      <td>45</td>\n      <td>45</td>\n      <td>45</td>\n    </tr>\n    <tr>\n      <th rowspan=\"2\" valign=\"top\">c_si</th>\n      <th rowspan=\"2\" valign=\"top\">5</th>\n      <th>0</th>\n      <td>4</td>\n      <td>4</td>\n      <td>4</td>\n      <td>4</td>\n      <td>4</td>\n      <td>4</td>\n      <td>4</td>\n      <td>4</td>\n      <td>4</td>\n      <td>4</td>\n      <td>4</td>\n      <td>4</td>\n      <td>4</td>\n      <td>4</td>\n    </tr>\n    <tr>\n      <th>1</th>\n      <td>4</td>\n      <td>4</td>\n      <td>4</td>\n      <td>4</td>\n      <td>4</td>\n      <td>4</td>\n      <td>4</td>\n      <td>4</td>\n      <td>4</td>\n      <td>4</td>\n      <td>4</td>\n      <td>4</td>\n      <td>4</td>\n      <td>4</td>\n    </tr>\n    <tr>\n      <th rowspan=\"2\" valign=\"top\">f_h</th>\n      <th rowspan=\"2\" valign=\"top\">7</th>\n      <th>0</th>\n      <td>1</td>\n      <td>1</td>\n      <td>1</td>\n      <td>1</td>\n      <td>1</td>\n      <td>1</td>\n      <td>1</td>\n      <td>1</td>\n      <td>1</td>\n      <td>1</td>\n      <td>1</td>\n      <td>1</td>\n      <td>1</td>\n      <td>1</td>\n    </tr>\n    <tr>\n      <th>1</th>\n      <td>1</td>\n      <td>1</td>\n      <td>1</td>\n      <td>1</td>\n      <td>1</td>\n      <td>1</td>\n      <td>1</td>\n      <td>1</td>\n      <td>1</td>\n      <td>1</td>\n      <td>1</td>\n      <td>1</td>\n      <td>1</td>\n      <td>1</td>\n    </tr>\n    <tr>\n      <th rowspan=\"2\" valign=\"top\">f_o</th>\n      <th rowspan=\"2\" valign=\"top\">9</th>\n      <th>0</th>\n      <td>5</td>\n      <td>5</td>\n      <td>5</td>\n      <td>5</td>\n      <td>5</td>\n      <td>5</td>\n      <td>5</td>\n      <td>5</td>\n      <td>5</td>\n      <td>5</td>\n      <td>5</td>\n      <td>5</td>\n      <td>5</td>\n      <td>5</td>\n    </tr>\n    <tr>\n      <th>1</th>\n      <td>5</td>\n      <td>5</td>\n      <td>5</td>\n      <td>5</td>\n      <td>5</td>\n      <td>5</td>\n      <td>5</td>\n      <td>5</td>\n      <td>5</td>\n      <td>5</td>\n      <td>5</td>\n      <td>5</td>\n      <td>5</td>\n      <td>5</td>\n    </tr>\n    <tr>\n      <th rowspan=\"2\" valign=\"top\">h_h</th>\n      <th rowspan=\"2\" valign=\"top\">11</th>\n      <th>0</th>\n      <td>1</td>\n      <td>1</td>\n      <td>1</td>\n      <td>1</td>\n      <td>1</td>\n      <td>1</td>\n      <td>1</td>\n      <td>1</td>\n      <td>1</td>\n      <td>1</td>\n      <td>1</td>\n      <td>1</td>\n      <td>1</td>\n      <td>1</td>\n    </tr>\n    <tr>\n      <th>1</th>\n      <td>1</td>\n      <td>1</td>\n      <td>1</td>\n      <td>1</td>\n      <td>1</td>\n      <td>1</td>\n      <td>1</td>\n      <td>0</td>\n      <td>1</td>\n      <td>1</td>\n      <td>0</td>\n      <td>1</td>\n      <td>1</td>\n      <td>0</td>\n    </tr>\n    <tr>\n      <th rowspan=\"2\" valign=\"top\">h_n</th>\n      <th rowspan=\"2\" valign=\"top\">12</th>\n      <th>0</th>\n      <td>29</td>\n      <td>29</td>\n      <td>29</td>\n      <td>29</td>\n      <td>29</td>\n      <td>29</td>\n      <td>29</td>\n      <td>29</td>\n      <td>29</td>\n      <td>29</td>\n      <td>29</td>\n      <td>29</td>\n      <td>29</td>\n      <td>29</td>\n    </tr>\n    <tr>\n      <th>1</th>\n      <td>29</td>\n      <td>29</td>\n      <td>29</td>\n      <td>29</td>\n      <td>29</td>\n      <td>29</td>\n      <td>29</td>\n      <td>29</td>\n      <td>29</td>\n      <td>29</td>\n      <td>29</td>\n      <td>29</td>\n      <td>29</td>\n      <td>29</td>\n    </tr>\n    <tr>\n      <th rowspan=\"2\" valign=\"top\">h_o</th>\n      <th rowspan=\"2\" valign=\"top\">13</th>\n      <th>0</th>\n      <td>19</td>\n      <td>19</td>\n      <td>19</td>\n      <td>19</td>\n      <td>19</td>\n      <td>19</td>\n      <td>19</td>\n      <td>19</td>\n      <td>19</td>\n      <td>19</td>\n      <td>19</td>\n      <td>19</td>\n      <td>19</td>\n      <td>19</td>\n    </tr>\n    <tr>\n      <th>1</th>\n      <td>19</td>\n      <td>19</td>\n      <td>19</td>\n      <td>19</td>\n      <td>19</td>\n      <td>19</td>\n      <td>19</td>\n      <td>19</td>\n      <td>19</td>\n      <td>19</td>\n      <td>19</td>\n      <td>19</td>\n      <td>19</td>\n      <td>19</td>\n    </tr>\n    <tr>\n      <th rowspan=\"2\" valign=\"top\">n_n</th>\n      <th rowspan=\"2\" valign=\"top\">15</th>\n      <th>0</th>\n      <td>6</td>\n      <td>6</td>\n      <td>6</td>\n      <td>6</td>\n      <td>6</td>\n      <td>6</td>\n      <td>6</td>\n      <td>6</td>\n      <td>6</td>\n      <td>6</td>\n      <td>6</td>\n      <td>6</td>\n      <td>6</td>\n      <td>6</td>\n    </tr>\n    <tr>\n      <th>1</th>\n      <td>6</td>\n      <td>6</td>\n      <td>6</td>\n      <td>6</td>\n      <td>6</td>\n      <td>6</td>\n      <td>6</td>\n      <td>6</td>\n      <td>6</td>\n      <td>6</td>\n      <td>6</td>\n      <td>6</td>\n      <td>6</td>\n      <td>6</td>\n    </tr>\n    <tr>\n      <th rowspan=\"2\" valign=\"top\">n_o</th>\n      <th rowspan=\"2\" valign=\"top\">16</th>\n      <th>0</th>\n      <td>8</td>\n      <td>8</td>\n      <td>8</td>\n      <td>8</td>\n      <td>8</td>\n      <td>8</td>\n      <td>8</td>\n      <td>8</td>\n      <td>8</td>\n      <td>8</td>\n      <td>8</td>\n      <td>8</td>\n      <td>8</td>\n      <td>8</td>\n    </tr>\n    <tr>\n      <th>1</th>\n      <td>8</td>\n      <td>8</td>\n      <td>8</td>\n      <td>8</td>\n      <td>8</td>\n      <td>8</td>\n      <td>8</td>\n      <td>8</td>\n      <td>8</td>\n      <td>8</td>\n      <td>8</td>\n      <td>8</td>\n      <td>8</td>\n      <td>8</td>\n    </tr>\n    <tr>\n      <th rowspan=\"2\" valign=\"top\">o_o</th>\n      <th rowspan=\"2\" valign=\"top\">17</th>\n      <th>0</th>\n      <td>6</td>\n      <td>6</td>\n      <td>6</td>\n      <td>6</td>\n      <td>6</td>\n      <td>6</td>\n      <td>6</td>\n      <td>6</td>\n      <td>6</td>\n      <td>6</td>\n      <td>6</td>\n      <td>6</td>\n      <td>6</td>\n      <td>6</td>\n    </tr>\n    <tr>\n      <th>1</th>\n      <td>6</td>\n      <td>6</td>\n      <td>6</td>\n      <td>6</td>\n      <td>6</td>\n      <td>6</td>\n      <td>6</td>\n      <td>6</td>\n      <td>6</td>\n      <td>6</td>\n      <td>6</td>\n      <td>6</td>\n      <td>6</td>\n      <td>6</td>\n    </tr>\n  </tbody>\n</table>\n</div>", 
                        "text/plain": "                      cid  aid1  aid2  atom1  atom2  x_1  y_1  z_1  x_2  y_2  \\\npairs pairs_enc bond                                                           \nc_c   0         0     253   253   253    253    253  253  253  253  253  253   \n                1     253   253   253    253    253  253  253  253  253  253   \nc_f   1         0      18    18    18     18     18   18   18   18   18   18   \n                1      18    18    18     18     18   18   18   18   18   18   \nc_h   2         0     600   600   600    600    600  600  600  600  600  600   \n                1     600   600   600    600    600  600  600  600  600  600   \nc_n   3         0     116   116   116    116    116  116  116  116  116  116   \n                1     116   116   116    116    116  116  116  116  116  116   \nc_o   4         0      45    45    45     45     45   45   45   45   45   45   \n                1      45    45    45     45     45   45   45   45   45   45   \nc_si  5         0       4     4     4      4      4    4    4    4    4    4   \n                1       4     4     4      4      4    4    4    4    4    4   \nf_h   7         0       1     1     1      1      1    1    1    1    1    1   \n                1       1     1     1      1      1    1    1    1    1    1   \nf_o   9         0       5     5     5      5      5    5    5    5    5    5   \n                1       5     5     5      5      5    5    5    5    5    5   \nh_h   11        0       1     1     1      1      1    1    1    1    1    1   \n                1       1     1     1      1      1    1    1    0    1    1   \nh_n   12        0      29    29    29     29     29   29   29   29   29   29   \n                1      29    29    29     29     29   29   29   29   29   29   \nh_o   13        0      19    19    19     19     19   19   19   19   19   19   \n                1      19    19    19     19     19   19   19   19   19   19   \nn_n   15        0       6     6     6      6      6    6    6    6    6    6   \n                1       6     6     6      6      6    6    6    6    6    6   \nn_o   16        0       8     8     8      8      8    8    8    8    8    8   \n                1       8     8     8      8      8    8    8    8    8    8   \no_o   17        0       6     6     6      6      6    6    6    6    6    6   \n                1       6     6     6      6      6    6    6    6    6    6   \n\n                      z_2  atom1_charge  atom2_charge  distance  \npairs pairs_enc bond                                             \nc_c   0         0     253           253           253       253  \n                1     253           253           253       253  \nc_f   1         0      18            18            18        18  \n                1      18            18            18        18  \nc_h   2         0     600           600           600       600  \n                1     600           600           600       600  \nc_n   3         0     116           116           116       116  \n                1     116           116           116       116  \nc_o   4         0      45            45            45        45  \n                1      45            45            45        45  \nc_si  5         0       4             4             4         4  \n                1       4             4             4         4  \nf_h   7         0       1             1             1         1  \n                1       1             1             1         1  \nf_o   9         0       5             5             5         5  \n                1       5             5             5         5  \nh_h   11        0       1             1             1         1  \n                1       0             1             1         0  \nh_n   12        0      29            29            29        29  \n                1      29            29            29        29  \nh_o   13        0      19            19            19        19  \n                1      19            19            19        19  \nn_n   15        0       6             6             6         6  \n                1       6             6             6         6  \nn_o   16        0       8             8             8         8  \n                1       8             8             8         8  \no_o   17        0       6             6             6         6  \n                1       6             6             6         6  "
                    }, 
                    "output_type": "execute_result"
                }
            ], 
            "source": "gb=data.groupby(['pairs','pairs_enc','bond']).count()\ngb"
        }, 
        {
            "execution_count": 44, 
            "cell_type": "code", 
            "metadata": {}, 
            "outputs": [
                {
                    "execution_count": 44, 
                    "metadata": {}, 
                    "data": {
                        "text/plain": "(2222, 17)"
                    }, 
                    "output_type": "execute_result"
                }
            ], 
            "source": "data.shape"
        }, 
        {
            "source": "## Drop columns & rearrange columns", 
            "cell_type": "markdown", 
            "metadata": {}
        }, 
        {
            "execution_count": 45, 
            "cell_type": "code", 
            "metadata": {}, 
            "outputs": [
                {
                    "execution_count": 45, 
                    "metadata": {}, 
                    "data": {
                        "text/plain": "Index(['cid', 'aid1', 'aid2', 'atom1', 'atom2', 'x_1', 'y_1', 'z_1', 'x_2',\n       'y_2', 'z_2', 'atom1_charge', 'atom2_charge', 'bond', 'pairs',\n       'pairs_enc', 'distance'],\n      dtype='object')"
                    }, 
                    "output_type": "execute_result"
                }
            ], 
            "source": "data.columns"
        }, 
        {
            "execution_count": 46, 
            "cell_type": "code", 
            "metadata": {}, 
            "outputs": [], 
            "source": "drop_cols=['cid', 'aid1', 'aid2', 'atom1', 'atom2', 'x_1', 'y_1', 'z_1', 'x_2',\n            'y_2', 'z_2', 'atom1_charge', 'atom2_charge', \n            'pairs',]"
        }, 
        {
            "execution_count": 47, 
            "cell_type": "code", 
            "metadata": {}, 
            "outputs": [], 
            "source": "data=data.drop(columns=drop_cols)"
        }, 
        {
            "execution_count": 48, 
            "cell_type": "code", 
            "metadata": {}, 
            "outputs": [
                {
                    "execution_count": 48, 
                    "metadata": {}, 
                    "data": {
                        "text/plain": "Index(['bond', 'pairs_enc', 'distance'], dtype='object')"
                    }, 
                    "output_type": "execute_result"
                }
            ], 
            "source": "data.columns"
        }, 
        {
            "execution_count": 49, 
            "cell_type": "code", 
            "metadata": {}, 
            "outputs": [], 
            "source": "data=data[['pairs_enc','distance','bond']]"
        }, 
        {
            "execution_count": 50, 
            "cell_type": "code", 
            "metadata": {}, 
            "outputs": [
                {
                    "execution_count": 50, 
                    "metadata": {}, 
                    "data": {
                        "text/html": "<div>\n<style scoped>\n    .dataframe tbody tr th:only-of-type {\n        vertical-align: middle;\n    }\n\n    .dataframe tbody tr th {\n        vertical-align: top;\n    }\n\n    .dataframe thead th {\n        text-align: right;\n    }\n</style>\n<table border=\"1\" class=\"dataframe\">\n  <thead>\n    <tr style=\"text-align: right;\">\n      <th></th>\n      <th>pairs_enc</th>\n      <th>distance</th>\n      <th>bond</th>\n    </tr>\n  </thead>\n  <tbody>\n    <tr>\n      <th>0</th>\n      <td>0</td>\n      <td>1.512000</td>\n      <td>1</td>\n    </tr>\n    <tr>\n      <th>1</th>\n      <td>2</td>\n      <td>1.094056</td>\n      <td>1</td>\n    </tr>\n    <tr>\n      <th>2</th>\n      <td>2</td>\n      <td>1.094044</td>\n      <td>1</td>\n    </tr>\n    <tr>\n      <th>3</th>\n      <td>2</td>\n      <td>1.094091</td>\n      <td>1</td>\n    </tr>\n    <tr>\n      <th>8</th>\n      <td>2</td>\n      <td>2.155349</td>\n      <td>0</td>\n    </tr>\n  </tbody>\n</table>\n</div>", 
                        "text/plain": "   pairs_enc  distance  bond\n0          0  1.512000     1\n1          2  1.094056     1\n2          2  1.094044     1\n3          2  1.094091     1\n8          2  2.155349     0"
                    }, 
                    "output_type": "execute_result"
                }
            ], 
            "source": "data.head()"
        }, 
        {
            "execution_count": 51, 
            "cell_type": "code", 
            "metadata": {}, 
            "outputs": [
                {
                    "execution_count": 51, 
                    "metadata": {}, 
                    "data": {
                        "text/plain": "(2222, 3)"
                    }, 
                    "output_type": "execute_result"
                }
            ], 
            "source": "data.shape"
        }, 
        {
            "source": "# Serialize Data & Preprocessing objects", 
            "cell_type": "markdown", 
            "metadata": {}
        }, 
        {
            "execution_count": 57, 
            "cell_type": "code", 
            "metadata": {}, 
            "outputs": [], 
            "source": "data.to_csv('data_training.csv',index=False)"
        }, 
        {
            "execution_count": 58, 
            "cell_type": "code", 
            "metadata": {}, 
            "outputs": [], 
            "source": "test_data=pd.read_csv('data_training.csv')"
        }, 
        {
            "execution_count": 59, 
            "cell_type": "code", 
            "metadata": {}, 
            "outputs": [
                {
                    "execution_count": 59, 
                    "metadata": {}, 
                    "data": {
                        "text/html": "<div>\n<style scoped>\n    .dataframe tbody tr th:only-of-type {\n        vertical-align: middle;\n    }\n\n    .dataframe tbody tr th {\n        vertical-align: top;\n    }\n\n    .dataframe thead th {\n        text-align: right;\n    }\n</style>\n<table border=\"1\" class=\"dataframe\">\n  <thead>\n    <tr style=\"text-align: right;\">\n      <th></th>\n      <th>pairs_enc</th>\n      <th>distance</th>\n      <th>bond</th>\n    </tr>\n  </thead>\n  <tbody>\n    <tr>\n      <th>0</th>\n      <td>0</td>\n      <td>1.512000</td>\n      <td>1</td>\n    </tr>\n    <tr>\n      <th>1</th>\n      <td>2</td>\n      <td>1.094056</td>\n      <td>1</td>\n    </tr>\n    <tr>\n      <th>2</th>\n      <td>2</td>\n      <td>1.094044</td>\n      <td>1</td>\n    </tr>\n    <tr>\n      <th>3</th>\n      <td>2</td>\n      <td>1.094091</td>\n      <td>1</td>\n    </tr>\n    <tr>\n      <th>4</th>\n      <td>2</td>\n      <td>2.155349</td>\n      <td>0</td>\n    </tr>\n  </tbody>\n</table>\n</div>", 
                        "text/plain": "   pairs_enc  distance  bond\n0          0  1.512000     1\n1          2  1.094056     1\n2          2  1.094044     1\n3          2  1.094091     1\n4          2  2.155349     0"
                    }, 
                    "output_type": "execute_result"
                }
            ], 
            "source": "test_data.head()"
        }, 
        {
            "execution_count": 60, 
            "cell_type": "code", 
            "metadata": {}, 
            "outputs": [
                {
                    "execution_count": 60, 
                    "metadata": {}, 
                    "data": {
                        "text/plain": "(2222, 3)"
                    }, 
                    "output_type": "execute_result"
                }
            ], 
            "source": "test_data.shape"
        }, 
        {
            "execution_count": 61, 
            "cell_type": "code", 
            "metadata": {}, 
            "outputs": [
                {
                    "execution_count": 61, 
                    "metadata": {}, 
                    "data": {
                        "text/html": "<div>\n<style scoped>\n    .dataframe tbody tr th:only-of-type {\n        vertical-align: middle;\n    }\n\n    .dataframe tbody tr th {\n        vertical-align: top;\n    }\n\n    .dataframe thead th {\n        text-align: right;\n    }\n</style>\n<table border=\"1\" class=\"dataframe\">\n  <thead>\n    <tr style=\"text-align: right;\">\n      <th></th>\n      <th></th>\n      <th>distance</th>\n    </tr>\n    <tr>\n      <th>pairs_enc</th>\n      <th>bond</th>\n      <th></th>\n    </tr>\n  </thead>\n  <tbody>\n    <tr>\n      <th rowspan=\"2\" valign=\"top\">0</th>\n      <th>0</th>\n      <td>253</td>\n    </tr>\n    <tr>\n      <th>1</th>\n      <td>253</td>\n    </tr>\n    <tr>\n      <th rowspan=\"2\" valign=\"top\">1</th>\n      <th>0</th>\n      <td>18</td>\n    </tr>\n    <tr>\n      <th>1</th>\n      <td>18</td>\n    </tr>\n    <tr>\n      <th rowspan=\"2\" valign=\"top\">2</th>\n      <th>0</th>\n      <td>600</td>\n    </tr>\n    <tr>\n      <th>1</th>\n      <td>600</td>\n    </tr>\n    <tr>\n      <th rowspan=\"2\" valign=\"top\">3</th>\n      <th>0</th>\n      <td>116</td>\n    </tr>\n    <tr>\n      <th>1</th>\n      <td>116</td>\n    </tr>\n    <tr>\n      <th rowspan=\"2\" valign=\"top\">4</th>\n      <th>0</th>\n      <td>45</td>\n    </tr>\n    <tr>\n      <th>1</th>\n      <td>45</td>\n    </tr>\n    <tr>\n      <th rowspan=\"2\" valign=\"top\">5</th>\n      <th>0</th>\n      <td>4</td>\n    </tr>\n    <tr>\n      <th>1</th>\n      <td>4</td>\n    </tr>\n    <tr>\n      <th rowspan=\"2\" valign=\"top\">7</th>\n      <th>0</th>\n      <td>1</td>\n    </tr>\n    <tr>\n      <th>1</th>\n      <td>1</td>\n    </tr>\n    <tr>\n      <th rowspan=\"2\" valign=\"top\">9</th>\n      <th>0</th>\n      <td>5</td>\n    </tr>\n    <tr>\n      <th>1</th>\n      <td>5</td>\n    </tr>\n    <tr>\n      <th rowspan=\"2\" valign=\"top\">11</th>\n      <th>0</th>\n      <td>1</td>\n    </tr>\n    <tr>\n      <th>1</th>\n      <td>0</td>\n    </tr>\n    <tr>\n      <th rowspan=\"2\" valign=\"top\">12</th>\n      <th>0</th>\n      <td>29</td>\n    </tr>\n    <tr>\n      <th>1</th>\n      <td>29</td>\n    </tr>\n    <tr>\n      <th rowspan=\"2\" valign=\"top\">13</th>\n      <th>0</th>\n      <td>19</td>\n    </tr>\n    <tr>\n      <th>1</th>\n      <td>19</td>\n    </tr>\n    <tr>\n      <th rowspan=\"2\" valign=\"top\">15</th>\n      <th>0</th>\n      <td>6</td>\n    </tr>\n    <tr>\n      <th>1</th>\n      <td>6</td>\n    </tr>\n    <tr>\n      <th rowspan=\"2\" valign=\"top\">16</th>\n      <th>0</th>\n      <td>8</td>\n    </tr>\n    <tr>\n      <th>1</th>\n      <td>8</td>\n    </tr>\n    <tr>\n      <th rowspan=\"2\" valign=\"top\">17</th>\n      <th>0</th>\n      <td>6</td>\n    </tr>\n    <tr>\n      <th>1</th>\n      <td>6</td>\n    </tr>\n  </tbody>\n</table>\n</div>", 
                        "text/plain": "                distance\npairs_enc bond          \n0         0          253\n          1          253\n1         0           18\n          1           18\n2         0          600\n          1          600\n3         0          116\n          1          116\n4         0           45\n          1           45\n5         0            4\n          1            4\n7         0            1\n          1            1\n9         0            5\n          1            5\n11        0            1\n          1            0\n12        0           29\n          1           29\n13        0           19\n          1           19\n15        0            6\n          1            6\n16        0            8\n          1            8\n17        0            6\n          1            6"
                    }, 
                    "output_type": "execute_result"
                }
            ], 
            "source": "test_data.groupby(['pairs_enc','bond']).count()"
        }, 
        {
            "execution_count": 62, 
            "cell_type": "code", 
            "metadata": {}, 
            "outputs": [
                {
                    "execution_count": 62, 
                    "metadata": {}, 
                    "data": {
                        "text/plain": "{'c_c': 0,\n 'c_f': 1,\n 'c_h': 2,\n 'c_n': 3,\n 'c_o': 4,\n 'c_si': 5,\n 'f_f': 6,\n 'f_h': 7,\n 'f_n': 8,\n 'f_o': 9,\n 'f_si': 10,\n 'h_h': 11,\n 'h_n': 12,\n 'h_o': 13,\n 'h_si': 14,\n 'n_n': 15,\n 'n_o': 16,\n 'o_o': 17}"
                    }, 
                    "output_type": "execute_result"
                }
            ], 
            "source": "pairs_dict"
        }, 
        {
            "execution_count": 63, 
            "cell_type": "code", 
            "metadata": {}, 
            "outputs": [], 
            "source": "pickle.dump(le,open('pairs_dict.pkl','wb'))"
        }, 
        {
            "execution_count": 64, 
            "cell_type": "code", 
            "metadata": {}, 
            "outputs": [], 
            "source": "test_le=pickle.load(open('pairs_dict.pkl','rb'))"
        }, 
        {
            "execution_count": 65, 
            "cell_type": "code", 
            "metadata": {}, 
            "outputs": [
                {
                    "execution_count": 65, 
                    "metadata": {}, 
                    "data": {
                        "text/plain": "{'c_c': 0,\n 'c_f': 1,\n 'c_h': 2,\n 'c_n': 3,\n 'c_o': 4,\n 'c_si': 5,\n 'f_f': 6,\n 'f_h': 7,\n 'f_n': 8,\n 'f_o': 9,\n 'f_si': 10,\n 'h_h': 11,\n 'h_n': 12,\n 'h_o': 13,\n 'h_si': 14,\n 'n_n': 15,\n 'n_o': 16,\n 'o_o': 17}"
                    }, 
                    "output_type": "execute_result"
                }
            ], 
            "source": "pairs_dict"
        }, 
        {
            "source": "# Upload to IBM Object Store", 
            "cell_type": "markdown", 
            "metadata": {}
        }, 
        {
            "execution_count": 66, 
            "cell_type": "code", 
            "metadata": {}, 
            "outputs": [
                {
                    "output_type": "stream", 
                    "name": "stdout", 
                    "text": "10390.png      13568.png   24529.png\t6325.png   69319.png  887.png\r\n106705.png     137201.png  24547.png\t6329.png   74209.png  9237.png\r\n11269.png      140746.png  24823.png\t6335.png   74348.png  931.png\r\n1146.png       143710.png  3283.png\t6360.png   7732.png   9964.png\r\n11473.png      144018.png  33558.png\t6375.png   77628.png  996.png\r\n11638.png      14917.png   5206.png\t6386.png   783.png    BASKVILL.TTF\r\n11646.png      176.png\t   5365279.png\t6393.png   7845.png   data_raw.csv\r\n12228.png      177.png\t   552549.png\t6410.png   784.png    data_training.csv\r\n12246.png      18196.png   566545.png\t6569.png   7929.png   pairs_dict.pkl\r\n123257.png     222.png\t   5962.png\t66074.png  7952.png\r\n123502.png     240.png\t   6115.png\t66978.png  8033.png\r\n127602.png     241.png\t   6319.png\t67180.png  8053.png\r\n135504501.png  243.png\t   6324.png\t674.png    8058.png\r\n"
                }
            ], 
            "source": "!ls"
        }, 
        {
            "execution_count": 67, 
            "cell_type": "code", 
            "metadata": {}, 
            "outputs": [], 
            "source": "# The code was removed by Watson Studio for sharing."
        }, 
        {
            "execution_count": 68, 
            "cell_type": "code", 
            "metadata": {}, 
            "outputs": [
                {
                    "output_type": "stream", 
                    "name": "stdout", 
                    "text": "File Uploaded\n"
                }
            ], 
            "source": "upload_file_cos(credentials_1,'data_training.csv','data_training.csv')"
        }, 
        {
            "execution_count": 69, 
            "cell_type": "code", 
            "metadata": {}, 
            "outputs": [
                {
                    "output_type": "stream", 
                    "name": "stdout", 
                    "text": "File Uploaded\n"
                }
            ], 
            "source": "upload_file_cos(credentials_1,'pairs_dict.pkl','pairs_dict.pkl')"
        }, 
        {
            "source": "## Upload Label Encoder to Coursera/Kaggle project bucket", 
            "cell_type": "markdown", 
            "metadata": {}
        }, 
        {
            "execution_count": 71, 
            "cell_type": "code", 
            "metadata": {}, 
            "outputs": [], 
            "source": "# The code was removed by Watson Studio for sharing."
        }, 
        {
            "execution_count": 72, 
            "cell_type": "code", 
            "metadata": {}, 
            "outputs": [
                {
                    "output_type": "stream", 
                    "name": "stdout", 
                    "text": "File Uploaded\n"
                }
            ], 
            "source": "upload_file_cos(credentials_2,'pairs_dict.pkl','pairs_dict.pkl')"
        }, 
        {
            "execution_count": 73, 
            "cell_type": "code", 
            "metadata": {}, 
            "outputs": [
                {
                    "output_type": "stream", 
                    "name": "stdout", 
                    "text": "File Downloaded\n"
                }
            ], 
            "source": "download_file_cos(credentials_1,'pairs_dict.pkl','pairs_dict.pkl')"
        }, 
        {
            "execution_count": 74, 
            "cell_type": "code", 
            "metadata": {}, 
            "outputs": [
                {
                    "output_type": "stream", 
                    "name": "stdout", 
                    "text": "10390.png      13568.png   24529.png\t6325.png   69319.png  887.png\r\n106705.png     137201.png  24547.png\t6329.png   74209.png  9237.png\r\n11269.png      140746.png  24823.png\t6335.png   74348.png  931.png\r\n1146.png       143710.png  3283.png\t6360.png   7732.png   9964.png\r\n11473.png      144018.png  33558.png\t6375.png   77628.png  996.png\r\n11638.png      14917.png   5206.png\t6386.png   783.png    BASKVILL.TTF\r\n11646.png      176.png\t   5365279.png\t6393.png   7845.png   data_raw.csv\r\n12228.png      177.png\t   552549.png\t6410.png   784.png    data_training.csv\r\n12246.png      18196.png   566545.png\t6569.png   7929.png   pairs_dict.pkl\r\n123257.png     222.png\t   5962.png\t66074.png  7952.png\r\n123502.png     240.png\t   6115.png\t66978.png  8033.png\r\n127602.png     241.png\t   6319.png\t67180.png  8053.png\r\n135504501.png  243.png\t   6324.png\t674.png    8058.png\r\n"
                }
            ], 
            "source": "!ls"
        }, 
        {
            "execution_count": null, 
            "cell_type": "code", 
            "metadata": {}, 
            "outputs": [], 
            "source": ""
        }
    ], 
    "metadata": {
        "kernelspec": {
            "display_name": "Python 3.6", 
            "name": "python3", 
            "language": "python"
        }, 
        "language_info": {
            "mimetype": "text/x-python", 
            "nbconvert_exporter": "python", 
            "version": "3.6.8", 
            "name": "python", 
            "file_extension": ".py", 
            "pygments_lexer": "ipython3", 
            "codemirror_mode": {
                "version": 3, 
                "name": "ipython"
            }
        }
    }, 
    "nbformat": 4
}