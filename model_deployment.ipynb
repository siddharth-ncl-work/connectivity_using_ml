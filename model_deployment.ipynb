{
    "nbformat_minor": 1, 
    "cells": [
        {
            "source": "# ** Will be implemented in future if required\n### Right now this notebook will be used for checking the uploaded model to IBM object store", 
            "cell_type": "markdown", 
            "metadata": {}
        }, 
        {
            "source": "## Download model and data", 
            "cell_type": "markdown", 
            "metadata": {}
        }, 
        {
            "execution_count": null, 
            "cell_type": "code", 
            "metadata": {}, 
            "outputs": [], 
            "source": "# The code was removed by Watson Studio for sharing."
        }, 
        {
            "execution_count": 1, 
            "cell_type": "code", 
            "metadata": {}, 
            "outputs": [], 
            "source": "from ibm_botocore.client import Config\nimport ibm_boto3\ndef download_file_cos(credentials,local_file_name,key):  \n    cos = ibm_boto3.client(service_name='s3',\n    ibm_api_key_id=credentials['IBM_API_KEY_ID'],\n    ibm_service_instance_id=credentials['IAM_SERVICE_ID'],\n    ibm_auth_endpoint=credentials['IBM_AUTH_ENDPOINT'],\n    config=Config(signature_version='oauth'),\n    endpoint_url=credentials['ENDPOINT'])\n    try:\n        res=cos.download_file(Bucket=credentials['BUCKET'],Key=key,Filename=local_file_name)\n    except Exception as e:\n        print(Exception, e)\n    else:\n        print('File Downloaded')"
        }, 
        {
            "execution_count": 2, 
            "cell_type": "code", 
            "metadata": {}, 
            "outputs": [
                {
                    "output_type": "stream", 
                    "name": "stdout", 
                    "text": "10390.png      13568.png   24529.png\t6325.png   69319.png  887.png\r\n106705.png     137201.png  24547.png\t6329.png   74209.png  9237.png\r\n11269.png      140746.png  24823.png\t6335.png   74348.png  931.png\r\n1146.png       143710.png  3283.png\t6360.png   7732.png   9964.png\r\n11473.png      144018.png  33558.png\t6375.png   77628.png  996.png\r\n11638.png      14917.png   5206.png\t6386.png   783.png    BASKVILL.TTF\r\n11646.png      176.png\t   5365279.png\t6393.png   7845.png   data_raw.csv\r\n12228.png      177.png\t   552549.png\t6410.png   784.png    data_training.csv\r\n12246.png      18196.png   566545.png\t6569.png   7929.png   pairs_dict.pkl\r\n123257.png     222.png\t   5962.png\t66074.png  7952.png\r\n123502.png     240.png\t   6115.png\t66978.png  8033.png\r\n127602.png     241.png\t   6319.png\t67180.png  8053.png\r\n135504501.png  243.png\t   6324.png\t674.png    8058.png\r\n"
                }
            ], 
            "source": "!rm connectivity_model_nn_03.h5\n!ls"
        }, 
        {
            "execution_count": 3, 
            "cell_type": "code", 
            "metadata": {}, 
            "outputs": [
                {
                    "output_type": "stream", 
                    "name": "stdout", 
                    "text": "File Downloaded\n10390.png      140746.png  33558.png\t6393.png   7929.png\n106705.png     143710.png  5206.png\t6410.png   7952.png\n11269.png      144018.png  5365279.png\t6569.png   8033.png\n1146.png       14917.png   552549.png\t66074.png  8053.png\n11473.png      176.png\t   566545.png\t66978.png  8058.png\n11638.png      177.png\t   5962.png\t67180.png  887.png\n11646.png      18196.png   6115.png\t674.png    9237.png\n12228.png      222.png\t   6319.png\t69319.png  931.png\n12246.png      240.png\t   6324.png\t74209.png  9964.png\n123257.png     241.png\t   6325.png\t74348.png  996.png\n123502.png     243.png\t   6329.png\t7732.png   BASKVILL.TTF\n127602.png     24529.png   6335.png\t77628.png  connectivity_model_nn_03.h5\n135504501.png  24547.png   6360.png\t783.png    data_raw.csv\n13568.png      24823.png   6375.png\t7845.png   data_training.csv\n137201.png     3283.png    6386.png\t784.png    pairs_dict.pkl\n"
                }
            ], 
            "source": "download_file_cos(credentials_1, 'connectivity_model_nn_03.h5', 'connectivity_model_nn_03.h5')\n!ls"
        }, 
        {
            "execution_count": 4, 
            "cell_type": "code", 
            "metadata": {}, 
            "outputs": [
                {
                    "output_type": "stream", 
                    "name": "stdout", 
                    "text": "File Downloaded\n10390.png      140746.png  33558.png\t6393.png   7929.png\n106705.png     143710.png  5206.png\t6410.png   7952.png\n11269.png      144018.png  5365279.png\t6569.png   8033.png\n1146.png       14917.png   552549.png\t66074.png  8053.png\n11473.png      176.png\t   566545.png\t66978.png  8058.png\n11638.png      177.png\t   5962.png\t67180.png  887.png\n11646.png      18196.png   6115.png\t674.png    9237.png\n12228.png      222.png\t   6319.png\t69319.png  931.png\n12246.png      240.png\t   6324.png\t74209.png  9964.png\n123257.png     241.png\t   6325.png\t74348.png  996.png\n123502.png     243.png\t   6329.png\t7732.png   BASKVILL.TTF\n127602.png     24529.png   6335.png\t77628.png  connectivity_model_nn_03.h5\n135504501.png  24547.png   6360.png\t783.png    data_raw.csv\n13568.png      24823.png   6375.png\t7845.png   data_training.csv\n137201.png     3283.png    6386.png\t784.png    pairs_dict.pkl\n"
                }
            ], 
            "source": "download_file_cos(credentials_1, 'data_training.csv', 'data_training.csv')\n!ls"
        }, 
        {
            "execution_count": 5, 
            "cell_type": "code", 
            "metadata": {}, 
            "outputs": [
                {
                    "output_type": "stream", 
                    "name": "stdout", 
                    "text": "pairs_enc,distance,bond\r\n0,1.5119999999999998,1\r\n2,1.0940555607463451,1\r\n2,1.0940439342183659,1\r\n2,1.0940911982097288,1\r\n2,2.1553485031428212,0\r\n2,1.0940439342183659,1\r\n2,1.0940911982097288,1\r\n2,1.0940555607463451,1\r\n2,1.0940439342183659,0\r\n"
                }
            ], 
            "source": "!head -10 data_training.csv"
        }, 
        {
            "source": "## Check model performance", 
            "cell_type": "markdown", 
            "metadata": {}
        }, 
        {
            "execution_count": 5, 
            "cell_type": "code", 
            "metadata": {}, 
            "outputs": [
                {
                    "output_type": "stream", 
                    "name": "stderr", 
                    "text": "Using TensorFlow backend.\n"
                }
            ], 
            "source": "import pandas as pd\nimport numpy as np\nimport tensorflow as tf\nfrom tensorflow import keras\nfrom keras.models import load_model\nimport pickle"
        }, 
        {
            "execution_count": 11, 
            "cell_type": "code", 
            "metadata": {}, 
            "outputs": [
                {
                    "execution_count": 11, 
                    "metadata": {}, 
                    "data": {
                        "text/plain": "'1.13.1'"
                    }, 
                    "output_type": "execute_result"
                }
            ], 
            "source": "tf.__version__"
        }, 
        {
            "execution_count": 7, 
            "cell_type": "code", 
            "metadata": {}, 
            "outputs": [
                {
                    "output_type": "stream", 
                    "name": "stdout", 
                    "text": "WARNING:tensorflow:From /opt/conda/envs/Python36/lib/python3.6/site-packages/tensorflow/python/ops/resource_variable_ops.py:435: colocate_with (from tensorflow.python.framework.ops) is deprecated and will be removed in a future version.\nInstructions for updating:\nColocations handled automatically by placer.\nWARNING:tensorflow:From /opt/conda/envs/Python36/lib/python3.6/site-packages/tensorflow/python/ops/math_ops.py:3066: to_int32 (from tensorflow.python.ops.math_ops) is deprecated and will be removed in a future version.\nInstructions for updating:\nUse tf.cast instead.\n"
                }
            ], 
            "source": "model_nn=tf.keras.models.load_model('connectivity_model_nn_03.h5',custom_objects=None,compile=True)"
        }, 
        {
            "execution_count": 8, 
            "cell_type": "code", 
            "metadata": {}, 
            "outputs": [], 
            "source": "data_training=pd.read_csv('data_training.csv')"
        }, 
        {
            "execution_count": 9, 
            "cell_type": "code", 
            "metadata": {}, 
            "outputs": [
                {
                    "execution_count": 9, 
                    "metadata": {}, 
                    "data": {
                        "text/html": "<div>\n<style scoped>\n    .dataframe tbody tr th:only-of-type {\n        vertical-align: middle;\n    }\n\n    .dataframe tbody tr th {\n        vertical-align: top;\n    }\n\n    .dataframe thead th {\n        text-align: right;\n    }\n</style>\n<table border=\"1\" class=\"dataframe\">\n  <thead>\n    <tr style=\"text-align: right;\">\n      <th></th>\n      <th>pairs_enc</th>\n      <th>distance</th>\n      <th>bond</th>\n    </tr>\n  </thead>\n  <tbody>\n    <tr>\n      <th>0</th>\n      <td>0</td>\n      <td>1.512000</td>\n      <td>1</td>\n    </tr>\n    <tr>\n      <th>1</th>\n      <td>2</td>\n      <td>1.094056</td>\n      <td>1</td>\n    </tr>\n    <tr>\n      <th>2</th>\n      <td>2</td>\n      <td>1.094044</td>\n      <td>1</td>\n    </tr>\n    <tr>\n      <th>3</th>\n      <td>2</td>\n      <td>1.094091</td>\n      <td>1</td>\n    </tr>\n    <tr>\n      <th>4</th>\n      <td>2</td>\n      <td>2.155349</td>\n      <td>0</td>\n    </tr>\n  </tbody>\n</table>\n</div>", 
                        "text/plain": "   pairs_enc  distance  bond\n0          0  1.512000     1\n1          2  1.094056     1\n2          2  1.094044     1\n3          2  1.094091     1\n4          2  2.155349     0"
                    }, 
                    "output_type": "execute_result"
                }
            ], 
            "source": "data_training.head()"
        }, 
        {
            "execution_count": 10, 
            "cell_type": "code", 
            "metadata": {}, 
            "outputs": [
                {
                    "execution_count": 10, 
                    "metadata": {}, 
                    "data": {
                        "text/plain": "(2222, 3)"
                    }, 
                    "output_type": "execute_result"
                }
            ], 
            "source": "data_training.shape"
        }, 
        {
            "execution_count": 11, 
            "cell_type": "code", 
            "metadata": {}, 
            "outputs": [], 
            "source": "y=data_training['bond']"
        }, 
        {
            "execution_count": 12, 
            "cell_type": "code", 
            "metadata": {}, 
            "outputs": [], 
            "source": "x=data_training.drop('bond',axis=1)"
        }, 
        {
            "execution_count": 13, 
            "cell_type": "code", 
            "metadata": {}, 
            "outputs": [
                {
                    "execution_count": 13, 
                    "metadata": {}, 
                    "data": {
                        "text/html": "<div>\n<style scoped>\n    .dataframe tbody tr th:only-of-type {\n        vertical-align: middle;\n    }\n\n    .dataframe tbody tr th {\n        vertical-align: top;\n    }\n\n    .dataframe thead th {\n        text-align: right;\n    }\n</style>\n<table border=\"1\" class=\"dataframe\">\n  <thead>\n    <tr style=\"text-align: right;\">\n      <th></th>\n      <th>pairs_enc</th>\n      <th>distance</th>\n    </tr>\n  </thead>\n  <tbody>\n    <tr>\n      <th>0</th>\n      <td>0</td>\n      <td>1.512000</td>\n    </tr>\n    <tr>\n      <th>1</th>\n      <td>2</td>\n      <td>1.094056</td>\n    </tr>\n    <tr>\n      <th>2</th>\n      <td>2</td>\n      <td>1.094044</td>\n    </tr>\n    <tr>\n      <th>3</th>\n      <td>2</td>\n      <td>1.094091</td>\n    </tr>\n    <tr>\n      <th>4</th>\n      <td>2</td>\n      <td>2.155349</td>\n    </tr>\n  </tbody>\n</table>\n</div>", 
                        "text/plain": "   pairs_enc  distance\n0          0  1.512000\n1          2  1.094056\n2          2  1.094044\n3          2  1.094091\n4          2  2.155349"
                    }, 
                    "output_type": "execute_result"
                }
            ], 
            "source": "x.head()"
        }, 
        {
            "execution_count": 14, 
            "cell_type": "code", 
            "metadata": {}, 
            "outputs": [
                {
                    "output_type": "stream", 
                    "name": "stdout", 
                    "text": "2222/2222 [==============================] - 7s 3ms/sample - loss: nan - acc: 0.8740\n"
                }, 
                {
                    "execution_count": 14, 
                    "metadata": {}, 
                    "data": {
                        "text/plain": "[nan, 0.8739874]"
                    }, 
                    "output_type": "execute_result"
                }
            ], 
            "source": "model_nn.evaluate(x,y)"
        }, 
        {
            "source": "# pairs_dict", 
            "cell_type": "markdown", 
            "metadata": {}
        }, 
        {
            "execution_count": 2, 
            "cell_type": "code", 
            "metadata": {}, 
            "outputs": [], 
            "source": "# The code was removed by Watson Studio for sharing."
        }, 
        {
            "execution_count": 3, 
            "cell_type": "code", 
            "metadata": {}, 
            "outputs": [
                {
                    "output_type": "stream", 
                    "name": "stdout", 
                    "text": "File Downloaded\n"
                }
            ], 
            "source": "download_file_cos(credentials_2, 'pairs_dict.pkl', 'pairs_dict.pkl')"
        }, 
        {
            "execution_count": 6, 
            "cell_type": "code", 
            "metadata": {}, 
            "outputs": [], 
            "source": "with open('pairs_dict.pkl','rb') as f:\n    pairs_dict=pickle.load(f)"
        }, 
        {
            "execution_count": 7, 
            "cell_type": "code", 
            "metadata": {}, 
            "outputs": [
                {
                    "execution_count": 7, 
                    "metadata": {}, 
                    "data": {
                        "text/plain": "{'c_c': 0,\n 'c_f': 1,\n 'c_h': 2,\n 'c_n': 3,\n 'c_o': 4,\n 'c_si': 5,\n 'f_f': 6,\n 'f_h': 7,\n 'f_n': 8,\n 'f_o': 9,\n 'f_si': 10,\n 'h_h': 11,\n 'h_n': 12,\n 'h_o': 13,\n 'h_si': 14,\n 'n_n': 15,\n 'n_o': 16,\n 'o_o': 17}"
                    }, 
                    "output_type": "execute_result"
                }
            ], 
            "source": "pairs_dict"
        }, 
        {
            "source": "# Decision Boundary", 
            "cell_type": "markdown", 
            "metadata": {}
        }, 
        {
            "source": "## 1.C-H", 
            "cell_type": "markdown", 
            "metadata": {}
        }, 
        {
            "execution_count": 1, 
            "cell_type": "code", 
            "metadata": {}, 
            "outputs": [], 
            "source": "# The code was removed by Watson Studio for sharing."
        }, 
        {
            "execution_count": 2, 
            "cell_type": "code", 
            "metadata": {}, 
            "outputs": [], 
            "source": "from ibm_botocore.client import Config\nimport ibm_boto3\ndef download_file_cos(credentials,local_file_name,key):  \n    cos = ibm_boto3.client(service_name='s3',\n    ibm_api_key_id=credentials['IBM_API_KEY_ID'],\n    ibm_service_instance_id=credentials['IAM_SERVICE_ID'],\n    ibm_auth_endpoint=credentials['IBM_AUTH_ENDPOINT'],\n    config=Config(signature_version='oauth'),\n    endpoint_url=credentials['ENDPOINT'])\n    try:\n        res=cos.download_file(Bucket=credentials['BUCKET'],Key=key,Filename=local_file_name)\n    except Exception as e:\n        print(Exception, e)\n    else:\n        print('File Downloaded')"
        }, 
        {
            "execution_count": 3, 
            "cell_type": "code", 
            "metadata": {}, 
            "outputs": [], 
            "source": "!ls"
        }, 
        {
            "execution_count": 4, 
            "cell_type": "code", 
            "metadata": {}, 
            "outputs": [
                {
                    "output_type": "stream", 
                    "name": "stdout", 
                    "text": "File Downloaded\nFile Downloaded\nconnectivity_model_nn_03.h5  pairs_dict.pkl\n"
                }
            ], 
            "source": "download_file_cos(credentials_1, 'connectivity_model_nn_03.h5', 'connectivity_model_nn_03.h5')\ndownload_file_cos(credentials_1, 'pairs_dict.pkl', 'pairs_dict.pkl')\n!ls"
        }, 
        {
            "execution_count": 6, 
            "cell_type": "code", 
            "metadata": {}, 
            "outputs": [
                {
                    "output_type": "stream", 
                    "name": "stderr", 
                    "text": "Using TensorFlow backend.\n"
                }
            ], 
            "source": "import pandas as pd\nimport numpy as np\nimport matplotlib.pyplot as plt\nimport tensorflow as tf\nfrom tensorflow import keras\nfrom keras.models import load_model\nimport pickle"
        }, 
        {
            "execution_count": 7, 
            "cell_type": "code", 
            "metadata": {}, 
            "outputs": [
                {
                    "execution_count": 7, 
                    "metadata": {}, 
                    "data": {
                        "text/plain": "'1.13.1'"
                    }, 
                    "output_type": "execute_result"
                }
            ], 
            "source": "tf.__version__"
        }, 
        {
            "execution_count": 8, 
            "cell_type": "code", 
            "metadata": {}, 
            "outputs": [], 
            "source": "with open('pairs_dict.pkl','rb') as f:\n    pairs_dict=pickle.load(f)"
        }, 
        {
            "execution_count": 9, 
            "cell_type": "code", 
            "metadata": {}, 
            "outputs": [
                {
                    "execution_count": 9, 
                    "metadata": {}, 
                    "data": {
                        "text/plain": "{'c_c': 0,\n 'c_f': 1,\n 'c_h': 2,\n 'c_n': 3,\n 'c_o': 4,\n 'c_si': 5,\n 'f_f': 6,\n 'f_h': 7,\n 'f_n': 8,\n 'f_o': 9,\n 'f_si': 10,\n 'h_h': 11,\n 'h_n': 12,\n 'h_o': 13,\n 'h_si': 14,\n 'n_n': 15,\n 'n_o': 16,\n 'o_o': 17}"
                    }, 
                    "output_type": "execute_result"
                }
            ], 
            "source": "pairs_dict"
        }, 
        {
            "execution_count": 10, 
            "cell_type": "code", 
            "metadata": {}, 
            "outputs": [
                {
                    "output_type": "stream", 
                    "name": "stdout", 
                    "text": "WARNING:tensorflow:From /opt/conda/envs/Python36/lib/python3.6/site-packages/tensorflow/python/ops/resource_variable_ops.py:435: colocate_with (from tensorflow.python.framework.ops) is deprecated and will be removed in a future version.\nInstructions for updating:\nColocations handled automatically by placer.\nWARNING:tensorflow:From /opt/conda/envs/Python36/lib/python3.6/site-packages/tensorflow/python/ops/math_ops.py:3066: to_int32 (from tensorflow.python.ops.math_ops) is deprecated and will be removed in a future version.\nInstructions for updating:\nUse tf.cast instead.\n"
                }
            ], 
            "source": "model_nn=tf.keras.models.load_model('connectivity_model_nn_03.h5',custom_objects=None,compile=True)"
        }, 
        {
            "execution_count": 15, 
            "cell_type": "code", 
            "metadata": {}, 
            "outputs": [
                {
                    "execution_count": 15, 
                    "metadata": {}, 
                    "data": {
                        "text/html": "<div>\n<style scoped>\n    .dataframe tbody tr th:only-of-type {\n        vertical-align: middle;\n    }\n\n    .dataframe tbody tr th {\n        vertical-align: top;\n    }\n\n    .dataframe thead th {\n        text-align: right;\n    }\n</style>\n<table border=\"1\" class=\"dataframe\">\n  <thead>\n    <tr style=\"text-align: right;\">\n      <th></th>\n      <th>pair_enc</th>\n      <th>distance</th>\n    </tr>\n  </thead>\n  <tbody>\n    <tr>\n      <th>0</th>\n      <td>2</td>\n      <td>0.100000</td>\n    </tr>\n    <tr>\n      <th>1</th>\n      <td>2</td>\n      <td>0.102903</td>\n    </tr>\n    <tr>\n      <th>2</th>\n      <td>2</td>\n      <td>0.105806</td>\n    </tr>\n    <tr>\n      <th>3</th>\n      <td>2</td>\n      <td>0.108709</td>\n    </tr>\n    <tr>\n      <th>4</th>\n      <td>2</td>\n      <td>0.111612</td>\n    </tr>\n  </tbody>\n</table>\n</div>", 
                        "text/plain": "   pair_enc  distance\n0         2  0.100000\n1         2  0.102903\n2         2  0.105806\n3         2  0.108709\n4         2  0.111612"
                    }, 
                    "output_type": "execute_result"
                }
            ], 
            "source": "num_points=1000\ndata={}\ndata['pair_enc']=[2]*num_points\ndata['distance']=np.linspace(0.1,3,1000)\nx=pd.DataFrame.from_dict(data)\nx.head()"
        }, 
        {
            "execution_count": 19, 
            "cell_type": "code", 
            "metadata": {}, 
            "outputs": [], 
            "source": "pred_prob=model_nn.predict(x)\npred_class=model_nn.predict_classes(x)"
        }, 
        {
            "execution_count": 20, 
            "cell_type": "code", 
            "metadata": {}, 
            "outputs": [
                {
                    "execution_count": 20, 
                    "metadata": {}, 
                    "data": {
                        "text/html": "<div>\n<style scoped>\n    .dataframe tbody tr th:only-of-type {\n        vertical-align: middle;\n    }\n\n    .dataframe tbody tr th {\n        vertical-align: top;\n    }\n\n    .dataframe thead th {\n        text-align: right;\n    }\n</style>\n<table border=\"1\" class=\"dataframe\">\n  <thead>\n    <tr style=\"text-align: right;\">\n      <th></th>\n      <th>pair_enc</th>\n      <th>distance</th>\n      <th>pred_prob</th>\n      <th>pred_class</th>\n    </tr>\n  </thead>\n  <tbody>\n    <tr>\n      <th>0</th>\n      <td>2</td>\n      <td>0.100000</td>\n      <td>0.001710</td>\n      <td>0</td>\n    </tr>\n    <tr>\n      <th>1</th>\n      <td>2</td>\n      <td>0.102903</td>\n      <td>0.001695</td>\n      <td>0</td>\n    </tr>\n    <tr>\n      <th>2</th>\n      <td>2</td>\n      <td>0.105806</td>\n      <td>0.001680</td>\n      <td>0</td>\n    </tr>\n    <tr>\n      <th>3</th>\n      <td>2</td>\n      <td>0.108709</td>\n      <td>0.001666</td>\n      <td>0</td>\n    </tr>\n    <tr>\n      <th>4</th>\n      <td>2</td>\n      <td>0.111612</td>\n      <td>0.001651</td>\n      <td>0</td>\n    </tr>\n  </tbody>\n</table>\n</div>", 
                        "text/plain": "   pair_enc  distance  pred_prob  pred_class\n0         2  0.100000   0.001710           0\n1         2  0.102903   0.001695           0\n2         2  0.105806   0.001680           0\n3         2  0.108709   0.001666           0\n4         2  0.111612   0.001651           0"
                    }, 
                    "output_type": "execute_result"
                }
            ], 
            "source": "y=x.copy()\ny['pred_prob']=pred_prob\ny['pred_class']=pred_class\ny.head()"
        }, 
        {
            "execution_count": 22, 
            "cell_type": "code", 
            "metadata": {}, 
            "outputs": [
                {
                    "execution_count": 22, 
                    "metadata": {}, 
                    "data": {
                        "text/plain": "<matplotlib.legend.Legend at 0x7f18c02d7a90>"
                    }, 
                    "output_type": "execute_result"
                }, 
                {
                    "output_type": "display_data", 
                    "data": {
                        "image/png": "[encoded data removed]", 
                        "text/plain": "<Figure size 1152x576 with 1 Axes>"
                    }, 
                    "metadata": {
                        "needs_background": "light"
                    }
                }
            ], 
            "source": "plt.figure(figsize=(16,8))\nplt.plot(y['distance'],y['pred_prob'],'r')\nplt.plot(y['distance'],y['pred_class'],'b')\nplt.xlabel('C-H bond distance')\nplt.ylabel('prob/class')\nplt.legend()"
        }, 
        {
            "execution_count": null, 
            "cell_type": "code", 
            "metadata": {}, 
            "outputs": [], 
            "source": ""
        }
    ], 
    "metadata": {
        "kernelspec": {
            "display_name": "Python 3.6", 
            "name": "python3", 
            "language": "python"
        }, 
        "language_info": {
            "mimetype": "text/x-python", 
            "nbconvert_exporter": "python", 
            "version": "3.6.8", 
            "name": "python", 
            "file_extension": ".py", 
            "pygments_lexer": "ipython3", 
            "codemirror_mode": {
                "version": 3, 
                "name": "ipython"
            }
        }
    }, 
    "nbformat": 4
}