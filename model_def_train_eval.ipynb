{
    "nbformat_minor": 1, 
    "cells": [
        {
            "source": "# Download Data", 
            "cell_type": "markdown", 
            "metadata": {
                "collapsed": true
            }
        }, 
        {
            "execution_count": 1, 
            "cell_type": "code", 
            "metadata": {}, 
            "outputs": [], 
            "source": "# The code was removed by Watson Studio for sharing."
        }, 
        {
            "execution_count": 4, 
            "cell_type": "code", 
            "metadata": {}, 
            "outputs": [
                {
                    "output_type": "stream", 
                    "name": "stdout", 
                    "text": "11269.png      13568.png   243.png     6324.png  6569.png   8058.png\r\n1146.png       137201.png  24529.png   6325.png  67180.png  887.png\r\n11473.png      140746.png  24547.png   6329.png  674.png    931.png\r\n11638.png      14917.png   24823.png   6335.png  69319.png  996.png\r\n11646.png      176.png\t   3283.png    6360.png  7845.png   data.csv\r\n12228.png      177.png\t   33558.png   6375.png  784.png    data_processed.csv\r\n123257.png     222.png\t   5206.png    6386.png  7929.png   label_encoder.pkl\r\n127602.png     240.png\t   552549.png  6393.png  8033.png\r\n135504501.png  241.png\t   6115.png    6410.png  8053.png\r\n"
                }
            ], 
            "source": "!rm data_training.csv\n!ls"
        }, 
        {
            "execution_count": 6, 
            "cell_type": "code", 
            "metadata": {}, 
            "outputs": [
                {
                    "output_type": "stream", 
                    "name": "stdout", 
                    "text": "File Downloaded\n11269.png      13568.png   243.png     6324.png  6569.png   8058.png\n1146.png       137201.png  24529.png   6325.png  67180.png  887.png\n11473.png      140746.png  24547.png   6329.png  674.png    931.png\n11638.png      14917.png   24823.png   6335.png  69319.png  996.png\n11646.png      176.png\t   3283.png    6360.png  7845.png   data.csv\n12228.png      177.png\t   33558.png   6375.png  784.png    data_processed.csv\n123257.png     222.png\t   5206.png    6386.png  7929.png   data_training.csv\n127602.png     240.png\t   552549.png  6393.png  8033.png   label_encoder.pkl\n135504501.png  241.png\t   6115.png    6410.png  8053.png\n"
                }
            ], 
            "source": "download_file_cos(credentials_1, 'data_training.csv', 'data_training.csv')\n!ls"
        }, 
        {
            "execution_count": 7, 
            "cell_type": "code", 
            "metadata": {}, 
            "outputs": [
                {
                    "output_type": "stream", 
                    "name": "stdout", 
                    "text": "pairs_enc,distance,bond\r\n0,1.5119999999999998,1\r\n2,1.0940555607463451,1\r\n2,1.0940439342183659,1\r\n2,1.0940911982097288,1\r\n0,1.5119999999999998,0\r\n2,1.0940439342183659,1\r\n2,1.0940911982097288,1\r\n2,1.0940555607463451,1\r\n2,1.0940911982097288,0\r\n"
                }
            ], 
            "source": "!head -10 data_training.csv"
        }, 
        {
            "source": "# Train,Val,Test Split", 
            "cell_type": "markdown", 
            "metadata": {}
        }, 
        {
            "execution_count": 14, 
            "cell_type": "code", 
            "metadata": {}, 
            "outputs": [], 
            "source": "import pandas as pd\nimport numpy as np\nimport matplotlib.pyplot as plt\nfrom sklearn.model_selection import train_test_split\nimport tensorflow as tf\nfrom tensorflow import keras\n\n%matplotlib inline"
        }, 
        {
            "execution_count": 15, 
            "cell_type": "code", 
            "metadata": {}, 
            "outputs": [], 
            "source": "x=pd.read_csv('data_training.csv')"
        }, 
        {
            "execution_count": 18, 
            "cell_type": "code", 
            "metadata": {}, 
            "outputs": [
                {
                    "execution_count": 18, 
                    "metadata": {}, 
                    "data": {
                        "text/html": "<div>\n<style scoped>\n    .dataframe tbody tr th:only-of-type {\n        vertical-align: middle;\n    }\n\n    .dataframe tbody tr th {\n        vertical-align: top;\n    }\n\n    .dataframe thead th {\n        text-align: right;\n    }\n</style>\n<table border=\"1\" class=\"dataframe\">\n  <thead>\n    <tr style=\"text-align: right;\">\n      <th></th>\n      <th>pairs_enc</th>\n      <th>distance</th>\n      <th>bond</th>\n    </tr>\n  </thead>\n  <tbody>\n    <tr>\n      <th>0</th>\n      <td>0</td>\n      <td>1.512000</td>\n      <td>1</td>\n    </tr>\n    <tr>\n      <th>1</th>\n      <td>2</td>\n      <td>1.094056</td>\n      <td>1</td>\n    </tr>\n    <tr>\n      <th>2</th>\n      <td>2</td>\n      <td>1.094044</td>\n      <td>1</td>\n    </tr>\n    <tr>\n      <th>3</th>\n      <td>2</td>\n      <td>1.094091</td>\n      <td>1</td>\n    </tr>\n    <tr>\n      <th>4</th>\n      <td>0</td>\n      <td>1.512000</td>\n      <td>0</td>\n    </tr>\n  </tbody>\n</table>\n</div>", 
                        "text/plain": "   pairs_enc  distance  bond\n0          0  1.512000     1\n1          2  1.094056     1\n2          2  1.094044     1\n3          2  1.094091     1\n4          0  1.512000     0"
                    }, 
                    "output_type": "execute_result"
                }
            ], 
            "source": "x.head()"
        }, 
        {
            "execution_count": 19, 
            "cell_type": "code", 
            "metadata": {}, 
            "outputs": [
                {
                    "execution_count": 19, 
                    "metadata": {}, 
                    "data": {
                        "text/plain": "(1062, 3)"
                    }, 
                    "output_type": "execute_result"
                }
            ], 
            "source": "x.shape"
        }, 
        {
            "execution_count": 16, 
            "cell_type": "code", 
            "metadata": {}, 
            "outputs": [
                {
                    "execution_count": 16, 
                    "metadata": {}, 
                    "data": {
                        "text/plain": "Index(['pairs_enc', 'distance', 'bond'], dtype='object')"
                    }, 
                    "output_type": "execute_result"
                }
            ], 
            "source": "x.columns"
        }, 
        {
            "execution_count": 17, 
            "cell_type": "code", 
            "metadata": {}, 
            "outputs": [], 
            "source": "y=x['bond']"
        }, 
        {
            "execution_count": 21, 
            "cell_type": "code", 
            "metadata": {}, 
            "outputs": [], 
            "source": "x=x.drop('bond',axis=1)"
        }, 
        {
            "execution_count": 22, 
            "cell_type": "code", 
            "metadata": {}, 
            "outputs": [
                {
                    "execution_count": 22, 
                    "metadata": {}, 
                    "data": {
                        "text/html": "<div>\n<style scoped>\n    .dataframe tbody tr th:only-of-type {\n        vertical-align: middle;\n    }\n\n    .dataframe tbody tr th {\n        vertical-align: top;\n    }\n\n    .dataframe thead th {\n        text-align: right;\n    }\n</style>\n<table border=\"1\" class=\"dataframe\">\n  <thead>\n    <tr style=\"text-align: right;\">\n      <th></th>\n      <th>pairs_enc</th>\n      <th>distance</th>\n    </tr>\n  </thead>\n  <tbody>\n    <tr>\n      <th>0</th>\n      <td>0</td>\n      <td>1.512000</td>\n    </tr>\n    <tr>\n      <th>1</th>\n      <td>2</td>\n      <td>1.094056</td>\n    </tr>\n    <tr>\n      <th>2</th>\n      <td>2</td>\n      <td>1.094044</td>\n    </tr>\n    <tr>\n      <th>3</th>\n      <td>2</td>\n      <td>1.094091</td>\n    </tr>\n    <tr>\n      <th>4</th>\n      <td>0</td>\n      <td>1.512000</td>\n    </tr>\n  </tbody>\n</table>\n</div>", 
                        "text/plain": "   pairs_enc  distance\n0          0  1.512000\n1          2  1.094056\n2          2  1.094044\n3          2  1.094091\n4          0  1.512000"
                    }, 
                    "output_type": "execute_result"
                }
            ], 
            "source": "x.head()"
        }, 
        {
            "execution_count": 23, 
            "cell_type": "code", 
            "metadata": {}, 
            "outputs": [
                {
                    "execution_count": 23, 
                    "metadata": {}, 
                    "data": {
                        "text/plain": "0    1\n1    1\n2    1\n3    1\n4    0\nName: bond, dtype: int64"
                    }, 
                    "output_type": "execute_result"
                }
            ], 
            "source": "y.head()"
        }, 
        {
            "execution_count": 24, 
            "cell_type": "code", 
            "metadata": {}, 
            "outputs": [], 
            "source": "x_train,x_val,y_train,y_val=train_test_split(x,y,test_size=0.3)"
        }, 
        {
            "execution_count": 26, 
            "cell_type": "code", 
            "metadata": {}, 
            "outputs": [
                {
                    "output_type": "stream", 
                    "name": "stdout", 
                    "text": "x_train: (743, 2)  y_train: (743,)\nx_val: (159, 2)  y_val: (159,)\n"
                }
            ], 
            "source": "print('x_train: {}  y_train: {}\\nx_val: {}  y_val: {}'.format(x_train.shape,y_train.shape,x_val.shape,y_val.shape))"
        }, 
        {
            "execution_count": 25, 
            "cell_type": "code", 
            "metadata": {}, 
            "outputs": [], 
            "source": "x_val,x_test,y_val,y_test=train_test_split(x_val,y_val,test_size=0.5)"
        }, 
        {
            "execution_count": 27, 
            "cell_type": "code", 
            "metadata": {}, 
            "outputs": [
                {
                    "output_type": "stream", 
                    "name": "stdout", 
                    "text": "x_val: (159, 2)  y_val: (159,)\nx_test: (160, 2)  y_test: (160,)\n"
                }
            ], 
            "source": "print('x_val: {}  y_val: {}\\nx_test: {}  y_test: {}'.format(x_val.shape,y_val.shape,x_test.shape,y_test.shape))"
        }, 
        {
            "execution_count": 28, 
            "cell_type": "code", 
            "metadata": {}, 
            "outputs": [
                {
                    "execution_count": 28, 
                    "metadata": {}, 
                    "data": {
                        "text/plain": "0    87\n1    72\nName: bond, dtype: int64"
                    }, 
                    "output_type": "execute_result"
                }
            ], 
            "source": "y_val.value_counts()"
        }, 
        {
            "execution_count": 29, 
            "cell_type": "code", 
            "metadata": {}, 
            "outputs": [
                {
                    "execution_count": 29, 
                    "metadata": {}, 
                    "data": {
                        "text/plain": "1    89\n0    71\nName: bond, dtype: int64"
                    }, 
                    "output_type": "execute_result"
                }
            ], 
            "source": "y_test.value_counts()"
        }, 
        {
            "execution_count": 30, 
            "cell_type": "code", 
            "metadata": {}, 
            "outputs": [
                {
                    "execution_count": 30, 
                    "metadata": {}, 
                    "data": {
                        "text/plain": "0    373\n1    370\nName: bond, dtype: int64"
                    }, 
                    "output_type": "execute_result"
                }
            ], 
            "source": "y_train.value_counts()"
        }, 
        {
            "source": "# Model", 
            "cell_type": "markdown", 
            "metadata": {}
        }, 
        {
            "execution_count": 12, 
            "cell_type": "code", 
            "metadata": {}, 
            "outputs": [
                {
                    "execution_count": 12, 
                    "metadata": {}, 
                    "data": {
                        "text/plain": "'1.13.1'"
                    }, 
                    "output_type": "execute_result"
                }
            ], 
            "source": "tf.__version__"
        }, 
        {
            "source": "## 1. NN", 
            "cell_type": "markdown", 
            "metadata": {}
        }, 
        {
            "execution_count": 79, 
            "cell_type": "code", 
            "metadata": {}, 
            "outputs": [], 
            "source": "input_shape=(2,)\nmodel_nn=keras.Sequential()\nmodel_nn.add(keras.layers.Dense(512,activation='relu',input_shape=input_shape))\nmodel_nn.add(keras.layers.Dense(512,activation='relu'))\nmodel_nn.add(keras.layers.Dense(256,activation='relu'))\nmodel_nn.add(keras.layers.Dense(256,activation='relu'))\nmodel_nn.add(keras.layers.Dense(128,activation='relu'))\nmodel_nn.add(keras.layers.Dense(100,activation='relu'))\nmodel_nn.add(keras.layers.Dense(64,activation='relu'))\nmodel_nn.add(keras.layers.Dense(1,activation='sigmoid'))"
        }, 
        {
            "execution_count": 80, 
            "cell_type": "code", 
            "metadata": {}, 
            "outputs": [
                {
                    "output_type": "stream", 
                    "name": "stdout", 
                    "text": "_________________________________________________________________\nLayer (type)                 Output Shape              Param #   \n=================================================================\ndense_52 (Dense)             (None, 512)               1536      \n_________________________________________________________________\ndense_53 (Dense)             (None, 512)               262656    \n_________________________________________________________________\ndense_54 (Dense)             (None, 256)               131328    \n_________________________________________________________________\ndense_55 (Dense)             (None, 256)               65792     \n_________________________________________________________________\ndense_56 (Dense)             (None, 128)               32896     \n_________________________________________________________________\ndense_57 (Dense)             (None, 100)               12900     \n_________________________________________________________________\ndense_58 (Dense)             (None, 64)                6464      \n_________________________________________________________________\ndense_59 (Dense)             (None, 1)                 65        \n=================================================================\nTotal params: 513,637\nTrainable params: 513,637\nNon-trainable params: 0\n_________________________________________________________________\n"
                }
            ], 
            "source": "model_nn.summary()"
        }, 
        {
            "execution_count": 83, 
            "cell_type": "code", 
            "metadata": {
                "scrolled": true
            }, 
            "outputs": [], 
            "source": "#help(model_nn.compile)"
        }, 
        {
            "execution_count": 84, 
            "cell_type": "code", 
            "metadata": {}, 
            "outputs": [], 
            "source": "model_nn.compile(optimizer='adam',loss='binary_crossentropy',metrics=['accuracy'])"
        }, 
        {
            "execution_count": 85, 
            "cell_type": "code", 
            "metadata": {}, 
            "outputs": [
                {
                    "output_type": "stream", 
                    "name": "stdout", 
                    "text": "Train on 743 samples, validate on 159 samples\nEpoch 1/200\n743/743 [==============================] - 3s 3ms/sample - loss: 0.6573 - acc: 0.5209 - val_loss: 0.5762 - val_acc: 0.5723\nEpoch 2/200\n743/743 [==============================] - 1s 858us/sample - loss: 0.5743 - acc: 0.5935 - val_loss: 0.5367 - val_acc: 0.7296\nEpoch 3/200\n743/743 [==============================] - 1s 831us/sample - loss: 0.5564 - acc: 0.7174 - val_loss: 0.5234 - val_acc: 0.7358\nEpoch 4/200\n743/743 [==============================] - 1s 861us/sample - loss: 0.5312 - acc: 0.7308 - val_loss: 0.5107 - val_acc: 0.7233\nEpoch 5/200\n743/743 [==============================] - 1s 944us/sample - loss: 0.5217 - acc: 0.7308 - val_loss: 0.4888 - val_acc: 0.7296\nEpoch 6/200\n743/743 [==============================] - 1s 1ms/sample - loss: 0.4942 - acc: 0.7308 - val_loss: 0.4724 - val_acc: 0.8050\nEpoch 7/200\n743/743 [==============================] - 1s 994us/sample - loss: 0.4711 - acc: 0.8237 - val_loss: 0.4480 - val_acc: 0.8239\nEpoch 8/200\n743/743 [==============================] - 1s 885us/sample - loss: 0.4405 - acc: 0.8600 - val_loss: 0.4355 - val_acc: 0.8428\nEpoch 9/200\n743/743 [==============================] - 1s 937us/sample - loss: 0.4093 - acc: 0.8762 - val_loss: 0.4084 - val_acc: 0.8428\nEpoch 10/200\n743/743 [==============================] - 1s 776us/sample - loss: 0.4249 - acc: 0.8533 - val_loss: 0.4472 - val_acc: 0.8239\nEpoch 11/200\n743/743 [==============================] - 1s 836us/sample - loss: 0.3840 - acc: 0.8546 - val_loss: 0.3958 - val_acc: 0.8553\nEpoch 12/200\n743/743 [==============================] - 1s 838us/sample - loss: 0.3632 - acc: 0.8600 - val_loss: 0.4111 - val_acc: 0.8491\nEpoch 13/200\n743/743 [==============================] - 1s 829us/sample - loss: 0.3562 - acc: 0.8654 - val_loss: 0.3987 - val_acc: 0.8553\nEpoch 14/200\n743/743 [==============================] - 1s 859us/sample - loss: 0.3501 - acc: 0.8694 - val_loss: 0.3917 - val_acc: 0.8428\nEpoch 15/200\n743/743 [==============================] - 1s 915us/sample - loss: 0.3341 - acc: 0.8789 - val_loss: 0.4459 - val_acc: 0.8113\nEpoch 16/200\n743/743 [==============================] - 1s 993us/sample - loss: 0.3609 - acc: 0.8425 - val_loss: 0.4455 - val_acc: 0.8302\nEpoch 17/200\n743/743 [==============================] - 1s 856us/sample - loss: 0.3668 - acc: 0.8493 - val_loss: 0.4478 - val_acc: 0.7987\nEpoch 18/200\n743/743 [==============================] - 1s 953us/sample - loss: 0.3397 - acc: 0.8641 - val_loss: 0.4078 - val_acc: 0.8491\nEpoch 19/200\n743/743 [==============================] - 1s 832us/sample - loss: 0.3466 - acc: 0.8614 - val_loss: 0.4132 - val_acc: 0.8491\nEpoch 20/200\n743/743 [==============================] - 1s 833us/sample - loss: 0.3308 - acc: 0.8802 - val_loss: 0.3970 - val_acc: 0.8616\nEpoch 21/200\n743/743 [==============================] - 1s 808us/sample - loss: 0.3319 - acc: 0.8708 - val_loss: 0.4084 - val_acc: 0.8365\nEpoch 22/200\n743/743 [==============================] - 1s 1ms/sample - loss: 0.3172 - acc: 0.8883 - val_loss: 0.3989 - val_acc: 0.8428\nEpoch 23/200\n743/743 [==============================] - 1s 912us/sample - loss: 0.3203 - acc: 0.8775 - val_loss: 0.4085 - val_acc: 0.8491\nEpoch 24/200\n743/743 [==============================] - 1s 802us/sample - loss: 0.3111 - acc: 0.8856 - val_loss: 0.3951 - val_acc: 0.8491\nEpoch 25/200\n743/743 [==============================] - 1s 1ms/sample - loss: 0.3099 - acc: 0.8937 - val_loss: 0.4102 - val_acc: 0.8491\nEpoch 26/200\n743/743 [==============================] - 1s 857us/sample - loss: 0.3144 - acc: 0.8816 - val_loss: 0.4003 - val_acc: 0.8491\nEpoch 27/200\n743/743 [==============================] - 1s 895us/sample - loss: 0.3152 - acc: 0.8816 - val_loss: 0.4099 - val_acc: 0.8553\nEpoch 28/200\n743/743 [==============================] - 1s 819us/sample - loss: 0.3188 - acc: 0.8896 - val_loss: 0.3950 - val_acc: 0.8491\nEpoch 29/200\n743/743 [==============================] - 1s 863us/sample - loss: 0.3104 - acc: 0.8843 - val_loss: 0.4028 - val_acc: 0.8491\nEpoch 30/200\n743/743 [==============================] - 1s 806us/sample - loss: 0.3123 - acc: 0.8856 - val_loss: 0.4057 - val_acc: 0.8491\nEpoch 31/200\n743/743 [==============================] - 1s 794us/sample - loss: 0.2996 - acc: 0.8937 - val_loss: 0.3912 - val_acc: 0.8616\nEpoch 32/200\n743/743 [==============================] - 1s 861us/sample - loss: 0.3057 - acc: 0.8923 - val_loss: 0.4185 - val_acc: 0.8553\nEpoch 33/200\n743/743 [==============================] - 1s 860us/sample - loss: 0.3141 - acc: 0.8816 - val_loss: 0.4088 - val_acc: 0.8491\nEpoch 34/200\n743/743 [==============================] - 1s 804us/sample - loss: 0.3087 - acc: 0.8843 - val_loss: 0.4092 - val_acc: 0.8491\nEpoch 35/200\n743/743 [==============================] - 1s 913us/sample - loss: 0.3109 - acc: 0.8843 - val_loss: 0.3971 - val_acc: 0.8491\nEpoch 36/200\n743/743 [==============================] - 1s 836us/sample - loss: 0.3145 - acc: 0.8748 - val_loss: 0.4072 - val_acc: 0.8428\nEpoch 37/200\n743/743 [==============================] - 1s 883us/sample - loss: 0.2978 - acc: 0.8937 - val_loss: 0.4099 - val_acc: 0.8428\nEpoch 38/200\n743/743 [==============================] - 1s 779us/sample - loss: 0.3049 - acc: 0.8883 - val_loss: 0.4027 - val_acc: 0.8491\nEpoch 39/200\n743/743 [==============================] - 1s 1ms/sample - loss: 0.2992 - acc: 0.8896 - val_loss: 0.4113 - val_acc: 0.8491\nEpoch 40/200\n743/743 [==============================] - 1s 837us/sample - loss: 0.2956 - acc: 0.8950 - val_loss: 0.3941 - val_acc: 0.8553\nEpoch 41/200\n743/743 [==============================] - 1s 758us/sample - loss: 0.2932 - acc: 0.8964 - val_loss: 0.4157 - val_acc: 0.8428\nEpoch 42/200\n743/743 [==============================] - 1s 835us/sample - loss: 0.2934 - acc: 0.8869 - val_loss: 0.3939 - val_acc: 0.8553\nEpoch 43/200\n743/743 [==============================] - 1s 827us/sample - loss: 0.2910 - acc: 0.8950 - val_loss: 0.4032 - val_acc: 0.8553\nEpoch 44/200\n743/743 [==============================] - 1s 785us/sample - loss: 0.2957 - acc: 0.8883 - val_loss: 0.4076 - val_acc: 0.8491\nEpoch 45/200\n743/743 [==============================] - 1s 807us/sample - loss: 0.2919 - acc: 0.8937 - val_loss: 0.3894 - val_acc: 0.8553\nEpoch 46/200\n743/743 [==============================] - 1s 808us/sample - loss: 0.2908 - acc: 0.8923 - val_loss: 0.4084 - val_acc: 0.8491\nEpoch 47/200\n743/743 [==============================] - 1s 801us/sample - loss: 0.2894 - acc: 0.8923 - val_loss: 0.4037 - val_acc: 0.8553\nEpoch 48/200\n743/743 [==============================] - 1s 866us/sample - loss: 0.2918 - acc: 0.8923 - val_loss: 0.4158 - val_acc: 0.8553\nEpoch 49/200\n743/743 [==============================] - 1s 972us/sample - loss: 0.2936 - acc: 0.8937 - val_loss: 0.4064 - val_acc: 0.8491\nEpoch 50/200\n743/743 [==============================] - 1s 827us/sample - loss: 0.2932 - acc: 0.8883 - val_loss: 0.4154 - val_acc: 0.8428\nEpoch 51/200\n743/743 [==============================] - 1s 1ms/sample - loss: 0.2915 - acc: 0.8896 - val_loss: 0.4348 - val_acc: 0.8491\nEpoch 52/200\n743/743 [==============================] - 1s 896us/sample - loss: 0.2982 - acc: 0.8829 - val_loss: 0.3993 - val_acc: 0.8553\nEpoch 53/200\n743/743 [==============================] - 1s 823us/sample - loss: 0.2974 - acc: 0.8869 - val_loss: 0.3992 - val_acc: 0.8553\nEpoch 54/200\n743/743 [==============================] - 1s 866us/sample - loss: 0.2953 - acc: 0.8883 - val_loss: 0.4366 - val_acc: 0.8365\nEpoch 55/200\n743/743 [==============================] - 1s 1ms/sample - loss: 0.3026 - acc: 0.8843 - val_loss: 0.3876 - val_acc: 0.8679\nEpoch 56/200\n743/743 [==============================] - 1s 809us/sample - loss: 0.3000 - acc: 0.8843 - val_loss: 0.4215 - val_acc: 0.8553\nEpoch 57/200\n743/743 [==============================] - 1s 831us/sample - loss: 0.3040 - acc: 0.8856 - val_loss: 0.4213 - val_acc: 0.8553\nEpoch 58/200\n743/743 [==============================] - 1s 835us/sample - loss: 0.2929 - acc: 0.8896 - val_loss: 0.3886 - val_acc: 0.8553\nEpoch 59/200\n743/743 [==============================] - 1s 776us/sample - loss: 0.2943 - acc: 0.8883 - val_loss: 0.4089 - val_acc: 0.8553\nEpoch 60/200\n743/743 [==============================] - 1s 866us/sample - loss: 0.2952 - acc: 0.8843 - val_loss: 0.4208 - val_acc: 0.8491\nEpoch 61/200\n743/743 [==============================] - 1s 825us/sample - loss: 0.2842 - acc: 0.8910 - val_loss: 0.4170 - val_acc: 0.8365\nEpoch 62/200\n743/743 [==============================] - 1s 809us/sample - loss: 0.2895 - acc: 0.8856 - val_loss: 0.4085 - val_acc: 0.8491\nEpoch 63/200\n743/743 [==============================] - 1s 836us/sample - loss: 0.2950 - acc: 0.8829 - val_loss: 0.4279 - val_acc: 0.8428\nEpoch 64/200\n743/743 [==============================] - 1s 813us/sample - loss: 0.2907 - acc: 0.8923 - val_loss: 0.3855 - val_acc: 0.8553\nEpoch 65/200\n743/743 [==============================] - 1s 917us/sample - loss: 0.2855 - acc: 0.8937 - val_loss: 0.4176 - val_acc: 0.8553\nEpoch 66/200\n743/743 [==============================] - 1s 890us/sample - loss: 0.2840 - acc: 0.8937 - val_loss: 0.4080 - val_acc: 0.8553\nEpoch 67/200\n743/743 [==============================] - 1s 809us/sample - loss: 0.2762 - acc: 0.8977 - val_loss: 0.3960 - val_acc: 0.8616\nEpoch 68/200\n743/743 [==============================] - 1s 805us/sample - loss: 0.2766 - acc: 0.8937 - val_loss: 0.4196 - val_acc: 0.8553\nEpoch 69/200\n743/743 [==============================] - 1s 888us/sample - loss: 0.2782 - acc: 0.8950 - val_loss: 0.4126 - val_acc: 0.8553\nEpoch 70/200\n743/743 [==============================] - 1s 999us/sample - loss: 0.2745 - acc: 0.8950 - val_loss: 0.4045 - val_acc: 0.8553\nEpoch 71/200\n743/743 [==============================] - 1s 1ms/sample - loss: 0.2721 - acc: 0.8950 - val_loss: 0.3977 - val_acc: 0.8553\nEpoch 72/200\n743/743 [==============================] - 1s 888us/sample - loss: 0.2761 - acc: 0.8923 - val_loss: 0.4139 - val_acc: 0.8553\nEpoch 73/200\n743/743 [==============================] - 1s 858us/sample - loss: 0.2768 - acc: 0.8937 - val_loss: 0.4137 - val_acc: 0.8553\nEpoch 74/200\n743/743 [==============================] - 1s 809us/sample - loss: 0.2798 - acc: 0.8937 - val_loss: 0.4121 - val_acc: 0.8616\nEpoch 75/200\n743/743 [==============================] - 1s 864us/sample - loss: 0.2754 - acc: 0.8910 - val_loss: 0.4237 - val_acc: 0.8491\nEpoch 76/200\n743/743 [==============================] - 1s 836us/sample - loss: 0.2899 - acc: 0.8869 - val_loss: 0.4188 - val_acc: 0.8553\nEpoch 77/200\n743/743 [==============================] - 1s 885us/sample - loss: 0.2851 - acc: 0.8829 - val_loss: 0.4123 - val_acc: 0.8553\nEpoch 78/200\n743/743 [==============================] - 1s 864us/sample - loss: 0.2960 - acc: 0.8816 - val_loss: 0.4395 - val_acc: 0.8176\nEpoch 79/200\n743/743 [==============================] - 1s 838us/sample - loss: 0.2825 - acc: 0.8856 - val_loss: 0.4078 - val_acc: 0.8616\nEpoch 80/200\n743/743 [==============================] - 1s 833us/sample - loss: 0.2829 - acc: 0.8923 - val_loss: 0.4181 - val_acc: 0.8553\nEpoch 81/200\n743/743 [==============================] - 1s 941us/sample - loss: 0.2814 - acc: 0.8937 - val_loss: 0.4337 - val_acc: 0.8491\nEpoch 82/200\n743/743 [==============================] - 1s 827us/sample - loss: 0.2765 - acc: 0.8910 - val_loss: 0.3987 - val_acc: 0.8616\nEpoch 83/200\n743/743 [==============================] - 1s 864us/sample - loss: 0.2741 - acc: 0.8950 - val_loss: 0.4106 - val_acc: 0.8553\nEpoch 84/200\n743/743 [==============================] - 1s 825us/sample - loss: 0.2754 - acc: 0.8950 - val_loss: 0.4135 - val_acc: 0.8553\nEpoch 85/200\n743/743 [==============================] - 1s 810us/sample - loss: 0.2702 - acc: 0.8950 - val_loss: 0.4213 - val_acc: 0.8365\nEpoch 86/200\n743/743 [==============================] - 1s 784us/sample - loss: 0.2736 - acc: 0.8910 - val_loss: 0.4184 - val_acc: 0.8553\nEpoch 87/200\n743/743 [==============================] - 1s 1ms/sample - loss: 0.2739 - acc: 0.8977 - val_loss: 0.4116 - val_acc: 0.8553\nEpoch 88/200\n743/743 [==============================] - 1s 880us/sample - loss: 0.2683 - acc: 0.8950 - val_loss: 0.4021 - val_acc: 0.8553\nEpoch 89/200\n743/743 [==============================] - 1s 787us/sample - loss: 0.2662 - acc: 0.8950 - val_loss: 0.4049 - val_acc: 0.8553\nEpoch 90/200\n743/743 [==============================] - 1s 836us/sample - loss: 0.2678 - acc: 0.8937 - val_loss: 0.4213 - val_acc: 0.8616\nEpoch 91/200\n743/743 [==============================] - 1s 828us/sample - loss: 0.2655 - acc: 0.8977 - val_loss: 0.4066 - val_acc: 0.8553\nEpoch 92/200\n743/743 [==============================] - 1s 938us/sample - loss: 0.2678 - acc: 0.8964 - val_loss: 0.4202 - val_acc: 0.8553\nEpoch 93/200\n743/743 [==============================] - 1s 875us/sample - loss: 0.2657 - acc: 0.8964 - val_loss: 0.4200 - val_acc: 0.8553\nEpoch 94/200\n743/743 [==============================] - 1s 1ms/sample - loss: 0.2640 - acc: 0.8964 - val_loss: 0.4261 - val_acc: 0.8616\nEpoch 95/200\n743/743 [==============================] - 1s 805us/sample - loss: 0.2662 - acc: 0.8923 - val_loss: 0.4033 - val_acc: 0.8679\nEpoch 96/200\n743/743 [==============================] - 1s 891us/sample - loss: 0.2676 - acc: 0.8950 - val_loss: 0.4354 - val_acc: 0.8553\nEpoch 97/200\n743/743 [==============================] - 1s 824us/sample - loss: 0.2666 - acc: 0.8937 - val_loss: 0.4073 - val_acc: 0.8616\nEpoch 98/200\n743/743 [==============================] - 1s 918us/sample - loss: 0.2716 - acc: 0.8910 - val_loss: 0.4152 - val_acc: 0.8616\nEpoch 99/200\n743/743 [==============================] - 1s 857us/sample - loss: 0.2747 - acc: 0.8910 - val_loss: 0.4882 - val_acc: 0.8302\nEpoch 100/200\n743/743 [==============================] - 1s 771us/sample - loss: 0.2846 - acc: 0.8937 - val_loss: 0.4134 - val_acc: 0.8679\nEpoch 101/200\n743/743 [==============================] - 1s 860us/sample - loss: 0.2761 - acc: 0.8869 - val_loss: 0.4216 - val_acc: 0.8428\nEpoch 102/200\n743/743 [==============================] - 1s 876us/sample - loss: 0.2712 - acc: 0.8950 - val_loss: 0.4143 - val_acc: 0.8616\nEpoch 103/200\n743/743 [==============================] - 1s 1ms/sample - loss: 0.2679 - acc: 0.8964 - val_loss: 0.4300 - val_acc: 0.8302\nEpoch 104/200\n743/743 [==============================] - 1s 1ms/sample - loss: 0.2685 - acc: 0.8856 - val_loss: 0.4137 - val_acc: 0.8616\nEpoch 105/200\n743/743 [==============================] - 1s 963us/sample - loss: 0.2701 - acc: 0.8923 - val_loss: 0.4379 - val_acc: 0.8553\nEpoch 106/200\n743/743 [==============================] - 1s 858us/sample - loss: 0.2804 - acc: 0.8923 - val_loss: 0.4329 - val_acc: 0.8616\nEpoch 107/200\n743/743 [==============================] - 1s 862us/sample - loss: 0.2840 - acc: 0.8869 - val_loss: 0.4502 - val_acc: 0.8491\nEpoch 108/200\n743/743 [==============================] - 1s 867us/sample - loss: 0.2805 - acc: 0.8923 - val_loss: 0.4454 - val_acc: 0.8491\nEpoch 109/200\n743/743 [==============================] - 1s 810us/sample - loss: 0.3030 - acc: 0.8789 - val_loss: 0.4244 - val_acc: 0.8616\nEpoch 110/200\n743/743 [==============================] - 1s 972us/sample - loss: 0.2728 - acc: 0.8991 - val_loss: 0.4033 - val_acc: 0.8302\nEpoch 111/200\n743/743 [==============================] - 1s 945us/sample - loss: 0.2766 - acc: 0.8856 - val_loss: 0.4227 - val_acc: 0.8491\nEpoch 112/200\n743/743 [==============================] - 1s 803us/sample - loss: 0.2837 - acc: 0.8789 - val_loss: 0.4193 - val_acc: 0.8553\nEpoch 113/200\n743/743 [==============================] - 1s 863us/sample - loss: 0.2693 - acc: 0.8977 - val_loss: 0.3976 - val_acc: 0.8679\nEpoch 114/200\n743/743 [==============================] - 1s 830us/sample - loss: 0.2744 - acc: 0.8896 - val_loss: 0.4342 - val_acc: 0.8239\nEpoch 115/200\n743/743 [==============================] - 1s 804us/sample - loss: 0.2705 - acc: 0.8869 - val_loss: 0.3957 - val_acc: 0.8679\nEpoch 116/200\n743/743 [==============================] - 1s 970us/sample - loss: 0.2707 - acc: 0.8937 - val_loss: 0.4151 - val_acc: 0.8616\nEpoch 117/200\n743/743 [==============================] - 1s 834us/sample - loss: 0.2662 - acc: 0.8923 - val_loss: 0.4199 - val_acc: 0.8302\nEpoch 118/200\n743/743 [==============================] - 1s 912us/sample - loss: 0.2660 - acc: 0.8883 - val_loss: 0.4086 - val_acc: 0.8616\nEpoch 119/200\n743/743 [==============================] - 1s 2ms/sample - loss: 0.2644 - acc: 0.8977 - val_loss: 0.4296 - val_acc: 0.8553\nEpoch 120/200\n743/743 [==============================] - 1s 1ms/sample - loss: 0.2645 - acc: 0.8991 - val_loss: 0.3996 - val_acc: 0.8616\nEpoch 121/200\n743/743 [==============================] - 1s 1ms/sample - loss: 0.2630 - acc: 0.8843 - val_loss: 0.4243 - val_acc: 0.8491\nEpoch 122/200\n743/743 [==============================] - 1s 890us/sample - loss: 0.2581 - acc: 0.8937 - val_loss: 0.4182 - val_acc: 0.8616\nEpoch 123/200\n743/743 [==============================] - 1s 830us/sample - loss: 0.2632 - acc: 0.8977 - val_loss: 0.4033 - val_acc: 0.8616\nEpoch 124/200\n743/743 [==============================] - 1s 992us/sample - loss: 0.2631 - acc: 0.8923 - val_loss: 0.4208 - val_acc: 0.8616\nEpoch 125/200\n743/743 [==============================] - 1s 938us/sample - loss: 0.2639 - acc: 0.8977 - val_loss: 0.4272 - val_acc: 0.8616\nEpoch 126/200\n743/743 [==============================] - 1s 1ms/sample - loss: 0.2626 - acc: 0.8950 - val_loss: 0.4009 - val_acc: 0.8616\nEpoch 127/200\n743/743 [==============================] - 1s 829us/sample - loss: 0.2613 - acc: 0.8964 - val_loss: 0.4240 - val_acc: 0.8428\nEpoch 128/200\n743/743 [==============================] - 1s 806us/sample - loss: 0.2588 - acc: 0.8950 - val_loss: 0.4029 - val_acc: 0.8679\nEpoch 129/200\n743/743 [==============================] - 1s 998us/sample - loss: 0.2619 - acc: 0.8816 - val_loss: 0.4332 - val_acc: 0.8616\nEpoch 130/200\n743/743 [==============================] - 1s 995us/sample - loss: 0.2636 - acc: 0.8923 - val_loss: 0.4109 - val_acc: 0.8679\nEpoch 131/200\n743/743 [==============================] - 1s 809us/sample - loss: 0.2650 - acc: 0.8950 - val_loss: 0.4626 - val_acc: 0.8428\nEpoch 132/200\n743/743 [==============================] - 1s 805us/sample - loss: 0.2701 - acc: 0.8950 - val_loss: 0.4066 - val_acc: 0.8679\nEpoch 133/200\n743/743 [==============================] - 1s 830us/sample - loss: 0.2702 - acc: 0.8869 - val_loss: 0.4590 - val_acc: 0.8239\nEpoch 134/200\n743/743 [==============================] - 1s 1ms/sample - loss: 0.2669 - acc: 0.8937 - val_loss: 0.4206 - val_acc: 0.8616\nEpoch 135/200\n743/743 [==============================] - 1s 783us/sample - loss: 0.2613 - acc: 0.8991 - val_loss: 0.4125 - val_acc: 0.8616\nEpoch 136/200\n743/743 [==============================] - 1s 889us/sample - loss: 0.2590 - acc: 0.8923 - val_loss: 0.4087 - val_acc: 0.8616\nEpoch 137/200\n743/743 [==============================] - 1s 1ms/sample - loss: 0.2567 - acc: 0.8991 - val_loss: 0.4170 - val_acc: 0.8616\nEpoch 138/200\n743/743 [==============================] - 1s 810us/sample - loss: 0.2593 - acc: 0.8950 - val_loss: 0.4037 - val_acc: 0.8616\nEpoch 139/200\n743/743 [==============================] - 1s 807us/sample - loss: 0.2606 - acc: 0.8977 - val_loss: 0.4259 - val_acc: 0.8616\nEpoch 140/200\n743/743 [==============================] - 1s 811us/sample - loss: 0.2541 - acc: 0.8977 - val_loss: 0.4180 - val_acc: 0.8365\nEpoch 141/200\n743/743 [==============================] - 1s 808us/sample - loss: 0.2587 - acc: 0.8856 - val_loss: 0.4049 - val_acc: 0.8679\nEpoch 142/200\n743/743 [==============================] - 1s 804us/sample - loss: 0.2558 - acc: 0.8977 - val_loss: 0.4356 - val_acc: 0.8616\nEpoch 143/200\n743/743 [==============================] - 1s 937us/sample - loss: 0.2546 - acc: 0.8977 - val_loss: 0.4132 - val_acc: 0.8616\nEpoch 144/200\n743/743 [==============================] - 1s 1ms/sample - loss: 0.2555 - acc: 0.8937 - val_loss: 0.4113 - val_acc: 0.8553\nEpoch 145/200\n743/743 [==============================] - 1s 856us/sample - loss: 0.2543 - acc: 0.8964 - val_loss: 0.4504 - val_acc: 0.8616\nEpoch 146/200\n743/743 [==============================] - 1s 833us/sample - loss: 0.2594 - acc: 0.8950 - val_loss: 0.4302 - val_acc: 0.8553\nEpoch 147/200\n743/743 [==============================] - 1s 944us/sample - loss: 0.2523 - acc: 0.8950 - val_loss: 0.4363 - val_acc: 0.8616\nEpoch 148/200\n743/743 [==============================] - 1s 860us/sample - loss: 0.2562 - acc: 0.8977 - val_loss: 0.4062 - val_acc: 0.8616\nEpoch 149/200\n743/743 [==============================] - 1s 830us/sample - loss: 0.2549 - acc: 0.8977 - val_loss: 0.4615 - val_acc: 0.8239\nEpoch 150/200\n743/743 [==============================] - 1s 1ms/sample - loss: 0.2590 - acc: 0.8991 - val_loss: 0.4205 - val_acc: 0.8616\nEpoch 151/200\n743/743 [==============================] - 1s 829us/sample - loss: 0.2590 - acc: 0.8991 - val_loss: 0.4107 - val_acc: 0.8616\nEpoch 152/200\n743/743 [==============================] - 1s 779us/sample - loss: 0.2542 - acc: 0.8896 - val_loss: 0.4173 - val_acc: 0.8302\nEpoch 153/200\n743/743 [==============================] - 1s 783us/sample - loss: 0.2562 - acc: 0.8991 - val_loss: 0.4531 - val_acc: 0.8616\nEpoch 154/200\n743/743 [==============================] - 1s 863us/sample - loss: 0.2540 - acc: 0.8991 - val_loss: 0.4185 - val_acc: 0.8491\nEpoch 155/200\n743/743 [==============================] - 1s 826us/sample - loss: 0.2539 - acc: 0.8950 - val_loss: 0.3994 - val_acc: 0.8491\nEpoch 156/200\n743/743 [==============================] - 1s 863us/sample - loss: 0.2607 - acc: 0.8950 - val_loss: 0.4335 - val_acc: 0.8616\nEpoch 157/200\n743/743 [==============================] - 1s 857us/sample - loss: 0.2651 - acc: 0.8883 - val_loss: 0.4754 - val_acc: 0.8365\nEpoch 158/200\n743/743 [==============================] - 1s 807us/sample - loss: 0.2924 - acc: 0.8775 - val_loss: 0.4618 - val_acc: 0.8553\nEpoch 159/200\n743/743 [==============================] - 1s 808us/sample - loss: 0.2736 - acc: 0.8910 - val_loss: 0.4013 - val_acc: 0.8616\nEpoch 160/200\n743/743 [==============================] - 1s 1ms/sample - loss: 0.2736 - acc: 0.8856 - val_loss: 0.4452 - val_acc: 0.8302\nEpoch 161/200\n743/743 [==============================] - 1s 831us/sample - loss: 0.2632 - acc: 0.8910 - val_loss: 0.4542 - val_acc: 0.8616\nEpoch 162/200\n743/743 [==============================] - 1s 1ms/sample - loss: 0.2729 - acc: 0.8991 - val_loss: 0.4377 - val_acc: 0.8616\nEpoch 163/200\n743/743 [==============================] - 1s 848us/sample - loss: 0.2619 - acc: 0.8923 - val_loss: 0.3964 - val_acc: 0.8176\nEpoch 164/200\n743/743 [==============================] - 1s 828us/sample - loss: 0.2595 - acc: 0.8896 - val_loss: 0.4024 - val_acc: 0.8616\nEpoch 165/200\n743/743 [==============================] - 1s 833us/sample - loss: 0.2551 - acc: 0.8950 - val_loss: 0.4216 - val_acc: 0.8428\nEpoch 166/200\n743/743 [==============================] - 1s 1ms/sample - loss: 0.2567 - acc: 0.8950 - val_loss: 0.3971 - val_acc: 0.8679\nEpoch 167/200\n743/743 [==============================] - 1s 963us/sample - loss: 0.2570 - acc: 0.8964 - val_loss: 0.4293 - val_acc: 0.8553\nEpoch 168/200\n743/743 [==============================] - 1s 858us/sample - loss: 0.2544 - acc: 0.8950 - val_loss: 0.4232 - val_acc: 0.8616\nEpoch 169/200\n743/743 [==============================] - 1s 827us/sample - loss: 0.2520 - acc: 0.8991 - val_loss: 0.4173 - val_acc: 0.8616\nEpoch 170/200\n743/743 [==============================] - 1s 830us/sample - loss: 0.2563 - acc: 0.8896 - val_loss: 0.4116 - val_acc: 0.8679\nEpoch 171/200\n743/743 [==============================] - 1s 846us/sample - loss: 0.2659 - acc: 0.9004 - val_loss: 0.4630 - val_acc: 0.8428\nEpoch 172/200\n743/743 [==============================] - 1s 841us/sample - loss: 0.2715 - acc: 0.8762 - val_loss: 0.4147 - val_acc: 0.8616\nEpoch 173/200\n743/743 [==============================] - 1s 832us/sample - loss: 0.2652 - acc: 0.8869 - val_loss: 0.4459 - val_acc: 0.8616\nEpoch 174/200\n743/743 [==============================] - 1s 782us/sample - loss: 0.2724 - acc: 0.8950 - val_loss: 0.4526 - val_acc: 0.8553\nEpoch 175/200\n743/743 [==============================] - 1s 861us/sample - loss: 0.2567 - acc: 0.8950 - val_loss: 0.3988 - val_acc: 0.8616\nEpoch 176/200\n743/743 [==============================] - 1s 836us/sample - loss: 0.2614 - acc: 0.8923 - val_loss: 0.4318 - val_acc: 0.8553\nEpoch 177/200\n743/743 [==============================] - 1s 782us/sample - loss: 0.2622 - acc: 0.8843 - val_loss: 0.4514 - val_acc: 0.8616\nEpoch 178/200\n743/743 [==============================] - 1s 835us/sample - loss: 0.2614 - acc: 0.8991 - val_loss: 0.4166 - val_acc: 0.8616\nEpoch 179/200\n743/743 [==============================] - 1s 1ms/sample - loss: 0.2576 - acc: 0.8950 - val_loss: 0.4000 - val_acc: 0.8302\nEpoch 180/200\n743/743 [==============================] - 1s 831us/sample - loss: 0.2540 - acc: 0.8923 - val_loss: 0.4454 - val_acc: 0.8616\nEpoch 181/200\n743/743 [==============================] - 1s 804us/sample - loss: 0.2608 - acc: 0.8910 - val_loss: 0.4252 - val_acc: 0.8553\nEpoch 182/200\n743/743 [==============================] - 1s 1ms/sample - loss: 0.2556 - acc: 0.8977 - val_loss: 0.3956 - val_acc: 0.8616\nEpoch 183/200\n743/743 [==============================] - 1s 1ms/sample - loss: 0.2621 - acc: 0.8896 - val_loss: 0.4106 - val_acc: 0.8239\nEpoch 184/200\n743/743 [==============================] - 1s 850us/sample - loss: 0.2557 - acc: 0.9004 - val_loss: 0.4264 - val_acc: 0.8616\nEpoch 185/200\n743/743 [==============================] - 1s 784us/sample - loss: 0.2572 - acc: 0.8977 - val_loss: 0.4056 - val_acc: 0.8616\nEpoch 186/200\n743/743 [==============================] - 1s 831us/sample - loss: 0.2537 - acc: 0.9004 - val_loss: 0.4209 - val_acc: 0.8428\nEpoch 187/200\n743/743 [==============================] - 1s 831us/sample - loss: 0.2535 - acc: 0.8977 - val_loss: 0.4362 - val_acc: 0.8616\nEpoch 188/200\n743/743 [==============================] - 1s 809us/sample - loss: 0.2608 - acc: 0.8950 - val_loss: 0.3952 - val_acc: 0.8679\nEpoch 189/200\n743/743 [==============================] - 1s 810us/sample - loss: 0.2620 - acc: 0.8937 - val_loss: 0.4685 - val_acc: 0.8491\nEpoch 190/200\n743/743 [==============================] - 1s 915us/sample - loss: 0.2687 - acc: 0.8964 - val_loss: 0.4262 - val_acc: 0.8616\nEpoch 191/200\n743/743 [==============================] - 1s 807us/sample - loss: 0.2610 - acc: 0.8964 - val_loss: 0.4138 - val_acc: 0.8553\nEpoch 192/200\n743/743 [==============================] - 1s 801us/sample - loss: 0.2507 - acc: 0.8991 - val_loss: 0.4449 - val_acc: 0.8239\nEpoch 193/200\n743/743 [==============================] - 1s 806us/sample - loss: 0.2615 - acc: 0.8869 - val_loss: 0.4312 - val_acc: 0.8679\nEpoch 194/200\n743/743 [==============================] - 1s 831us/sample - loss: 0.2710 - acc: 0.8937 - val_loss: 0.4276 - val_acc: 0.8616\nEpoch 195/200\n743/743 [==============================] - 1s 783us/sample - loss: 0.2514 - acc: 0.8964 - val_loss: 0.4136 - val_acc: 0.8176\nEpoch 196/200\n743/743 [==============================] - 1s 858us/sample - loss: 0.2528 - acc: 0.8910 - val_loss: 0.4034 - val_acc: 0.8679\nEpoch 197/200\n743/743 [==============================] - 1s 779us/sample - loss: 0.2500 - acc: 0.8991 - val_loss: 0.4501 - val_acc: 0.8616\nEpoch 198/200\n743/743 [==============================] - 1s 945us/sample - loss: 0.2483 - acc: 0.8977 - val_loss: 0.4147 - val_acc: 0.8616\nEpoch 199/200\n743/743 [==============================] - 1s 1ms/sample - loss: 0.2492 - acc: 0.8964 - val_loss: 0.4259 - val_acc: 0.8553\nEpoch 200/200\n743/743 [==============================] - 1s 1ms/sample - loss: 0.2487 - acc: 0.9004 - val_loss: 0.4239 - val_acc: 0.8616\n"
                }, 
                {
                    "execution_count": 85, 
                    "metadata": {}, 
                    "data": {
                        "text/plain": "<tensorflow.python.keras.callbacks.History at 0x7f8b9af67e80>"
                    }, 
                    "output_type": "execute_result"
                }
            ], 
            "source": "model_nn.fit(x_train,y_train,batch_size=256,epochs=200,validation_data=(x_val,y_val))"
        }, 
        {
            "execution_count": 86, 
            "cell_type": "code", 
            "metadata": {}, 
            "outputs": [
                {
                    "output_type": "stream", 
                    "name": "stdout", 
                    "text": "160/160 [==============================] - 0s 1ms/sample - loss: 0.2664 - acc: 0.8938\n"
                }, 
                {
                    "execution_count": 86, 
                    "metadata": {}, 
                    "data": {
                        "text/plain": "[0.2664415568113327, 0.89375]"
                    }, 
                    "output_type": "execute_result"
                }
            ], 
            "source": "model_nn.evaluate(x_test,y_test)"
        }, 
        {
            "source": "## Random Forest", 
            "cell_type": "markdown", 
            "metadata": {}
        }, 
        {
            "execution_count": 87, 
            "cell_type": "code", 
            "metadata": {}, 
            "outputs": [], 
            "source": "from sklearn.ensemble import RandomForestClassifier"
        }, 
        {
            "execution_count": 88, 
            "cell_type": "code", 
            "metadata": {}, 
            "outputs": [
                {
                    "output_type": "stream", 
                    "name": "stderr", 
                    "text": "/opt/conda/envs/Python36/lib/python3.6/site-packages/sklearn/ensemble/forest.py:246: FutureWarning: The default value of n_estimators will change from 10 in version 0.20 to 100 in 0.22.\n  \"10 in version 0.20 to 100 in 0.22.\", FutureWarning)\n"
                }, 
                {
                    "execution_count": 88, 
                    "metadata": {}, 
                    "data": {
                        "text/plain": "RandomForestClassifier(bootstrap=True, class_weight=None, criterion='gini',\n            max_depth=None, max_features='auto', max_leaf_nodes=None,\n            min_impurity_decrease=0.0, min_impurity_split=None,\n            min_samples_leaf=1, min_samples_split=2,\n            min_weight_fraction_leaf=0.0, n_estimators=10, n_jobs=None,\n            oob_score=False, random_state=None, verbose=0,\n            warm_start=False)"
                    }, 
                    "output_type": "execute_result"
                }
            ], 
            "source": "model_rf=RandomForestClassifier()\nmodel_rf.fit(x_train,y_train)"
        }, 
        {
            "execution_count": 89, 
            "cell_type": "code", 
            "metadata": {}, 
            "outputs": [], 
            "source": "from sklearn.metrics import accuracy_score"
        }, 
        {
            "execution_count": 94, 
            "cell_type": "code", 
            "metadata": {}, 
            "outputs": [], 
            "source": "y_pred=model_rf.predict(x_test)"
        }, 
        {
            "execution_count": 95, 
            "cell_type": "code", 
            "metadata": {}, 
            "outputs": [
                {
                    "execution_count": 95, 
                    "metadata": {}, 
                    "data": {
                        "text/plain": "0.83125"
                    }, 
                    "output_type": "execute_result"
                }
            ], 
            "source": "accuracy_score(y_test,y_pred)"
        }, 
        {
            "source": "## GBM, SVM, Logistic Regression", 
            "cell_type": "markdown", 
            "metadata": {}
        }, 
        {
            "source": "### Hyperparameter tuning", 
            "cell_type": "markdown", 
            "metadata": {}
        }, 
        {
            "execution_count": null, 
            "cell_type": "code", 
            "metadata": {}, 
            "outputs": [], 
            "source": ""
        }, 
        {
            "execution_count": null, 
            "cell_type": "code", 
            "metadata": {}, 
            "outputs": [], 
            "source": ""
        }, 
        {
            "source": "# Serialize Models", 
            "cell_type": "markdown", 
            "metadata": {}
        }, 
        {
            "execution_count": 96, 
            "cell_type": "code", 
            "metadata": {}, 
            "outputs": [], 
            "source": "#model_nn.save('connectivity_model_nn_02.h5')\n\"\"\"\nDid not work after importing in another notebook\n\"\"\""
        }, 
        {
            "execution_count": 103, 
            "cell_type": "code", 
            "metadata": {}, 
            "outputs": [], 
            "source": "#This method worked\ntf.keras.models.save_model(model_nn,'connectivity_model_nn_02.h5',overwrite=True,include_optimizer=True)"
        }, 
        {
            "execution_count": 104, 
            "cell_type": "code", 
            "metadata": {}, 
            "outputs": [
                {
                    "output_type": "stream", 
                    "name": "stdout", 
                    "text": "11269.png      140746.png  3283.png    6386.png   8053.png\r\n1146.png       14917.png   33558.png   6393.png   8058.png\r\n11473.png      176.png\t   5206.png    6410.png   887.png\r\n11638.png      177.png\t   552549.png  6569.png   931.png\r\n11646.png      222.png\t   6115.png    67180.png  996.png\r\n12228.png      240.png\t   6324.png    674.png\t  connectivity_model_nn_02.h5\r\n123257.png     241.png\t   6325.png    69319.png  data.csv\r\n127602.png     243.png\t   6329.png    7845.png   data_processed.csv\r\n135504501.png  24529.png   6335.png    784.png\t  data_training.csv\r\n13568.png      24547.png   6360.png    7929.png   label_encoder.pkl\r\n137201.png     24823.png   6375.png    8033.png\r\n"
                }
            ], 
            "source": "!ls"
        }, 
        {
            "source": "# Upload to IBM Object Store", 
            "cell_type": "markdown", 
            "metadata": {}
        }, 
        {
            "source": "## 1. Current Project bucket", 
            "cell_type": "markdown", 
            "metadata": {}
        }, 
        {
            "execution_count": 105, 
            "cell_type": "code", 
            "metadata": {}, 
            "outputs": [], 
            "source": "# The code was removed by Watson Studio for sharing."
        }, 
        {
            "execution_count": 106, 
            "cell_type": "code", 
            "metadata": {}, 
            "outputs": [
                {
                    "output_type": "stream", 
                    "name": "stdout", 
                    "text": "File Uploaded\n"
                }
            ], 
            "source": "upload_file_cos(credentials_1,'connectivity_model_nn_02.h5','connectivity_model_nn_02.h5')"
        }, 
        {
            "source": "## 2. Coursera/Kaggle project bucket", 
            "cell_type": "markdown", 
            "metadata": {}
        }, 
        {
            "execution_count": 107, 
            "cell_type": "code", 
            "metadata": {}, 
            "outputs": [], 
            "source": "# The code was removed by Watson Studio for sharing."
        }, 
        {
            "execution_count": 108, 
            "cell_type": "code", 
            "metadata": {}, 
            "outputs": [
                {
                    "output_type": "stream", 
                    "name": "stdout", 
                    "text": "File Uploaded\n"
                }
            ], 
            "source": "upload_file_cos(credentials_2,'connectivity_model_nn_02.h5','connectivity_model_nn_02.h5')"
        }, 
        {
            "execution_count": null, 
            "cell_type": "code", 
            "metadata": {}, 
            "outputs": [], 
            "source": ""
        }
    ], 
    "metadata": {
        "kernelspec": {
            "display_name": "Python 3.6", 
            "name": "python3", 
            "language": "python"
        }, 
        "language_info": {
            "mimetype": "text/x-python", 
            "nbconvert_exporter": "python", 
            "version": "3.6.8", 
            "name": "python", 
            "file_extension": ".py", 
            "pygments_lexer": "ipython3", 
            "codemirror_mode": {
                "version": 3, 
                "name": "ipython"
            }
        }
    }, 
    "nbformat": 4
}