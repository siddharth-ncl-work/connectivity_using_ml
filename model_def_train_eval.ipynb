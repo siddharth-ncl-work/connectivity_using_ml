{
    "nbformat_minor": 1, 
    "cells": [
        {
            "source": "# Download Data", 
            "cell_type": "markdown", 
            "metadata": {
                "collapsed": true
            }
        }, 
        {
            "execution_count": 1, 
            "cell_type": "code", 
            "metadata": {}, 
            "outputs": [], 
            "source": "# The code was removed by Watson Studio for sharing."
        }, 
        {
            "execution_count": 2, 
            "cell_type": "code", 
            "metadata": {}, 
            "outputs": [
                {
                    "output_type": "stream", 
                    "name": "stdout", 
                    "text": "10390.png      13568.png   24529.png\t6325.png   69319.png  887.png\r\n106705.png     137201.png  24547.png\t6329.png   74209.png  9237.png\r\n11269.png      140746.png  24823.png\t6335.png   74348.png  931.png\r\n1146.png       143710.png  3283.png\t6360.png   7732.png   9964.png\r\n11473.png      144018.png  33558.png\t6375.png   77628.png  996.png\r\n11638.png      14917.png   5206.png\t6386.png   783.png    BASKVILL.TTF\r\n11646.png      176.png\t   5365279.png\t6393.png   7845.png   data_raw.csv\r\n12228.png      177.png\t   552549.png\t6410.png   784.png    pairs_dict.pkl\r\n12246.png      18196.png   566545.png\t6569.png   7929.png\r\n123257.png     222.png\t   5962.png\t66074.png  7952.png\r\n123502.png     240.png\t   6115.png\t66978.png  8033.png\r\n127602.png     241.png\t   6319.png\t67180.png  8053.png\r\n135504501.png  243.png\t   6324.png\t674.png    8058.png\r\n"
                }
            ], 
            "source": "!rm data_training.csv\n!ls"
        }, 
        {
            "execution_count": 3, 
            "cell_type": "code", 
            "metadata": {}, 
            "outputs": [
                {
                    "output_type": "stream", 
                    "name": "stdout", 
                    "text": "File Downloaded\n10390.png      13568.png   24529.png\t6325.png   69319.png  887.png\n106705.png     137201.png  24547.png\t6329.png   74209.png  9237.png\n11269.png      140746.png  24823.png\t6335.png   74348.png  931.png\n1146.png       143710.png  3283.png\t6360.png   7732.png   9964.png\n11473.png      144018.png  33558.png\t6375.png   77628.png  996.png\n11638.png      14917.png   5206.png\t6386.png   783.png    BASKVILL.TTF\n11646.png      176.png\t   5365279.png\t6393.png   7845.png   data_raw.csv\n12228.png      177.png\t   552549.png\t6410.png   784.png    data_training.csv\n12246.png      18196.png   566545.png\t6569.png   7929.png   pairs_dict.pkl\n123257.png     222.png\t   5962.png\t66074.png  7952.png\n123502.png     240.png\t   6115.png\t66978.png  8033.png\n127602.png     241.png\t   6319.png\t67180.png  8053.png\n135504501.png  243.png\t   6324.png\t674.png    8058.png\n"
                }
            ], 
            "source": "download_file_cos(credentials_1, 'data_training.csv', 'data_training.csv')\n!ls"
        }, 
        {
            "execution_count": 4, 
            "cell_type": "code", 
            "metadata": {}, 
            "outputs": [
                {
                    "output_type": "stream", 
                    "name": "stdout", 
                    "text": "pairs_enc,distance,bond\r\n0,1.5119999999999998,1\r\n2,1.0940555607463451,1\r\n2,1.0940439342183659,1\r\n2,1.0940911982097288,1\r\n2,2.1553485031428212,0\r\n2,1.0940439342183659,1\r\n2,1.0940911982097288,1\r\n2,1.0940555607463451,1\r\n2,1.0940439342183659,0\r\n"
                }
            ], 
            "source": "!head -10 data_training.csv"
        }, 
        {
            "source": "# Train,Val,Test Split", 
            "cell_type": "markdown", 
            "metadata": {}
        }, 
        {
            "execution_count": 5, 
            "cell_type": "code", 
            "metadata": {}, 
            "outputs": [], 
            "source": "import pandas as pd\nimport numpy as np\nimport matplotlib.pyplot as plt\nfrom sklearn.model_selection import train_test_split\nimport tensorflow as tf\nfrom tensorflow import keras\n\n%matplotlib inline"
        }, 
        {
            "execution_count": 46, 
            "cell_type": "code", 
            "metadata": {}, 
            "outputs": [], 
            "source": "x=pd.read_csv('data_training.csv')"
        }, 
        {
            "execution_count": 48, 
            "cell_type": "code", 
            "metadata": {}, 
            "outputs": [
                {
                    "execution_count": 48, 
                    "metadata": {}, 
                    "data": {
                        "text/html": "<div>\n<style scoped>\n    .dataframe tbody tr th:only-of-type {\n        vertical-align: middle;\n    }\n\n    .dataframe tbody tr th {\n        vertical-align: top;\n    }\n\n    .dataframe thead th {\n        text-align: right;\n    }\n</style>\n<table border=\"1\" class=\"dataframe\">\n  <thead>\n    <tr style=\"text-align: right;\">\n      <th></th>\n      <th>pairs_enc</th>\n      <th>distance</th>\n      <th>bond</th>\n    </tr>\n  </thead>\n  <tbody>\n    <tr>\n      <th>0</th>\n      <td>0</td>\n      <td>1.512000</td>\n      <td>1</td>\n    </tr>\n    <tr>\n      <th>1</th>\n      <td>2</td>\n      <td>1.094056</td>\n      <td>1</td>\n    </tr>\n    <tr>\n      <th>2</th>\n      <td>2</td>\n      <td>1.094044</td>\n      <td>1</td>\n    </tr>\n    <tr>\n      <th>3</th>\n      <td>2</td>\n      <td>1.094091</td>\n      <td>1</td>\n    </tr>\n    <tr>\n      <th>4</th>\n      <td>2</td>\n      <td>2.155349</td>\n      <td>0</td>\n    </tr>\n  </tbody>\n</table>\n</div>", 
                        "text/plain": "   pairs_enc  distance  bond\n0          0  1.512000     1\n1          2  1.094056     1\n2          2  1.094044     1\n3          2  1.094091     1\n4          2  2.155349     0"
                    }, 
                    "output_type": "execute_result"
                }
            ], 
            "source": "x.head()"
        }, 
        {
            "execution_count": 49, 
            "cell_type": "code", 
            "metadata": {}, 
            "outputs": [
                {
                    "execution_count": 49, 
                    "metadata": {}, 
                    "data": {
                        "text/plain": "(2221, 3)"
                    }, 
                    "output_type": "execute_result"
                }
            ], 
            "source": "x.shape"
        }, 
        {
            "execution_count": 50, 
            "cell_type": "code", 
            "metadata": {}, 
            "outputs": [
                {
                    "execution_count": 50, 
                    "metadata": {}, 
                    "data": {
                        "text/plain": "Index(['pairs_enc', 'distance', 'bond'], dtype='object')"
                    }, 
                    "output_type": "execute_result"
                }
            ], 
            "source": "x.columns"
        }, 
        {
            "execution_count": 51, 
            "cell_type": "code", 
            "metadata": {}, 
            "outputs": [], 
            "source": "y=x['bond']"
        }, 
        {
            "execution_count": 52, 
            "cell_type": "code", 
            "metadata": {}, 
            "outputs": [], 
            "source": "x=x.drop('bond',axis=1)"
        }, 
        {
            "execution_count": 53, 
            "cell_type": "code", 
            "metadata": {}, 
            "outputs": [
                {
                    "execution_count": 53, 
                    "metadata": {}, 
                    "data": {
                        "text/html": "<div>\n<style scoped>\n    .dataframe tbody tr th:only-of-type {\n        vertical-align: middle;\n    }\n\n    .dataframe tbody tr th {\n        vertical-align: top;\n    }\n\n    .dataframe thead th {\n        text-align: right;\n    }\n</style>\n<table border=\"1\" class=\"dataframe\">\n  <thead>\n    <tr style=\"text-align: right;\">\n      <th></th>\n      <th>pairs_enc</th>\n      <th>distance</th>\n    </tr>\n  </thead>\n  <tbody>\n    <tr>\n      <th>0</th>\n      <td>0</td>\n      <td>1.512000</td>\n    </tr>\n    <tr>\n      <th>1</th>\n      <td>2</td>\n      <td>1.094056</td>\n    </tr>\n    <tr>\n      <th>2</th>\n      <td>2</td>\n      <td>1.094044</td>\n    </tr>\n    <tr>\n      <th>3</th>\n      <td>2</td>\n      <td>1.094091</td>\n    </tr>\n    <tr>\n      <th>4</th>\n      <td>2</td>\n      <td>2.155349</td>\n    </tr>\n  </tbody>\n</table>\n</div>", 
                        "text/plain": "   pairs_enc  distance\n0          0  1.512000\n1          2  1.094056\n2          2  1.094044\n3          2  1.094091\n4          2  2.155349"
                    }, 
                    "output_type": "execute_result"
                }
            ], 
            "source": "x.head()"
        }, 
        {
            "execution_count": 54, 
            "cell_type": "code", 
            "metadata": {}, 
            "outputs": [
                {
                    "execution_count": 54, 
                    "metadata": {}, 
                    "data": {
                        "text/plain": "0    1\n1    1\n2    1\n3    1\n4    0\nName: bond, dtype: int64"
                    }, 
                    "output_type": "execute_result"
                }
            ], 
            "source": "y.head()"
        }, 
        {
            "execution_count": 55, 
            "cell_type": "code", 
            "metadata": {}, 
            "outputs": [], 
            "source": "x_train,x_val,y_train,y_val=train_test_split(x,y,test_size=0.3)"
        }, 
        {
            "execution_count": 56, 
            "cell_type": "code", 
            "metadata": {}, 
            "outputs": [
                {
                    "output_type": "stream", 
                    "name": "stdout", 
                    "text": "x_train: (1554, 2)  y_train: (1554,)\nx_val: (667, 2)  y_val: (667,)\n"
                }
            ], 
            "source": "print('x_train: {}  y_train: {}\\nx_val: {}  y_val: {}'.format(x_train.shape,y_train.shape,x_val.shape,y_val.shape))"
        }, 
        {
            "execution_count": 57, 
            "cell_type": "code", 
            "metadata": {}, 
            "outputs": [], 
            "source": "x_val,x_test,y_val,y_test=train_test_split(x_val,y_val,test_size=0.5)"
        }, 
        {
            "execution_count": 58, 
            "cell_type": "code", 
            "metadata": {}, 
            "outputs": [
                {
                    "output_type": "stream", 
                    "name": "stdout", 
                    "text": "x_val: (333, 2)  y_val: (333,)\nx_test: (334, 2)  y_test: (334,)\n"
                }
            ], 
            "source": "print('x_val: {}  y_val: {}\\nx_test: {}  y_test: {}'.format(x_val.shape,y_val.shape,x_test.shape,y_test.shape))"
        }, 
        {
            "execution_count": 59, 
            "cell_type": "code", 
            "metadata": {}, 
            "outputs": [
                {
                    "execution_count": 59, 
                    "metadata": {}, 
                    "data": {
                        "text/plain": "1    169\n0    164\nName: bond, dtype: int64"
                    }, 
                    "output_type": "execute_result"
                }
            ], 
            "source": "y_val.value_counts()"
        }, 
        {
            "execution_count": 60, 
            "cell_type": "code", 
            "metadata": {}, 
            "outputs": [
                {
                    "execution_count": 60, 
                    "metadata": {}, 
                    "data": {
                        "text/plain": "1    168\n0    166\nName: bond, dtype: int64"
                    }, 
                    "output_type": "execute_result"
                }
            ], 
            "source": "y_test.value_counts()"
        }, 
        {
            "execution_count": 61, 
            "cell_type": "code", 
            "metadata": {}, 
            "outputs": [
                {
                    "execution_count": 61, 
                    "metadata": {}, 
                    "data": {
                        "text/plain": "0    781\n1    773\nName: bond, dtype: int64"
                    }, 
                    "output_type": "execute_result"
                }
            ], 
            "source": "y_train.value_counts()"
        }, 
        {
            "source": "# Model", 
            "cell_type": "markdown", 
            "metadata": {}
        }, 
        {
            "execution_count": 62, 
            "cell_type": "code", 
            "metadata": {}, 
            "outputs": [
                {
                    "execution_count": 62, 
                    "metadata": {}, 
                    "data": {
                        "text/plain": "'1.13.1'"
                    }, 
                    "output_type": "execute_result"
                }
            ], 
            "source": "tf.__version__"
        }, 
        {
            "source": "## 1. NN", 
            "cell_type": "markdown", 
            "metadata": {}
        }, 
        {
            "execution_count": 111, 
            "cell_type": "code", 
            "metadata": {}, 
            "outputs": [], 
            "source": "input_shape=(2,)\nmodel_nn=keras.Sequential()\nmodel_nn.add(keras.layers.Dense(8,activation='relu',input_shape=input_shape))\nmodel_nn.add(keras.layers.Dense(64,activation='relu'))\nmodel_nn.add(keras.layers.Dense(64,activation='relu'))\nmodel_nn.add(keras.layers.Dense(128,activation='relu'))\nmodel_nn.add(keras.layers.Dense(128,activation='relu'))\nmodel_nn.add(keras.layers.Dense(256,activation='relu'))\nmodel_nn.add(keras.layers.Dense(512,activation='relu'))\nmodel_nn.add(keras.layers.Dense(512,activation='relu'))\nmodel_nn.add(keras.layers.Dense(128,activation='relu'))\nmodel_nn.add(keras.layers.Dense(128,activation='relu'))\nmodel_nn.add(keras.layers.Dense(64,activation='relu'))\nmodel_nn.add(keras.layers.Dense(64,activation='relu'))\nmodel_nn.add(keras.layers.Dense(8,activation='relu'))\nmodel_nn.add(keras.layers.Dense(8,activation='relu'))\nmodel_nn.add(keras.layers.Dense(1,activation='sigmoid'))"
        }, 
        {
            "execution_count": 113, 
            "cell_type": "code", 
            "metadata": {}, 
            "outputs": [
                {
                    "output_type": "stream", 
                    "name": "stdout", 
                    "text": "_________________________________________________________________\nLayer (type)                 Output Shape              Param #   \n=================================================================\ndense_47 (Dense)             (None, 8)                 24        \n_________________________________________________________________\ndense_48 (Dense)             (None, 64)                576       \n_________________________________________________________________\ndense_49 (Dense)             (None, 64)                4160      \n_________________________________________________________________\ndense_50 (Dense)             (None, 128)               8320      \n_________________________________________________________________\ndense_51 (Dense)             (None, 128)               16512     \n_________________________________________________________________\ndense_52 (Dense)             (None, 256)               33024     \n_________________________________________________________________\ndense_53 (Dense)             (None, 512)               131584    \n_________________________________________________________________\ndense_54 (Dense)             (None, 512)               262656    \n_________________________________________________________________\ndense_55 (Dense)             (None, 128)               65664     \n_________________________________________________________________\ndense_56 (Dense)             (None, 128)               16512     \n_________________________________________________________________\ndense_57 (Dense)             (None, 64)                8256      \n_________________________________________________________________\ndense_58 (Dense)             (None, 64)                4160      \n_________________________________________________________________\ndense_59 (Dense)             (None, 64)                4160      \n_________________________________________________________________\ndense_60 (Dense)             (None, 8)                 520       \n_________________________________________________________________\ndense_61 (Dense)             (None, 1)                 9         \n=================================================================\nTotal params: 556,137\nTrainable params: 556,137\nNon-trainable params: 0\n_________________________________________________________________\n"
                }
            ], 
            "source": "model_nn.summary()"
        }, 
        {
            "execution_count": 114, 
            "cell_type": "code", 
            "metadata": {
                "scrolled": true
            }, 
            "outputs": [], 
            "source": "#help(model_nn.compile)"
        }, 
        {
            "execution_count": 115, 
            "cell_type": "code", 
            "metadata": {}, 
            "outputs": [], 
            "source": "model_nn.compile(optimizer='adam',loss='binary_crossentropy',metrics=['accuracy'])"
        }, 
        {
            "execution_count": 116, 
            "cell_type": "code", 
            "metadata": {}, 
            "outputs": [
                {
                    "output_type": "stream", 
                    "name": "stdout", 
                    "text": "Train on 1554 samples, validate on 333 samples\nEpoch 1/100\n1554/1554 [==============================] - 11s 7ms/sample - loss: 0.5964 - acc: 0.6165 - val_loss: 0.5140 - val_acc: 0.8228\nEpoch 2/100\n1554/1554 [==============================] - 7s 5ms/sample - loss: 0.4448 - acc: 0.8475 - val_loss: 0.3368 - val_acc: 0.8529\nEpoch 3/100\n1554/1554 [==============================] - 7s 4ms/sample - loss: 0.3493 - acc: 0.8559 - val_loss: 0.3391 - val_acc: 0.8498\nEpoch 4/100\n1554/1554 [==============================] - 7s 4ms/sample - loss: 0.3522 - acc: 0.8494 - val_loss: 0.3450 - val_acc: 0.8649\nEpoch 5/100\n1554/1554 [==============================] - 7s 5ms/sample - loss: 0.3367 - acc: 0.8623 - val_loss: 0.3434 - val_acc: 0.8619\nEpoch 6/100\n1554/1554 [==============================] - 7s 4ms/sample - loss: 0.3487 - acc: 0.8616 - val_loss: 0.3201 - val_acc: 0.8769\nEpoch 7/100\n1554/1554 [==============================] - 7s 5ms/sample - loss: 0.3395 - acc: 0.8604 - val_loss: 0.3174 - val_acc: 0.8679\nEpoch 8/100\n1554/1554 [==============================] - 7s 5ms/sample - loss: 0.3416 - acc: 0.8649 - val_loss: 0.3104 - val_acc: 0.8619\nEpoch 9/100\n1554/1554 [==============================] - 7s 4ms/sample - loss: 0.3276 - acc: 0.8668 - val_loss: 0.3371 - val_acc: 0.8679\nEpoch 10/100\n1554/1554 [==============================] - 7s 5ms/sample - loss: 0.3278 - acc: 0.8687 - val_loss: 0.3201 - val_acc: 0.8679\nEpoch 11/100\n1554/1554 [==============================] - 7s 5ms/sample - loss: 0.3304 - acc: 0.8629 - val_loss: 0.3292 - val_acc: 0.8559\nEpoch 12/100\n1554/1554 [==============================] - 6s 4ms/sample - loss: 0.3320 - acc: 0.8662 - val_loss: 0.3185 - val_acc: 0.8649\nEpoch 13/100\n1554/1554 [==============================] - 7s 5ms/sample - loss: 0.3295 - acc: 0.8713 - val_loss: 0.3242 - val_acc: 0.8679\nEpoch 14/100\n1554/1554 [==============================] - 7s 4ms/sample - loss: 0.3277 - acc: 0.8707 - val_loss: 0.3036 - val_acc: 0.8769\nEpoch 15/100\n1554/1554 [==============================] - 7s 5ms/sample - loss: 0.3243 - acc: 0.8713 - val_loss: 0.3081 - val_acc: 0.8739\nEpoch 16/100\n1554/1554 [==============================] - 7s 5ms/sample - loss: 0.3362 - acc: 0.8719 - val_loss: 0.3415 - val_acc: 0.8619\nEpoch 17/100\n1554/1554 [==============================] - 6s 4ms/sample - loss: 0.3275 - acc: 0.8732 - val_loss: 0.3107 - val_acc: 0.8739\nEpoch 18/100\n1554/1554 [==============================] - 7s 5ms/sample - loss: 0.3184 - acc: 0.8726 - val_loss: 0.3123 - val_acc: 0.8679\nEpoch 19/100\n1554/1554 [==============================] - 7s 5ms/sample - loss: 0.3202 - acc: 0.8681 - val_loss: 0.3315 - val_acc: 0.8438\nEpoch 20/100\n1554/1554 [==============================] - 7s 4ms/sample - loss: 0.3330 - acc: 0.8662 - val_loss: 0.3371 - val_acc: 0.8649\nEpoch 21/100\n1554/1554 [==============================] - 7s 5ms/sample - loss: 0.3252 - acc: 0.8719 - val_loss: 0.3221 - val_acc: 0.8649\nEpoch 22/100\n1554/1554 [==============================] - 7s 4ms/sample - loss: 0.3199 - acc: 0.8719 - val_loss: 0.3143 - val_acc: 0.8619\nEpoch 23/100\n1554/1554 [==============================] - 7s 5ms/sample - loss: 0.3298 - acc: 0.8629 - val_loss: 0.3100 - val_acc: 0.8679\nEpoch 24/100\n1554/1554 [==============================] - 7s 5ms/sample - loss: 0.3255 - acc: 0.8655 - val_loss: 0.3078 - val_acc: 0.8739\nEpoch 25/100\n1554/1554 [==============================] - 7s 4ms/sample - loss: 0.3197 - acc: 0.8732 - val_loss: 0.3182 - val_acc: 0.8649\nEpoch 26/100\n1554/1554 [==============================] - 7s 4ms/sample - loss: 0.3205 - acc: 0.8732 - val_loss: 0.3239 - val_acc: 0.8619\nEpoch 27/100\n1554/1554 [==============================] - 8s 5ms/sample - loss: 0.3195 - acc: 0.8719 - val_loss: 0.3066 - val_acc: 0.8739\nEpoch 28/100\n1554/1554 [==============================] - 7s 5ms/sample - loss: 0.3226 - acc: 0.8739 - val_loss: 0.3101 - val_acc: 0.8739\nEpoch 29/100\n1554/1554 [==============================] - 7s 5ms/sample - loss: 0.3256 - acc: 0.8707 - val_loss: 0.3139 - val_acc: 0.8739\nEpoch 30/100\n1554/1554 [==============================] - 7s 5ms/sample - loss: 0.3412 - acc: 0.8629 - val_loss: 0.3106 - val_acc: 0.8649\nEpoch 31/100\n1554/1554 [==============================] - 7s 4ms/sample - loss: 0.3315 - acc: 0.8681 - val_loss: 0.3169 - val_acc: 0.8619\nEpoch 32/100\n1554/1554 [==============================] - 7s 5ms/sample - loss: 0.3256 - acc: 0.8719 - val_loss: 0.3143 - val_acc: 0.8679\nEpoch 33/100\n1554/1554 [==============================] - 7s 5ms/sample - loss: 0.3225 - acc: 0.8713 - val_loss: 0.3203 - val_acc: 0.8649\nEpoch 34/100\n1554/1554 [==============================] - 7s 4ms/sample - loss: 0.3209 - acc: 0.8739 - val_loss: 0.3181 - val_acc: 0.8649\nEpoch 35/100\n1554/1554 [==============================] - 8s 5ms/sample - loss: 0.3241 - acc: 0.8694 - val_loss: 0.3291 - val_acc: 0.8619\nEpoch 36/100\n1554/1554 [==============================] - 7s 4ms/sample - loss: 0.3241 - acc: 0.8655 - val_loss: 0.3168 - val_acc: 0.8589\nEpoch 37/100\n1554/1554 [==============================] - 8s 5ms/sample - loss: 0.3208 - acc: 0.8681 - val_loss: 0.3129 - val_acc: 0.8709\nEpoch 38/100\n1554/1554 [==============================] - 7s 5ms/sample - loss: 0.3217 - acc: 0.8752 - val_loss: 0.3145 - val_acc: 0.8649\nEpoch 39/100\n1554/1554 [==============================] - 6s 4ms/sample - loss: 0.3213 - acc: 0.8752 - val_loss: 0.3133 - val_acc: 0.8649\nEpoch 40/100\n1554/1554 [==============================] - 8s 5ms/sample - loss: 0.3167 - acc: 0.8726 - val_loss: 0.3049 - val_acc: 0.8709\nEpoch 41/100\n1554/1554 [==============================] - 8s 5ms/sample - loss: 0.3230 - acc: 0.8642 - val_loss: 0.3138 - val_acc: 0.8649\nEpoch 42/100\n1554/1554 [==============================] - 7s 4ms/sample - loss: 0.3205 - acc: 0.8713 - val_loss: 0.3284 - val_acc: 0.8589\nEpoch 43/100\n1554/1554 [==============================] - 7s 5ms/sample - loss: 0.3333 - acc: 0.8591 - val_loss: 0.3249 - val_acc: 0.8559\nEpoch 44/100\n1554/1554 [==============================] - 7s 5ms/sample - loss: 0.3185 - acc: 0.8745 - val_loss: 0.3175 - val_acc: 0.8589\nEpoch 45/100\n1554/1554 [==============================] - 7s 4ms/sample - loss: 0.3185 - acc: 0.8739 - val_loss: 0.3228 - val_acc: 0.8649\nEpoch 46/100\n1554/1554 [==============================] - 8s 5ms/sample - loss: 0.3207 - acc: 0.8662 - val_loss: 0.3146 - val_acc: 0.8649\nEpoch 47/100\n1554/1554 [==============================] - 8s 5ms/sample - loss: 0.3350 - acc: 0.8687 - val_loss: 0.3133 - val_acc: 0.8709\nEpoch 48/100\n1554/1554 [==============================] - 6s 4ms/sample - loss: 0.3138 - acc: 0.8752 - val_loss: 0.3237 - val_acc: 0.8649\nEpoch 49/100\n1554/1554 [==============================] - 8s 5ms/sample - loss: 0.3205 - acc: 0.8745 - val_loss: 0.3137 - val_acc: 0.8649\nEpoch 50/100\n1554/1554 [==============================] - 9s 6ms/sample - loss: 0.3183 - acc: 0.8681 - val_loss: 0.3151 - val_acc: 0.8739\nEpoch 51/100\n1554/1554 [==============================] - 6s 4ms/sample - loss: 0.3350 - acc: 0.8578 - val_loss: 0.3177 - val_acc: 0.8679\nEpoch 52/100\n1554/1554 [==============================] - 7s 5ms/sample - loss: 0.3212 - acc: 0.8732 - val_loss: 0.3040 - val_acc: 0.8679\nEpoch 53/100\n1554/1554 [==============================] - 7s 4ms/sample - loss: 0.3173 - acc: 0.8732 - val_loss: 0.3283 - val_acc: 0.8709\nEpoch 54/100\n1554/1554 [==============================] - 7s 4ms/sample - loss: 0.3177 - acc: 0.8739 - val_loss: 0.3156 - val_acc: 0.8769\nEpoch 55/100\n1554/1554 [==============================] - 7s 5ms/sample - loss: 0.3227 - acc: 0.8713 - val_loss: 0.3170 - val_acc: 0.8709\nEpoch 56/100\n1554/1554 [==============================] - 7s 5ms/sample - loss: 0.3201 - acc: 0.8790 - val_loss: 0.3133 - val_acc: 0.8649\nEpoch 57/100\n1554/1554 [==============================] - 7s 4ms/sample - loss: 0.3172 - acc: 0.8752 - val_loss: 0.3208 - val_acc: 0.8619\nEpoch 58/100\n1554/1554 [==============================] - 7s 5ms/sample - loss: 0.3183 - acc: 0.8713 - val_loss: 0.3158 - val_acc: 0.8649\nEpoch 59/100\n1554/1554 [==============================] - 7s 4ms/sample - loss: 0.3176 - acc: 0.8694 - val_loss: 0.3194 - val_acc: 0.8559\nEpoch 60/100\n1554/1554 [==============================] - 7s 5ms/sample - loss: 0.3230 - acc: 0.8700 - val_loss: 0.3226 - val_acc: 0.8589\nEpoch 61/100\n1554/1554 [==============================] - 7s 5ms/sample - loss: 0.3254 - acc: 0.8707 - val_loss: 0.3288 - val_acc: 0.8438\nEpoch 62/100\n1554/1554 [==============================] - 7s 4ms/sample - loss: 0.3366 - acc: 0.8559 - val_loss: 0.3230 - val_acc: 0.8649\nEpoch 63/100\n1554/1554 [==============================] - 7s 4ms/sample - loss: 0.3216 - acc: 0.8752 - val_loss: 0.3133 - val_acc: 0.8679\nEpoch 64/100\n1554/1554 [==============================] - 7s 5ms/sample - loss: 0.3199 - acc: 0.8726 - val_loss: 0.3143 - val_acc: 0.8649\nEpoch 65/100\n1554/1554 [==============================] - 6s 4ms/sample - loss: 0.3209 - acc: 0.8713 - val_loss: 0.3306 - val_acc: 0.8559\nEpoch 66/100\n1554/1554 [==============================] - 7s 4ms/sample - loss: 0.3165 - acc: 0.8771 - val_loss: 0.3187 - val_acc: 0.8709\nEpoch 67/100\n1554/1554 [==============================] - 7s 4ms/sample - loss: 0.3171 - acc: 0.8719 - val_loss: 0.3093 - val_acc: 0.8739\nEpoch 68/100\n1554/1554 [==============================] - 7s 4ms/sample - loss: 0.3190 - acc: 0.8764 - val_loss: 0.3170 - val_acc: 0.8649\nEpoch 69/100\n1554/1554 [==============================] - 7s 5ms/sample - loss: 0.3258 - acc: 0.8694 - val_loss: 0.3150 - val_acc: 0.8649\nEpoch 70/100\n1554/1554 [==============================] - 6s 4ms/sample - loss: 0.3206 - acc: 0.8687 - val_loss: 0.3153 - val_acc: 0.8619\nEpoch 71/100\n1554/1554 [==============================] - 7s 5ms/sample - loss: 0.3186 - acc: 0.8758 - val_loss: 0.3127 - val_acc: 0.8739\nEpoch 72/100\n1554/1554 [==============================] - 7s 5ms/sample - loss: 0.3169 - acc: 0.8719 - val_loss: 0.3122 - val_acc: 0.8649\nEpoch 73/100\n1554/1554 [==============================] - 7s 4ms/sample - loss: 0.3155 - acc: 0.8745 - val_loss: 0.3139 - val_acc: 0.8649\nEpoch 74/100\n1554/1554 [==============================] - 7s 5ms/sample - loss: 0.3170 - acc: 0.8745 - val_loss: 0.3255 - val_acc: 0.8649\nEpoch 75/100\n1554/1554 [==============================] - 7s 4ms/sample - loss: 0.3181 - acc: 0.8707 - val_loss: 0.3180 - val_acc: 0.8619\nEpoch 76/100\n1554/1554 [==============================] - 7s 5ms/sample - loss: 0.3175 - acc: 0.8758 - val_loss: 0.3116 - val_acc: 0.8649\nEpoch 77/100\n1554/1554 [==============================] - 7s 5ms/sample - loss: 0.3254 - acc: 0.8655 - val_loss: 0.3121 - val_acc: 0.8739\nEpoch 78/100\n1554/1554 [==============================] - 7s 4ms/sample - loss: 0.3181 - acc: 0.8719 - val_loss: 0.3174 - val_acc: 0.8649\nEpoch 79/100\n1554/1554 [==============================] - 7s 5ms/sample - loss: 0.3183 - acc: 0.8732 - val_loss: 0.3140 - val_acc: 0.8649\nEpoch 80/100\n1554/1554 [==============================] - 7s 5ms/sample - loss: 0.3209 - acc: 0.8732 - val_loss: 0.3254 - val_acc: 0.8649\nEpoch 81/100\n1554/1554 [==============================] - 7s 4ms/sample - loss: 0.3179 - acc: 0.8719 - val_loss: 0.3253 - val_acc: 0.8649\nEpoch 82/100\n1554/1554 [==============================] - 7s 5ms/sample - loss: 0.3281 - acc: 0.8681 - val_loss: 0.3091 - val_acc: 0.8739\nEpoch 83/100\n1554/1554 [==============================] - 7s 5ms/sample - loss: 0.3164 - acc: 0.8700 - val_loss: 0.3170 - val_acc: 0.8649\nEpoch 84/100\n1554/1554 [==============================] - 7s 4ms/sample - loss: 0.3157 - acc: 0.8719 - val_loss: 0.3213 - val_acc: 0.8679\nEpoch 85/100\n1554/1554 [==============================] - 7s 5ms/sample - loss: 0.3152 - acc: 0.8732 - val_loss: 0.3074 - val_acc: 0.8679\nEpoch 86/100\n1554/1554 [==============================] - 7s 5ms/sample - loss: 0.3144 - acc: 0.8745 - val_loss: 0.3098 - val_acc: 0.8649\nEpoch 87/100\n1554/1554 [==============================] - 7s 4ms/sample - loss: 0.3160 - acc: 0.8752 - val_loss: 0.3139 - val_acc: 0.8709\nEpoch 88/100\n1554/1554 [==============================] - 7s 5ms/sample - loss: 0.3109 - acc: 0.8745 - val_loss: 0.3202 - val_acc: 0.8619\nEpoch 89/100\n1554/1554 [==============================] - 7s 5ms/sample - loss: 0.3193 - acc: 0.8726 - val_loss: 0.3108 - val_acc: 0.8709\nEpoch 90/100\n1554/1554 [==============================] - 7s 4ms/sample - loss: 0.3142 - acc: 0.8739 - val_loss: 0.3116 - val_acc: 0.8649\nEpoch 91/100\n1554/1554 [==============================] - 7s 5ms/sample - loss: 0.3175 - acc: 0.8752 - val_loss: 0.3117 - val_acc: 0.8649\nEpoch 92/100\n1554/1554 [==============================] - 7s 4ms/sample - loss: 0.3168 - acc: 0.8726 - val_loss: 0.3110 - val_acc: 0.8739\nEpoch 93/100\n1554/1554 [==============================] - 7s 4ms/sample - loss: 0.3173 - acc: 0.8777 - val_loss: 0.3143 - val_acc: 0.8679\nEpoch 94/100\n1554/1554 [==============================] - 7s 5ms/sample - loss: 0.3194 - acc: 0.8700 - val_loss: 0.3094 - val_acc: 0.8649\nEpoch 95/100\n1554/1554 [==============================] - 7s 4ms/sample - loss: 0.3160 - acc: 0.8687 - val_loss: 0.3115 - val_acc: 0.8649\nEpoch 96/100\n1554/1554 [==============================] - 7s 5ms/sample - loss: 0.3152 - acc: 0.8726 - val_loss: 0.3270 - val_acc: 0.8679\nEpoch 97/100\n1554/1554 [==============================] - 6s 4ms/sample - loss: 0.3200 - acc: 0.8732 - val_loss: 0.3148 - val_acc: 0.8649\nEpoch 98/100\n1554/1554 [==============================] - 7s 4ms/sample - loss: 0.3179 - acc: 0.8674 - val_loss: 0.3158 - val_acc: 0.8559\nEpoch 99/100\n1554/1554 [==============================] - 7s 5ms/sample - loss: 0.3209 - acc: 0.8649 - val_loss: 0.3172 - val_acc: 0.8649\nEpoch 100/100\n1554/1554 [==============================] - 7s 4ms/sample - loss: 0.3197 - acc: 0.8764 - val_loss: 0.3180 - val_acc: 0.8709\n"
                }
            ], 
            "source": "history=model_nn.fit(x_train,y_train,batch_size=64,epochs=100,validation_data=(x_val,y_val))"
        }, 
        {
            "execution_count": 118, 
            "cell_type": "code", 
            "metadata": {}, 
            "outputs": [
                {
                    "output_type": "stream", 
                    "name": "stdout", 
                    "text": "334/334 [==============================] - 1s 3ms/sample - loss: 0.3930 - acc: 0.8533\n"
                }, 
                {
                    "execution_count": 118, 
                    "metadata": {}, 
                    "data": {
                        "text/plain": "[0.39302008648118575, 0.8532934]"
                    }, 
                    "output_type": "execute_result"
                }
            ], 
            "source": "model_nn.evaluate(x_test,y_test)"
        }, 
        {
            "source": "## Random Forest", 
            "cell_type": "markdown", 
            "metadata": {}
        }, 
        {
            "execution_count": 89, 
            "cell_type": "code", 
            "metadata": {}, 
            "outputs": [], 
            "source": "from sklearn.ensemble import RandomForestClassifier"
        }, 
        {
            "execution_count": 127, 
            "cell_type": "code", 
            "metadata": {}, 
            "outputs": [
                {
                    "output_type": "stream", 
                    "name": "stderr", 
                    "text": "/opt/conda/envs/Python36/lib/python3.6/site-packages/sklearn/ensemble/forest.py:246: FutureWarning: The default value of n_estimators will change from 10 in version 0.20 to 100 in 0.22.\n  \"10 in version 0.20 to 100 in 0.22.\", FutureWarning)\n"
                }, 
                {
                    "execution_count": 127, 
                    "metadata": {}, 
                    "data": {
                        "text/plain": "RandomForestClassifier(bootstrap=True, class_weight=None, criterion='gini',\n            max_depth=30, max_features='auto', max_leaf_nodes=None,\n            min_impurity_decrease=0.0, min_impurity_split=None,\n            min_samples_leaf=1, min_samples_split=2,\n            min_weight_fraction_leaf=0.0, n_estimators=10, n_jobs=None,\n            oob_score=False, random_state=None, verbose=0,\n            warm_start=False)"
                    }, 
                    "output_type": "execute_result"
                }
            ], 
            "source": "model_rf=RandomForestClassifier(max_depth=30)\nmodel_rf.fit(x_train,y_train)"
        }, 
        {
            "execution_count": 124, 
            "cell_type": "code", 
            "metadata": {}, 
            "outputs": [], 
            "source": "from sklearn.metrics import accuracy_score"
        }, 
        {
            "execution_count": 128, 
            "cell_type": "code", 
            "metadata": {}, 
            "outputs": [], 
            "source": "y_pred=model_rf.predict(x_test)"
        }, 
        {
            "execution_count": 129, 
            "cell_type": "code", 
            "metadata": {}, 
            "outputs": [
                {
                    "execution_count": 129, 
                    "metadata": {}, 
                    "data": {
                        "text/plain": "0.8263473053892215"
                    }, 
                    "output_type": "execute_result"
                }
            ], 
            "source": "accuracy_score(y_test,y_pred)"
        }, 
        {
            "source": "## GBM, SVM, Logistic Regression", 
            "cell_type": "markdown", 
            "metadata": {}
        }, 
        {
            "source": "### Hyperparameter tuning", 
            "cell_type": "markdown", 
            "metadata": {}
        }, 
        {
            "execution_count": null, 
            "cell_type": "code", 
            "metadata": {}, 
            "outputs": [], 
            "source": ""
        }, 
        {
            "execution_count": null, 
            "cell_type": "code", 
            "metadata": {}, 
            "outputs": [], 
            "source": ""
        }, 
        {
            "source": "# Serialize Models", 
            "cell_type": "markdown", 
            "metadata": {}
        }, 
        {
            "execution_count": 96, 
            "cell_type": "code", 
            "metadata": {}, 
            "outputs": [], 
            "source": "#model_nn.save('connectivity_model_nn_02.h5')\n\"\"\"\nDid not work after importing in another notebook\n\"\"\""
        }, 
        {
            "execution_count": 130, 
            "cell_type": "code", 
            "metadata": {}, 
            "outputs": [], 
            "source": "#This method worked\ntf.keras.models.save_model(model_nn,'connectivity_model_nn_03.h5',overwrite=True,include_optimizer=True)"
        }, 
        {
            "execution_count": 131, 
            "cell_type": "code", 
            "metadata": {}, 
            "outputs": [
                {
                    "output_type": "stream", 
                    "name": "stdout", 
                    "text": "10390.png      140746.png  33558.png\t6393.png   7929.png\r\n106705.png     143710.png  5206.png\t6410.png   7952.png\r\n11269.png      144018.png  5365279.png\t6569.png   8033.png\r\n1146.png       14917.png   552549.png\t66074.png  8053.png\r\n11473.png      176.png\t   566545.png\t66978.png  8058.png\r\n11638.png      177.png\t   5962.png\t67180.png  887.png\r\n11646.png      18196.png   6115.png\t674.png    9237.png\r\n12228.png      222.png\t   6319.png\t69319.png  931.png\r\n12246.png      240.png\t   6324.png\t74209.png  9964.png\r\n123257.png     241.png\t   6325.png\t74348.png  996.png\r\n123502.png     243.png\t   6329.png\t7732.png   BASKVILL.TTF\r\n127602.png     24529.png   6335.png\t77628.png  connectivity_model_nn_03.h5\r\n135504501.png  24547.png   6360.png\t783.png    data_raw.csv\r\n13568.png      24823.png   6375.png\t7845.png   data_training.csv\r\n137201.png     3283.png    6386.png\t784.png    pairs_dict.pkl\r\n"
                }
            ], 
            "source": "!ls"
        }, 
        {
            "source": "# Upload to IBM Object Store", 
            "cell_type": "markdown", 
            "metadata": {}
        }, 
        {
            "source": "## 1. Current Project bucket", 
            "cell_type": "markdown", 
            "metadata": {}
        }, 
        {
            "execution_count": 132, 
            "cell_type": "code", 
            "metadata": {}, 
            "outputs": [], 
            "source": "# The code was removed by Watson Studio for sharing."
        }, 
        {
            "execution_count": 133, 
            "cell_type": "code", 
            "metadata": {}, 
            "outputs": [
                {
                    "output_type": "stream", 
                    "name": "stdout", 
                    "text": "File Uploaded\n"
                }
            ], 
            "source": "upload_file_cos(credentials_1,'connectivity_model_nn_03.h5','connectivity_model_nn_03.h5')"
        }, 
        {
            "source": "## 2. Coursera/Kaggle project bucket", 
            "cell_type": "markdown", 
            "metadata": {}
        }, 
        {
            "execution_count": 134, 
            "cell_type": "code", 
            "metadata": {}, 
            "outputs": [], 
            "source": "# The code was removed by Watson Studio for sharing."
        }, 
        {
            "execution_count": 135, 
            "cell_type": "code", 
            "metadata": {}, 
            "outputs": [
                {
                    "output_type": "stream", 
                    "name": "stdout", 
                    "text": "File Uploaded\n"
                }
            ], 
            "source": "upload_file_cos(credentials_2,'connectivity_model_nn_03.h5','connectivity_model_nn_03.h5')"
        }, 
        {
            "execution_count": null, 
            "cell_type": "code", 
            "metadata": {}, 
            "outputs": [], 
            "source": ""
        }
    ], 
    "metadata": {
        "kernelspec": {
            "display_name": "Python 3.6", 
            "name": "python3", 
            "language": "python"
        }, 
        "language_info": {
            "mimetype": "text/x-python", 
            "nbconvert_exporter": "python", 
            "version": "3.6.8", 
            "name": "python", 
            "file_extension": ".py", 
            "pygments_lexer": "ipython3", 
            "codemirror_mode": {
                "version": 3, 
                "name": "ipython"
            }
        }
    }, 
    "nbformat": 4
}