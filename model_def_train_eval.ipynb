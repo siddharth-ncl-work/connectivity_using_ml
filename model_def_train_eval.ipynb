{
  "nbformat": 4,
  "nbformat_minor": 0,
  "metadata": {
    "kernelspec": {
      "name": "python3",
      "display_name": "Python 3"
    },
    "language_info": {
      "mimetype": "text/x-python",
      "nbconvert_exporter": "python",
      "version": "3.6.8",
      "name": "python",
      "file_extension": ".py",
      "pygments_lexer": "ipython3",
      "codemirror_mode": {
        "version": 3,
        "name": "ipython"
      }
    },
    "colab": {
      "name": "model_def_train_eval.ipynb",
      "version": "0.3.2",
      "provenance": [],
      "toc_visible": true,
      "include_colab_link": true
    },
    "accelerator": "GPU"
  },
  "cells": [
    {
      "cell_type": "markdown",
      "metadata": {
        "id": "view-in-github",
        "colab_type": "text"
      },
      "source": [
        "<a href=\"https://colab.research.google.com/github/ss-ghule/connectivity_using_ml/blob/master/model_def_train_eval.ipynb\" target=\"_parent\"><img src=\"https://colab.research.google.com/assets/colab-badge.svg\" alt=\"Open In Colab\"/></a>"
      ]
    },
    {
      "cell_type": "markdown",
      "metadata": {
        "collapsed": true,
        "id": "XAeL97qGOQWm",
        "colab_type": "text"
      },
      "source": [
        "# Download Data"
      ]
    },
    {
      "cell_type": "code",
      "metadata": {
        "id": "6wbLS4wLOQXk",
        "colab_type": "code",
        "colab": {}
      },
      "source": [
        "# The code was removed by Watson Studio for sharing."
      ],
      "execution_count": 0,
      "outputs": []
    },
    {
      "cell_type": "code",
      "metadata": {
        "id": "04o4fr7ZOQYE",
        "colab_type": "code",
        "colab": {},
        "outputId": "06df5102-36c5-4445-f4e6-6662f5e873db"
      },
      "source": [
        "!rm data_training.csv\n",
        "!ls"
      ],
      "execution_count": 0,
      "outputs": [
        {
          "output_type": "stream",
          "text": [
            "10390.png      13568.png   24529.png\t6325.png   69319.png  887.png\r\n",
            "106705.png     137201.png  24547.png\t6329.png   74209.png  9237.png\r\n",
            "11269.png      140746.png  24823.png\t6335.png   74348.png  931.png\r\n",
            "1146.png       143710.png  3283.png\t6360.png   7732.png   9964.png\r\n",
            "11473.png      144018.png  33558.png\t6375.png   77628.png  996.png\r\n",
            "11638.png      14917.png   5206.png\t6386.png   783.png    BASKVILL.TTF\r\n",
            "11646.png      176.png\t   5365279.png\t6393.png   7845.png   data_raw.csv\r\n",
            "12228.png      177.png\t   552549.png\t6410.png   784.png    pairs_dict.pkl\r\n",
            "12246.png      18196.png   566545.png\t6569.png   7929.png\r\n",
            "123257.png     222.png\t   5962.png\t66074.png  7952.png\r\n",
            "123502.png     240.png\t   6115.png\t66978.png  8033.png\r\n",
            "127602.png     241.png\t   6319.png\t67180.png  8053.png\r\n",
            "135504501.png  243.png\t   6324.png\t674.png    8058.png\r\n"
          ],
          "name": "stdout"
        }
      ]
    },
    {
      "cell_type": "code",
      "metadata": {
        "id": "IARyW1ZUOQYW",
        "colab_type": "code",
        "colab": {},
        "outputId": "e83bf7df-ec5c-469c-c1bb-19cf2d571a49"
      },
      "source": [
        "download_file_cos(credentials_1, 'data_training.csv', 'data_training.csv')\n",
        "!ls"
      ],
      "execution_count": 0,
      "outputs": [
        {
          "output_type": "stream",
          "text": [
            "File Downloaded\n",
            "10390.png      13568.png   24529.png\t6325.png   69319.png  887.png\n",
            "106705.png     137201.png  24547.png\t6329.png   74209.png  9237.png\n",
            "11269.png      140746.png  24823.png\t6335.png   74348.png  931.png\n",
            "1146.png       143710.png  3283.png\t6360.png   7732.png   9964.png\n",
            "11473.png      144018.png  33558.png\t6375.png   77628.png  996.png\n",
            "11638.png      14917.png   5206.png\t6386.png   783.png    BASKVILL.TTF\n",
            "11646.png      176.png\t   5365279.png\t6393.png   7845.png   data_raw.csv\n",
            "12228.png      177.png\t   552549.png\t6410.png   784.png    data_training.csv\n",
            "12246.png      18196.png   566545.png\t6569.png   7929.png   pairs_dict.pkl\n",
            "123257.png     222.png\t   5962.png\t66074.png  7952.png\n",
            "123502.png     240.png\t   6115.png\t66978.png  8033.png\n",
            "127602.png     241.png\t   6319.png\t67180.png  8053.png\n",
            "135504501.png  243.png\t   6324.png\t674.png    8058.png\n"
          ],
          "name": "stdout"
        }
      ]
    },
    {
      "cell_type": "code",
      "metadata": {
        "id": "UDnCuEJqOQYl",
        "colab_type": "code",
        "colab": {},
        "outputId": "51c4369e-7ef4-4373-8950-7f2fb72faac2"
      },
      "source": [
        "!head -10 data_training.csv"
      ],
      "execution_count": 0,
      "outputs": [
        {
          "output_type": "stream",
          "text": [
            "pairs_enc,distance,bond\r\n",
            "0,1.5119999999999998,1\r\n",
            "2,1.0940555607463451,1\r\n",
            "2,1.0940439342183659,1\r\n",
            "2,1.0940911982097288,1\r\n",
            "2,2.1553485031428212,0\r\n",
            "2,1.0940439342183659,1\r\n",
            "2,1.0940911982097288,1\r\n",
            "2,1.0940555607463451,1\r\n",
            "2,1.0940439342183659,0\r\n"
          ],
          "name": "stdout"
        }
      ]
    },
    {
      "cell_type": "markdown",
      "metadata": {
        "id": "-H3mIMnBOQYy",
        "colab_type": "text"
      },
      "source": [
        "# Train,Val,Test Split"
      ]
    },
    {
      "cell_type": "code",
      "metadata": {
        "id": "9YZ0I4o2OQY3",
        "colab_type": "code",
        "colab": {}
      },
      "source": [
        "import pandas as pd\n",
        "import numpy as np\n",
        "import matplotlib.pyplot as plt\n",
        "from sklearn.model_selection import train_test_split\n",
        "import tensorflow as tf\n",
        "from tensorflow import keras\n",
        "\n",
        "%matplotlib inline"
      ],
      "execution_count": 0,
      "outputs": []
    },
    {
      "cell_type": "code",
      "metadata": {
        "id": "5VIWBP0gOQZG",
        "colab_type": "code",
        "colab": {}
      },
      "source": [
        "x=pd.read_csv('data_training.csv')"
      ],
      "execution_count": 0,
      "outputs": []
    },
    {
      "cell_type": "code",
      "metadata": {
        "id": "pHw9izL0OQZQ",
        "colab_type": "code",
        "colab": {
          "base_uri": "https://localhost:8080/",
          "height": 204
        },
        "outputId": "7bd392c6-b782-43a6-df56-6c20c203ea2a"
      },
      "source": [
        "x.head()"
      ],
      "execution_count": 3,
      "outputs": [
        {
          "output_type": "execute_result",
          "data": {
            "text/html": [
              "<div>\n",
              "<style scoped>\n",
              "    .dataframe tbody tr th:only-of-type {\n",
              "        vertical-align: middle;\n",
              "    }\n",
              "\n",
              "    .dataframe tbody tr th {\n",
              "        vertical-align: top;\n",
              "    }\n",
              "\n",
              "    .dataframe thead th {\n",
              "        text-align: right;\n",
              "    }\n",
              "</style>\n",
              "<table border=\"1\" class=\"dataframe\">\n",
              "  <thead>\n",
              "    <tr style=\"text-align: right;\">\n",
              "      <th></th>\n",
              "      <th>pairs_enc</th>\n",
              "      <th>distance</th>\n",
              "      <th>bond</th>\n",
              "    </tr>\n",
              "  </thead>\n",
              "  <tbody>\n",
              "    <tr>\n",
              "      <th>0</th>\n",
              "      <td>0</td>\n",
              "      <td>1.512000</td>\n",
              "      <td>1</td>\n",
              "    </tr>\n",
              "    <tr>\n",
              "      <th>1</th>\n",
              "      <td>2</td>\n",
              "      <td>1.094056</td>\n",
              "      <td>1</td>\n",
              "    </tr>\n",
              "    <tr>\n",
              "      <th>2</th>\n",
              "      <td>2</td>\n",
              "      <td>1.094044</td>\n",
              "      <td>1</td>\n",
              "    </tr>\n",
              "    <tr>\n",
              "      <th>3</th>\n",
              "      <td>2</td>\n",
              "      <td>1.094091</td>\n",
              "      <td>1</td>\n",
              "    </tr>\n",
              "    <tr>\n",
              "      <th>4</th>\n",
              "      <td>2</td>\n",
              "      <td>1.094044</td>\n",
              "      <td>1</td>\n",
              "    </tr>\n",
              "  </tbody>\n",
              "</table>\n",
              "</div>"
            ],
            "text/plain": [
              "   pairs_enc  distance  bond\n",
              "0          0  1.512000     1\n",
              "1          2  1.094056     1\n",
              "2          2  1.094044     1\n",
              "3          2  1.094091     1\n",
              "4          2  1.094044     1"
            ]
          },
          "metadata": {
            "tags": []
          },
          "execution_count": 3
        }
      ]
    },
    {
      "cell_type": "code",
      "metadata": {
        "id": "lUXT4Y08OQZg",
        "colab_type": "code",
        "colab": {
          "base_uri": "https://localhost:8080/",
          "height": 34
        },
        "outputId": "d6b6eae3-7a3b-49c9-b91e-aa94d28c6e10"
      },
      "source": [
        "x.shape"
      ],
      "execution_count": 4,
      "outputs": [
        {
          "output_type": "execute_result",
          "data": {
            "text/plain": [
              "(2222, 3)"
            ]
          },
          "metadata": {
            "tags": []
          },
          "execution_count": 4
        }
      ]
    },
    {
      "cell_type": "code",
      "metadata": {
        "id": "Vm80JR9UOQZ0",
        "colab_type": "code",
        "colab": {
          "base_uri": "https://localhost:8080/",
          "height": 34
        },
        "outputId": "b445c747-17fa-4037-b307-36c71feeb8eb"
      },
      "source": [
        "x.columns"
      ],
      "execution_count": 5,
      "outputs": [
        {
          "output_type": "execute_result",
          "data": {
            "text/plain": [
              "Index(['pairs_enc', 'distance', 'bond'], dtype='object')"
            ]
          },
          "metadata": {
            "tags": []
          },
          "execution_count": 5
        }
      ]
    },
    {
      "cell_type": "code",
      "metadata": {
        "id": "A6dfz2sxOQaA",
        "colab_type": "code",
        "colab": {}
      },
      "source": [
        "y=x['bond']"
      ],
      "execution_count": 0,
      "outputs": []
    },
    {
      "cell_type": "code",
      "metadata": {
        "id": "IkrtJ5moOQad",
        "colab_type": "code",
        "colab": {}
      },
      "source": [
        "x=x.drop('bond',axis=1)"
      ],
      "execution_count": 0,
      "outputs": []
    },
    {
      "cell_type": "code",
      "metadata": {
        "id": "XJo6qgqPOQaw",
        "colab_type": "code",
        "colab": {
          "base_uri": "https://localhost:8080/",
          "height": 204
        },
        "outputId": "1eb26057-e769-4765-aea2-00b8a7c812f5"
      },
      "source": [
        "x.head()"
      ],
      "execution_count": 8,
      "outputs": [
        {
          "output_type": "execute_result",
          "data": {
            "text/html": [
              "<div>\n",
              "<style scoped>\n",
              "    .dataframe tbody tr th:only-of-type {\n",
              "        vertical-align: middle;\n",
              "    }\n",
              "\n",
              "    .dataframe tbody tr th {\n",
              "        vertical-align: top;\n",
              "    }\n",
              "\n",
              "    .dataframe thead th {\n",
              "        text-align: right;\n",
              "    }\n",
              "</style>\n",
              "<table border=\"1\" class=\"dataframe\">\n",
              "  <thead>\n",
              "    <tr style=\"text-align: right;\">\n",
              "      <th></th>\n",
              "      <th>pairs_enc</th>\n",
              "      <th>distance</th>\n",
              "    </tr>\n",
              "  </thead>\n",
              "  <tbody>\n",
              "    <tr>\n",
              "      <th>0</th>\n",
              "      <td>0</td>\n",
              "      <td>1.512000</td>\n",
              "    </tr>\n",
              "    <tr>\n",
              "      <th>1</th>\n",
              "      <td>2</td>\n",
              "      <td>1.094056</td>\n",
              "    </tr>\n",
              "    <tr>\n",
              "      <th>2</th>\n",
              "      <td>2</td>\n",
              "      <td>1.094044</td>\n",
              "    </tr>\n",
              "    <tr>\n",
              "      <th>3</th>\n",
              "      <td>2</td>\n",
              "      <td>1.094091</td>\n",
              "    </tr>\n",
              "    <tr>\n",
              "      <th>4</th>\n",
              "      <td>2</td>\n",
              "      <td>1.094044</td>\n",
              "    </tr>\n",
              "  </tbody>\n",
              "</table>\n",
              "</div>"
            ],
            "text/plain": [
              "   pairs_enc  distance\n",
              "0          0  1.512000\n",
              "1          2  1.094056\n",
              "2          2  1.094044\n",
              "3          2  1.094091\n",
              "4          2  1.094044"
            ]
          },
          "metadata": {
            "tags": []
          },
          "execution_count": 8
        }
      ]
    },
    {
      "cell_type": "code",
      "metadata": {
        "id": "aodMcGcVOQa_",
        "colab_type": "code",
        "colab": {
          "base_uri": "https://localhost:8080/",
          "height": 119
        },
        "outputId": "a8eb5ff8-4db6-48a5-ab8c-c498bc766cec"
      },
      "source": [
        "y.head()"
      ],
      "execution_count": 9,
      "outputs": [
        {
          "output_type": "execute_result",
          "data": {
            "text/plain": [
              "0    1\n",
              "1    1\n",
              "2    1\n",
              "3    1\n",
              "4    1\n",
              "Name: bond, dtype: int64"
            ]
          },
          "metadata": {
            "tags": []
          },
          "execution_count": 9
        }
      ]
    },
    {
      "cell_type": "code",
      "metadata": {
        "id": "hxLXgAhaOQbL",
        "colab_type": "code",
        "colab": {}
      },
      "source": [
        "x_train,x_val,y_train,y_val=train_test_split(x,y,test_size=0.3)"
      ],
      "execution_count": 0,
      "outputs": []
    },
    {
      "cell_type": "code",
      "metadata": {
        "id": "2xmXLRVkOQbV",
        "colab_type": "code",
        "colab": {
          "base_uri": "https://localhost:8080/",
          "height": 51
        },
        "outputId": "4cc60671-3b42-4131-b08e-968d5b514db9"
      },
      "source": [
        "print('x_train: {}  y_train: {}\\nx_val: {}  y_val: {}'.format(x_train.shape,y_train.shape,x_val.shape,y_val.shape))"
      ],
      "execution_count": 11,
      "outputs": [
        {
          "output_type": "stream",
          "text": [
            "x_train: (1555, 2)  y_train: (1555,)\n",
            "x_val: (667, 2)  y_val: (667,)\n"
          ],
          "name": "stdout"
        }
      ]
    },
    {
      "cell_type": "code",
      "metadata": {
        "id": "eQqmGx8IOQbl",
        "colab_type": "code",
        "colab": {}
      },
      "source": [
        "x_val,x_test,y_val,y_test=train_test_split(x_val,y_val,test_size=0.5)"
      ],
      "execution_count": 0,
      "outputs": []
    },
    {
      "cell_type": "code",
      "metadata": {
        "id": "IUv9KuzZOQby",
        "colab_type": "code",
        "colab": {
          "base_uri": "https://localhost:8080/",
          "height": 51
        },
        "outputId": "e3172f80-c554-49d3-b34b-8724dc004e29"
      },
      "source": [
        "print('x_val: {}  y_val: {}\\nx_test: {}  y_test: {}'.format(x_val.shape,y_val.shape,x_test.shape,y_test.shape))"
      ],
      "execution_count": 13,
      "outputs": [
        {
          "output_type": "stream",
          "text": [
            "x_val: (333, 2)  y_val: (333,)\n",
            "x_test: (334, 2)  y_test: (334,)\n"
          ],
          "name": "stdout"
        }
      ]
    },
    {
      "cell_type": "code",
      "metadata": {
        "id": "OzRdRKfPOQcA",
        "colab_type": "code",
        "colab": {
          "base_uri": "https://localhost:8080/",
          "height": 68
        },
        "outputId": "19b8ea13-bc20-44eb-c0aa-e056c459450d"
      },
      "source": [
        "y_val.value_counts()"
      ],
      "execution_count": 14,
      "outputs": [
        {
          "output_type": "execute_result",
          "data": {
            "text/plain": [
              "1    174\n",
              "0    159\n",
              "Name: bond, dtype: int64"
            ]
          },
          "metadata": {
            "tags": []
          },
          "execution_count": 14
        }
      ]
    },
    {
      "cell_type": "code",
      "metadata": {
        "id": "ckO8l89eOQct",
        "colab_type": "code",
        "colab": {
          "base_uri": "https://localhost:8080/",
          "height": 68
        },
        "outputId": "0196fc09-4686-41d5-8c87-14487f8fce13"
      },
      "source": [
        "y_test.value_counts()"
      ],
      "execution_count": 15,
      "outputs": [
        {
          "output_type": "execute_result",
          "data": {
            "text/plain": [
              "1    171\n",
              "0    163\n",
              "Name: bond, dtype: int64"
            ]
          },
          "metadata": {
            "tags": []
          },
          "execution_count": 15
        }
      ]
    },
    {
      "cell_type": "code",
      "metadata": {
        "id": "Pcptt64OOQc-",
        "colab_type": "code",
        "colab": {
          "base_uri": "https://localhost:8080/",
          "height": 68
        },
        "outputId": "54e5ca87-1d16-4439-9421-f5a00c080c5b"
      },
      "source": [
        "y_train.value_counts()"
      ],
      "execution_count": 16,
      "outputs": [
        {
          "output_type": "execute_result",
          "data": {
            "text/plain": [
              "0    789\n",
              "1    766\n",
              "Name: bond, dtype: int64"
            ]
          },
          "metadata": {
            "tags": []
          },
          "execution_count": 16
        }
      ]
    },
    {
      "cell_type": "markdown",
      "metadata": {
        "id": "fFboP-v3OQeW",
        "colab_type": "text"
      },
      "source": [
        "# Model"
      ]
    },
    {
      "cell_type": "code",
      "metadata": {
        "id": "0yfWSgfTOQej",
        "colab_type": "code",
        "colab": {},
        "outputId": "f1056bce-a7fa-472b-d6da-5f48b1c43ae9"
      },
      "source": [
        "tf.__version__"
      ],
      "execution_count": 0,
      "outputs": [
        {
          "output_type": "execute_result",
          "data": {
            "text/plain": [
              "'1.13.1'"
            ]
          },
          "metadata": {
            "tags": []
          },
          "execution_count": 62
        }
      ]
    },
    {
      "cell_type": "markdown",
      "metadata": {
        "id": "HVzvbM5tOQfE",
        "colab_type": "text"
      },
      "source": [
        "## 1. NN"
      ]
    },
    {
      "cell_type": "code",
      "metadata": {
        "id": "IBeHKLk_OQfG",
        "colab_type": "code",
        "colab": {
          "base_uri": "https://localhost:8080/",
          "height": 105
        },
        "outputId": "b853e6e7-53ed-4afa-f4ed-3f138c1caabb"
      },
      "source": [
        "input_shape=(2,)\n",
        "model_nn=keras.Sequential()\n",
        "model_nn.add(keras.layers.Dense(8,activation='relu',input_shape=input_shape))\n",
        "model_nn.add(keras.layers.Dense(64,activation='relu'))\n",
        "model_nn.add(keras.layers.Dense(64,activation='relu'))\n",
        "model_nn.add(keras.layers.Dense(128,activation='relu'))\n",
        "model_nn.add(keras.layers.Dense(128,activation='relu'))\n",
        "model_nn.add(keras.layers.Dense(256,activation='relu'))\n",
        "model_nn.add(keras.layers.Dense(512,activation='relu'))\n",
        "model_nn.add(keras.layers.Dense(512,activation='relu'))\n",
        "model_nn.add(keras.layers.Dense(128,activation='relu'))\n",
        "model_nn.add(keras.layers.Dense(128,activation='relu'))\n",
        "model_nn.add(keras.layers.Dense(64,activation='relu'))\n",
        "model_nn.add(keras.layers.Dense(64,activation='relu'))\n",
        "model_nn.add(keras.layers.Dense(8,activation='relu'))\n",
        "model_nn.add(keras.layers.Dense(8,activation='relu'))\n",
        "model_nn.add(keras.layers.Dense(1,activation='sigmoid'))"
      ],
      "execution_count": 17,
      "outputs": [
        {
          "output_type": "stream",
          "text": [
            "WARNING: Logging before flag parsing goes to stderr.\n",
            "W0903 03:52:48.310213 140048041768832 deprecation.py:506] From /usr/local/lib/python3.6/dist-packages/tensorflow/python/ops/init_ops.py:1251: calling VarianceScaling.__init__ (from tensorflow.python.ops.init_ops) with dtype is deprecated and will be removed in a future version.\n",
            "Instructions for updating:\n",
            "Call initializer instance with the dtype argument instead of passing it to the constructor\n"
          ],
          "name": "stderr"
        }
      ]
    },
    {
      "cell_type": "code",
      "metadata": {
        "id": "3kBRyGgLOQf4",
        "colab_type": "code",
        "colab": {
          "base_uri": "https://localhost:8080/",
          "height": 663
        },
        "outputId": "dab1fe42-e80f-4364-98ee-e51891b9072b"
      },
      "source": [
        "model_nn.summary()"
      ],
      "execution_count": 18,
      "outputs": [
        {
          "output_type": "stream",
          "text": [
            "Model: \"sequential\"\n",
            "_________________________________________________________________\n",
            "Layer (type)                 Output Shape              Param #   \n",
            "=================================================================\n",
            "dense (Dense)                (None, 8)                 24        \n",
            "_________________________________________________________________\n",
            "dense_1 (Dense)              (None, 64)                576       \n",
            "_________________________________________________________________\n",
            "dense_2 (Dense)              (None, 64)                4160      \n",
            "_________________________________________________________________\n",
            "dense_3 (Dense)              (None, 128)               8320      \n",
            "_________________________________________________________________\n",
            "dense_4 (Dense)              (None, 128)               16512     \n",
            "_________________________________________________________________\n",
            "dense_5 (Dense)              (None, 256)               33024     \n",
            "_________________________________________________________________\n",
            "dense_6 (Dense)              (None, 512)               131584    \n",
            "_________________________________________________________________\n",
            "dense_7 (Dense)              (None, 512)               262656    \n",
            "_________________________________________________________________\n",
            "dense_8 (Dense)              (None, 128)               65664     \n",
            "_________________________________________________________________\n",
            "dense_9 (Dense)              (None, 128)               16512     \n",
            "_________________________________________________________________\n",
            "dense_10 (Dense)             (None, 64)                8256      \n",
            "_________________________________________________________________\n",
            "dense_11 (Dense)             (None, 64)                4160      \n",
            "_________________________________________________________________\n",
            "dense_12 (Dense)             (None, 8)                 520       \n",
            "_________________________________________________________________\n",
            "dense_13 (Dense)             (None, 8)                 72        \n",
            "_________________________________________________________________\n",
            "dense_14 (Dense)             (None, 1)                 9         \n",
            "=================================================================\n",
            "Total params: 552,049\n",
            "Trainable params: 552,049\n",
            "Non-trainable params: 0\n",
            "_________________________________________________________________\n"
          ],
          "name": "stdout"
        }
      ]
    },
    {
      "cell_type": "code",
      "metadata": {
        "scrolled": true,
        "id": "wfx5YEI2OQgL",
        "colab_type": "code",
        "colab": {}
      },
      "source": [
        "#help(model_nn.compile)"
      ],
      "execution_count": 0,
      "outputs": []
    },
    {
      "cell_type": "code",
      "metadata": {
        "id": "umeD85uWOQhy",
        "colab_type": "code",
        "colab": {
          "base_uri": "https://localhost:8080/",
          "height": 88
        },
        "outputId": "18aeae29-923d-451f-ad28-19f778514e08"
      },
      "source": [
        "model_nn.compile(optimizer='adam',loss='binary_crossentropy',metrics=['accuracy'])"
      ],
      "execution_count": 20,
      "outputs": [
        {
          "output_type": "stream",
          "text": [
            "W0903 03:53:57.262459 140048041768832 deprecation.py:323] From /usr/local/lib/python3.6/dist-packages/tensorflow/python/ops/nn_impl.py:180: add_dispatch_support.<locals>.wrapper (from tensorflow.python.ops.array_ops) is deprecated and will be removed in a future version.\n",
            "Instructions for updating:\n",
            "Use tf.where in 2.0, which has the same broadcast rule as np.where\n"
          ],
          "name": "stderr"
        }
      ]
    },
    {
      "cell_type": "code",
      "metadata": {
        "id": "QfizeuHtOQh-",
        "colab_type": "code",
        "colab": {
          "base_uri": "https://localhost:8080/",
          "height": 1000
        },
        "outputId": "652c918f-2b8c-4c7f-de40-cb97d309bf07"
      },
      "source": [
        "history=model_nn.fit(x_train,y_train,batch_size=64,epochs=100,validation_data=(x_val,y_val))"
      ],
      "execution_count": 21,
      "outputs": [
        {
          "output_type": "stream",
          "text": [
            "Train on 1555 samples, validate on 333 samples\n",
            "Epoch 1/100\n",
            "1555/1555 [==============================] - 1s 744us/sample - loss: 0.6052 - acc: 0.5955 - val_loss: 0.5467 - val_acc: 0.8198\n",
            "Epoch 2/100\n",
            "1555/1555 [==============================] - 0s 95us/sample - loss: 0.5018 - acc: 0.8270 - val_loss: 0.5701 - val_acc: 0.7447\n",
            "Epoch 3/100\n",
            "1555/1555 [==============================] - 0s 91us/sample - loss: 0.4874 - acc: 0.8199 - val_loss: 0.4195 - val_acc: 0.8438\n",
            "Epoch 4/100\n",
            "1555/1555 [==============================] - 0s 94us/sample - loss: 0.3876 - acc: 0.8469 - val_loss: 0.4173 - val_acc: 0.8378\n",
            "Epoch 5/100\n",
            "1555/1555 [==============================] - 0s 95us/sample - loss: 0.3499 - acc: 0.8611 - val_loss: 0.4078 - val_acc: 0.8438\n",
            "Epoch 6/100\n",
            "1555/1555 [==============================] - 0s 93us/sample - loss: 0.3456 - acc: 0.8592 - val_loss: 0.4136 - val_acc: 0.8318\n",
            "Epoch 7/100\n",
            "1555/1555 [==============================] - 0s 89us/sample - loss: 0.3456 - acc: 0.8611 - val_loss: 0.3834 - val_acc: 0.8559\n",
            "Epoch 8/100\n",
            "1555/1555 [==============================] - 0s 92us/sample - loss: 0.3344 - acc: 0.8707 - val_loss: 0.3887 - val_acc: 0.8378\n",
            "Epoch 9/100\n",
            "1555/1555 [==============================] - 0s 90us/sample - loss: 0.3490 - acc: 0.8566 - val_loss: 0.3808 - val_acc: 0.8559\n",
            "Epoch 10/100\n",
            "1555/1555 [==============================] - 0s 97us/sample - loss: 0.3412 - acc: 0.8707 - val_loss: 0.3772 - val_acc: 0.8529\n",
            "Epoch 11/100\n",
            "1555/1555 [==============================] - 0s 91us/sample - loss: 0.3356 - acc: 0.8624 - val_loss: 0.3890 - val_acc: 0.8348\n",
            "Epoch 12/100\n",
            "1555/1555 [==============================] - 0s 95us/sample - loss: 0.3564 - acc: 0.8495 - val_loss: 0.4045 - val_acc: 0.8408\n",
            "Epoch 13/100\n",
            "1555/1555 [==============================] - 0s 87us/sample - loss: 0.3401 - acc: 0.8585 - val_loss: 0.3834 - val_acc: 0.8378\n",
            "Epoch 14/100\n",
            "1555/1555 [==============================] - 0s 89us/sample - loss: 0.3334 - acc: 0.8720 - val_loss: 0.4095 - val_acc: 0.8438\n",
            "Epoch 15/100\n",
            "1555/1555 [==============================] - 0s 92us/sample - loss: 0.3364 - acc: 0.8682 - val_loss: 0.4054 - val_acc: 0.8468\n",
            "Epoch 16/100\n",
            "1555/1555 [==============================] - 0s 90us/sample - loss: 0.3372 - acc: 0.8675 - val_loss: 0.3974 - val_acc: 0.8378\n",
            "Epoch 17/100\n",
            "1555/1555 [==============================] - 0s 88us/sample - loss: 0.3338 - acc: 0.8701 - val_loss: 0.3801 - val_acc: 0.8438\n",
            "Epoch 18/100\n",
            "1555/1555 [==============================] - 0s 86us/sample - loss: 0.3423 - acc: 0.8637 - val_loss: 0.3902 - val_acc: 0.8468\n",
            "Epoch 19/100\n",
            "1555/1555 [==============================] - 0s 90us/sample - loss: 0.3332 - acc: 0.8746 - val_loss: 0.3962 - val_acc: 0.8318\n",
            "Epoch 20/100\n",
            "1555/1555 [==============================] - 0s 92us/sample - loss: 0.3422 - acc: 0.8598 - val_loss: 0.3862 - val_acc: 0.8438\n",
            "Epoch 21/100\n",
            "1555/1555 [==============================] - 0s 96us/sample - loss: 0.3410 - acc: 0.8727 - val_loss: 0.3796 - val_acc: 0.8468\n",
            "Epoch 22/100\n",
            "1555/1555 [==============================] - 0s 93us/sample - loss: 0.3302 - acc: 0.8765 - val_loss: 0.3791 - val_acc: 0.8529\n",
            "Epoch 23/100\n",
            "1555/1555 [==============================] - 0s 92us/sample - loss: 0.3268 - acc: 0.8752 - val_loss: 0.3713 - val_acc: 0.8529\n",
            "Epoch 24/100\n",
            "1555/1555 [==============================] - 0s 96us/sample - loss: 0.3292 - acc: 0.8733 - val_loss: 0.3978 - val_acc: 0.8198\n",
            "Epoch 25/100\n",
            "1555/1555 [==============================] - 0s 89us/sample - loss: 0.3346 - acc: 0.8656 - val_loss: 0.3879 - val_acc: 0.8408\n",
            "Epoch 26/100\n",
            "1555/1555 [==============================] - 0s 95us/sample - loss: 0.3371 - acc: 0.8662 - val_loss: 0.3781 - val_acc: 0.8529\n",
            "Epoch 27/100\n",
            "1555/1555 [==============================] - 0s 92us/sample - loss: 0.3345 - acc: 0.8695 - val_loss: 0.3852 - val_acc: 0.8408\n",
            "Epoch 28/100\n",
            "1555/1555 [==============================] - 0s 88us/sample - loss: 0.3382 - acc: 0.8630 - val_loss: 0.3894 - val_acc: 0.8529\n",
            "Epoch 29/100\n",
            "1555/1555 [==============================] - 0s 90us/sample - loss: 0.3286 - acc: 0.8759 - val_loss: 0.3793 - val_acc: 0.8498\n",
            "Epoch 30/100\n",
            "1555/1555 [==============================] - 0s 92us/sample - loss: 0.3296 - acc: 0.8720 - val_loss: 0.3791 - val_acc: 0.8498\n",
            "Epoch 31/100\n",
            "1555/1555 [==============================] - 0s 95us/sample - loss: 0.3287 - acc: 0.8707 - val_loss: 0.3927 - val_acc: 0.8228\n",
            "Epoch 32/100\n",
            "1555/1555 [==============================] - 0s 88us/sample - loss: 0.3477 - acc: 0.8624 - val_loss: 0.3914 - val_acc: 0.8498\n",
            "Epoch 33/100\n",
            "1555/1555 [==============================] - 0s 94us/sample - loss: 0.3321 - acc: 0.8688 - val_loss: 0.3842 - val_acc: 0.8529\n",
            "Epoch 34/100\n",
            "1555/1555 [==============================] - 0s 93us/sample - loss: 0.3299 - acc: 0.8701 - val_loss: 0.3963 - val_acc: 0.8438\n",
            "Epoch 35/100\n",
            "1555/1555 [==============================] - 0s 94us/sample - loss: 0.3350 - acc: 0.8688 - val_loss: 0.3882 - val_acc: 0.8408\n",
            "Epoch 36/100\n",
            "1555/1555 [==============================] - 0s 91us/sample - loss: 0.3334 - acc: 0.8701 - val_loss: 0.3766 - val_acc: 0.8438\n",
            "Epoch 37/100\n",
            "1555/1555 [==============================] - 0s 91us/sample - loss: 0.3263 - acc: 0.8740 - val_loss: 0.4004 - val_acc: 0.8529\n",
            "Epoch 38/100\n",
            "1555/1555 [==============================] - 0s 96us/sample - loss: 0.3274 - acc: 0.8740 - val_loss: 0.3854 - val_acc: 0.8468\n",
            "Epoch 39/100\n",
            "1555/1555 [==============================] - 0s 95us/sample - loss: 0.3301 - acc: 0.8752 - val_loss: 0.3878 - val_acc: 0.8529\n",
            "Epoch 40/100\n",
            "1555/1555 [==============================] - 0s 92us/sample - loss: 0.3287 - acc: 0.8765 - val_loss: 0.4059 - val_acc: 0.8529\n",
            "Epoch 41/100\n",
            "1555/1555 [==============================] - 0s 91us/sample - loss: 0.3313 - acc: 0.8752 - val_loss: 0.4118 - val_acc: 0.8348\n",
            "Epoch 42/100\n",
            "1555/1555 [==============================] - 0s 92us/sample - loss: 0.3524 - acc: 0.8540 - val_loss: 0.3950 - val_acc: 0.8468\n",
            "Epoch 43/100\n",
            "1555/1555 [==============================] - 0s 87us/sample - loss: 0.3327 - acc: 0.8662 - val_loss: 0.3969 - val_acc: 0.8498\n",
            "Epoch 44/100\n",
            "1555/1555 [==============================] - 0s 95us/sample - loss: 0.3452 - acc: 0.8656 - val_loss: 0.3957 - val_acc: 0.8378\n",
            "Epoch 45/100\n",
            "1555/1555 [==============================] - 0s 90us/sample - loss: 0.3276 - acc: 0.8720 - val_loss: 0.3783 - val_acc: 0.8408\n",
            "Epoch 46/100\n",
            "1555/1555 [==============================] - 0s 89us/sample - loss: 0.3360 - acc: 0.8675 - val_loss: 0.3875 - val_acc: 0.8288\n",
            "Epoch 47/100\n",
            "1555/1555 [==============================] - 0s 94us/sample - loss: 0.3360 - acc: 0.8643 - val_loss: 0.3857 - val_acc: 0.8498\n",
            "Epoch 48/100\n",
            "1555/1555 [==============================] - 0s 91us/sample - loss: 0.3293 - acc: 0.8746 - val_loss: 0.4085 - val_acc: 0.8498\n",
            "Epoch 49/100\n",
            "1555/1555 [==============================] - 0s 88us/sample - loss: 0.3480 - acc: 0.8682 - val_loss: 0.3855 - val_acc: 0.8498\n",
            "Epoch 50/100\n",
            "1555/1555 [==============================] - 0s 99us/sample - loss: 0.3387 - acc: 0.8650 - val_loss: 0.3874 - val_acc: 0.8438\n",
            "Epoch 51/100\n",
            "1555/1555 [==============================] - 0s 91us/sample - loss: 0.3372 - acc: 0.8707 - val_loss: 0.3983 - val_acc: 0.8348\n",
            "Epoch 52/100\n",
            "1555/1555 [==============================] - 0s 87us/sample - loss: 0.3319 - acc: 0.8695 - val_loss: 0.3899 - val_acc: 0.8498\n",
            "Epoch 53/100\n",
            "1555/1555 [==============================] - 0s 88us/sample - loss: 0.3275 - acc: 0.8765 - val_loss: 0.3894 - val_acc: 0.8408\n",
            "Epoch 54/100\n",
            "1555/1555 [==============================] - 0s 94us/sample - loss: 0.3242 - acc: 0.8746 - val_loss: 0.4066 - val_acc: 0.8468\n",
            "Epoch 55/100\n",
            "1555/1555 [==============================] - 0s 89us/sample - loss: 0.3563 - acc: 0.8675 - val_loss: 0.3972 - val_acc: 0.8408\n",
            "Epoch 56/100\n",
            "1555/1555 [==============================] - 0s 89us/sample - loss: 0.3327 - acc: 0.8707 - val_loss: 0.4038 - val_acc: 0.8498\n",
            "Epoch 57/100\n",
            "1555/1555 [==============================] - 0s 90us/sample - loss: 0.3336 - acc: 0.8727 - val_loss: 0.3824 - val_acc: 0.8318\n",
            "Epoch 58/100\n",
            "1555/1555 [==============================] - 0s 89us/sample - loss: 0.3365 - acc: 0.8662 - val_loss: 0.3961 - val_acc: 0.8318\n",
            "Epoch 59/100\n",
            "1555/1555 [==============================] - 0s 88us/sample - loss: 0.3397 - acc: 0.8695 - val_loss: 0.3702 - val_acc: 0.8498\n",
            "Epoch 60/100\n",
            "1555/1555 [==============================] - 0s 88us/sample - loss: 0.3236 - acc: 0.8772 - val_loss: 0.3836 - val_acc: 0.8408\n",
            "Epoch 61/100\n",
            "1555/1555 [==============================] - 0s 91us/sample - loss: 0.3297 - acc: 0.8695 - val_loss: 0.3826 - val_acc: 0.8438\n",
            "Epoch 62/100\n",
            "1555/1555 [==============================] - 0s 89us/sample - loss: 0.3319 - acc: 0.8720 - val_loss: 0.3883 - val_acc: 0.8438\n",
            "Epoch 63/100\n",
            "1555/1555 [==============================] - 0s 88us/sample - loss: 0.3339 - acc: 0.8688 - val_loss: 0.3781 - val_acc: 0.8498\n",
            "Epoch 64/100\n",
            "1555/1555 [==============================] - 0s 91us/sample - loss: 0.3412 - acc: 0.8682 - val_loss: 0.3789 - val_acc: 0.8529\n",
            "Epoch 65/100\n",
            "1555/1555 [==============================] - 0s 89us/sample - loss: 0.3353 - acc: 0.8682 - val_loss: 0.3819 - val_acc: 0.8408\n",
            "Epoch 66/100\n",
            "1555/1555 [==============================] - 0s 90us/sample - loss: 0.3318 - acc: 0.8688 - val_loss: 0.3797 - val_acc: 0.8498\n",
            "Epoch 67/100\n",
            "1555/1555 [==============================] - 0s 89us/sample - loss: 0.3288 - acc: 0.8733 - val_loss: 0.3837 - val_acc: 0.8468\n",
            "Epoch 68/100\n",
            "1555/1555 [==============================] - 0s 94us/sample - loss: 0.3298 - acc: 0.8695 - val_loss: 0.3830 - val_acc: 0.8408\n",
            "Epoch 69/100\n",
            "1555/1555 [==============================] - 0s 91us/sample - loss: 0.3318 - acc: 0.8707 - val_loss: 0.3906 - val_acc: 0.8318\n",
            "Epoch 70/100\n",
            "1555/1555 [==============================] - 0s 91us/sample - loss: 0.3346 - acc: 0.8733 - val_loss: 0.3815 - val_acc: 0.8498\n",
            "Epoch 71/100\n",
            "1555/1555 [==============================] - 0s 86us/sample - loss: 0.3342 - acc: 0.8727 - val_loss: 0.3719 - val_acc: 0.8529\n",
            "Epoch 72/100\n",
            "1555/1555 [==============================] - 0s 83us/sample - loss: 0.3302 - acc: 0.8675 - val_loss: 0.3784 - val_acc: 0.8378\n",
            "Epoch 73/100\n",
            "1555/1555 [==============================] - 0s 87us/sample - loss: 0.3410 - acc: 0.8579 - val_loss: 0.3879 - val_acc: 0.8438\n",
            "Epoch 74/100\n",
            "1555/1555 [==============================] - 0s 86us/sample - loss: 0.3285 - acc: 0.8759 - val_loss: 0.3916 - val_acc: 0.8498\n",
            "Epoch 75/100\n",
            "1555/1555 [==============================] - 0s 85us/sample - loss: 0.3240 - acc: 0.8752 - val_loss: 0.4099 - val_acc: 0.8529\n",
            "Epoch 76/100\n",
            "1555/1555 [==============================] - 0s 86us/sample - loss: 0.3308 - acc: 0.8740 - val_loss: 0.3866 - val_acc: 0.8498\n",
            "Epoch 77/100\n",
            "1555/1555 [==============================] - 0s 89us/sample - loss: 0.3220 - acc: 0.8752 - val_loss: 0.3885 - val_acc: 0.8438\n",
            "Epoch 78/100\n",
            "1555/1555 [==============================] - 0s 79us/sample - loss: 0.3256 - acc: 0.8714 - val_loss: 0.3736 - val_acc: 0.8529\n",
            "Epoch 79/100\n",
            "1555/1555 [==============================] - 0s 86us/sample - loss: 0.3223 - acc: 0.8720 - val_loss: 0.3862 - val_acc: 0.8559\n",
            "Epoch 80/100\n",
            "1555/1555 [==============================] - 0s 81us/sample - loss: 0.3234 - acc: 0.8772 - val_loss: 0.3879 - val_acc: 0.8438\n",
            "Epoch 81/100\n",
            "1555/1555 [==============================] - 0s 78us/sample - loss: 0.3498 - acc: 0.8508 - val_loss: 0.4063 - val_acc: 0.8228\n",
            "Epoch 82/100\n",
            "1555/1555 [==============================] - 0s 81us/sample - loss: 0.3347 - acc: 0.8688 - val_loss: 0.3796 - val_acc: 0.8589\n",
            "Epoch 83/100\n",
            "1555/1555 [==============================] - 0s 88us/sample - loss: 0.3267 - acc: 0.8733 - val_loss: 0.3672 - val_acc: 0.8498\n",
            "Epoch 84/100\n",
            "1555/1555 [==============================] - 0s 76us/sample - loss: 0.3245 - acc: 0.8733 - val_loss: 0.3731 - val_acc: 0.8498\n",
            "Epoch 85/100\n",
            "1555/1555 [==============================] - 0s 89us/sample - loss: 0.3221 - acc: 0.8752 - val_loss: 0.3721 - val_acc: 0.8498\n",
            "Epoch 86/100\n",
            "1555/1555 [==============================] - 0s 82us/sample - loss: 0.3222 - acc: 0.8740 - val_loss: 0.3687 - val_acc: 0.8529\n",
            "Epoch 87/100\n",
            "1555/1555 [==============================] - 0s 89us/sample - loss: 0.3221 - acc: 0.8759 - val_loss: 0.3716 - val_acc: 0.8529\n",
            "Epoch 88/100\n",
            "1555/1555 [==============================] - 0s 85us/sample - loss: 0.3230 - acc: 0.8746 - val_loss: 0.3698 - val_acc: 0.8529\n",
            "Epoch 89/100\n",
            "1555/1555 [==============================] - 0s 79us/sample - loss: 0.3282 - acc: 0.8701 - val_loss: 0.3825 - val_acc: 0.8438\n",
            "Epoch 90/100\n",
            "1555/1555 [==============================] - 0s 83us/sample - loss: 0.3328 - acc: 0.8720 - val_loss: 0.3725 - val_acc: 0.8559\n",
            "Epoch 91/100\n",
            "1555/1555 [==============================] - 0s 87us/sample - loss: 0.3248 - acc: 0.8746 - val_loss: 0.3770 - val_acc: 0.8529\n",
            "Epoch 92/100\n",
            "1555/1555 [==============================] - 0s 80us/sample - loss: 0.3237 - acc: 0.8733 - val_loss: 0.3711 - val_acc: 0.8498\n",
            "Epoch 93/100\n",
            "1555/1555 [==============================] - 0s 84us/sample - loss: 0.3189 - acc: 0.8772 - val_loss: 0.3733 - val_acc: 0.8498\n",
            "Epoch 94/100\n",
            "1555/1555 [==============================] - 0s 78us/sample - loss: 0.3229 - acc: 0.8746 - val_loss: 0.3692 - val_acc: 0.8559\n",
            "Epoch 95/100\n",
            "1555/1555 [==============================] - 0s 90us/sample - loss: 0.3186 - acc: 0.8746 - val_loss: 0.3776 - val_acc: 0.8529\n",
            "Epoch 96/100\n",
            "1555/1555 [==============================] - 0s 78us/sample - loss: 0.3262 - acc: 0.8695 - val_loss: 0.3787 - val_acc: 0.8529\n",
            "Epoch 97/100\n",
            "1555/1555 [==============================] - 0s 82us/sample - loss: 0.3232 - acc: 0.8727 - val_loss: 0.3873 - val_acc: 0.8378\n",
            "Epoch 98/100\n",
            "1555/1555 [==============================] - 0s 93us/sample - loss: 0.3446 - acc: 0.8592 - val_loss: 0.3719 - val_acc: 0.8498\n",
            "Epoch 99/100\n",
            "1555/1555 [==============================] - 0s 89us/sample - loss: 0.3365 - acc: 0.8720 - val_loss: 0.3797 - val_acc: 0.8468\n",
            "Epoch 100/100\n",
            "1555/1555 [==============================] - 0s 85us/sample - loss: 0.3288 - acc: 0.8675 - val_loss: 0.3846 - val_acc: 0.8408\n"
          ],
          "name": "stdout"
        }
      ]
    },
    {
      "cell_type": "code",
      "metadata": {
        "id": "iwc8D6YcQPp5",
        "colab_type": "code",
        "colab": {}
      },
      "source": [
        "def plot_history(history):\n",
        "  hist = pd.DataFrame(history.history)\n",
        "  hist['epoch'] = history.epoch\n",
        "  plt.figure(figsize=(15,8))\n",
        "  plt.xlabel('Epoch')\n",
        "  plt.ylabel('Accuracy')\n",
        "  plt.plot(hist['epoch'], hist['acc'],\n",
        "           label='Train Acc')\n",
        "  plt.plot(hist['epoch'], hist['val_acc'],\n",
        "           label = 'Val Acc')\n",
        "  #plt.ylim([0,20])\n",
        "  plt.legend()\n",
        "\n",
        "\n",
        "  plt.show()"
      ],
      "execution_count": 0,
      "outputs": []
    },
    {
      "cell_type": "code",
      "metadata": {
        "id": "c-EFQw35QSDy",
        "colab_type": "code",
        "colab": {
          "base_uri": "https://localhost:8080/",
          "height": 500
        },
        "outputId": "449bce14-a1b5-4f6b-c08c-604c0457b38d"
      },
      "source": [
        "plot_history(history)"
      ],
      "execution_count": 28,
      "outputs": [
        {
          "output_type": "display_data",
          "data": {
            "image/png": "[encoded data removed]",
            "text/plain": [
              "<Figure size 1080x576 with 1 Axes>"
            ]
          },
          "metadata": {
            "tags": []
          }
        }
      ]
    },
    {
      "cell_type": "code",
      "metadata": {
        "id": "ZCeU3yuYOQiE",
        "colab_type": "code",
        "colab": {},
        "outputId": "25e54c84-9d1a-4484-9973-72f4c86f42d7"
      },
      "source": [
        "model_nn.evaluate(x_test,y_test)"
      ],
      "execution_count": 0,
      "outputs": [
        {
          "output_type": "stream",
          "text": [
            "334/334 [==============================] - 1s 3ms/sample - loss: 0.3930 - acc: 0.8533\n"
          ],
          "name": "stdout"
        },
        {
          "output_type": "execute_result",
          "data": {
            "text/plain": [
              "[0.39302008648118575, 0.8532934]"
            ]
          },
          "metadata": {
            "tags": []
          },
          "execution_count": 118
        }
      ]
    },
    {
      "cell_type": "markdown",
      "metadata": {
        "id": "DtZt0WwiOQiO",
        "colab_type": "text"
      },
      "source": [
        "## Random Forest"
      ]
    },
    {
      "cell_type": "code",
      "metadata": {
        "id": "_f8eiupTOQiQ",
        "colab_type": "code",
        "colab": {}
      },
      "source": [
        "from sklearn.ensemble import RandomForestClassifier"
      ],
      "execution_count": 0,
      "outputs": []
    },
    {
      "cell_type": "code",
      "metadata": {
        "id": "H6LMEX5IOQiX",
        "colab_type": "code",
        "colab": {},
        "outputId": "a9814bd8-ea9f-4fd5-b6b5-4edab1f3f0f9"
      },
      "source": [
        "model_rf=RandomForestClassifier(max_depth=30)\n",
        "model_rf.fit(x_train,y_train)"
      ],
      "execution_count": 0,
      "outputs": [
        {
          "output_type": "stream",
          "text": [
            "/opt/conda/envs/Python36/lib/python3.6/site-packages/sklearn/ensemble/forest.py:246: FutureWarning: The default value of n_estimators will change from 10 in version 0.20 to 100 in 0.22.\n",
            "  \"10 in version 0.20 to 100 in 0.22.\", FutureWarning)\n"
          ],
          "name": "stderr"
        },
        {
          "output_type": "execute_result",
          "data": {
            "text/plain": [
              "RandomForestClassifier(bootstrap=True, class_weight=None, criterion='gini',\n",
              "            max_depth=30, max_features='auto', max_leaf_nodes=None,\n",
              "            min_impurity_decrease=0.0, min_impurity_split=None,\n",
              "            min_samples_leaf=1, min_samples_split=2,\n",
              "            min_weight_fraction_leaf=0.0, n_estimators=10, n_jobs=None,\n",
              "            oob_score=False, random_state=None, verbose=0,\n",
              "            warm_start=False)"
            ]
          },
          "metadata": {
            "tags": []
          },
          "execution_count": 127
        }
      ]
    },
    {
      "cell_type": "code",
      "metadata": {
        "id": "tgx1VR0HOQih",
        "colab_type": "code",
        "colab": {}
      },
      "source": [
        "from sklearn.metrics import accuracy_score"
      ],
      "execution_count": 0,
      "outputs": []
    },
    {
      "cell_type": "code",
      "metadata": {
        "id": "3sA1WypnOQiv",
        "colab_type": "code",
        "colab": {}
      },
      "source": [
        "y_pred=model_rf.predict(x_test)"
      ],
      "execution_count": 0,
      "outputs": []
    },
    {
      "cell_type": "code",
      "metadata": {
        "id": "SjoxFwANOQi2",
        "colab_type": "code",
        "colab": {},
        "outputId": "98ab4c5a-7fbc-447b-c9f2-4eb8aea7e225"
      },
      "source": [
        "accuracy_score(y_test,y_pred)"
      ],
      "execution_count": 0,
      "outputs": [
        {
          "output_type": "execute_result",
          "data": {
            "text/plain": [
              "0.8263473053892215"
            ]
          },
          "metadata": {
            "tags": []
          },
          "execution_count": 129
        }
      ]
    },
    {
      "cell_type": "markdown",
      "metadata": {
        "id": "z2DQvqhQOQjF",
        "colab_type": "text"
      },
      "source": [
        "## GBM, SVM, Logistic Regression"
      ]
    },
    {
      "cell_type": "markdown",
      "metadata": {
        "id": "JhZqt0LqOQjG",
        "colab_type": "text"
      },
      "source": [
        "### Hyperparameter tuning"
      ]
    },
    {
      "cell_type": "code",
      "metadata": {
        "id": "-xJKmNtJOQjI",
        "colab_type": "code",
        "colab": {}
      },
      "source": [
        ""
      ],
      "execution_count": 0,
      "outputs": []
    },
    {
      "cell_type": "code",
      "metadata": {
        "id": "uCQvo6FfOQjU",
        "colab_type": "code",
        "colab": {}
      },
      "source": [
        ""
      ],
      "execution_count": 0,
      "outputs": []
    },
    {
      "cell_type": "markdown",
      "metadata": {
        "id": "DRztR0jVOQje",
        "colab_type": "text"
      },
      "source": [
        "# Serialize Models"
      ]
    },
    {
      "cell_type": "code",
      "metadata": {
        "id": "kSpM4aOkOQjh",
        "colab_type": "code",
        "colab": {}
      },
      "source": [
        "#model_nn.save('connectivity_model_nn_02.h5')\n",
        "\"\"\"\n",
        "Did not work after importing in another notebook\n",
        "\"\"\""
      ],
      "execution_count": 0,
      "outputs": []
    },
    {
      "cell_type": "code",
      "metadata": {
        "id": "Ta8FtTMrOQjz",
        "colab_type": "code",
        "colab": {}
      },
      "source": [
        "#This method worked\n",
        "tf.keras.models.save_model(model_nn,'connectivity_model_nn_03.h5',overwrite=True,include_optimizer=True)"
      ],
      "execution_count": 0,
      "outputs": []
    },
    {
      "cell_type": "code",
      "metadata": {
        "id": "-9idVXOtOQkB",
        "colab_type": "code",
        "colab": {},
        "outputId": "0c3a9438-8478-45c3-b3f4-de4ac9dac222"
      },
      "source": [
        "!ls"
      ],
      "execution_count": 0,
      "outputs": [
        {
          "output_type": "stream",
          "text": [
            "10390.png      140746.png  33558.png\t6393.png   7929.png\r\n",
            "106705.png     143710.png  5206.png\t6410.png   7952.png\r\n",
            "11269.png      144018.png  5365279.png\t6569.png   8033.png\r\n",
            "1146.png       14917.png   552549.png\t66074.png  8053.png\r\n",
            "11473.png      176.png\t   566545.png\t66978.png  8058.png\r\n",
            "11638.png      177.png\t   5962.png\t67180.png  887.png\r\n",
            "11646.png      18196.png   6115.png\t674.png    9237.png\r\n",
            "12228.png      222.png\t   6319.png\t69319.png  931.png\r\n",
            "12246.png      240.png\t   6324.png\t74209.png  9964.png\r\n",
            "123257.png     241.png\t   6325.png\t74348.png  996.png\r\n",
            "123502.png     243.png\t   6329.png\t7732.png   BASKVILL.TTF\r\n",
            "127602.png     24529.png   6335.png\t77628.png  connectivity_model_nn_03.h5\r\n",
            "135504501.png  24547.png   6360.png\t783.png    data_raw.csv\r\n",
            "13568.png      24823.png   6375.png\t7845.png   data_training.csv\r\n",
            "137201.png     3283.png    6386.png\t784.png    pairs_dict.pkl\r\n"
          ],
          "name": "stdout"
        }
      ]
    },
    {
      "cell_type": "markdown",
      "metadata": {
        "id": "HbpXKl_POQkl",
        "colab_type": "text"
      },
      "source": [
        "# Upload to IBM Object Store"
      ]
    },
    {
      "cell_type": "markdown",
      "metadata": {
        "id": "41tM2y4ROQko",
        "colab_type": "text"
      },
      "source": [
        "## 1. Current Project bucket"
      ]
    },
    {
      "cell_type": "code",
      "metadata": {
        "id": "e20ztwFuOQkq",
        "colab_type": "code",
        "colab": {}
      },
      "source": [
        "# The code was removed by Watson Studio for sharing."
      ],
      "execution_count": 0,
      "outputs": []
    },
    {
      "cell_type": "code",
      "metadata": {
        "id": "c-jm8ECKOQkz",
        "colab_type": "code",
        "colab": {},
        "outputId": "f2266f61-fd6f-4620-d7d3-a3be8b109e26"
      },
      "source": [
        "upload_file_cos(credentials_1,'connectivity_model_nn_03.h5','connectivity_model_nn_03.h5')"
      ],
      "execution_count": 0,
      "outputs": [
        {
          "output_type": "stream",
          "text": [
            "File Uploaded\n"
          ],
          "name": "stdout"
        }
      ]
    },
    {
      "cell_type": "markdown",
      "metadata": {
        "id": "OPMFiqvHOQk_",
        "colab_type": "text"
      },
      "source": [
        "## 2. Coursera/Kaggle project bucket"
      ]
    },
    {
      "cell_type": "code",
      "metadata": {
        "id": "bpBeVP3FOQlD",
        "colab_type": "code",
        "colab": {}
      },
      "source": [
        "# The code was removed by Watson Studio for sharing."
      ],
      "execution_count": 0,
      "outputs": []
    },
    {
      "cell_type": "code",
      "metadata": {
        "id": "yYsBw67eOQlV",
        "colab_type": "code",
        "colab": {},
        "outputId": "28431bf3-0ac3-4bbf-a262-41b4ddd1b1fe"
      },
      "source": [
        "upload_file_cos(credentials_2,'connectivity_model_nn_03.h5','connectivity_model_nn_03.h5')"
      ],
      "execution_count": 0,
      "outputs": [
        {
          "output_type": "stream",
          "text": [
            "File Uploaded\n"
          ],
          "name": "stdout"
        }
      ]
    },
    {
      "cell_type": "code",
      "metadata": {
        "id": "JRYakvIuOQlm",
        "colab_type": "code",
        "colab": {}
      },
      "source": [
        ""
      ],
      "execution_count": 0,
      "outputs": []
    }
  ]
}